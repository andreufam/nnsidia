{
 "cells": [
  {
   "cell_type": "markdown",
   "metadata": {},
   "source": [
    "# Computação Eficiente"
   ]
  },
  {
   "cell_type": "markdown",
   "metadata": {},
   "source": [
    "Python é linguagem OO pensada como interface para sistemas de computação complexos. Assim, operações aparentemente simples escondem algoritmos sofisticados:"
   ]
  },
  {
   "cell_type": "code",
   "execution_count": 1,
   "metadata": {
    "scrolled": true
   },
   "outputs": [
    {
     "data": {
      "text/plain": [
       "3"
      ]
     },
     "execution_count": 1,
     "metadata": {},
     "output_type": "execute_result"
    }
   ],
   "source": [
    "2+1"
   ]
  },
  {
   "cell_type": "code",
   "execution_count": 2,
   "metadata": {},
   "outputs": [
    {
     "data": {
      "text/plain": [
       "int"
      ]
     },
     "execution_count": 2,
     "metadata": {},
     "output_type": "execute_result"
    }
   ],
   "source": [
    "type(2)"
   ]
  },
  {
   "cell_type": "code",
   "execution_count": 3,
   "metadata": {},
   "outputs": [
    {
     "data": {
      "text/plain": [
       "3"
      ]
     },
     "execution_count": 3,
     "metadata": {},
     "output_type": "execute_result"
    }
   ],
   "source": [
    "(2).__add__(1)"
   ]
  },
  {
   "cell_type": "markdown",
   "metadata": {},
   "source": [
    "_Observação_: use dir() para descobrir os atributos e métodos disponíveis para um objeto."
   ]
  },
  {
   "cell_type": "code",
   "execution_count": 5,
   "metadata": {},
   "outputs": [
    {
     "data": {
      "text/plain": [
       "'__abs__, __add__, __and__, __class__, __cmp__, __coerce__, __delattr__, __div__, __divmod__, __doc__, __float__, __floordiv__, __format__, __getattribute__, __getnewargs__, __hash__, __hex__, __index__, __init__, __int__, __invert__, __long__, __lshift__, __mod__, __mul__, __neg__, __new__, __nonzero__, __oct__, __or__, __pos__, __pow__, __radd__, __rand__, __rdiv__, __rdivmod__, __reduce__, __reduce_ex__, __repr__, __rfloordiv__, __rlshift__, __rmod__, __rmul__, __ror__, __rpow__, __rrshift__, __rshift__, __rsub__, __rtruediv__, __rxor__, __setattr__, __sizeof__, __str__, __sub__, __subclasshook__, __truediv__, __trunc__, __xor__, bit_length, conjugate, denominator, imag, numerator, real'"
      ]
     },
     "execution_count": 5,
     "metadata": {},
     "output_type": "execute_result"
    }
   ],
   "source": [
    "', '.join(dir(2))"
   ]
  },
  {
   "cell_type": "code",
   "execution_count": 6,
   "metadata": {
    "collapsed": true
   },
   "outputs": [],
   "source": [
    "import numpy as np"
   ]
  },
  {
   "cell_type": "code",
   "execution_count": 5,
   "metadata": {},
   "outputs": [
    {
     "name": "stdout",
     "output_type": "stream",
     "text": [
      "[0.75590693 1.6280265  0.28019357 1.28844675 1.74995991 1.56279259\n",
      " 0.40533322 0.97511724 1.45848707 1.01912124 1.60712462 0.2140834\n",
      " 0.33548886 0.38051654 1.16887429 1.34155249 1.23420732 0.60679364\n",
      " 0.99980764 0.92729443 1.67092104 0.17870448 1.43959079 1.28311474\n",
      " 1.64824349 0.93810819 0.59649105 0.87865905 0.6756044  0.74652094\n",
      " 1.61813941 1.00223812 0.4341177  0.40113283 0.73572353 1.06743895\n",
      " 0.66381358 1.43892241 0.82683549 0.68309313 1.60747984 0.73136176\n",
      " 1.67093135 0.83918634 1.03177676 0.75937154 0.87071916 1.84073981\n",
      " 1.61631459 1.02732814 0.9680996  1.25386684 0.40182916 0.3189567\n",
      " 1.26591868 1.3798967  0.80923811 0.63086929 0.78451432 1.62779231\n",
      " 0.50961288 1.14422077 0.15524168 1.09254776 0.69131687 0.94759213\n",
      " 0.72048671 0.763398   1.07334944 1.6331252  0.84759556 1.24155087\n",
      " 0.72452913 1.33612418 1.62590698 1.61480337 0.7618006  0.75947441\n",
      " 0.85128812 1.00599919 0.50254406 1.2757516  0.22478639 0.53086427\n",
      " 0.57837777 1.07010806 1.43536129 1.70683447 0.96362954 0.7767496\n",
      " 0.76797998 1.69508938 1.64994668 0.59681716 1.19940345 1.33257034\n",
      " 0.15456619 1.11018167 0.7830888  1.09636396]\n"
     ]
    }
   ],
   "source": [
    "v1 = np.random.rand(100)\n",
    "v2 = np.random.rand(100)\n",
    "v3 = v1 + v2\n",
    "print v3"
   ]
  },
  {
   "cell_type": "code",
   "execution_count": 6,
   "metadata": {
    "collapsed": true
   },
   "outputs": [],
   "source": [
    "m1 = np.random.rand(100, 15)\n",
    "m2 = np.random.rand(15, 110)"
   ]
  },
  {
   "cell_type": "code",
   "execution_count": 7,
   "metadata": {
    "collapsed": true
   },
   "outputs": [],
   "source": [
    "def matmul(m1, m2):\n",
    "    r = np.zeros((m1.shape[0], m2.shape[1]))\n",
    "    for i in range(m1.shape[0]):\n",
    "        for j in range(m2.shape[1]):\n",
    "            for k in range(m2.shape[0]):\n",
    "                r[i][j] += m1[i][k] * m2[k][j]\n",
    "    return r"
   ]
  },
  {
   "cell_type": "code",
   "execution_count": 8,
   "metadata": {},
   "outputs": [
    {
     "name": "stdout",
     "output_type": "stream",
     "text": [
      "10 loops, best of 3: 177 ms per loop\n"
     ]
    }
   ],
   "source": [
    "%timeit matmul(m1, m2)"
   ]
  },
  {
   "cell_type": "code",
   "execution_count": 9,
   "metadata": {
    "scrolled": false
   },
   "outputs": [
    {
     "name": "stdout",
     "output_type": "stream",
     "text": [
      "The slowest run took 8.15 times longer than the fastest. This could mean that an intermediate result is being cached.\n",
      "10000 loops, best of 3: 21.9 µs per loop\n"
     ]
    }
   ],
   "source": [
    "%timeit np.matmul(m1, m2)"
   ]
  },
  {
   "cell_type": "code",
   "execution_count": 10,
   "metadata": {},
   "outputs": [
    {
     "data": {
      "text/plain": [
       "8271.028037383177"
      ]
     },
     "execution_count": 10,
     "metadata": {},
     "output_type": "execute_result"
    }
   ],
   "source": [
    "177000/21.4"
   ]
  },
  {
   "cell_type": "markdown",
   "metadata": {},
   "source": [
    "Será que esta diferença de desempenho se deve ao uso do Python no meio... talvez não existisse se o código tivesse sido escrito em C e compilado de forma otimizada?\n",
    "\n",
    "Comparação de multiplicação de matrizes em Numpy, Python (C-Python) e C\n",
    "\n",
    "<img src=\"images/TLhDi\" alt=\"NumpyVersusC\" style=\"width: 500px;\"/>"
   ]
  },
  {
   "cell_type": "markdown",
   "metadata": {},
   "source": [
    "Por que, na comparação acima, o Numpy foi tão rápido? mais rápido mesmo que um código puro escrito em C? Basicamente, porque o código em numpy corresponde a versões otimizadas do melhor algotimo (prático) conhecido para o problema, escrito originalmente em Fortran para o BLAS. Abaixo, podemos ver a implementação do algoritmo de Strassen -- $O(n^{2.83})$, usado pelo numpy. Note o detalhe do _loop unrolling_ para acelerar o processamento em um hardware real.\n",
    "\n",
    "```C\n",
    "\n",
    "/*  -- translated by f2c (version 19940927).\n",
    "   You must link the resulting object file with the libraries:\n",
    "\t-lf2c -lm   (in that order)\n",
    "*/\n",
    "\n",
    "#include \"f2c.h\"\n",
    "\n",
    "doublereal sdot_(integer *n, real *sx, integer *incx, real *sy, integer *incy)\n",
    "{\n",
    "\n",
    "\n",
    "    /* System generated locals */\n",
    "    integer i__1;\n",
    "    real ret_val;\n",
    "\n",
    "    /* Local variables */\n",
    "    static integer i, m;\n",
    "    static real stemp;\n",
    "    static integer ix, iy, mp1;\n",
    "\n",
    "\n",
    "/*     forms the dot product of two vectors.   \n",
    "       uses unrolled loops for increments equal to one.   \n",
    "       jack dongarra, linpack, 3/11/78.   \n",
    "       modified 12/3/93, array(1) declarations changed to array(*)   \n",
    "\n",
    "\n",
    "    \n",
    "   Parameter adjustments   \n",
    "       Function Body */\n",
    "#define SY(I) sy[(I)-1]\n",
    "#define SX(I) sx[(I)-1]\n",
    "\n",
    "\n",
    "    stemp = 0.f;\n",
    "    ret_val = 0.f;\n",
    "    if (*n <= 0) {\n",
    "\treturn ret_val;\n",
    "    }\n",
    "    if (*incx == 1 && *incy == 1) {\n",
    "\tgoto L20;\n",
    "    }\n",
    "\n",
    "/*        code for unequal increments or equal increments   \n",
    "            not equal to 1 */\n",
    "\n",
    "    ix = 1;\n",
    "    iy = 1;\n",
    "    if (*incx < 0) {\n",
    "\tix = (-(*n) + 1) * *incx + 1;\n",
    "    }\n",
    "    if (*incy < 0) {\n",
    "\tiy = (-(*n) + 1) * *incy + 1;\n",
    "    }\n",
    "    i__1 = *n;\n",
    "    for (i = 1; i <= *n; ++i) {\n",
    "\tstemp += SX(ix) * SY(iy);\n",
    "\tix += *incx;\n",
    "\tiy += *incy;\n",
    "/* L10: */\n",
    "    }\n",
    "    ret_val = stemp;\n",
    "    return ret_val;\n",
    "\n",
    "/*        code for both increments equal to 1   \n",
    "\n",
    "\n",
    "          clean-up loop */\n",
    "\n",
    "L20:\n",
    "    m = *n % 5;\n",
    "    if (m == 0) {\n",
    "\tgoto L40;\n",
    "    }\n",
    "    i__1 = m;\n",
    "    for (i = 1; i <= m; ++i) {\n",
    "\tstemp += SX(i) * SY(i);\n",
    "/* L30: */\n",
    "    }\n",
    "    if (*n < 5) {\n",
    "\tgoto L60;\n",
    "    }\n",
    "L40:\n",
    "    mp1 = m + 1;\n",
    "    i__1 = *n;\n",
    "    for (i = mp1; i <= *n; i += 5) {\n",
    "\tstemp = stemp + SX(i) * SY(i) + SX(i + 1) * SY(i + 1) + SX(i + 2) * \n",
    "\t\tSY(i + 2) + SX(i + 3) * SY(i + 3) + SX(i + 4) * SY(i + 4);\n",
    "/* L50: */\n",
    "    }\n",
    "L60:\n",
    "    ret_val = stemp;\n",
    "    return ret_val;\n",
    "} /* sdot_ */\n",
    "\n",
    "```"
   ]
  },
  {
   "cell_type": "markdown",
   "metadata": {},
   "source": [
    "### O Tensorflow é o numpy para máquinas vetorias\n",
    "\n",
    "Contudo, usa uma abordagem estática. Ou seja, o grafo de computação é declarado primeiro e, então, compilado e executado."
   ]
  },
  {
   "cell_type": "code",
   "execution_count": 11,
   "metadata": {},
   "outputs": [
    {
     "name": "stderr",
     "output_type": "stream",
     "text": [
      "/Users/marcocristo/Library/Enthought/Canopy_64bit/User/lib/python2.7/site-packages/h5py/__init__.py:36: FutureWarning: Conversion of the second argument of issubdtype from `float` to `np.floating` is deprecated. In future, it will be treated as `np.float64 == np.dtype(float).type`.\n",
      "  from ._conv import register_converters as _register_converters\n"
     ]
    }
   ],
   "source": [
    "import tensorflow as tf"
   ]
  },
  {
   "cell_type": "code",
   "execution_count": 12,
   "metadata": {
    "collapsed": true
   },
   "outputs": [],
   "source": [
    "t1 = tf.constant(np.random.rand(100, 15), dtype = tf.float32)\n",
    "t2 = tf.constant(np.random.rand(15, 110), dtype = tf.float32)"
   ]
  },
  {
   "cell_type": "code",
   "execution_count": 13,
   "metadata": {
    "collapsed": true
   },
   "outputs": [],
   "source": [
    "t3 = tf.matmul(t1, t2)"
   ]
  },
  {
   "cell_type": "code",
   "execution_count": 14,
   "metadata": {},
   "outputs": [
    {
     "data": {
      "text/plain": [
       "<tf.Tensor 'MatMul:0' shape=(100, 110) dtype=float32>"
      ]
     },
     "execution_count": 14,
     "metadata": {},
     "output_type": "execute_result"
    }
   ],
   "source": [
    "t3"
   ]
  },
  {
   "cell_type": "code",
   "execution_count": 15,
   "metadata": {
    "scrolled": true
   },
   "outputs": [
    {
     "name": "stdout",
     "output_type": "stream",
     "text": [
      "[[3.8121727 4.6881065 3.8925529 ... 4.304786  4.610894  5.0712986]\n",
      " [2.2580144 3.3412476 2.781353  ... 3.7897735 4.6492434 4.1774445]\n",
      " [3.5686884 2.8873925 2.310885  ... 3.447249  3.0482647 3.0317369]\n",
      " ...\n",
      " [2.7807617 3.2592428 3.3020627 ... 4.0484824 3.4263897 3.6995542]\n",
      " [3.2312806 3.0449948 2.7674925 ... 3.6788912 3.325767  3.54379  ]\n",
      " [2.9236672 3.6910748 4.350985  ... 3.8461893 4.007058  4.39439  ]]\n"
     ]
    }
   ],
   "source": [
    "with tf.Session() as s:\n",
    "    print s.run(t3)"
   ]
  },
  {
   "cell_type": "code",
   "execution_count": 16,
   "metadata": {
    "collapsed": true
   },
   "outputs": [],
   "source": [
    "def sigmoid(t):\n",
    "    return 1.0 / (1.0 + tf.exp(-t))"
   ]
  },
  {
   "cell_type": "code",
   "execution_count": 17,
   "metadata": {
    "collapsed": true
   },
   "outputs": [],
   "source": [
    "t1 = tf.constant(np.random.rand(100, 15), dtype = tf.float32)\n",
    "t2 = tf.constant(np.random.rand(15, 110), dtype = tf.float32)"
   ]
  },
  {
   "cell_type": "code",
   "execution_count": 18,
   "metadata": {
    "collapsed": true
   },
   "outputs": [],
   "source": [
    "t1s = sigmoid(t1)"
   ]
  },
  {
   "cell_type": "code",
   "execution_count": 19,
   "metadata": {},
   "outputs": [
    {
     "data": {
      "text/plain": [
       "<tf.Tensor 'div:0' shape=(100, 15) dtype=float32>"
      ]
     },
     "execution_count": 19,
     "metadata": {},
     "output_type": "execute_result"
    }
   ],
   "source": [
    "t1s"
   ]
  },
  {
   "cell_type": "code",
   "execution_count": 20,
   "metadata": {},
   "outputs": [
    {
     "name": "stdout",
     "output_type": "stream",
     "text": [
      "[[0.649144   0.70794886 0.5168201  ... 0.6655356  0.63889915 0.65131783]\n",
      " [0.55800515 0.5566466  0.5325955  ... 0.6143507  0.5686545  0.7058372 ]\n",
      " [0.6440298  0.72477514 0.5266039  ... 0.69094425 0.5204311  0.71589535]\n",
      " ...\n",
      " [0.5660618  0.6058463  0.5939491  ... 0.5635986  0.5615751  0.5925196 ]\n",
      " [0.7003494  0.7308743  0.7261002  ... 0.7249049  0.639606   0.56627923]\n",
      " [0.638626   0.65363836 0.53531146 ... 0.62159365 0.6410436  0.7244281 ]]\n"
     ]
    }
   ],
   "source": [
    "with tf.Session() as s:\n",
    "    print s.run(t1s)"
   ]
  },
  {
   "cell_type": "code",
   "execution_count": 21,
   "metadata": {
    "collapsed": true
   },
   "outputs": [],
   "source": [
    "t1 = tf.placeholder(shape = (100, 15), dtype = tf.float32)\n",
    "t2 = tf.placeholder(shape = (15, 110), dtype = tf.float32)"
   ]
  },
  {
   "cell_type": "code",
   "execution_count": 22,
   "metadata": {
    "collapsed": true
   },
   "outputs": [],
   "source": [
    "t3 = tf.matmul(t1, t2)"
   ]
  },
  {
   "cell_type": "code",
   "execution_count": 23,
   "metadata": {},
   "outputs": [
    {
     "data": {
      "text/plain": [
       "<tf.Tensor 'MatMul_1:0' shape=(100, 110) dtype=float32>"
      ]
     },
     "execution_count": 23,
     "metadata": {},
     "output_type": "execute_result"
    }
   ],
   "source": [
    "t3"
   ]
  },
  {
   "cell_type": "code",
   "execution_count": 25,
   "metadata": {
    "scrolled": true
   },
   "outputs": [
    {
     "name": "stdout",
     "output_type": "stream",
     "text": [
      "[[3.0664072 3.7516713 3.9476361 ... 5.061258  3.193798  4.9117174]\n",
      " [2.6090896 3.307047  3.7638092 ... 4.215127  2.5441265 4.655652 ]\n",
      " [3.4270198 3.5554903 4.8707795 ... 4.109871  3.2171454 4.139707 ]\n",
      " ...\n",
      " [2.7442398 3.115177  3.6109269 ... 3.7556608 2.4192553 3.322314 ]\n",
      " [2.80262   2.5835788 4.2646103 ... 3.5568447 2.84881   4.2548866]\n",
      " [3.4731297 3.3111138 5.0291147 ... 4.1220503 3.4891956 4.332391 ]]\n",
      "[[18.398443 22.510027 23.685816 ... 30.367548 19.162788 29.470306]\n",
      " [15.654536 19.842278 22.582853 ... 25.290764 15.264757 27.933912]\n",
      " [20.562119 21.332941 29.224678 ... 24.659225 19.302872 24.838245]\n",
      " ...\n",
      " [16.465435 18.691061 21.665562 ... 22.53396  14.515531 19.933882]\n",
      " [16.81572  15.501473 25.58766  ... 21.341068 17.092857 25.529322]\n",
      " [20.838778 19.866684 30.174686 ... 24.732304 20.935175 25.994349]]\n"
     ]
    }
   ],
   "source": [
    "with tf.Session() as s:\n",
    "    print s.run(t3, feed_dict = {t1: m1, t2: m2})\n",
    "    m1 = 2 * m1\n",
    "    m2 = 3 * m2\n",
    "    print s.run(t3, feed_dict = {t1: m1, t2: m2})"
   ]
  },
  {
   "cell_type": "markdown",
   "metadata": {},
   "source": [
    "O problema com essa abordagem é que ela ainda é relativamente baixo nível. Logo, não é produtiva em termos de prototipação. Assim, surge a necessidade de APIs de mais alto nível ainda, como o Keras."
   ]
  }
 ],
 "metadata": {
  "kernelspec": {
   "display_name": "Python 2",
   "language": "python",
   "name": "python2"
  },
  "language_info": {
   "codemirror_mode": {
    "name": "ipython",
    "version": 2
   },
   "file_extension": ".py",
   "mimetype": "text/x-python",
   "name": "python",
   "nbconvert_exporter": "python",
   "pygments_lexer": "ipython2",
   "version": "2.7.11"
  }
 },
 "nbformat": 4,
 "nbformat_minor": 2
}
