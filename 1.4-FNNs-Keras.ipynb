{
 "cells": [
  {
   "cell_type": "markdown",
   "metadata": {},
   "source": [
    "# FNNs com Keras"
   ]
  },
  {
   "cell_type": "markdown",
   "metadata": {},
   "source": [
    "A biblioteca Keras fornece uma API padrão de alto nível para acessar o tensorflow. A seguir vamos ver como implementar algumas das técnicas anteriores usando Keras. Note que a API implementada na aula anterior foi inspirada na do Keras, modo sequencial, que é descrita a seguir, usando exemplos."
   ]
  },
  {
   "cell_type": "code",
   "execution_count": 1,
   "metadata": {},
   "outputs": [
    {
     "name": "stderr",
     "output_type": "stream",
     "text": [
      "E:\\Anaconda\\lib\\site-packages\\h5py\\__init__.py:34: FutureWarning: Conversion of the second argument of issubdtype from `float` to `np.floating` is deprecated. In future, it will be treated as `np.float64 == np.dtype(float).type`.\n",
      "  from ._conv import register_converters as _register_converters\n",
      "Using TensorFlow backend.\n"
     ]
    }
   ],
   "source": [
    "import keras\n",
    "from keras.models import Sequential\n",
    "from keras.layers import Dense, Activation, Dropout, \\\n",
    "    Convolution2D, Flatten, MaxPooling2D, Reshape, InputLayer"
   ]
  },
  {
   "cell_type": "markdown",
   "metadata": {},
   "source": [
    "Como antes, vamos usar a coleção MNIST. Desta vez, vamos ter tantos neurônios na camada de saída quanto as classes em MNIST (10). Assim, vamos usar codificação _one-hot_ na classe."
   ]
  },
  {
   "cell_type": "code",
   "execution_count": 2,
   "metadata": {},
   "outputs": [
    {
     "name": "stdout",
     "output_type": "stream",
     "text": [
      "WARNING:tensorflow:From <ipython-input-2-430f90e09ae6>:2: read_data_sets (from tensorflow.contrib.learn.python.learn.datasets.mnist) is deprecated and will be removed in a future version.\n",
      "Instructions for updating:\n",
      "Please use alternatives such as official/mnist/dataset.py from tensorflow/models.\n",
      "WARNING:tensorflow:From E:\\Anaconda\\lib\\site-packages\\tensorflow\\contrib\\learn\\python\\learn\\datasets\\mnist.py:260: maybe_download (from tensorflow.contrib.learn.python.learn.datasets.base) is deprecated and will be removed in a future version.\n",
      "Instructions for updating:\n",
      "Please write your own downloading logic.\n",
      "WARNING:tensorflow:From E:\\Anaconda\\lib\\site-packages\\tensorflow\\contrib\\learn\\python\\learn\\datasets\\mnist.py:262: extract_images (from tensorflow.contrib.learn.python.learn.datasets.mnist) is deprecated and will be removed in a future version.\n",
      "Instructions for updating:\n",
      "Please use tf.data to implement this functionality.\n",
      "Extracting data/MNIST_data\\train-images-idx3-ubyte.gz\n",
      "WARNING:tensorflow:From E:\\Anaconda\\lib\\site-packages\\tensorflow\\contrib\\learn\\python\\learn\\datasets\\mnist.py:267: extract_labels (from tensorflow.contrib.learn.python.learn.datasets.mnist) is deprecated and will be removed in a future version.\n",
      "Instructions for updating:\n",
      "Please use tf.data to implement this functionality.\n",
      "Extracting data/MNIST_data\\train-labels-idx1-ubyte.gz\n",
      "WARNING:tensorflow:From E:\\Anaconda\\lib\\site-packages\\tensorflow\\contrib\\learn\\python\\learn\\datasets\\mnist.py:110: dense_to_one_hot (from tensorflow.contrib.learn.python.learn.datasets.mnist) is deprecated and will be removed in a future version.\n",
      "Instructions for updating:\n",
      "Please use tf.one_hot on tensors.\n",
      "Extracting data/MNIST_data\\t10k-images-idx3-ubyte.gz\n",
      "Extracting data/MNIST_data\\t10k-labels-idx1-ubyte.gz\n",
      "WARNING:tensorflow:From E:\\Anaconda\\lib\\site-packages\\tensorflow\\contrib\\learn\\python\\learn\\datasets\\mnist.py:290: DataSet.__init__ (from tensorflow.contrib.learn.python.learn.datasets.mnist) is deprecated and will be removed in a future version.\n",
      "Instructions for updating:\n",
      "Please use alternatives such as official/mnist/dataset.py from tensorflow/models.\n"
     ]
    }
   ],
   "source": [
    "from tensorflow.examples.tutorials.mnist import input_data\n",
    "mnist = input_data.read_data_sets('data/MNIST_data', one_hot=True)"
   ]
  },
  {
   "cell_type": "markdown",
   "metadata": {},
   "source": [
    "Inicialmente, vamos criar uma arquitetura larga. Ela tem 250 neurônios em uma única camada escondida. Ela será treinada em 5 épocas com mini-batches de tamanho 128."
   ]
  },
  {
   "cell_type": "code",
   "execution_count": 3,
   "metadata": {
    "collapsed": true
   },
   "outputs": [],
   "source": [
    "# define vars\n",
    "input_num_units = 28*28\n",
    "hidden_num_units = 250\n",
    "output_num_units = 10\n",
    "epochs = 5\n",
    "batch_size = 128\n",
    "\n",
    "model = Sequential()\n",
    "model.add(Dense(units=hidden_num_units, \n",
    "       input_dim=input_num_units, activation='relu'))\n",
    "model.add(Dense(units=output_num_units, \n",
    "       input_dim=hidden_num_units, activation='softmax'))\n"
   ]
  },
  {
   "cell_type": "markdown",
   "metadata": {},
   "source": [
    "Vamos treiná-la usando como função de perda a entropia cruzada, com algoritmo de otimização Adam (gradiente descendente com momento) e avaliá-la em termos de acurácia:"
   ]
  },
  {
   "cell_type": "code",
   "execution_count": 4,
   "metadata": {},
   "outputs": [
    {
     "name": "stdout",
     "output_type": "stream",
     "text": [
      "Train on 55000 samples, validate on 5000 samples\n",
      "Epoch 1/5\n",
      "55000/55000 [==============================] - 7s 123us/step - loss: 0.3266 - acc: 0.9102 - val_loss: 0.1657 - val_acc: 0.9556\n",
      "Epoch 2/5\n",
      "55000/55000 [==============================] - 2s 30us/step - loss: 0.1379 - acc: 0.9607 - val_loss: 0.1127 - val_acc: 0.9680\n",
      "Epoch 3/5\n",
      "55000/55000 [==============================] - 2s 30us/step - loss: 0.0943 - acc: 0.9727 - val_loss: 0.0947 - val_acc: 0.9738\n",
      "Epoch 4/5\n",
      "55000/55000 [==============================] - 2s 29us/step - loss: 0.0700 - acc: 0.9795 - val_loss: 0.0773 - val_acc: 0.9796\n",
      "Epoch 5/5\n",
      "55000/55000 [==============================] - 2s 29us/step - loss: 0.0536 - acc: 0.9845 - val_loss: 0.0738 - val_acc: 0.9782\n"
     ]
    }
   ],
   "source": [
    "model.compile(loss='categorical_crossentropy', \n",
    "              optimizer='adam', metrics=['accuracy'])\n",
    "\n",
    "trained_model_500 = model.fit(mnist.train.images, mnist.train.labels, \n",
    "                              epochs=epochs, \n",
    "                              batch_size=batch_size, \n",
    "                              validation_data=(mnist.validation.images, \n",
    "                                               mnist.validation.labels))"
   ]
  },
  {
   "cell_type": "markdown",
   "metadata": {},
   "source": [
    "Uma dúvida que surge é se uma rede profunda, com o mesmo número de nerônios ocultos, porém através de 5 camadas, é capaz de algo melhor. É o que vamos ver na arquitetura seguinte."
   ]
  },
  {
   "cell_type": "code",
   "execution_count": 9,
   "metadata": {
    "collapsed": true
   },
   "outputs": [],
   "source": [
    "# define vars\n",
    "input_num_units = 784\n",
    "hidden1_num_units = 50\n",
    "hidden2_num_units = 50\n",
    "hidden3_num_units = 50\n",
    "hidden4_num_units = 50\n",
    "hidden5_num_units = 50\n",
    "output_num_units = 10\n",
    "\n",
    "epochs = 5\n",
    "batch_size = 128\n",
    "\n",
    "model = Sequential([\n",
    " Dense(units=hidden1_num_units, \n",
    "       input_dim=input_num_units, activation='relu'),\n",
    " Dense(units=hidden2_num_units, \n",
    "       input_dim=hidden1_num_units, activation='relu'),\n",
    " Dense(units=hidden3_num_units, \n",
    "       input_dim=hidden2_num_units, activation='relu'),\n",
    " Dense(units=hidden4_num_units, \n",
    "       input_dim=hidden3_num_units, activation='relu'),\n",
    " Dense(units=hidden5_num_units, \n",
    "       input_dim=hidden4_num_units, activation='relu'),\n",
    " Dense(units=output_num_units, \n",
    "       input_dim=hidden5_num_units, activation='softmax'),\n",
    " ])\n",
    "\n",
    "model.compile(loss='categorical_crossentropy', \n",
    "              optimizer='adam', metrics=['accuracy'])"
   ]
  },
  {
   "cell_type": "code",
   "execution_count": 10,
   "metadata": {},
   "outputs": [
    {
     "name": "stdout",
     "output_type": "stream",
     "text": [
      "Train on 55000 samples, validate on 5000 samples\n",
      "Epoch 1/5\n",
      "55000/55000 [==============================] - 3s 53us/step - loss: 0.4667 - acc: 0.8574 - val_loss: 0.2010 - val_acc: 0.9434\n",
      "Epoch 2/5\n",
      "55000/55000 [==============================] - 2s 42us/step - loss: 0.1767 - acc: 0.9481 - val_loss: 0.1608 - val_acc: 0.9566\n",
      "Epoch 3/5\n",
      "55000/55000 [==============================] - 2s 42us/step - loss: 0.1314 - acc: 0.9601 - val_loss: 0.1267 - val_acc: 0.9642\n",
      "Epoch 4/5\n",
      "55000/55000 [==============================] - 2s 41us/step - loss: 0.1079 - acc: 0.9672 - val_loss: 0.1104 - val_acc: 0.9690\n",
      "Epoch 5/5\n",
      "55000/55000 [==============================] - 2s 40us/step - loss: 0.0897 - acc: 0.9725 - val_loss: 0.1052 - val_acc: 0.9684\n"
     ]
    }
   ],
   "source": [
    "trained_model_5d = model.fit(mnist.train.images, mnist.train.labels, \n",
    "                              epochs=epochs, \n",
    "                              batch_size=batch_size, \n",
    "                              validation_data=(mnist.validation.images, \n",
    "                                               mnist.validation.labels))"
   ]
  },
  {
   "cell_type": "markdown",
   "metadata": {},
   "source": [
    "Uma forma de melhorar o resultado talvez seja usar Dropout. Vamos ver como se comporta, usando uma taxa de droput de 20%:"
   ]
  },
  {
   "cell_type": "code",
   "execution_count": 11,
   "metadata": {
    "collapsed": true
   },
   "outputs": [],
   "source": [
    "# define vars\n",
    "input_num_units = 784\n",
    "hidden1_num_units = 50\n",
    "hidden2_num_units = 50\n",
    "hidden3_num_units = 50\n",
    "hidden4_num_units = 50\n",
    "hidden5_num_units = 50\n",
    "output_num_units = 10\n",
    "\n",
    "epochs = 5\n",
    "batch_size = 128\n",
    "\n",
    "dropout_ratio = 0.2\n",
    "\n",
    "model = Sequential([\n",
    " Dense(units=hidden1_num_units, \n",
    "       input_dim=input_num_units, activation='relu'),\n",
    " Dropout(dropout_ratio),\n",
    " Dense(units=hidden2_num_units, \n",
    "       input_dim=hidden1_num_units, activation='relu'),\n",
    " Dropout(dropout_ratio),\n",
    " Dense(units=hidden3_num_units, \n",
    "       input_dim=hidden2_num_units, activation='relu'),\n",
    " Dropout(dropout_ratio),\n",
    " Dense(units=hidden4_num_units, \n",
    "       input_dim=hidden3_num_units, activation='relu'),\n",
    " Dropout(dropout_ratio),\n",
    " Dense(units=hidden5_num_units, \n",
    "       input_dim=hidden4_num_units, activation='relu'),\n",
    " Dropout(dropout_ratio),\n",
    "\n",
    "Dense(units=output_num_units, \n",
    "      input_dim=hidden5_num_units, activation='softmax'),\n",
    " ])"
   ]
  },
  {
   "cell_type": "code",
   "execution_count": 9,
   "metadata": {},
   "outputs": [
    {
     "name": "stdout",
     "output_type": "stream",
     "text": [
      "Train on 55000 samples, validate on 5000 samples\n",
      "Epoch 1/5\n",
      "55000/55000 [==============================] - 3s - loss: 0.9269 - acc: 0.6910 - val_loss: 0.2732 - val_acc: 0.9236\n",
      "Epoch 2/5\n",
      "55000/55000 [==============================] - 2s - loss: 0.4047 - acc: 0.8894 - val_loss: 0.2096 - val_acc: 0.9452\n",
      "Epoch 3/5\n",
      "55000/55000 [==============================] - 2s - loss: 0.3231 - acc: 0.9154 - val_loss: 0.1707 - val_acc: 0.9530\n",
      "Epoch 4/5\n",
      "55000/55000 [==============================] - 2s - loss: 0.2811 - acc: 0.9268 - val_loss: 0.1548 - val_acc: 0.9598\n",
      "Epoch 5/5\n",
      "55000/55000 [==============================] - 2s - loss: 0.2561 - acc: 0.9331 - val_loss: 0.1465 - val_acc: 0.9632\n"
     ]
    }
   ],
   "source": [
    "model.compile(loss='categorical_crossentropy', \n",
    "              optimizer='adam', metrics=['accuracy'])\n",
    "\n",
    "trained_model_5d_drop = model.fit(mnist.train.images, mnist.train.labels, \n",
    "                              epochs=epochs, \n",
    "                              batch_size=batch_size, \n",
    "                              validation_data=(mnist.validation.images, \n",
    "                                               mnist.validation.labels))"
   ]
  },
  {
   "cell_type": "markdown",
   "metadata": {},
   "source": [
    "O desempenho piorou. Uma razão possível talvez seja o fato de que não estamos treinando o suficiente. Assim, vamos aumentar o número de épocas."
   ]
  },
  {
   "cell_type": "code",
   "execution_count": 12,
   "metadata": {
    "collapsed": true
   },
   "outputs": [],
   "source": [
    "# define vars\n",
    "input_num_units = 784\n",
    "hidden1_num_units = 50\n",
    "hidden2_num_units = 50\n",
    "hidden3_num_units = 50\n",
    "hidden4_num_units = 50\n",
    "hidden5_num_units = 50\n",
    "output_num_units = 10\n",
    "\n",
    "epochs = 50\n",
    "batch_size = 128\n",
    "\n",
    "dropout_ratio = 0.2\n",
    "\n",
    "model = Sequential([\n",
    " Dense(units=hidden1_num_units, \n",
    "       input_dim=input_num_units, activation='relu'),\n",
    " Dropout(dropout_ratio),\n",
    " Dense(units=hidden2_num_units, \n",
    "       input_dim=hidden1_num_units, activation='relu'),\n",
    " Dropout(dropout_ratio),\n",
    " Dense(units=hidden3_num_units, \n",
    "       input_dim=hidden2_num_units, activation='relu'),\n",
    " Dropout(dropout_ratio),\n",
    " Dense(units=hidden4_num_units, \n",
    "       input_dim=hidden3_num_units, activation='relu'),\n",
    " Dropout(dropout_ratio),\n",
    " Dense(units=hidden5_num_units, \n",
    "       input_dim=hidden4_num_units, activation='relu'),\n",
    " Dropout(dropout_ratio),\n",
    "\n",
    "Dense(units=output_num_units, \n",
    "      input_dim=hidden5_num_units, activation='softmax'),\n",
    " ])"
   ]
  },
  {
   "cell_type": "code",
   "execution_count": 13,
   "metadata": {},
   "outputs": [
    {
     "name": "stdout",
     "output_type": "stream",
     "text": [
      "Train on 55000 samples, validate on 5000 samples\n",
      "Epoch 1/50\n",
      "55000/55000 [==============================] - 4s 66us/step - loss: 0.8968 - acc: 0.6982 - val_loss: 0.2726 - val_acc: 0.9272\n",
      "Epoch 2/50\n",
      "55000/55000 [==============================] - 3s 49us/step - loss: 0.3938 - acc: 0.8929 - val_loss: 0.1977 - val_acc: 0.9460\n",
      "Epoch 3/50\n",
      "55000/55000 [==============================] - 3s 48us/step - loss: 0.3202 - acc: 0.9171 - val_loss: 0.1731 - val_acc: 0.9538\n",
      "Epoch 4/50\n",
      "55000/55000 [==============================] - 3s 48us/step - loss: 0.2833 - acc: 0.9273 - val_loss: 0.1676 - val_acc: 0.9566\n",
      "Epoch 5/50\n",
      "55000/55000 [==============================] - 3s 48us/step - loss: 0.2548 - acc: 0.9337 - val_loss: 0.1608 - val_acc: 0.9578\n",
      "Epoch 6/50\n",
      "55000/55000 [==============================] - 3s 49us/step - loss: 0.2391 - acc: 0.9372 - val_loss: 0.1559 - val_acc: 0.9578\n",
      "Epoch 7/50\n",
      "55000/55000 [==============================] - 3s 47us/step - loss: 0.2255 - acc: 0.9415 - val_loss: 0.1526 - val_acc: 0.9604\n",
      "Epoch 8/50\n",
      "55000/55000 [==============================] - 3s 46us/step - loss: 0.2126 - acc: 0.9448 - val_loss: 0.1536 - val_acc: 0.9590\n",
      "Epoch 9/50\n",
      "55000/55000 [==============================] - 3s 48us/step - loss: 0.2048 - acc: 0.9457 - val_loss: 0.1465 - val_acc: 0.9622\n",
      "Epoch 10/50\n",
      "55000/55000 [==============================] - 3s 48us/step - loss: 0.1985 - acc: 0.9482 - val_loss: 0.1350 - val_acc: 0.9628\n",
      "Epoch 11/50\n",
      "55000/55000 [==============================] - 3s 48us/step - loss: 0.1887 - acc: 0.9507 - val_loss: 0.1431 - val_acc: 0.9674\n",
      "Epoch 12/50\n",
      "55000/55000 [==============================] - 3s 49us/step - loss: 0.1778 - acc: 0.9541 - val_loss: 0.1299 - val_acc: 0.9664\n",
      "Epoch 13/50\n",
      "55000/55000 [==============================] - 3s 48us/step - loss: 0.1794 - acc: 0.9531 - val_loss: 0.1284 - val_acc: 0.9674\n",
      "Epoch 14/50\n",
      "55000/55000 [==============================] - 3s 47us/step - loss: 0.1702 - acc: 0.9554 - val_loss: 0.1241 - val_acc: 0.9680\n",
      "Epoch 15/50\n",
      "55000/55000 [==============================] - 3s 47us/step - loss: 0.1663 - acc: 0.9568 - val_loss: 0.1295 - val_acc: 0.9670\n",
      "Epoch 16/50\n",
      "55000/55000 [==============================] - 3s 49us/step - loss: 0.1654 - acc: 0.9557 - val_loss: 0.1345 - val_acc: 0.9658\n",
      "Epoch 17/50\n",
      "55000/55000 [==============================] - 3s 50us/step - loss: 0.1607 - acc: 0.9576 - val_loss: 0.1246 - val_acc: 0.9660\n",
      "Epoch 18/50\n",
      "55000/55000 [==============================] - 3s 51us/step - loss: 0.1600 - acc: 0.9587 - val_loss: 0.1204 - val_acc: 0.9672\n",
      "Epoch 19/50\n",
      "55000/55000 [==============================] - 3s 51us/step - loss: 0.1528 - acc: 0.9584 - val_loss: 0.1346 - val_acc: 0.9658\n",
      "Epoch 20/50\n",
      "55000/55000 [==============================] - 3s 48us/step - loss: 0.1527 - acc: 0.9595 - val_loss: 0.1351 - val_acc: 0.9644\n",
      "Epoch 21/50\n",
      "55000/55000 [==============================] - 3s 47us/step - loss: 0.1482 - acc: 0.9607 - val_loss: 0.1274 - val_acc: 0.9672\n",
      "Epoch 22/50\n",
      "55000/55000 [==============================] - 3s 49us/step - loss: 0.1438 - acc: 0.9615 - val_loss: 0.1174 - val_acc: 0.9694\n",
      "Epoch 23/50\n",
      "55000/55000 [==============================] - 3s 47us/step - loss: 0.1423 - acc: 0.9622 - val_loss: 0.1207 - val_acc: 0.9712\n",
      "Epoch 24/50\n",
      "55000/55000 [==============================] - 3s 49us/step - loss: 0.1430 - acc: 0.9617 - val_loss: 0.1210 - val_acc: 0.9678\n",
      "Epoch 25/50\n",
      "55000/55000 [==============================] - 3s 47us/step - loss: 0.1393 - acc: 0.9631 - val_loss: 0.1268 - val_acc: 0.9684\n",
      "Epoch 26/50\n",
      "55000/55000 [==============================] - 3s 48us/step - loss: 0.1378 - acc: 0.9633 - val_loss: 0.1232 - val_acc: 0.9700\n",
      "Epoch 27/50\n",
      "55000/55000 [==============================] - 3s 47us/step - loss: 0.1351 - acc: 0.9641 - val_loss: 0.1151 - val_acc: 0.9700\n",
      "Epoch 28/50\n",
      "55000/55000 [==============================] - 3s 47us/step - loss: 0.1341 - acc: 0.9646 - val_loss: 0.1239 - val_acc: 0.9672\n",
      "Epoch 29/50\n",
      "55000/55000 [==============================] - 3s 51us/step - loss: 0.1343 - acc: 0.9643 - val_loss: 0.1217 - val_acc: 0.9692\n",
      "Epoch 30/50\n",
      "55000/55000 [==============================] - 3s 48us/step - loss: 0.1284 - acc: 0.9651 - val_loss: 0.1221 - val_acc: 0.9694\n",
      "Epoch 31/50\n",
      "55000/55000 [==============================] - 3s 49us/step - loss: 0.1326 - acc: 0.9644 - val_loss: 0.1261 - val_acc: 0.9692\n",
      "Epoch 32/50\n",
      "55000/55000 [==============================] - 3s 49us/step - loss: 0.1271 - acc: 0.9657 - val_loss: 0.1327 - val_acc: 0.9670\n",
      "Epoch 33/50\n",
      "55000/55000 [==============================] - 3s 46us/step - loss: 0.1259 - acc: 0.9654 - val_loss: 0.1279 - val_acc: 0.9678\n",
      "Epoch 34/50\n",
      "55000/55000 [==============================] - 3s 47us/step - loss: 0.1284 - acc: 0.9656 - val_loss: 0.1228 - val_acc: 0.9682\n",
      "Epoch 35/50\n",
      "55000/55000 [==============================] - 3s 46us/step - loss: 0.1199 - acc: 0.9676 - val_loss: 0.1286 - val_acc: 0.9702\n",
      "Epoch 36/50\n",
      "55000/55000 [==============================] - 3s 47us/step - loss: 0.1180 - acc: 0.9669 - val_loss: 0.1285 - val_acc: 0.9688\n",
      "Epoch 37/50\n",
      "55000/55000 [==============================] - 3s 47us/step - loss: 0.1203 - acc: 0.9667 - val_loss: 0.1267 - val_acc: 0.9712\n",
      "Epoch 38/50\n",
      "55000/55000 [==============================] - 3s 50us/step - loss: 0.1194 - acc: 0.9669 - val_loss: 0.1266 - val_acc: 0.9688\n",
      "Epoch 39/50\n",
      "55000/55000 [==============================] - 3s 49us/step - loss: 0.1187 - acc: 0.9671 - val_loss: 0.1234 - val_acc: 0.9684\n",
      "Epoch 40/50\n",
      "55000/55000 [==============================] - 3s 54us/step - loss: 0.1183 - acc: 0.9679 - val_loss: 0.1284 - val_acc: 0.9682\n",
      "Epoch 41/50\n",
      "55000/55000 [==============================] - 3s 50us/step - loss: 0.1166 - acc: 0.9678 - val_loss: 0.1221 - val_acc: 0.9708\n",
      "Epoch 42/50\n",
      "55000/55000 [==============================] - 3s 51us/step - loss: 0.1170 - acc: 0.9675 - val_loss: 0.1267 - val_acc: 0.9652\n",
      "Epoch 43/50\n",
      "55000/55000 [==============================] - 3s 52us/step - loss: 0.1155 - acc: 0.9681 - val_loss: 0.1394 - val_acc: 0.9666\n",
      "Epoch 44/50\n",
      "55000/55000 [==============================] - 3s 52us/step - loss: 0.1177 - acc: 0.9675 - val_loss: 0.1220 - val_acc: 0.9682\n",
      "Epoch 45/50\n",
      "55000/55000 [==============================] - 3s 52us/step - loss: 0.1157 - acc: 0.9680 - val_loss: 0.1318 - val_acc: 0.9682\n",
      "Epoch 46/50\n",
      "55000/55000 [==============================] - 3s 53us/step - loss: 0.1179 - acc: 0.9678 - val_loss: 0.1205 - val_acc: 0.9674\n",
      "Epoch 47/50\n",
      "55000/55000 [==============================] - 3s 53us/step - loss: 0.1129 - acc: 0.9685 - val_loss: 0.1286 - val_acc: 0.9672\n",
      "Epoch 48/50\n",
      "55000/55000 [==============================] - 3s 50us/step - loss: 0.1093 - acc: 0.9704 - val_loss: 0.1291 - val_acc: 0.9692\n",
      "Epoch 49/50\n",
      "55000/55000 [==============================] - 3s 49us/step - loss: 0.1142 - acc: 0.9689 - val_loss: 0.1255 - val_acc: 0.9670\n",
      "Epoch 50/50\n",
      "55000/55000 [==============================] - 3s 48us/step - loss: 0.1143 - acc: 0.9691 - val_loss: 0.1211 - val_acc: 0.9694\n"
     ]
    }
   ],
   "source": [
    "model.compile(loss='categorical_crossentropy', \n",
    "              optimizer='adam', metrics=['accuracy'])\n",
    "\n",
    "trained_model_5d_drop_mais_epocas = model.fit(mnist.train.images, \n",
    "                                              mnist.train.labels, \n",
    "                              epochs=epochs, \n",
    "                              batch_size=batch_size, \n",
    "                              validation_data=(mnist.validation.images, \n",
    "                                               mnist.validation.labels))"
   ]
  },
  {
   "cell_type": "markdown",
   "metadata": {},
   "source": [
    "E nada muito extraordinário. O próximo passo agora é testar uma rede larga e profunda (e lenta :(). Com ela, temos a chance de realmente nos aproximarmos do desempenho dos melhores métodos, baseados em convoluções. Para deixar as coisas menos complexas, vou deixar 500 neurônios na 1a camada e apenas 250 nas demais. Vou testar com 25 épocas... ah, pode esperar!"
   ]
  },
  {
   "cell_type": "code",
   "execution_count": 14,
   "metadata": {
    "collapsed": true
   },
   "outputs": [],
   "source": [
    "# define vars\n",
    "input_num_units = 784\n",
    "hidden1_num_units = 500\n",
    "hidden2_num_units = 250\n",
    "hidden3_num_units = 250\n",
    "hidden4_num_units = 250\n",
    "hidden5_num_units = 250\n",
    "output_num_units = 10\n",
    "\n",
    "epochs = 25\n",
    "batch_size = 128\n",
    "\n",
    "dropout_ratio = 0.2\n",
    "\n",
    "model = Sequential([\n",
    " Dense(units=hidden1_num_units, \n",
    "       input_dim=input_num_units, activation='relu'),\n",
    " Dropout(dropout_ratio),\n",
    " Dense(units=hidden2_num_units, \n",
    "       input_dim=hidden1_num_units, activation='relu'),\n",
    " Dropout(dropout_ratio),\n",
    " Dense(units=hidden3_num_units, \n",
    "       input_dim=hidden2_num_units, activation='relu'),\n",
    " Dropout(dropout_ratio),\n",
    " Dense(units=hidden4_num_units, \n",
    "       input_dim=hidden3_num_units, activation='relu'),\n",
    " Dropout(dropout_ratio),\n",
    " Dense(units=hidden5_num_units, \n",
    "       input_dim=hidden4_num_units, activation='relu'),\n",
    " Dropout(dropout_ratio),\n",
    "\n",
    "Dense(units=output_num_units, \n",
    "      input_dim=hidden5_num_units, activation='softmax'),\n",
    " ])"
   ]
  },
  {
   "cell_type": "code",
   "execution_count": 15,
   "metadata": {},
   "outputs": [
    {
     "name": "stdout",
     "output_type": "stream",
     "text": [
      "Train on 55000 samples, validate on 5000 samples\n",
      "Epoch 1/25\n",
      "55000/55000 [==============================] - 4s 66us/step - loss: 0.3633 - acc: 0.8871 - val_loss: 0.1329 - val_acc: 0.9630\n",
      "Epoch 2/25\n",
      "55000/55000 [==============================] - 3s 52us/step - loss: 0.1478 - acc: 0.9581 - val_loss: 0.0933 - val_acc: 0.9740\n",
      "Epoch 3/25\n",
      "55000/55000 [==============================] - 3s 53us/step - loss: 0.1046 - acc: 0.9698 - val_loss: 0.0872 - val_acc: 0.9746\n",
      "Epoch 4/25\n",
      "55000/55000 [==============================] - 3s 52us/step - loss: 0.0891 - acc: 0.9741 - val_loss: 0.0817 - val_acc: 0.9784\n",
      "Epoch 5/25\n",
      "55000/55000 [==============================] - 3s 52us/step - loss: 0.0769 - acc: 0.9776 - val_loss: 0.0922 - val_acc: 0.9756\n",
      "Epoch 6/25\n",
      "55000/55000 [==============================] - 3s 51us/step - loss: 0.0625 - acc: 0.9815 - val_loss: 0.0737 - val_acc: 0.9816\n",
      "Epoch 7/25\n",
      "55000/55000 [==============================] - 3s 51us/step - loss: 0.0580 - acc: 0.9828 - val_loss: 0.0769 - val_acc: 0.9792\n",
      "Epoch 8/25\n",
      "55000/55000 [==============================] - 3s 51us/step - loss: 0.0544 - acc: 0.9851 - val_loss: 0.0730 - val_acc: 0.9818\n",
      "Epoch 9/25\n",
      "55000/55000 [==============================] - 3s 50us/step - loss: 0.0469 - acc: 0.9862 - val_loss: 0.0739 - val_acc: 0.9806\n",
      "Epoch 10/25\n",
      "55000/55000 [==============================] - 3s 52us/step - loss: 0.0457 - acc: 0.9868 - val_loss: 0.0719 - val_acc: 0.9798\n",
      "Epoch 11/25\n",
      "55000/55000 [==============================] - 3s 52us/step - loss: 0.0439 - acc: 0.9870 - val_loss: 0.0774 - val_acc: 0.9798\n",
      "Epoch 12/25\n",
      "55000/55000 [==============================] - 3s 50us/step - loss: 0.0370 - acc: 0.9889 - val_loss: 0.0756 - val_acc: 0.9820\n",
      "Epoch 13/25\n",
      "55000/55000 [==============================] - 3s 54us/step - loss: 0.0335 - acc: 0.9902 - val_loss: 0.0682 - val_acc: 0.9842\n",
      "Epoch 14/25\n",
      "55000/55000 [==============================] - 3s 52us/step - loss: 0.0360 - acc: 0.9893 - val_loss: 0.0859 - val_acc: 0.9812\n",
      "Epoch 15/25\n",
      "55000/55000 [==============================] - 3s 52us/step - loss: 0.0321 - acc: 0.9910 - val_loss: 0.0787 - val_acc: 0.9830\n",
      "Epoch 16/25\n",
      "55000/55000 [==============================] - 3s 53us/step - loss: 0.0317 - acc: 0.9911 - val_loss: 0.0866 - val_acc: 0.9812\n",
      "Epoch 17/25\n",
      "55000/55000 [==============================] - 3s 51us/step - loss: 0.0309 - acc: 0.9909 - val_loss: 0.0731 - val_acc: 0.9846\n",
      "Epoch 18/25\n",
      "55000/55000 [==============================] - 3s 52us/step - loss: 0.0288 - acc: 0.9920 - val_loss: 0.0782 - val_acc: 0.9800\n",
      "Epoch 19/25\n",
      "55000/55000 [==============================] - 3s 52us/step - loss: 0.0257 - acc: 0.9929 - val_loss: 0.0757 - val_acc: 0.9838\n",
      "Epoch 20/25\n",
      "55000/55000 [==============================] - 3s 52us/step - loss: 0.0288 - acc: 0.9916 - val_loss: 0.0670 - val_acc: 0.9844\n",
      "Epoch 21/25\n",
      "55000/55000 [==============================] - 3s 53us/step - loss: 0.0238 - acc: 0.9931 - val_loss: 0.0727 - val_acc: 0.9836\n",
      "Epoch 22/25\n",
      "55000/55000 [==============================] - 3s 53us/step - loss: 0.0247 - acc: 0.9932 - val_loss: 0.0834 - val_acc: 0.9814\n",
      "Epoch 23/25\n",
      "55000/55000 [==============================] - 3s 51us/step - loss: 0.0261 - acc: 0.9926 - val_loss: 0.0784 - val_acc: 0.9836\n",
      "Epoch 24/25\n",
      "55000/55000 [==============================] - 3s 52us/step - loss: 0.0242 - acc: 0.9936 - val_loss: 0.0821 - val_acc: 0.9836\n",
      "Epoch 25/25\n",
      "55000/55000 [==============================] - 3s 54us/step - loss: 0.0233 - acc: 0.9934 - val_loss: 0.0706 - val_acc: 0.9846\n"
     ]
    }
   ],
   "source": [
    "model.compile(loss='categorical_crossentropy', \n",
    "              optimizer='adam', metrics=['accuracy'])\n",
    "\n",
    "trained_model_5d_larga_profunda = model.fit(mnist.train.images, \n",
    "                                              mnist.train.labels, \n",
    "                              epochs=epochs, \n",
    "                              batch_size=batch_size, \n",
    "                              validation_data=(mnist.validation.images, \n",
    "                                               mnist.validation.labels))"
   ]
  },
  {
   "cell_type": "markdown",
   "metadata": {},
   "source": [
    "Este modelo já conseguiu um resultado bem superior ao anterior. Contudo, fica claro agora que já há algum overfitting, devido à complexidade do modelo. Vamos ver qual o efeito agora de aplicarmos _batch normalization_."
   ]
  },
  {
   "cell_type": "code",
   "execution_count": 16,
   "metadata": {
    "collapsed": true
   },
   "outputs": [],
   "source": [
    "# define vars\n",
    "input_num_units = 784\n",
    "hidden1_num_units = 500\n",
    "hidden2_num_units = 250\n",
    "hidden3_num_units = 250\n",
    "hidden4_num_units = 250\n",
    "hidden5_num_units = 250\n",
    "output_num_units = 10\n",
    "\n",
    "epochs = 25\n",
    "batch_size = 128\n",
    "\n",
    "dropout_ratio = 0.2\n",
    "\n",
    "from keras.layers.normalization import BatchNormalization\n",
    "\n",
    "model = Sequential([\n",
    " Dense(units=hidden1_num_units, input_dim=input_num_units),\n",
    " BatchNormalization(), Activation('relu'),\n",
    " Dropout(dropout_ratio),\n",
    "    \n",
    " Dense(units=hidden2_num_units, input_dim=hidden1_num_units),\n",
    " BatchNormalization(), Activation('relu'),\n",
    " Dropout(dropout_ratio),\n",
    "    \n",
    " Dense(units=hidden3_num_units, input_dim=hidden2_num_units),\n",
    " BatchNormalization(), Activation('relu'),\n",
    " Dropout(dropout_ratio),\n",
    "    \n",
    " Dense(units=hidden4_num_units, input_dim=hidden3_num_units),\n",
    " BatchNormalization(), Activation('relu'),\n",
    " Dropout(dropout_ratio),\n",
    "    \n",
    " Dense(units=hidden5_num_units, input_dim=hidden4_num_units),\n",
    " BatchNormalization(), Activation('relu'),\n",
    " Dropout(dropout_ratio),\n",
    "    \n",
    " Dense(units=output_num_units, input_dim=hidden5_num_units),\n",
    " BatchNormalization(), Activation('softmax'),\n",
    "])"
   ]
  },
  {
   "cell_type": "code",
   "execution_count": 17,
   "metadata": {
    "scrolled": true
   },
   "outputs": [
    {
     "name": "stdout",
     "output_type": "stream",
     "text": [
      "Train on 55000 samples, validate on 5000 samples\n",
      "Epoch 1/25\n",
      "55000/55000 [==============================] - 9s 155us/step - loss: 0.5445 - acc: 0.8911 - val_loss: 0.1994 - val_acc: 0.9624\n",
      "Epoch 2/25\n",
      "55000/55000 [==============================] - 6s 108us/step - loss: 0.2459 - acc: 0.9537 - val_loss: 0.1361 - val_acc: 0.9678\n",
      "Epoch 3/25\n",
      "55000/55000 [==============================] - 6s 106us/step - loss: 0.1719 - acc: 0.9646 - val_loss: 0.1027 - val_acc: 0.9762\n",
      "Epoch 4/25\n",
      "55000/55000 [==============================] - 6s 106us/step - loss: 0.1356 - acc: 0.9704 - val_loss: 0.0866 - val_acc: 0.9794\n",
      "Epoch 5/25\n",
      "55000/55000 [==============================] - 6s 106us/step - loss: 0.1131 - acc: 0.9736 - val_loss: 0.0796 - val_acc: 0.9792\n",
      "Epoch 6/25\n",
      "55000/55000 [==============================] - 6s 104us/step - loss: 0.0971 - acc: 0.9768 - val_loss: 0.0729 - val_acc: 0.9796\n",
      "Epoch 7/25\n",
      "55000/55000 [==============================] - 6s 104us/step - loss: 0.0828 - acc: 0.9796 - val_loss: 0.0714 - val_acc: 0.9800\n",
      "Epoch 8/25\n",
      "55000/55000 [==============================] - 6s 105us/step - loss: 0.0755 - acc: 0.9810 - val_loss: 0.0728 - val_acc: 0.9826\n",
      "Epoch 9/25\n",
      "55000/55000 [==============================] - 6s 104us/step - loss: 0.0656 - acc: 0.9832 - val_loss: 0.0647 - val_acc: 0.9828\n",
      "Epoch 10/25\n",
      "55000/55000 [==============================] - 6s 104us/step - loss: 0.0622 - acc: 0.9839 - val_loss: 0.0617 - val_acc: 0.9834\n",
      "Epoch 11/25\n",
      "55000/55000 [==============================] - 6s 104us/step - loss: 0.0545 - acc: 0.9855 - val_loss: 0.0598 - val_acc: 0.9850\n",
      "Epoch 12/25\n",
      "55000/55000 [==============================] - 6s 104us/step - loss: 0.0509 - acc: 0.9869 - val_loss: 0.0560 - val_acc: 0.9846\n",
      "Epoch 13/25\n",
      "55000/55000 [==============================] - 6s 106us/step - loss: 0.0464 - acc: 0.9878 - val_loss: 0.0556 - val_acc: 0.9842\n",
      "Epoch 14/25\n",
      "55000/55000 [==============================] - 6s 105us/step - loss: 0.0423 - acc: 0.9887 - val_loss: 0.0623 - val_acc: 0.9826\n",
      "Epoch 15/25\n",
      "55000/55000 [==============================] - 6s 103us/step - loss: 0.0377 - acc: 0.9899 - val_loss: 0.0554 - val_acc: 0.9864\n",
      "Epoch 16/25\n",
      "55000/55000 [==============================] - 6s 104us/step - loss: 0.0386 - acc: 0.9894 - val_loss: 0.0577 - val_acc: 0.9862\n",
      "Epoch 17/25\n",
      "55000/55000 [==============================] - 6s 103us/step - loss: 0.0365 - acc: 0.9897 - val_loss: 0.0511 - val_acc: 0.9870\n",
      "Epoch 18/25\n",
      "55000/55000 [==============================] - 6s 104us/step - loss: 0.0335 - acc: 0.9905 - val_loss: 0.0564 - val_acc: 0.9864\n",
      "Epoch 19/25\n",
      "55000/55000 [==============================] - 6s 104us/step - loss: 0.0298 - acc: 0.9915 - val_loss: 0.0549 - val_acc: 0.9852\n",
      "Epoch 20/25\n",
      "55000/55000 [==============================] - 6s 105us/step - loss: 0.0289 - acc: 0.9918 - val_loss: 0.0563 - val_acc: 0.9864\n",
      "Epoch 21/25\n",
      "55000/55000 [==============================] - 6s 104us/step - loss: 0.0291 - acc: 0.9917 - val_loss: 0.0524 - val_acc: 0.9866\n",
      "Epoch 22/25\n",
      "55000/55000 [==============================] - 6s 109us/step - loss: 0.0242 - acc: 0.9931 - val_loss: 0.0558 - val_acc: 0.9852\n",
      "Epoch 23/25\n",
      "55000/55000 [==============================] - 6s 107us/step - loss: 0.0248 - acc: 0.9930 - val_loss: 0.0540 - val_acc: 0.9870\n",
      "Epoch 24/25\n",
      "55000/55000 [==============================] - 6s 105us/step - loss: 0.0228 - acc: 0.9935 - val_loss: 0.0601 - val_acc: 0.9846\n",
      "Epoch 25/25\n",
      "55000/55000 [==============================] - 6s 109us/step - loss: 0.0239 - acc: 0.9930 - val_loss: 0.0520 - val_acc: 0.9866\n"
     ]
    }
   ],
   "source": [
    "model.compile(loss='categorical_crossentropy', \n",
    "              optimizer='adam', metrics=['accuracy'])\n",
    "\n",
    "trained_model_5d_larga_profunda = model.fit(mnist.train.images, \n",
    "                                              mnist.train.labels, \n",
    "                              epochs=epochs, \n",
    "                              batch_size=batch_size, \n",
    "                              validation_data=(mnist.validation.images, \n",
    "                                               mnist.validation.labels))"
   ]
  },
  {
   "cell_type": "markdown",
   "metadata": {},
   "source": [
    "Mas à frente, vamos melhorar mais este resultado usando uma rede convolutiva."
   ]
  },
  {
   "cell_type": "markdown",
   "metadata": {},
   "source": [
    "## Keras Funcional"
   ]
  },
  {
   "cell_type": "markdown",
   "metadata": {},
   "source": [
    "A API sequencial do Keras permite a criação de modelos camada a camada, o que é uma boa representação para muitos modelos. Contudo, modelos mais complexos podem ter múltiplas entradas e saídas e várias sequências de camadas em paralelo. Isso não é simples de representar usando uma abstração sequencial. \n",
    "\n",
    "Uma abstração alternativa seria tratar a rede neural pelo o que ela é de fato: uma complexa combinação de funções. Esta é a ideia por trás da API funcional, que vamos ver agora."
   ]
  },
  {
   "cell_type": "markdown",
   "metadata": {},
   "source": [
    "### Uma FNN com Keras Funcional"
   ]
  },
  {
   "cell_type": "markdown",
   "metadata": {},
   "source": [
    "Nosso primeiro modelo nesta aula foi:\n",
    "\n",
    "```python\n",
    "# define vars\n",
    "input_num_units = 28*28\n",
    "hidden_num_units = 250\n",
    "output_num_units = 10\n",
    "epochs = 5\n",
    "batch_size = 128\n",
    "\n",
    "model = Sequential()\n",
    "model.add(Dense(units=hidden_num_units, \n",
    "       input_dim=input_num_units, activation='relu'))\n",
    "model.add(Dense(units=output_num_units, \n",
    "       input_dim=hidden_num_units, activation='softmax'))\n",
    "       \n",
    "model.compile(loss='categorical_crossentropy', \n",
    "              optimizer='adam', metrics=['accuracy'])\n",
    "\n",
    "trained_model_500 = model.fit(mnist.train.images, mnist.train.labels, \n",
    "                              epochs=epochs, \n",
    "                              batch_size=batch_size, \n",
    "                              validation_data=(mnist.validation.images, \n",
    "                                               mnist.validation.labels))\n",
    "```\n",
    "\n",
    "Usando a notação funcional, ele seria re-escrito como:"
   ]
  },
  {
   "cell_type": "code",
   "execution_count": 5,
   "metadata": {
    "collapsed": true
   },
   "outputs": [],
   "source": [
    "from keras.layers import Input, Dense, Activation\n",
    "from keras.models import Model"
   ]
  },
  {
   "cell_type": "code",
   "execution_count": 6,
   "metadata": {
    "collapsed": true
   },
   "outputs": [],
   "source": [
    "# define vars\n",
    "input_num_units = 28*28\n",
    "hidden_num_units = 250\n",
    "output_num_units = 10\n",
    "epochs = 5\n",
    "batch_size = 128"
   ]
  },
  {
   "cell_type": "markdown",
   "metadata": {},
   "source": [
    "A única parte do modelo que é diferente é realmente esta:"
   ]
  },
  {
   "cell_type": "code",
   "execution_count": 7,
   "metadata": {
    "collapsed": true
   },
   "outputs": [],
   "source": [
    "visible = Input(shape=(input_num_units,))\n",
    "hidden = Dense(hidden_num_units, activation = 'relu')(visible)\n",
    "output = Dense(output_num_units, activation = 'softmax')(hidden)\n",
    "model = Model(inputs = visible, outputs = output)\n",
    "\n",
    "# antes:\n",
    "# model = Sequential()\n",
    "# model.add(Dense(units=hidden_num_units, \n",
    "#       input_dim=input_num_units, activation='relu'))\n",
    "# model.add(Dense(units=output_num_units, \n",
    "#       input_dim=hidden_num_units, activation='softmax'))"
   ]
  },
  {
   "cell_type": "markdown",
   "metadata": {},
   "source": [
    "Ou seja, cada camada é tratada como uma função parametrizável. A saída de uma função é entrada para a próxima. A entrada é definida de forma explícita e o modelo é a composição das entradas e suas saídas (neste caso, apenas uma entrada e uma saída). Alternativamente, poderíamos definir este modelo assim:"
   ]
  },
  {
   "cell_type": "code",
   "execution_count": 8,
   "metadata": {
    "collapsed": true
   },
   "outputs": [],
   "source": [
    "visible = Input(shape=(input_num_units,))\n",
    "hidden = Dense(hidden_num_units)(visible)\n",
    "hidden = Activation('relu')(hidden)\n",
    "output = Dense(output_num_units, activation = 'softmax')(hidden)\n",
    "model = Model(inputs = visible, outputs = output)"
   ]
  },
  {
   "cell_type": "markdown",
   "metadata": {},
   "source": [
    "Esta segunda formulação, em que a função de ativação é separada da camada oculta, é útil para executar operações antes da função de ativação como, por exemplo, BatchNormalization."
   ]
  },
  {
   "cell_type": "code",
   "execution_count": 9,
   "metadata": {
    "collapsed": true,
    "scrolled": true
   },
   "outputs": [],
   "source": [
    "model.compile(loss='categorical_crossentropy', \n",
    "              optimizer='adam', metrics=['accuracy'])"
   ]
  },
  {
   "cell_type": "code",
   "execution_count": 10,
   "metadata": {
    "scrolled": true
   },
   "outputs": [
    {
     "name": "stdout",
     "output_type": "stream",
     "text": [
      "Train on 55000 samples, validate on 5000 samples\n",
      "Epoch 1/5\n",
      "55000/55000 [==============================] - 2s 35us/step - loss: 0.3253 - acc: 0.9099 - val_loss: 0.1687 - val_acc: 0.9546\n",
      "Epoch 2/5\n",
      "55000/55000 [==============================] - 2s 29us/step - loss: 0.1410 - acc: 0.9592 - val_loss: 0.1192 - val_acc: 0.9660\n",
      "Epoch 3/5\n",
      "55000/55000 [==============================] - 2s 31us/step - loss: 0.0976 - acc: 0.9713 - val_loss: 0.0912 - val_acc: 0.9732\n",
      "Epoch 4/5\n",
      "55000/55000 [==============================] - 2s 29us/step - loss: 0.0729 - acc: 0.9790 - val_loss: 0.0869 - val_acc: 0.9740\n",
      "Epoch 5/5\n",
      "55000/55000 [==============================] - 2s 30us/step - loss: 0.0569 - acc: 0.9830 - val_loss: 0.0759 - val_acc: 0.9778\n"
     ]
    }
   ],
   "source": [
    "trained_model_500 = model.fit(mnist.train.images, mnist.train.labels, \n",
    "                              epochs=epochs, \n",
    "                              batch_size=batch_size, \n",
    "                              validation_data=(mnist.validation.images, \n",
    "                                               mnist.validation.labels))"
   ]
  },
  {
   "cell_type": "markdown",
   "metadata": {},
   "source": [
    "__Exercício__: Usando a API funcional do Keras, crie uma FNN com 10 neurônios de entrada, 3 camadas ocultas com 10, 20 e 10 neurônios, e uma camada de saída com 1 neurônio. Use _relu_ como função de ativação em cada camada oculta e _sigmoid_ para a camada de saída."
   ]
  },
  {
   "cell_type": "markdown",
   "metadata": {},
   "source": [
    "<div align=\"right\">\n",
    "<a href=\"#modelkf1\" class=\"btn btn-default\" data-toggle=\"collapse\">Solução #1</a>\n",
    "</div>\n",
    "<div id=\"modelkf1\" class=\"collapse\">\n",
    "```\n",
    "from keras.models import Model\n",
    "from keras.layers import Input, Dense\n",
    "\n",
    "inp = Input(shape=(10,))\n",
    "h1  = Dense(10, activation = 'relu')(inp)\n",
    "h2  = Dense(20, activation = 'relu')(h1)\n",
    "h3  = Dense(10, activation = 'relu')(h2)\n",
    "out = Dense( 1, activation = 'sigmoid')(h3)\n",
    "\n",
    "model = Model(inputs = inp, outputs = out)\n",
    "```\n",
    "</div>"
   ]
  },
  {
   "cell_type": "markdown",
   "metadata": {},
   "source": [
    "### Combinando duas FNNs, um modelo de duas entradas"
   ]
  },
  {
   "cell_type": "markdown",
   "metadata": {},
   "source": [
    "Imagine que queremos saber se um usuário de uma operadora de TV à cabo pretende ou não desistir da sua assinatura. Suponha que temos duas redes neurais que usam diferentes conjuntos de evidências para prever a desistência. A primeira tem como entrada a quantidade de tempo gasto pelo usuário em dez categorias de programas. A segunda tem como entrada 8 diferentes informações demográficas do usuário, como sexo, idade, faixa de renda, plano assinado, etc. Queremos usar as representações dos usuários aprendidas por estas duas redes para criar um classificador final que tem a seguinte arquitetura: \n",
    "\n"
   ]
  },
  {
   "cell_type": "markdown",
   "metadata": {},
   "source": [
    "<img src=\"images/FnnMerge.png\" alt=\"FNN combinada\" style=\"width: 300px;\"/>"
   ]
  },
  {
   "cell_type": "markdown",
   "metadata": {},
   "source": [
    "Abaixo temos uma representação da rede em Keras, que demonstra a flexibidade da API funcional:"
   ]
  },
  {
   "cell_type": "code",
   "execution_count": 11,
   "metadata": {},
   "outputs": [
    {
     "name": "stdout",
     "output_type": "stream",
     "text": [
      "__________________________________________________________________________________________________\n",
      "Layer (type)                    Output Shape         Param #     Connected to                     \n",
      "==================================================================================================\n",
      "input_3 (InputLayer)            (None, 10)           0                                            \n",
      "__________________________________________________________________________________________________\n",
      "dense_7 (Dense)                 (None, 10)           110         input_3[0][0]                    \n",
      "__________________________________________________________________________________________________\n",
      "input_4 (InputLayer)            (None, 8)            0                                            \n",
      "__________________________________________________________________________________________________\n",
      "dense_8 (Dense)                 (None, 15)           165         dense_7[0][0]                    \n",
      "__________________________________________________________________________________________________\n",
      "dense_10 (Dense)                (None, 8)            72          input_4[0][0]                    \n",
      "__________________________________________________________________________________________________\n",
      "dense_9 (Dense)                 (None, 10)           160         dense_8[0][0]                    \n",
      "__________________________________________________________________________________________________\n",
      "dense_11 (Dense)                (None, 8)            72          dense_10[0][0]                   \n",
      "__________________________________________________________________________________________________\n",
      "concatenate_1 (Concatenate)     (None, 18)           0           dense_9[0][0]                    \n",
      "                                                                 dense_11[0][0]                   \n",
      "__________________________________________________________________________________________________\n",
      "dense_12 (Dense)                (None, 10)           190         concatenate_1[0][0]              \n",
      "__________________________________________________________________________________________________\n",
      "dense_13 (Dense)                (None, 10)           110         dense_12[0][0]                   \n",
      "__________________________________________________________________________________________________\n",
      "dense_14 (Dense)                (None, 1)            11          dense_13[0][0]                   \n",
      "==================================================================================================\n",
      "Total params: 890\n",
      "Trainable params: 890\n",
      "Non-trainable params: 0\n",
      "__________________________________________________________________________________________________\n",
      "None\n"
     ]
    }
   ],
   "source": [
    "# Multiple Inputs\n",
    "from keras.models import Model\n",
    "from keras.layers import Input, Dense \n",
    "from keras.layers.merge import concatenate\n",
    "\n",
    "# first input model\n",
    "in1  = Input(shape=(10,))\n",
    "h11  = Dense(10, activation = 'relu')(in1)\n",
    "h12  = Dense(15, activation = 'relu')(h11)\n",
    "out1 = Dense(10, activation = 'relu')(h12)\n",
    "\n",
    "# second input model\n",
    "in2  = Input(shape=(8,))\n",
    "h21  = Dense(8, activation = 'relu')(in2)\n",
    "out2 = Dense(8, activation = 'relu')(h21)\n",
    "\n",
    "# merge input models\n",
    "merge = concatenate([out1, out2])\n",
    "\n",
    "# interpretation model\n",
    "hm1 = Dense(10, activation='relu')(merge)\n",
    "hm2 = Dense(10, activation='relu')(hm1)\n",
    "output = Dense(1, activation='sigmoid')(hm2)\n",
    "model = Model(inputs=[in1, in2], outputs=output)\n",
    "\n",
    "# summarize layers\n",
    "print(model.summary())"
   ]
  },
  {
   "cell_type": "markdown",
   "metadata": {},
   "source": [
    "O treino e previsão para este modelo devem incruir dados para ambas as entradas, o que resultaria em algo assim:\n",
    "\n",
    "```python\n",
    "model.fit([treino_programacao, treino_demograficos], labels, epochs=10)\n",
    "preds = model.predict([teste_programacao, teste_demograficos])\n",
    "```"
   ]
  },
  {
   "cell_type": "markdown",
   "metadata": {},
   "source": [
    "__Exercício__: Usando a API funcional do Keras, crie uma FNN que combina três outras FNNs. Cada uma das FNNs combinadas tem 10 neurônios de entrada e 2 camadas ocultas com 20 e 10 neurônios. As representações de saída de cada FNN são adicionadas (`keras.layers.merge.add`) umas às outras para formar a representação de entrada da rede de interpretação. Esta rede, por sua vez, é formada por três camadas ocultas de 10 neurônios e uma camada de saída com 5 neurônios. Use _relu_ como função de ativação em cada camada oculta e _sigmoid_ para a camada de saída. Quantos são os parâmetros treináveis desta rede?"
   ]
  },
  {
   "cell_type": "markdown",
   "metadata": {},
   "source": [
    "<div align=\"right\">\n",
    "<a href=\"#modelkf2\" class=\"btn btn-default\" data-toggle=\"collapse\">Solução #1</a>\n",
    "</div>\n",
    "<div id=\"modelkf2\" class=\"collapse\">\n",
    "```\n",
    "# Multiple Inputs\n",
    "from keras.models import Model\n",
    "from keras.layers import Input, Dense \n",
    "from keras.layers.merge import add\n",
    "\n",
    "in1  = Input(shape=(20,))\n",
    "h11  = Dense(20, activation = 'relu')(in1)\n",
    "out1 = Dense(10, activation = 'relu')(h11)\n",
    "\n",
    "in2  = Input(shape=(20,))\n",
    "h21  = Dense(20, activation = 'relu')(in2)\n",
    "out2 = Dense(10, activation = 'relu')(h21)\n",
    "\n",
    "in3  = Input(shape=(20,))\n",
    "h31  = Dense(20, activation = 'relu')(in3)\n",
    "out3 = Dense(10, activation = 'relu')(h31)\n",
    "\n",
    "# merge input models\n",
    "merge = add([out1, out2, out3])\n",
    "\n",
    "# interpretation model\n",
    "hm1 = Dense(10, activation='relu')(merge)\n",
    "hm2 = Dense(10, activation='relu')(hm1)\n",
    "hm3 = Dense(10, activation='relu')(hm2)\n",
    "output = Dense(5, activation='sigmoid')(hm3)\n",
    "model = Model(inputs=[in1, in2, in3], outputs=output)\n",
    "\n",
    "# summarize layers\n",
    "print(model.summary())\n",
    "\n",
    "# na minha conta, 2275 parâmetros.```\n",
    "</div>"
   ]
  },
  {
   "cell_type": "markdown",
   "metadata": {},
   "source": [
    "Nas próximas aulas, vamos ver mais exemplos de arquiteturas complexas."
   ]
  },
  {
   "cell_type": "markdown",
   "metadata": {},
   "source": [
    "Esta aula inclui material de <a href = \"https://linkedin.com/in/luisotsm\">Luis Otavio Silveira Martins</a>, <a href = \"https://linkedin.com/in/erich-natsubori-sato\"> Erich Natsubori Sato </a></h4>. Material adicional de Imanol Schlag (https://ischlag.github.io/2016/06/04/how-to-use-tensorboard/) e Faizan Shaikh (https://www.analyticsvidhya.com/blog/2016/10/tutorial-optimizing-neural-networks-using-keras-with-image-recognition-case-study/). A API funcional é baseada no material de Jason Brownlee, disponível em https://machinelearningmastery.com/keras-functional-api-deep-learning/."
   ]
  },
  {
   "cell_type": "code",
   "execution_count": null,
   "metadata": {
    "collapsed": true
   },
   "outputs": [],
   "source": []
  }
 ],
 "metadata": {
  "kernelspec": {
   "display_name": "Python 3",
   "language": "python",
   "name": "python3"
  },
  "language_info": {
   "codemirror_mode": {
    "name": "ipython",
    "version": 3
   },
   "file_extension": ".py",
   "mimetype": "text/x-python",
   "name": "python",
   "nbconvert_exporter": "python",
   "pygments_lexer": "ipython3",
   "version": "3.6.3"
  }
 },
 "nbformat": 4,
 "nbformat_minor": 2
}
