{
 "cells": [
  {
   "cell_type": "markdown",
   "metadata": {},
   "source": [
    "# Rede Neural Feedforward"
   ]
  },
  {
   "cell_type": "code",
   "execution_count": 1,
   "metadata": {},
   "outputs": [
    {
     "name": "stderr",
     "output_type": "stream",
     "text": [
      "/Users/marcocristo/Library/Enthought/Canopy_64bit/User/lib/python2.7/site-packages/matplotlib/font_manager.py:273: UserWarning: Matplotlib is building the font cache using fc-list. This may take a moment.\n",
      "  warnings.warn('Matplotlib is building the font cache using fc-list. This may take a moment.')\n"
     ]
    }
   ],
   "source": [
    "import tensorflow as tf\n",
    "import numpy as np\n",
    "import matplotlib.pyplot as plt\n",
    "\n",
    "%matplotlib inline"
   ]
  },
  {
   "cell_type": "code",
   "execution_count": 2,
   "metadata": {
    "collapsed": true
   },
   "outputs": [],
   "source": [
    "from tensorflow.examples.tutorials.mnist import input_data"
   ]
  },
  {
   "cell_type": "markdown",
   "metadata": {},
   "source": [
    "Nesta aula, vamos usar a coleção MNIST. "
   ]
  },
  {
   "cell_type": "code",
   "execution_count": 3,
   "metadata": {},
   "outputs": [
    {
     "name": "stdout",
     "output_type": "stream",
     "text": [
      "Extracting data/MNIST_data/train-images-idx3-ubyte.gz\n",
      "Extracting data/MNIST_data/train-labels-idx1-ubyte.gz\n",
      "Extracting data/MNIST_data/t10k-images-idx3-ubyte.gz\n",
      "Extracting data/MNIST_data/t10k-labels-idx1-ubyte.gz\n"
     ]
    }
   ],
   "source": [
    "mnist = input_data.read_data_sets('data/MNIST_data')"
   ]
  },
  {
   "cell_type": "code",
   "execution_count": 4,
   "metadata": {},
   "outputs": [
    {
     "name": "stdout",
     "output_type": "stream",
     "text": [
      "55000\n",
      "10000\n"
     ]
    }
   ],
   "source": [
    "print mnist.train.num_examples\n",
    "print mnist.test.num_examples"
   ]
  },
  {
   "cell_type": "markdown",
   "metadata": {},
   "source": [
    "Esta é uma coleção com 55 mil casos de treino e 10 mil casos de teste. Cada instância é a imagem de 28x28 pixels de um número de 0 a 9 (em escala de cinza). Nosso objetivo é reconhecer o número. O atual estado-da-arte para este problema tem acurácia de 99.79 (Novembro de 2016, http://paper.researchbib.com/view/paper/104069). "
   ]
  },
  {
   "cell_type": "code",
   "execution_count": 5,
   "metadata": {},
   "outputs": [
    {
     "name": "stdout",
     "output_type": "stream",
     "text": [
      "8\n"
     ]
    },
    {
     "data": {
      "image/png": "[encoded data removed]",
      "text/plain": [
       "<matplotlib.figure.Figure at 0x11409a750>"
      ]
     },
     "metadata": {},
     "output_type": "display_data"
    }
   ],
   "source": [
    "import random\n",
    "idx = random.randint(0, mnist.train.num_examples)\n",
    "plt.matshow(mnist.train.images[idx].reshape((28,28)), cmap = 'gray')\n",
    "print mnist.train.labels[idx]"
   ]
  },
  {
   "cell_type": "code",
   "execution_count": 6,
   "metadata": {
    "collapsed": true
   },
   "outputs": [],
   "source": [
    "class Activation(object):\n",
    "    \"\"\"Funcao de ativacao\"\"\"\n",
    "    def __init__(self, name):\n",
    "        self.name = name\n",
    "        \n",
    "    def init(self, n_inputs, n_outputs):\n",
    "        return tf.random_uniform([n_inputs, n_outputs], -1.0, 1.0)\n",
    "        \n",
    "    def fire(self, ypred):\n",
    "        if self.name == 'sigmoid':\n",
    "            return tf.nn.sigmoid(ypred) \n",
    "        else:\n",
    "            return ypred\n",
    "            \n",
    "class Layer(object):\n",
    "    \"\"\"Camada de rede neural sequencial\"\"\"\n",
    "    def __init__(self, units, activation = None, name = None):\n",
    "        self.units = units\n",
    "        self.name = name \n",
    "        self.activation = activation if activation != None else Activation('')\n",
    "        \n",
    "    def output(self, X):\n",
    "        n_inputs = int(X.get_shape()[1])\n",
    "        with tf.name_scope(self.name):\n",
    "            self.W = tf.Variable(self.activation.init(n_inputs, self.units), name = 'W')\n",
    "            self.b = tf.Variable(tf.zeros([self.units]), name = 'b')\n",
    "            ypred = self.activation.fire(tf.matmul(X, self.W) + self.b)\n",
    "        return ypred\n",
    "\n",
    "class LossFunction(object):\n",
    "    def __init__(self, name = 'sigmoid'):\n",
    "        self.name = name\n",
    "\n",
    "    def get(self, yreal, ypred):\n",
    "        if self.name == 'sigmoid':\n",
    "            loss = tf.nn.sparse_softmax_cross_entropy_with_logits(\n",
    "                labels = yreal, logits = ypred) \n",
    "        return tf.reduce_mean(loss, name = 'lossf')\n",
    "    \n",
    "class Optimizer(object):\n",
    "    def __init__(self, name = 'sgd'):\n",
    "        self.name = name\n",
    "        self.lrate = 0.1\n",
    "\n",
    "    def get(self, lossf):\n",
    "        if self.name == 'sgd':\n",
    "            opt = tf.train.GradientDescentOptimizer(learning_rate = self.lrate) \n",
    "        return opt.minimize(lossf)\n",
    "    \n",
    "class FeedforwardNeuralNet(object):\n",
    "    \"\"\"Rede neural sequencial\"\"\"\n",
    "    def __init__(self, input_dim):\n",
    "        self.input_dim = input_dim\n",
    "        self.learning_rate = 0.1\n",
    "        self.layers = []\n",
    "        \n",
    "    def add(self, units, activation = None, name = None):\n",
    "        \"\"\"Adiciona camadas para rede neural\"\"\"\n",
    "        self.layers += [Layer(units, activation, name)]\n",
    "    \n",
    "    def compile(self, loss = 'sigmoid', optimizer = 'sgd'):\n",
    "        \"\"\"Cria grafo da rede neural\"\"\"\n",
    "        self.X = tf.placeholder(tf.float32, \n",
    "                           shape = (None, self.input_dim), \n",
    "                           name = 'X')\n",
    "        self.y = tf.placeholder(tf.int64, shape = (None), name = 'y')\n",
    "        \n",
    "        # cria layers\n",
    "        with tf.name_scope('layers'):\n",
    "            layer_in = self.X\n",
    "            for layer in self.layers:\n",
    "                layer_out = layer.output(layer_in)\n",
    "                layer_in = layer_out\n",
    "                    \n",
    "        # loss function\n",
    "        with tf.name_scope('loss'):\n",
    "            self.lossf = LossFunction(loss).get(self.y, layer_out)\n",
    "    \n",
    "        # optimizer\n",
    "        with tf.name_scope('train'):\n",
    "            self.train_op = Optimizer(optimizer).get(self.lossf)\n",
    "            \n",
    "        # evalution metrics\n",
    "        with tf.name_scope('eval'):\n",
    "            correct = tf.nn.in_top_k(layer_out, self.y, 1)\n",
    "            self.acc = tf.reduce_mean(tf.cast(correct, tf.float32))\n",
    "            \n",
    "        self.init_op = tf.global_variables_initializer()\n",
    "        self.saver = tf.train.Saver()\n",
    "    \n",
    "    def fit(self, train_data, n_epochs, batch_size):\n",
    "        \"\"\"Executa treino da rede neural\"\"\"\n",
    "        num_batches = train_data.num_examples // batch_size\n",
    "        with tf.Session() as s:\n",
    "            s.run(self.init_op)\n",
    "            for e in range(n_epochs):\n",
    "                tloss = 0.\n",
    "                for i in range(num_batches):\n",
    "                    X_b, y_b = train_data.next_batch(batch_size)\n",
    "                    _, loss_e = s.run([self.train_op, self.lossf], \n",
    "                                      feed_dict = {self.X: X_b, self.y: y_b})\n",
    "                    tloss += loss_e\n",
    "                acc_train = s.run(self.acc, \n",
    "                                  feed_dict = {self.X: X_b, self.y: y_b})\n",
    "                print '%2d loss: %.8f acc: %.2f' % (e, tloss/num_batches, acc_train)\n",
    "            self.saver.save(s, '/tmp/model.ckpt')\n",
    "    \n",
    "    def evaluate(self, X_test, y_test):\n",
    "        \"\"\"Avalia rede neural em colecao de teste\"\"\"\n",
    "        with tf.Session() as s:\n",
    "            self.saver.restore(s, '/tmp/model.ckpt')\n",
    "            acc_test = s.run(self.acc, \n",
    "                             feed_dict = {self.X: X_test, self.y: y_test})\n",
    "        return acc_test"
   ]
  },
  {
   "cell_type": "markdown",
   "metadata": {},
   "source": [
    "### Usando nossa rede neural"
   ]
  },
  {
   "cell_type": "code",
   "execution_count": 7,
   "metadata": {
    "collapsed": true
   },
   "outputs": [],
   "source": [
    "tf.reset_default_graph()\n",
    "\n",
    "model = FeedforwardNeuralNet(input_dim = 28*28)\n",
    "\n",
    "model.add(units=300, activation = Activation('sigmoid'), name = 'h1')\n",
    "model.add(units=100, activation = Activation('sigmoid'), name = 'h2')\n",
    "model.add(units=10, name = 'out')\n",
    "\n",
    "model.compile()"
   ]
  },
  {
   "cell_type": "code",
   "execution_count": 8,
   "metadata": {},
   "outputs": [
    {
     "name": "stdout",
     "output_type": "stream",
     "text": [
      " 0 loss: 0.75985401 acc: 0.74\n",
      " 1 loss: 0.39017252 acc: 0.98\n",
      " 2 loss: 0.31436071 acc: 0.90\n",
      " 3 loss: 0.27114505 acc: 0.96\n",
      " 4 loss: 0.24173559 acc: 0.92\n",
      " 5 loss: 0.21857499 acc: 0.96\n",
      " 6 loss: 0.20063361 acc: 0.94\n",
      " 7 loss: 0.18548460 acc: 1.00\n",
      " 8 loss: 0.17280212 acc: 0.98\n",
      " 9 loss: 0.16134568 acc: 0.98\n"
     ]
    }
   ],
   "source": [
    "model.fit(mnist.train, n_epochs = 10, batch_size = 50)"
   ]
  },
  {
   "cell_type": "code",
   "execution_count": 9,
   "metadata": {},
   "outputs": [
    {
     "name": "stdout",
     "output_type": "stream",
     "text": [
      "INFO:tensorflow:Restoring parameters from /tmp/model.ckpt\n"
     ]
    },
    {
     "data": {
      "text/plain": [
       "0.94160002"
      ]
     },
     "execution_count": 9,
     "metadata": {},
     "output_type": "execute_result"
    }
   ],
   "source": [
    "model.evaluate(mnist.test.images, mnist.test.labels)"
   ]
  },
  {
   "cell_type": "markdown",
   "metadata": {},
   "source": [
    "## Hiper parâmetros"
   ]
  },
  {
   "cell_type": "markdown",
   "metadata": {},
   "source": [
    "* Número de camadas: dependendo da complexidade do problema, mais é melhor. Em geral, se ganha mais com mais camadas que com mais neurônios. Além disso, elas permitem a transferência de aprendizado, já que você não precisa treinar a rede toda. Pode sempre aproveitar camadas anteriores pré-treinadas. Uma estratégia comum é usar muitas camadas e checar _overfitting_. Se ele ocorre, começamos a fazer regularização."
   ]
  },
  {
   "cell_type": "markdown",
   "metadata": {},
   "source": [
    "* _Número de neurônios por camada_: quanto mais melhor. Contudo, dado a natureza hierárquica do aprendizado, é comum uma estrutura geral de funil, pois é mais provável que usemos mais atributos de baixo nível que de alto nível. Uma estratégia comum é usar muitos neurônios e verificar _overfitting_. Se ele ocorre, então regularizamos para diminui-lo. "
   ]
  },
  {
   "cell_type": "markdown",
   "metadata": {},
   "source": [
    "* _Funções de ativação_: vamos usar quase sempre ReLU e suas variantes. Em classificação, a última camada é normalmente _softmax_. Em regressão, nenhuma ativação é usada na última camada. "
   ]
  },
  {
   "cell_type": "markdown",
   "metadata": {},
   "source": [
    "## Treinando FNNs profundas"
   ]
  },
  {
   "cell_type": "markdown",
   "metadata": {},
   "source": [
    "### Vanishing and Exploding Gradients"
   ]
  },
  {
   "cell_type": "markdown",
   "metadata": {},
   "source": [
    "Métodos dependem de gradientes. Contudo, gradientes podem desaparecer ou explodir, inviabilizando o aprendizado. Uma das razões para saturação são o uso combinado de funções de ativação que saturam (como sigmoids e variantes) e métodos de normalização de média 0, variância 1. \n",
    "\n",
    "O efeito dessa combinação é que a variância da saída de cada camada é bem mais alta que da entrada. Logo, após várias camadas, esta variância leva a ocorrência de valores críticos.\n",
    "\n",
    "Uma solução para este problema é o uso de diferentes funções de ativação (ReLU e família) e diferentes técnicas de inicialização (Xavier e He)."
   ]
  },
  {
   "cell_type": "markdown",
   "metadata": {},
   "source": [
    "#### Inicialização de Xavier (ou Glorot)"
   ]
  },
  {
   "cell_type": "markdown",
   "metadata": {},
   "source": [
    "Variância da saída deveria ser igual da entrada; o mesmo vale para variância dos gradientes antes e depois de passar por uma camada na volta. Embora não seja possível garantir isso, um bom compromisso é alcançado se os pesos forem inicializados assim:"
   ]
  },
  {
   "cell_type": "markdown",
   "metadata": {},
   "source": [
    "* normalização média 0, variância $\\sigma$: $\\sigma = \\alpha \\sqrt{\\frac{2}{n_{entradas}+n_{saidas}}}$\n",
    "* normalização uniforme entre $-r$ e $+r$: $r = \\alpha \\sqrt{\\frac{6}{n_{entradas}+n_{saidas}}}$"
   ]
  },
  {
   "cell_type": "markdown",
   "metadata": {},
   "source": [
    "Onde $\\alpha$ é 1 para ativação sigmoid, 4 para tangente hiperbólica e $\\sqrt{2}$ para ReLU. Quando o número de entradas e saídas é basicamente o mesmo, vc pode usar:"
   ]
  },
  {
   "cell_type": "markdown",
   "metadata": {},
   "source": [
    "* normalização média 0, variância $\\sigma$: $\\sigma = \\alpha \\frac{1}{\\sqrt{n_{entradas}}}$\n",
    "* normalização uniforme entre $-r$ e $+r$: $r = \\alpha \\frac{\\sqrt{3}}{\\sqrt{n_{entradas}}}$"
   ]
  },
  {
   "cell_type": "code",
   "execution_count": 8,
   "metadata": {
    "collapsed": true
   },
   "outputs": [],
   "source": [
    "class Activation(object):\n",
    "    \"\"\"Funcao de ativacao\"\"\"\n",
    "    def __init__(self, name):\n",
    "        self.name = name\n",
    "                \n",
    "    def init(self, n_inputs, n_outputs):\n",
    "        \"\"\"Xavier initialization\"\"\"\n",
    "        if self.name == 'sigmoid':\n",
    "            stddev = np.sqrt(2. / (n_inputs + n_outputs))\n",
    "        else:\n",
    "            stddev = 2. / np.sqrt(n_inputs + n_outputs)\n",
    "        return tf.truncated_normal((n_inputs, n_outputs), stddev = stddev)\n",
    "        \n",
    "    def fire(self, ypred):\n",
    "        if self.name == 'sigmoid':\n",
    "            return tf.nn.sigmoid(ypred) \n",
    "        elif self.name == 'relu':\n",
    "            return tf.nn.relu(ypred)\n",
    "        else:\n",
    "            return ypred"
   ]
  },
  {
   "cell_type": "code",
   "execution_count": 9,
   "metadata": {
    "collapsed": true
   },
   "outputs": [],
   "source": [
    "tf.reset_default_graph()\n",
    "\n",
    "model = FeedforwardNeuralNet(input_dim = 28*28)\n",
    "\n",
    "model.add(units=300, activation = Activation('sigmoid'), name = 'h1')\n",
    "model.add(units=100, activation = Activation('sigmoid'), name = 'h2')\n",
    "model.add(units=10, name = 'out')\n",
    "\n",
    "model.compile()"
   ]
  },
  {
   "cell_type": "code",
   "execution_count": 12,
   "metadata": {},
   "outputs": [
    {
     "name": "stdout",
     "output_type": "stream",
     "text": [
      " 0 loss: 1.04424335 acc: 0.92\n",
      " 1 loss: 0.39326734 acc: 0.92\n",
      " 2 loss: 0.32933853 acc: 0.90\n",
      " 3 loss: 0.29854138 acc: 0.86\n",
      " 4 loss: 0.27687091 acc: 0.98\n",
      " 5 loss: 0.25798153 acc: 0.92\n",
      " 6 loss: 0.24208367 acc: 0.98\n",
      " 7 loss: 0.22774169 acc: 1.00\n",
      " 8 loss: 0.21356254 acc: 0.96\n",
      " 9 loss: 0.20139625 acc: 0.94\n"
     ]
    }
   ],
   "source": [
    "model.fit(mnist.train, n_epochs = 10, batch_size = 50)"
   ]
  },
  {
   "cell_type": "code",
   "execution_count": 13,
   "metadata": {},
   "outputs": [
    {
     "name": "stdout",
     "output_type": "stream",
     "text": [
      "INFO:tensorflow:Restoring parameters from /tmp/model.ckpt\n"
     ]
    },
    {
     "data": {
      "text/plain": [
       "0.94319999"
      ]
     },
     "execution_count": 13,
     "metadata": {},
     "output_type": "execute_result"
    }
   ],
   "source": [
    "model.evaluate(mnist.test.images, mnist.test.labels)"
   ]
  },
  {
   "cell_type": "markdown",
   "metadata": {},
   "source": [
    "### Função de ativação não saturáveis"
   ]
  },
  {
   "cell_type": "code",
   "execution_count": 10,
   "metadata": {
    "collapsed": true
   },
   "outputs": [],
   "source": [
    "import matplotlib.pyplot as plt\n",
    "%matplotlib inline"
   ]
  },
  {
   "cell_type": "code",
   "execution_count": 11,
   "metadata": {
    "collapsed": true
   },
   "outputs": [],
   "source": [
    "def sigmoid(z):\n",
    "    return 1 / (1 + np.exp(-z))"
   ]
  },
  {
   "cell_type": "code",
   "execution_count": 12,
   "metadata": {
    "scrolled": true
   },
   "outputs": [
    {
     "data": {
      "text/plain": [
       "[-5, 5, -0.2, 1.2]"
      ]
     },
     "execution_count": 12,
     "metadata": {},
     "output_type": "execute_result"
    },
    {
     "data": {
      "image/png": "[encoded data removed]",
      "text/plain": [
       "<matplotlib.figure.Figure at 0x11583b6d0>"
      ]
     },
     "metadata": {},
     "output_type": "display_data"
    }
   ],
   "source": [
    "z = np.linspace(-5, 5, 200)\n",
    "sz = sigmoid(z)\n",
    "dsz = np.gradient(sz, z)\n",
    "\n",
    "plt.plot([-5, 5], [0, 0], 'k--')\n",
    "plt.plot([-5, 5], [1, 1], 'r--')\n",
    "plt.plot([0, 0], [-0.2, 1.2], 'k--')\n",
    "plt.plot(z, sz, \"b-\", linewidth=2)\n",
    "plt.plot(z, dsz, \"g-\", linewidth=2)\n",
    "props = dict(facecolor='black', shrink=0.1)\n",
    "plt.annotate('Saturacao', xytext=(3.5, 0.7), xy=(5, 1), arrowprops=props, fontsize=14, ha=\"center\")\n",
    "plt.annotate('Saturacao', xytext=(-3.5, 0.3), xy=(-5, 0), arrowprops=props, fontsize=14, ha=\"center\")\n",
    "plt.annotate(r\"$\\sigma'$\", xytext=(2, 0.2), xy=(0, 0.5), fontsize=20, ha=\"center\")\n",
    "plt.title(r\"Funcao de ativacao Sigmoid $\\sigma$\", fontsize=14)\n",
    "plt.axis([-5, 5, -0.2, 1.2])"
   ]
  },
  {
   "cell_type": "markdown",
   "metadata": {},
   "source": [
    "O grande problema de sigmoids (incluindo a tangente hiperbólica) é a existência de regiões de saturação. "
   ]
  },
  {
   "cell_type": "markdown",
   "metadata": {},
   "source": [
    "Para lidar com este problema, foram introduzidas as Rectifier Linear Units -- ReLUs."
   ]
  },
  {
   "cell_type": "code",
   "execution_count": 13,
   "metadata": {
    "collapsed": true
   },
   "outputs": [],
   "source": [
    "def relu(z):\n",
    "    return np.maximum(0, z)"
   ]
  },
  {
   "cell_type": "code",
   "execution_count": 14,
   "metadata": {},
   "outputs": [
    {
     "data": {
      "image/png": "[encoded data removed]",
      "text/plain": [
       "<matplotlib.figure.Figure at 0x11582d950>"
      ]
     },
     "metadata": {},
     "output_type": "display_data"
    }
   ],
   "source": [
    "rz = relu(z)\n",
    "drz = np.gradient(rz, z)\n",
    "\n",
    "plt.plot(z, rz, \"b-\", linewidth=2)\n",
    "plt.plot(z, drz, \"g-\", linewidth=2)\n",
    "plt.plot([-5, 5], [0, 0], 'k--')\n",
    "plt.plot([0, 0], [-0.5, 4.2], 'k--')\n",
    "props = dict(facecolor='black', shrink=0.1)\n",
    "plt.title(\"Funcao de ativacao ReLU\", fontsize=14)\n",
    "plt.axis([-5, 5, -0.5, 4.2])\n",
    "plt.show()"
   ]
  },
  {
   "cell_type": "code",
   "execution_count": 15,
   "metadata": {
    "collapsed": true
   },
   "outputs": [],
   "source": [
    "tf.reset_default_graph()\n",
    "\n",
    "model = FeedforwardNeuralNet(input_dim = 28*28)\n",
    "\n",
    "model.add(units=300, activation = Activation('relu'), name = 'h1')\n",
    "model.add(units=100, activation = Activation('relu'), name = 'h2')\n",
    "model.add(units=10, name = 'out')\n",
    "\n",
    "model.compile()"
   ]
  },
  {
   "cell_type": "code",
   "execution_count": 20,
   "metadata": {
    "scrolled": true
   },
   "outputs": [
    {
     "name": "stdout",
     "output_type": "stream",
     "text": [
      " 0 loss: 0.27734450 acc: 0.96\n",
      " 1 loss: 0.12024473 acc: 1.00\n",
      " 2 loss: 0.08184821 acc: 1.00\n",
      " 3 loss: 0.06092479 acc: 1.00\n",
      " 4 loss: 0.04713256 acc: 1.00\n",
      " 5 loss: 0.03673371 acc: 1.00\n",
      " 6 loss: 0.02834832 acc: 1.00\n",
      " 7 loss: 0.02083865 acc: 1.00\n",
      " 8 loss: 0.01569651 acc: 1.00\n",
      " 9 loss: 0.01182602 acc: 1.00\n"
     ]
    }
   ],
   "source": [
    "model.fit(mnist.train, n_epochs = 10, batch_size = 50)"
   ]
  },
  {
   "cell_type": "code",
   "execution_count": 21,
   "metadata": {},
   "outputs": [
    {
     "name": "stdout",
     "output_type": "stream",
     "text": [
      "INFO:tensorflow:Restoring parameters from /tmp/model.ckpt\n"
     ]
    },
    {
     "data": {
      "text/plain": [
       "0.98079997"
      ]
     },
     "execution_count": 21,
     "metadata": {},
     "output_type": "execute_result"
    }
   ],
   "source": [
    "model.evaluate(mnist.test.images, mnist.test.labels)"
   ]
  },
  {
   "cell_type": "markdown",
   "metadata": {},
   "source": [
    "Um problema com ReLUs é que elas podem ainda saturar em 0. Assim, novas variantes foram criadas como Leaky ReLU, ELU (Exponential Linear Unit) e SELU (Self-normlizing Exponential Linear Unit).\n",
    "\n",
    "A ideia da leakyReLU e eLU é que não haja saturação em 0. A leakyReLU usa uma estratégia linear e a eLU, uma estratégia exponencial. Como a eLU sempre é melhor que a leakyReLU, vamos mostrar o seu efeito a seguir."
   ]
  },
  {
   "cell_type": "code",
   "execution_count": 16,
   "metadata": {
    "collapsed": true
   },
   "outputs": [],
   "source": [
    "def elu(z, alpha=1):\n",
    "    return np.where(z < 0, alpha * (np.exp(z) - 1), z)"
   ]
  },
  {
   "cell_type": "code",
   "execution_count": 17,
   "metadata": {},
   "outputs": [
    {
     "data": {
      "image/png": "[encoded data removed]",
      "text/plain": [
       "<matplotlib.figure.Figure at 0x1158b1b10>"
      ]
     },
     "metadata": {},
     "output_type": "display_data"
    }
   ],
   "source": [
    "ez = elu(z)\n",
    "dez = np.gradient(ez, z)\n",
    "\n",
    "plt.plot(z, ez, \"b-\", linewidth=2)\n",
    "plt.plot(z, dez, \"g-\", linewidth=2)\n",
    "plt.plot([-5, 5], [0, 0], 'k--')\n",
    "plt.plot([-5, 5], [-1, -1], 'r--')\n",
    "plt.plot([0, 0], [-2.2, 3.2], 'k--')\n",
    "plt.title(r\"Funcao de ativacao ELU ($\\alpha=1$)\", fontsize=14)\n",
    "plt.axis([-5, 5, -2.2, 3.2])\n",
    "plt.show()"
   ]
  },
  {
   "cell_type": "code",
   "execution_count": 18,
   "metadata": {
    "collapsed": true
   },
   "outputs": [],
   "source": [
    "def fire(self, ypred):\n",
    "    if self.name == 'sigmoid':\n",
    "        return tf.nn.sigmoid(ypred) \n",
    "    elif self.name == 'relu':\n",
    "        return tf.nn.relu(ypred)\n",
    "    elif self.name == 'elu':\n",
    "        return tf.nn.elu(ypred)\n",
    "    else:\n",
    "        return ypred\n",
    "        \n",
    "Activation.fire = fire"
   ]
  },
  {
   "cell_type": "code",
   "execution_count": 19,
   "metadata": {
    "collapsed": true
   },
   "outputs": [],
   "source": [
    "tf.reset_default_graph()\n",
    "\n",
    "model = FeedforwardNeuralNet(input_dim = 28*28)\n",
    "\n",
    "model.add(units=300, activation = Activation('elu'), name = 'h1')\n",
    "model.add(units=100, activation = Activation('elu'), name = 'h2')\n",
    "model.add(units=10, name = 'out')\n",
    "\n",
    "model.compile()"
   ]
  },
  {
   "cell_type": "code",
   "execution_count": 26,
   "metadata": {
    "scrolled": true
   },
   "outputs": [
    {
     "name": "stdout",
     "output_type": "stream",
     "text": [
      " 0 loss: 0.29014348 acc: 0.98\n",
      " 1 loss: 0.14778161 acc: 1.00\n",
      " 2 loss: 0.10693193 acc: 0.98\n",
      " 3 loss: 0.08373848 acc: 0.98\n",
      " 4 loss: 0.06892067 acc: 1.00\n",
      " 5 loss: 0.05790422 acc: 1.00\n",
      " 6 loss: 0.04876475 acc: 1.00\n",
      " 7 loss: 0.04095161 acc: 1.00\n",
      " 8 loss: 0.03494837 acc: 1.00\n",
      " 9 loss: 0.02995328 acc: 1.00\n"
     ]
    }
   ],
   "source": [
    "model.fit(mnist.train, n_epochs = 10, batch_size = 50)"
   ]
  },
  {
   "cell_type": "code",
   "execution_count": 27,
   "metadata": {},
   "outputs": [
    {
     "name": "stdout",
     "output_type": "stream",
     "text": [
      "INFO:tensorflow:Restoring parameters from /tmp/model.ckpt\n"
     ]
    },
    {
     "data": {
      "text/plain": [
       "0.97509998"
      ]
     },
     "execution_count": 27,
     "metadata": {},
     "output_type": "execute_result"
    }
   ],
   "source": [
    "model.evaluate(mnist.test.images, mnist.test.labels)"
   ]
  },
  {
   "cell_type": "markdown",
   "metadata": {},
   "source": [
    "Outro problema é que, na prática, mesmo que a entrada seja normalizada em média 0, variância 1, as camadas seguintes vão perdendo essa normalização (esse problema é conhecido como _internal covariate shift_, ver https://github.com/aleju/papers/blob/master/neural-nets/Batch_Normalization.md).\n",
    "\n",
    "Uma forma de lidar com esse problema é aprender, durante o treino, a média e a variância de cada camada. Assim, é possível re-normalizar a entrada das camadas seguintes. Esses dois novos parâmetros pode ser estimados nos batches, através de uma estratégia que que ficou conhecida como _batch normalization_ -- BN (ver https://github.com/aleju/papers/blob/master/neural-nets/Batch_Normalization.md). O uso de BN virtualmente acaba com os problemas de perda e estouro de gradientes.\n",
    "\n",
    "Mais recentemente (junho de 2017), uma alternativa à BN, a função SELU, foi proposta em um artigo (https://arxiv.org/pdf/1706.02515.pdf) de Günter Klambauer, Thomas Unterthiner e Andreas Mayr. A ideia é que a própria função de ativação já garanta saídas normalizadas, sem necessidade de parâmetros adicionais. Embora muito recente, esta tem se mostrado a melhor solução para o problema em redes profundas."
   ]
  },
  {
   "cell_type": "code",
   "execution_count": 20,
   "metadata": {
    "collapsed": true
   },
   "outputs": [],
   "source": [
    "# valores de SELU para media 0, desvio 1\n",
    "# ver paper para detalhes\n",
    "def selu(z,\n",
    "         scale = 1.0507009873554804934193349852946,\n",
    "         alpha = 1.6732632423543772848170429916717):\n",
    "    return scale * elu(z, alpha)"
   ]
  },
  {
   "cell_type": "code",
   "execution_count": 21,
   "metadata": {},
   "outputs": [
    {
     "data": {
      "image/png": "[encoded data removed]",
      "text/plain": [
       "<matplotlib.figure.Figure at 0x1144c0450>"
      ]
     },
     "metadata": {},
     "output_type": "display_data"
    }
   ],
   "source": [
    "sz = selu(z)\n",
    "dsz = np.gradient(sz, z)\n",
    "\n",
    "plt.plot(z, sz, \"b-\", linewidth=2)\n",
    "plt.plot(z, dsz, \"g-\", linewidth=2)\n",
    "plt.plot([-5, 5], [0, 0], 'k--')\n",
    "plt.plot([-5, 5], [-1.758, -1.758], 'r--')\n",
    "plt.plot([0, 0], [-2.2, 3.2], 'k--')\n",
    "plt.title(r\"Funcao de ativacao SELU ($\\alpha \\approx 1.67$)\", fontsize=14)\n",
    "plt.axis([-5, 5, -2.2, 3.2])\n",
    "plt.show()"
   ]
  },
  {
   "cell_type": "markdown",
   "metadata": {},
   "source": [
    "A SeLU tem a propriedade de preservar a variância em torno de 1 (média 0), para redes com muitas camadas (centenas delas), evitando assim o problema de desaparecimento e explosão de gradientes."
   ]
  },
  {
   "cell_type": "code",
   "execution_count": 22,
   "metadata": {},
   "outputs": [
    {
     "name": "stdout",
     "output_type": "stream",
     "text": [
      "Layer 0: -0.26 < media < 0.27, 0.74 < stddev < 1.27\n",
      "Layer 20: -0.17 < media < 0.18, 0.74 < stddev < 1.24\n",
      "Layer 40: -0.38 < media < 0.39, 0.74 < stddev < 1.25\n",
      "Layer 60: -0.26 < media < 0.43, 0.74 < stddev < 1.35\n",
      "Layer 80: -0.18 < media < 0.16, 0.72 < stddev < 1.19\n",
      "Layer 100: -0.26 < media < 0.32, 0.74 < stddev < 1.26\n",
      "Layer 120: -0.19 < media < 0.20, 0.78 < stddev < 1.36\n",
      "Layer 140: -0.24 < media < 0.34, 0.74 < stddev < 1.14\n",
      "Layer 160: -0.27 < media < 0.21, 0.72 < stddev < 1.22\n",
      "Layer 180: -0.35 < media < 0.35, 0.77 < stddev < 1.41\n"
     ]
    }
   ],
   "source": [
    "np.random.seed(42)\n",
    "Z = np.random.normal(size=(500, 100))\n",
    "for layer in range(200):\n",
    "    W = np.random.normal(size=(100, 100), scale = np.sqrt(1./100))\n",
    "    Z = selu(np.dot(Z, W))\n",
    "    means = np.mean(Z, axis=1)\n",
    "    stds = np.std(Z, axis=1)\n",
    "    if layer % 20 == 0:\n",
    "        print(\"Layer {}: {:.2f} < media < {:.2f}, {:.2f} < stddev < {:.2f}\".format(\n",
    "            layer, means.min(), means.max(), stds.min(), stds.max()))"
   ]
  },
  {
   "cell_type": "code",
   "execution_count": 23,
   "metadata": {
    "collapsed": true
   },
   "outputs": [],
   "source": [
    "class Activation(object):\n",
    "    \"\"\"Funcao de ativacao\"\"\"\n",
    "    def __init__(self, name):\n",
    "        self.name = name\n",
    "                \n",
    "    def init(self, n_inputs, n_outputs):        \n",
    "        if self.name == 'selu':\n",
    "            stddev = np.sqrt(1./n_inputs)\n",
    "        elif self.name == 'sigmoid':\n",
    "            stddev = np.sqrt(2. / (n_inputs + n_outputs))\n",
    "        else:\n",
    "            stddev = 2. / np.sqrt(n_inputs + n_outputs)\n",
    "        return tf.truncated_normal((n_inputs, n_outputs), stddev = stddev)\n",
    "        \n",
    "    def fire(self, ypred):\n",
    "        def selu(z, scale=1.0507009873554804934193349852946,\n",
    "                 alpha=1.6732632423543772848170429916717):\n",
    "            return scale * tf.where(z >= 0.0, z, alpha * tf.nn.elu(z))        \n",
    "        \n",
    "        if self.name == 'sigmoid':\n",
    "            return tf.nn.sigmoid(ypred) \n",
    "        elif self.name == 'relu':\n",
    "            return tf.nn.relu(ypred)\n",
    "        elif self.name == 'elu':\n",
    "            return tf.nn.elu(ypred)\n",
    "        elif self.name == 'selu':\n",
    "            return selu(ypred)\n",
    "        else:\n",
    "            return ypred"
   ]
  },
  {
   "cell_type": "code",
   "execution_count": 24,
   "metadata": {
    "collapsed": true
   },
   "outputs": [],
   "source": [
    "class SNN(FeedforwardNeuralNet):\n",
    "    \"\"\"Rede neural sequencial auto-normalizavel\"\"\"\n",
    "    def __init__(self, input_dim):\n",
    "        FeedforwardNeuralNet.__init__(self, input_dim)\n",
    "        \n",
    "    def fit(self, train_data, n_epochs, batch_size):\n",
    "        \"\"\"Executa treino da rede neural\"\"\"\n",
    "        self.means = train_data.images.mean(axis=0, keepdims=True)\n",
    "        self.stds = train_data.images.std(axis=0, keepdims=True) + 1e-10\n",
    "\n",
    "        num_batches = train_data.num_examples // batch_size\n",
    "        with tf.Session() as s:\n",
    "            s.run(self.init_op)\n",
    "            for e in range(n_epochs):\n",
    "                tloss = 0.\n",
    "                for i in range(num_batches):\n",
    "                    X_b, y_b = train_data.next_batch(batch_size)\n",
    "                    # scale data!\n",
    "                    X_b_scaled = (X_b - self.means) / self.stds\n",
    "                    _, loss_e = s.run([self.train_op, self.lossf], \n",
    "                                      feed_dict = {self.X: X_b_scaled, self.y: y_b})\n",
    "                    tloss += loss_e\n",
    "                acc_train = s.run(self.acc, \n",
    "                                  feed_dict = {self.X: X_b_scaled, self.y: y_b})\n",
    "                print '%2d loss: %.8f acc: %.2f' % (e, tloss/num_batches, acc_train)\n",
    "            self.saver.save(s, '/tmp/model.ckpt')\n",
    "    \n",
    "    def evaluate(self, X_test, y_test):\n",
    "        \"\"\"Avalia rede neural em colecao de teste\"\"\"\n",
    "        with tf.Session() as s:\n",
    "            self.saver.restore(s, '/tmp/model.ckpt')\n",
    "            X_test_scaled = (X_test - self.means) / self.stds\n",
    "            acc_test = s.run(self.acc, \n",
    "                             feed_dict = {self.X: X_test_scaled, self.y: y_test})\n",
    "        return acc_test"
   ]
  },
  {
   "cell_type": "code",
   "execution_count": 25,
   "metadata": {
    "collapsed": true
   },
   "outputs": [],
   "source": [
    "tf.reset_default_graph()\n",
    "\n",
    "model = SNN(input_dim = 28*28)\n",
    "\n",
    "model.add(units=300, activation = Activation('selu'), name = 'h1')\n",
    "model.add(units=100, activation = Activation('selu'), name = 'h2')\n",
    "model.add(units=10, name = 'out')\n",
    "\n",
    "model.compile()"
   ]
  },
  {
   "cell_type": "code",
   "execution_count": 26,
   "metadata": {},
   "outputs": [
    {
     "name": "stdout",
     "output_type": "stream",
     "text": [
      " 0 loss: 0.28395527 acc: 0.98\n",
      " 1 loss: 0.13064164 acc: 1.00\n",
      " 2 loss: 0.08459703 acc: 1.00\n",
      " 3 loss: 0.06127598 acc: 1.00\n",
      " 4 loss: 0.04690037 acc: 1.00\n",
      " 5 loss: 0.03162947 acc: 1.00\n",
      " 6 loss: 0.02420431 acc: 1.00\n",
      " 7 loss: 0.01609532 acc: 1.00\n",
      " 8 loss: 0.01170439 acc: 1.00\n",
      " 9 loss: 0.00869325 acc: 1.00\n"
     ]
    }
   ],
   "source": [
    "model.fit(mnist.train, n_epochs = 10, batch_size = 50)"
   ]
  },
  {
   "cell_type": "code",
   "execution_count": 27,
   "metadata": {},
   "outputs": [
    {
     "name": "stdout",
     "output_type": "stream",
     "text": [
      "INFO:tensorflow:Restoring parameters from /tmp/model.ckpt\n"
     ]
    },
    {
     "data": {
      "text/plain": [
       "0.97430003"
      ]
     },
     "execution_count": 27,
     "metadata": {},
     "output_type": "execute_result"
    }
   ],
   "source": [
    "model.evaluate(mnist.test.images, mnist.test.labels)"
   ]
  },
  {
   "cell_type": "markdown",
   "metadata": {},
   "source": [
    "Antes da introdução das SELUs, BN era a técnica preferível para lidar com o problema de deriva de co-variância. Atualmente, há uma tendência para preferir a solução com SELUs, pois:\n",
    "\n",
    "* A propriedade de auto-normalização de SELUs é baseada em um arcabouço matemático sólido;\n",
    "* Elas são bem mais simples que BN, uma vez que a função de ativação já produz saídas normalizadas;\n",
    "* Há razoável comprovação empiríca (na medida em que é possível dado o pouco tempo de existência das SELUs) de que elas atingem maior acuidade em menos tempo, quando aplicadas a redes com várias camadas, em comparação a ReLUs, ELUs e BN. \n",
    "\n",
    "_Note que BNs ainda podem ser úteis onde SELUs não puderem ser usadas, como qualquer rede em que uma função muito particular de perda tiver que ser usada que não case bem com SELUs (embora este seja o caso de LSTMs, há atualmente um esforço grande em adaptar SELUs para LSTMs). Além disso, BN também opera como regularizador, o que pode resultar em melhores desempenhos em arquiteturas como as CNNs. A seguir, temos uma explicação um pouco melhor sobre BNs. Vamos ver exemplos de uso mais à frente, com Keras._"
   ]
  },
  {
   "cell_type": "markdown",
   "metadata": {},
   "source": [
    "#### Batch normalisation\n",
    "\n",
    "Este método foi descrito por [Ioffe and Szegedy](https://arxiv.org/abs/1502.03167) para acelerar o treinamento de redes neurais. Ele é baseada num simples modo de falha que atrapalha o treinamento de redes neurais: _à medida que o sinal se propaga pela rede, mesmo se normalizado na entrada, ele pode acabar completamente enviesado em alguma camada oculta, tanto em termos de variância quanto média_ (efeito conhecido como *deriva interna da covariância*). Isto resulta em grandes discrepâncias entre as atualizações de gradientes ao longo de diferentes camadas. Como resultado, somos mais conservadores com a taxa de aprendizado e aplicamos regularizadores mais fortes, o que desacelera o treino.\n",
    "\n",
    "Batch normalisation propõe a normalização das ativações de uma camada para média zero e variância 1, através do batch de dados passando pela rede (ou seja, no treino, nós normalizamos pelos `batch_size` exemplos e, no teste, normalizamos considerando estatísticas derivadas do _treino todo_---uma vez que não conhecemos os dados de teste com antecedência). Nós calculamos a média e a variância para um batch particular de ativações $\\mathcal{B} = \\{x_1, \\dots, x_m\\}$ assim:\n",
    "\n",
    "$$\\begin{align*}\\mu_{\\mathcal{B}} &= \\frac{1}{m}\\sum_{i=1}^{m}x_i \\\\ \\sigma_\\mathcal{B}^2 &= \\frac{1}{m}\\sum_{i=1}^{m}\\left(x_i - \\mu_\\mathcal{B}\\right)^2\\end{align*}$$\n",
    "\n",
    "Nós então usamos estas estatísticas para transformar as ativações de forma que elas tenham média zero e variância um:\n",
    "\n",
    "$$\\hat{x}_i = \\frac{x_i - \\mu_\\mathcal{B}}{\\sqrt{\\sigma_\\mathcal{B}^2 + \\varepsilon}}$$\n",
    "\n",
    "onde $\\varepsilon > 0$ é um pequeno valor que nos protege de divisão por zero (no caso do desvio padrão do batch ser muito pequeno ou mesmo zero). Finalmente, para obter a ativação final $y$, precisamos estar certos que nenhuma propriedade de generalizaçao foi perdida ao executar a normalização---e desde que as operações feitas foram um deslocamento (média) e um escalonamento (desvio), nós permitimos um deslocamento e um escalonamento arbitrários dos valores normalizados para obter o valor final (isso permite a rede, por exemplo, voltar aos valores originais se ela os considerar mais úteis):\n",
    "\n",
    "$$y_i = \\gamma\\hat{x}_i + \\beta$$\n",
    "\n",
    "onde $\\beta$ e $\\gamma$ são parâmetros *treináveis* da operação de batch normalization (otimizáveis via gradiente descendente nos dados de treino). Esta generalização significa que batch normalisation pode se aplicada diretamente às _entradas_ da rede neural (dado que a presença desses parâmetros permite à rede assumir uma estatística de entrada diferente da que nós selecionamos através do processamento manual dos dados).\n",
    "\n",
    "Este método, quando aplicado às camadas de uma rede convolutiva quase sempre levam a maior velocidade do aprendizado. Eles também agem como ótimos regularizadores, nos permitindo um cuidado maior na escolha da taxa de aprendizado, na importância do $L_2$ e uso do dropout (tornando-o muitas vezes completamente desnecessário). Esta regularização ocorre como consequência do fato de que a saída de um único exemplo *não é mais determinística* (já que ela depende do batch inteiro a qual ela pertence), ajudando a rede a generalizar melhor.\n",
    "\n",
    "Note que no artigo original, os autores usam batch normalisation *antes* de aplicar a função de ativação do neurônio (nas combinações lineares computadas dos dados de entrada). Contudo, [em resultados recentes](http://arxiv.org/abs/1511.06422) observou-se que poderia ser mais benéfico (e, no mínimo, tao bom quanto) aplicá-la *depois*.\n",
    "\n",
    "Em Keras, batch normalisation corresponde a uma camada: `BatchNormalization`, para a qual podemos fornecer alguns parâmetros. O mais importante deles é o `axis` (sobre que eixo dos dados as estatísticas deveriam ser computadas). Em particular, quando trabalhando com camadas de convolução, queremos normalizar através dos canais individuais, logo `axis = 1`."
   ]
  },
  {
   "cell_type": "markdown",
   "metadata": {},
   "source": [
    "### Otimizadores"
   ]
  },
  {
   "cell_type": "markdown",
   "metadata": {},
   "source": [
    "Os otimizadores a serem usados com redes neurais são os mesmos que vimos antes, uma vez que o gradiente descendente é um caso particular da propagação retrógrada. \n",
    "\n",
    "Dos vários métodos que vimos antes, a opção em geral será pelo Adam, que combina momento com taxas de aprendizado pora cada dimensão (adaptativo). Eventualmente, quando se quiser um modelo muito esparso (e rápido no teste), deve-se optar pelo FTRLOpimizer (junto com uma regularização $L_1$ -- a ser visto mais tarde)."
   ]
  },
  {
   "cell_type": "code",
   "execution_count": 28,
   "metadata": {
    "collapsed": true
   },
   "outputs": [],
   "source": [
    "class Optimizer(object):\n",
    "    def __init__(self, name = 'sgd'):\n",
    "        self.name = name\n",
    "        self.lrate = 0.1\n",
    "\n",
    "    def get(self, lossf):\n",
    "        if self.name == 'sgd':\n",
    "            opt = tf.train.GradientDescentOptimizer(learning_rate = self.lrate) \n",
    "        elif self.name == 'adam':\n",
    "            opt = tf.train.AdamOptimizer() \n",
    "        return opt.minimize(lossf)"
   ]
  },
  {
   "cell_type": "code",
   "execution_count": 32,
   "metadata": {
    "collapsed": true
   },
   "outputs": [],
   "source": [
    "tf.reset_default_graph()\n",
    "\n",
    "model = FeedforwardNeuralNet(input_dim = 28*28)\n",
    "\n",
    "model.add(units=300, activation = Activation('relu'), name = 'h1')\n",
    "model.add(units=100, activation = Activation('relu'), name = 'h2')\n",
    "model.add(units=10, name = 'out')\n",
    "\n",
    "model.compile(optimizer = 'adam')"
   ]
  },
  {
   "cell_type": "code",
   "execution_count": 33,
   "metadata": {},
   "outputs": [
    {
     "name": "stdout",
     "output_type": "stream",
     "text": [
      " 0 loss: 0.21872286 acc: 0.94\n",
      " 1 loss: 0.08769465 acc: 0.98\n",
      " 2 loss: 0.05881141 acc: 0.96\n",
      " 3 loss: 0.04361934 acc: 0.98\n",
      " 4 loss: 0.03224598 acc: 1.00\n",
      " 5 loss: 0.02709712 acc: 1.00\n",
      " 6 loss: 0.02343668 acc: 0.98\n",
      " 7 loss: 0.01949345 acc: 1.00\n",
      " 8 loss: 0.01588980 acc: 1.00\n",
      " 9 loss: 0.01684354 acc: 1.00\n"
     ]
    }
   ],
   "source": [
    "model.fit(mnist.train, n_epochs = 10, batch_size = 50)"
   ]
  },
  {
   "cell_type": "code",
   "execution_count": 34,
   "metadata": {},
   "outputs": [
    {
     "name": "stdout",
     "output_type": "stream",
     "text": [
      "INFO:tensorflow:Restoring parameters from /tmp/model.ckpt\n"
     ]
    },
    {
     "data": {
      "text/plain": [
       "0.97790003"
      ]
     },
     "execution_count": 34,
     "metadata": {},
     "output_type": "execute_result"
    }
   ],
   "source": [
    "model.evaluate(mnist.test.images, mnist.test.labels)"
   ]
  },
  {
   "cell_type": "markdown",
   "metadata": {},
   "source": [
    "#### Gradient clipping"
   ]
  },
  {
   "cell_type": "markdown",
   "metadata": {},
   "source": [
    "Antes de BNs e SNNs, era comum o uso de corte de gradientes para evitar estouro de gradientes. Atualmente, esquemas de normalização são preferidos. Contudo, é importante entender esta técnica, especialmente para o caso onde a normalização não puder ser trivialmente aplicada, como LSTMs.\n",
    "\n",
    "A ideia de clipping é cortar todos os gradientes que estão abaixo ou acima de valores críticos, de forma que eles assumam os valores críticos."
   ]
  },
  {
   "cell_type": "code",
   "execution_count": 35,
   "metadata": {
    "collapsed": true
   },
   "outputs": [],
   "source": [
    "class Optimizer(object):\n",
    "    def __init__(self, name = 'sgd'):\n",
    "        self.name = name\n",
    "        self.lrate = 0.1\n",
    "        self.threshold = 1\n",
    "\n",
    "    def get(self, lossf):\n",
    "        if self.name == 'sgd':\n",
    "            opt = tf.train.GradientDescentOptimizer(learning_rate = self.lrate) \n",
    "            return opt.minimize(lossf)\n",
    "        \n",
    "        elif self.name == 'clipped_sgd':\n",
    "            opt = tf.train.GradientDescentOptimizer(learning_rate = self.lrate) \n",
    "            grads_vars = opt.compute_gradients(lossf)\n",
    "            clipped_vals = [(tf.clip_by_value(grad, -self.threshold, self.threshold), var) \n",
    "                            for grad, var in grads_vars]\n",
    "            return opt.apply_gradients(clipped_vals)\n",
    "        \n",
    "        elif self.name == 'adam':\n",
    "            opt = tf.train.AdamOptimizer() \n",
    "            return opt.minimize(lossf)"
   ]
  },
  {
   "cell_type": "code",
   "execution_count": 36,
   "metadata": {
    "collapsed": true
   },
   "outputs": [],
   "source": [
    "tf.reset_default_graph()\n",
    "\n",
    "model = FeedforwardNeuralNet(input_dim = 28*28)\n",
    "\n",
    "model.add(units=300, activation = Activation('relu'), name = 'h1')\n",
    "model.add(units=100, activation = Activation('relu'), name = 'h2')\n",
    "model.add(units=10, name = 'out')\n",
    "\n",
    "model.compile(optimizer = 'clipped_sgd')"
   ]
  },
  {
   "cell_type": "code",
   "execution_count": 37,
   "metadata": {
    "scrolled": true
   },
   "outputs": [
    {
     "name": "stdout",
     "output_type": "stream",
     "text": [
      " 0 loss: 0.28610926 acc: 1.00\n",
      " 1 loss: 0.12422661 acc: 1.00\n",
      " 2 loss: 0.08472956 acc: 1.00\n",
      " 3 loss: 0.06252001 acc: 0.98\n",
      " 4 loss: 0.04852289 acc: 1.00\n",
      " 5 loss: 0.03672612 acc: 1.00\n",
      " 6 loss: 0.02852646 acc: 1.00\n",
      " 7 loss: 0.02216926 acc: 1.00\n",
      " 8 loss: 0.01721169 acc: 1.00\n",
      " 9 loss: 0.01256100 acc: 1.00\n"
     ]
    }
   ],
   "source": [
    "model.fit(mnist.train, n_epochs = 10, batch_size = 50)"
   ]
  },
  {
   "cell_type": "code",
   "execution_count": 38,
   "metadata": {},
   "outputs": [
    {
     "name": "stdout",
     "output_type": "stream",
     "text": [
      "INFO:tensorflow:Restoring parameters from /tmp/model.ckpt\n"
     ]
    },
    {
     "data": {
      "text/plain": [
       "0.97780001"
      ]
     },
     "execution_count": 38,
     "metadata": {},
     "output_type": "execute_result"
    }
   ],
   "source": [
    "model.evaluate(mnist.test.images, mnist.test.labels)"
   ]
  },
  {
   "cell_type": "markdown",
   "metadata": {},
   "source": [
    "#### Política de evolução de taxa de aprendizado (_learning rate schedulling_)"
   ]
  },
  {
   "cell_type": "markdown",
   "metadata": {},
   "source": [
    "A ideia aqui é modificar a taxa de aprendizado de acordo com uma política de evolução em lugar de usar uma taxa fixa. Naturalmente, esta é uma possibilidade apenas para os métodos não adaptativos, uma vez que estes modificam a taxa de aprendizado de acordo com o processo de otimização.\n",
    "\n",
    "Para os métodos em que tais políticas fazem sentido, as principais estratégias são:\n",
    "\n",
    "* _Modificação em intervalos pre-determinados_: por exemplo, inicie com 0.1 e, então, após 50 épocas, mude para 0.001. Complicado aqui é definir que valores usar e quando mudar.\n",
    "\n",
    "* _Modificação de acordo com desempenho_: a cada N passos, avalie o erro no conjunto de validação e, se este parou de cair, reduza a taxa por um fator $\\lambda$.\n",
    "\n",
    "* _Escala exponencial_: diminua a taxa de aprendizado por um fator de 10 a cada $r$ passos. Assm, dado o passo $t$, um valor inicial $\\eta_0$, $\\eta(t) = \\eta_0 10^{\\frac{-t}{r}}$\n",
    "\n",
    "* _Escala de potência_: equivalente ao anterior, mas bem mais lento. Nesse caso, $\\eta(t) = \\eta_0 (1 + \\frac{t}{r})^{-c}$, onde $c$ é tipicamente definido como 1."
   ]
  },
  {
   "cell_type": "code",
   "execution_count": 44,
   "metadata": {
    "collapsed": true
   },
   "outputs": [],
   "source": [
    "class Optimizer(object):\n",
    "    def __init__(self, name = 'sgd'):\n",
    "        self.name = name\n",
    "        self.lrate = 0.1\n",
    "        # clipping\n",
    "        self.threshold = 1\n",
    "        # scheduling\n",
    "        self.initial_lrate = 0.1 # eta0\n",
    "        self.decay_steps = 10000 # r\n",
    "        self.decay_rate = 1./10 \n",
    "        self.global_step = tf.Variable(0, trainable = False) ##\n",
    "\n",
    "    def get(self, lossf):\n",
    "        if self.name == 'sgd':\n",
    "            opt = tf.train.GradientDescentOptimizer(learning_rate = self.lrate) \n",
    "            return opt.minimize(lossf)\n",
    "        \n",
    "        elif self.name == 'clipped_sgd':\n",
    "            opt = tf.train.GradientDescentOptimizer(learning_rate = self.lrate) \n",
    "            grads_vars = opt.compute_gradients(lossf)\n",
    "            clipped_vals = [(tf.clip_by_value(grad, -self.threshold, self.threshold), var) \n",
    "                            for grad, var in grads_vars]\n",
    "            return opt.apply_gradients(clipped_vals)\n",
    "        \n",
    "        elif self.name == 'exp_decay_momentum':\n",
    "            lrate = tf.train.exponential_decay(self.initial_lrate,\n",
    "                                              self.global_step,\n",
    "                                              self.decay_steps,\n",
    "                                              self.decay_rate)\n",
    "            opt = tf.train.MomentumOptimizer(learning_rate = lrate, momentum = 0.9)  ##\n",
    "            return opt.minimize(lossf, global_step = self.global_step) ##\n",
    "        \n",
    "        elif self.name == 'adam':\n",
    "            opt = tf.train.AdamOptimizer() \n",
    "            return opt.minimize(lossf)"
   ]
  },
  {
   "cell_type": "code",
   "execution_count": 45,
   "metadata": {
    "collapsed": true
   },
   "outputs": [],
   "source": [
    "tf.reset_default_graph()\n",
    "\n",
    "model = FeedforwardNeuralNet(input_dim = 28*28)\n",
    "\n",
    "model.add(units=300, activation = Activation('relu'), name = 'h1')\n",
    "model.add(units=100, activation = Activation('relu'), name = 'h2')\n",
    "model.add(units=10, name = 'out')\n",
    "\n",
    "model.compile(optimizer = 'exp_decay_momentum')"
   ]
  },
  {
   "cell_type": "code",
   "execution_count": 46,
   "metadata": {},
   "outputs": [
    {
     "name": "stdout",
     "output_type": "stream",
     "text": [
      " 0 loss: 0.24408096 acc: 0.98\n",
      " 1 loss: 0.09896268 acc: 0.98\n",
      " 2 loss: 0.05616739 acc: 1.00\n",
      " 3 loss: 0.03323490 acc: 1.00\n",
      " 4 loss: 0.01725611 acc: 1.00\n",
      " 5 loss: 0.01007644 acc: 1.00\n",
      " 6 loss: 0.00595098 acc: 1.00\n",
      " 7 loss: 0.00390795 acc: 1.00\n",
      " 8 loss: 0.00296838 acc: 1.00\n",
      " 9 loss: 0.00247777 acc: 1.00\n"
     ]
    }
   ],
   "source": [
    "model.fit(mnist.train, n_epochs = 10, batch_size = 50)"
   ]
  },
  {
   "cell_type": "code",
   "execution_count": 47,
   "metadata": {},
   "outputs": [
    {
     "name": "stdout",
     "output_type": "stream",
     "text": [
      "INFO:tensorflow:Restoring parameters from /tmp/model.ckpt\n"
     ]
    },
    {
     "data": {
      "text/plain": [
       "0.98199999"
      ]
     },
     "execution_count": 47,
     "metadata": {},
     "output_type": "execute_result"
    }
   ],
   "source": [
    "model.evaluate(mnist.test.images, mnist.test.labels)"
   ]
  },
  {
   "cell_type": "markdown",
   "metadata": {},
   "source": [
    "### Combatendo _overfitting_"
   ]
  },
  {
   "cell_type": "markdown",
   "metadata": {},
   "source": [
    "Dada a complexidade de modelos profundos, é comum que os modelos se super-especializem no treino. Para verificar se isso está acontecendo, é recomendado durante o treino avaliar o modelo tanto na coleção de treino quanto em uma coleção de validação (separada da coleção de treino e diferente da de teste). Se as taxas de erro diferem, com o erro do treino menor que na validação, está acontecendo _overfitting_.\n",
    "\n",
    "Para lidar com esse problema, as seguintes técnicas podem ser aplicadas:\n",
    "\n",
    "* _early stopping_: parar o processo de treino quando nenhum novo modelo supera o melhor observado após N épocas;\n",
    "\n",
    "* uso de regularizadores (como $L_1$ e $L_2$): reguladorizadores penalizam certos conjuntos de pesos, obrigando o modelo a encontrar soluções \"melhores\". Por exemplo, regularizadores $L_1$ tendem a gerar um conjunto esparso de pesos enquanto $L_2$ penaliza outliers.\n",
    "\n",
    "* _dropout_: neurônios são retirados aleatoriamente do modelo (também atributos de entrada), de forma que nenhum neurônio pode se co-adaptar a outro em particular. De certa forma, isso simula a natureza estocástica de redes neurais biológicas.\n",
    "\n",
    "* introdução de ruído/mais casos no treino: aumento dos casos de treino com casos ruidosos (por exemplo, uma versão embaçada de uma imagem), ou variantes prováveis (ex: a imagem de ponta a cabeça, um fragmento de imagem, a imagem rotacionada, etc)."
   ]
  },
  {
   "cell_type": "markdown",
   "metadata": {},
   "source": [
    "#### Regularizador $L_1$"
   ]
  },
  {
   "cell_type": "markdown",
   "metadata": {},
   "source": [
    "A função de perda $\\ell(\\hat{y}({\\bf w}), {\\bf y})$ pode ser minimizada com _qualquer_ conjunto de pesos ${\\bf w}$. Contudo, certos conjuntos de pesos podem envolver pesos muito mais importantes que outros (_outliers_), configurações onde todos os pesos são relevantes (não esparsos), etc. Uma função regularizadora $R$ pode ser usada para penalizar esses conjuntos, melhorando a possibiliade de generalização do modelo seja por simplificá-lo ou remover _outliers_, por exemplo. \n",
    "\n",
    "Incorporando $R$, temos a nova função de perda:\n",
    "\n",
    "$$L(\\hat{y}({\\bf w}), {\\bf y}) = \\ell(\\hat{y}({\\bf w}), {\\bf y}) + \\lambda R({\\bf w})$$\n",
    "\n",
    "onde $\\lambda$ é o fator que indica a importância do regularizador para o custo final. Dois regularizadores comuns são:\n",
    "\n",
    "* $L_1 = R({\\bf w}) = \\sum_i{|{\\bf w}_i|}$ -- prefere conjuntos de pesos esparsos. Este conjunto tem certa motivação biológica, uma vez que redes neurais biológicas são esparsas. Do ponto de vista estatístico, pesos esparsos levam a um modelo mais simples e, portanto, mais fácil de generalizar.\n",
    "\n",
    "* $L_2 = R({\\bf w}) = \\sum_i{{\\bf w}_i^2}$ -- prefere conjuntos de pesos densos, sem _outliers_. A ideia desta penalização é que confiar em conjuntos de pesos esparsos, baseado em amostras (provavelmente pequenas, como as vindas de pequenos lotes de instâncias, normalmente usadas em algoritmos da família do gradiente descendente), não é seguro, uma vez que os pesos relevantes podem ser _outliers_.\n",
    "\n",
    "A seguir, mudamos nossa implementação para incorporar um regularizador $L_1$."
   ]
  },
  {
   "cell_type": "code",
   "execution_count": 48,
   "metadata": {
    "collapsed": true
   },
   "outputs": [],
   "source": [
    "class LossFunction(object):\n",
    "    def __init__(self, name = 'sigmoid', reg_lambda = 0.001):\n",
    "        self.name = name\n",
    "        self.reg_lambda = reg_lambda # regularizer importance factor\n",
    "\n",
    "    # get needs to access layers' weights\n",
    "    def get(self, yreal, ypred, layers = None):\n",
    "        reg_losses = 0. # reg loss component\n",
    "        if self.name == 'sigmoid' or self.name == 'sigmoid_l1':\n",
    "            loss = tf.nn.sparse_softmax_cross_entropy_with_logits(\n",
    "                labels = yreal, logits = ypred) \n",
    "            # L1 regularization\n",
    "            if layers != None and self.reg_lambda > 0:\n",
    "                for layer in layers:\n",
    "                    reg_losses += tf.reduce_sum(tf.abs(layer.W))\n",
    "                reg_losses *= self.reg_lambda\n",
    "        return tf.reduce_mean(loss, name = 'lossf') \\\n",
    "                + reg_losses # reg loss component\n",
    "    \n",
    "def compile(self, loss = 'sigmoid', optimizer = 'sgd'):\n",
    "    \"\"\"Cria grafo da rede neural\"\"\"\n",
    "    self.X = tf.placeholder(tf.float32, \n",
    "                       shape = (None, self.input_dim), \n",
    "                       name = 'X')\n",
    "    self.y = tf.placeholder(tf.int64, shape = (None), name = 'y')\n",
    "\n",
    "    # cria layers\n",
    "    with tf.name_scope('layers'):\n",
    "        layer_in = self.X\n",
    "        for layer in self.layers:\n",
    "            layer_out = layer.output(layer_in)\n",
    "            layer_in = layer_out\n",
    "\n",
    "    # loss function\n",
    "    with tf.name_scope('loss'):\n",
    "        self.lossf = LossFunction(loss).get(self.y, layer_out, self.layers)\n",
    "\n",
    "    # optimizer\n",
    "    with tf.name_scope('train'):\n",
    "        self.train_op = Optimizer(optimizer).get(self.lossf)\n",
    "\n",
    "    # evalution metrics\n",
    "    with tf.name_scope('eval'):\n",
    "        correct = tf.nn.in_top_k(layer_out, self.y, 1)\n",
    "        self.acc = tf.reduce_mean(tf.cast(correct, tf.float32))\n",
    "\n",
    "    self.init_op = tf.global_variables_initializer()\n",
    "    self.saver = tf.train.Saver()\n",
    "    \n",
    "FeedforwardNeuralNet.compile = compile"
   ]
  },
  {
   "cell_type": "code",
   "execution_count": 49,
   "metadata": {
    "collapsed": true
   },
   "outputs": [],
   "source": [
    "tf.reset_default_graph()\n",
    "\n",
    "model = FeedforwardNeuralNet(input_dim = 28*28)\n",
    "\n",
    "model.add(units=300, activation = Activation('relu'), name = 'h1')\n",
    "model.add(units=100, activation = Activation('relu'), name = 'h2')\n",
    "model.add(units=10, name = 'out')\n",
    "\n",
    "model.compile(optimizer = 'exp_decay_momentum', loss = 'sigmoid_l1')"
   ]
  },
  {
   "cell_type": "code",
   "execution_count": 50,
   "metadata": {},
   "outputs": [
    {
     "name": "stdout",
     "output_type": "stream",
     "text": [
      " 0 loss: 1.58532247 acc: 0.94\n",
      " 1 loss: 0.75589910 acc: 0.96\n",
      " 2 loss: 0.66857005 acc: 0.90\n",
      " 3 loss: 0.61096120 acc: 0.96\n",
      " 4 loss: 0.56374224 acc: 0.94\n",
      " 5 loss: 0.53321255 acc: 0.90\n",
      " 6 loss: 0.49640640 acc: 0.98\n",
      " 7 loss: 0.47345848 acc: 0.96\n",
      " 8 loss: 0.45177614 acc: 0.98\n",
      " 9 loss: 0.43086177 acc: 0.96\n"
     ]
    }
   ],
   "source": [
    "model.fit(mnist.train, n_epochs = 10, batch_size = 50)"
   ]
  },
  {
   "cell_type": "code",
   "execution_count": 51,
   "metadata": {},
   "outputs": [
    {
     "name": "stdout",
     "output_type": "stream",
     "text": [
      "INFO:tensorflow:Restoring parameters from /tmp/model.ckpt\n"
     ]
    },
    {
     "data": {
      "text/plain": [
       "0.95359999"
      ]
     },
     "execution_count": 51,
     "metadata": {},
     "output_type": "execute_result"
    }
   ],
   "source": [
    "model.evaluate(mnist.test.images, mnist.test.labels)"
   ]
  },
  {
   "cell_type": "markdown",
   "metadata": {},
   "source": [
    "#### Dropout"
   ]
  },
  {
   "cell_type": "markdown",
   "metadata": {},
   "source": [
    "Em redes neurais biológicas, neurônios têm natureza estocástica. Ou seja, em condições apropriadas para disparar um sinal, eles disparam apenas 50% das vezes, devido a uma série de condições bio-químicas. \n",
    "\n",
    "Uma forma de implementar isso numa rede neural artificial é meramente por eliminar, aleatoriamente, metade dos neurônios da rede. Esta eliminação pode atingir mesmo a entrada. Este processo de eliminação de neurônios durante o treino é chamado de dropout.\n",
    "\n",
    "Há algumas motivações para usar dropout:\n",
    "\n",
    "* Neurônios não podem se co-adaptar, tornando-se mais robustos;\n",
    "* Dropout pode ser visto como um tipo de ensemble, onde $2^H$ ($H$ é o número de neurônios no modelo) redes neurais são treinadas e, juntas, colaboram para a solução final; \n",
    "* Quando o dropout atinge a entrada da rede, ela também opera como um processo de aleatorização similar ao observado em random forests;\n",
    "* Do ponto de vista prático, o uso de dropout implica em aumentos de 1 a 2% no desempenho do sistema (cerca de 40% de redução em taxas de erro). Isso, contudo, _ao custo de aprendizado mais lento e complexo_.\n",
    "\n",
    "Abaixo, temos nosso código modificado para suportar dropout. "
   ]
  },
  {
   "cell_type": "code",
   "execution_count": 52,
   "metadata": {
    "collapsed": true
   },
   "outputs": [],
   "source": [
    "def compile(self, loss = 'sigmoid', optimizer = 'sgd', \n",
    "            dropout_rate = 0.0): # dropout rate = 0 -> sem dropout\n",
    "    \"\"\"Cria grafo da rede neural\"\"\"\n",
    "    self.X = tf.placeholder(tf.float32, \n",
    "                       shape = (None, self.input_dim), \n",
    "                       name = 'X')\n",
    "    self.y = tf.placeholder(tf.int64, shape = (None), name = 'y')\n",
    "    # in_training indicates if graph is evaluated during training\n",
    "    # During training, using dropout, units are dropped (inclunding input)\n",
    "    # At the end of the process, weights are divided by 1/dropout_rate to \n",
    "    # compensate the average loss of signal resulting from dropping units\n",
    "    self.in_training = tf.placeholder_with_default(False, shape = (), \n",
    "                                                   name = 'in_training')\n",
    "\n",
    "    # cria layers\n",
    "    with tf.name_scope('layers'):\n",
    "        # dropout in input layer\n",
    "        layer_in = self.X if dropout_rate == 0.0 \\\n",
    "            else tf.layers.dropout(self.X, dropout_rate, self.in_training)\n",
    "        for layer in self.layers:\n",
    "            # dropout in other layers\n",
    "            layer_out = layer.output(layer_in) if dropout_rate == 0.0 \\\n",
    "                else tf.layers.dropout(layer.output(layer_in), \n",
    "                                       dropout_rate, self.in_training)\n",
    "            layer_in = layer_out\n",
    "\n",
    "    # loss function\n",
    "    with tf.name_scope('loss'):\n",
    "        # layers are sent to loss function so that the regularizer can be applied\n",
    "        self.lossf = LossFunction(loss).get(self.y, layer_out, self.layers)\n",
    "\n",
    "    # optimizer\n",
    "    with tf.name_scope('train'):\n",
    "        self.train_op = Optimizer(optimizer).get(self.lossf)\n",
    "\n",
    "    # evalution metrics\n",
    "    with tf.name_scope('eval'):\n",
    "        correct = tf.nn.in_top_k(layer_out, self.y, 1)\n",
    "        self.acc = tf.reduce_mean(tf.cast(correct, tf.float32))\n",
    "\n",
    "    self.init_op = tf.global_variables_initializer()\n",
    "    self.saver = tf.train.Saver()\n",
    "    \n",
    "def fit(self, train_data, n_epochs, batch_size):\n",
    "    \"\"\"Executa treino da rede neural\"\"\"\n",
    "    num_batches = train_data.num_examples // batch_size\n",
    "    with tf.Session() as s:\n",
    "        s.run(self.init_op)\n",
    "        for e in range(n_epochs):\n",
    "            tloss = 0.\n",
    "            for i in range(num_batches):\n",
    "                X_b, y_b = train_data.next_batch(batch_size)\n",
    "                _, loss_e = s.run([self.train_op, self.lossf], \n",
    "                                  feed_dict = {self.X: X_b, self.y: y_b,\n",
    "                                              self.in_training: True})\n",
    "                tloss += loss_e\n",
    "            acc_train = s.run(self.acc, \n",
    "                              feed_dict = {self.X: X_b, self.y: y_b})\n",
    "            print '%2d loss: %.8f acc: %.2f' % (e, tloss/num_batches, acc_train)\n",
    "        self.saver.save(s, '/tmp/model.ckpt')\n",
    "    \n",
    "FeedforwardNeuralNet.compile = compile\n",
    "FeedforwardNeuralNet.fit = fit"
   ]
  },
  {
   "cell_type": "code",
   "execution_count": 53,
   "metadata": {
    "collapsed": true
   },
   "outputs": [],
   "source": [
    "tf.reset_default_graph()\n",
    "\n",
    "model = FeedforwardNeuralNet(input_dim = 28*28)\n",
    "\n",
    "model.add(units=300, activation = Activation('relu'), name = 'h1')\n",
    "model.add(units=100, activation = Activation('relu'), name = 'h2')\n",
    "model.add(units=10, name = 'out')\n",
    "\n",
    "model.compile(optimizer = 'exp_decay_momentum', dropout_rate = 0.5)"
   ]
  },
  {
   "cell_type": "code",
   "execution_count": 54,
   "metadata": {},
   "outputs": [
    {
     "name": "stdout",
     "output_type": "stream",
     "text": [
      " 0 loss: 1.55401182 acc: 1.00\n",
      " 1 loss: 0.74529432 acc: 0.98\n",
      " 2 loss: 0.66609687 acc: 0.92\n",
      " 3 loss: 0.61211880 acc: 0.92\n",
      " 4 loss: 0.56979004 acc: 0.94\n",
      " 5 loss: 0.53536397 acc: 0.94\n",
      " 6 loss: 0.50652765 acc: 0.88\n",
      " 7 loss: 0.47880428 acc: 0.98\n",
      " 8 loss: 0.46112720 acc: 0.98\n",
      " 9 loss: 0.44155752 acc: 0.94\n"
     ]
    }
   ],
   "source": [
    "model.fit(mnist.train, n_epochs = 10, batch_size = 50)"
   ]
  },
  {
   "cell_type": "code",
   "execution_count": 55,
   "metadata": {},
   "outputs": [
    {
     "name": "stdout",
     "output_type": "stream",
     "text": [
      "INFO:tensorflow:Restoring parameters from /tmp/model.ckpt\n"
     ]
    },
    {
     "data": {
      "text/plain": [
       "0.94620001"
      ]
     },
     "execution_count": 55,
     "metadata": {},
     "output_type": "execute_result"
    }
   ],
   "source": [
    "model.evaluate(mnist.test.images, mnist.test.labels)"
   ]
  },
  {
   "cell_type": "markdown",
   "metadata": {},
   "source": [
    "A taxa de dropout é normalmente mantida em 0.5. Você pode aumentar esse valor se quer tentar reduzir mais o overfitting. Ou diminui-lo, se quer evitar underfitting."
   ]
  },
  {
   "cell_type": "markdown",
   "metadata": {},
   "source": [
    "## Dicas gerais"
   ]
  },
  {
   "cell_type": "markdown",
   "metadata": {},
   "source": [
    "Antes da SNNs, as escolhas seriam:\n",
    "\n",
    "* _Inicialização_: Xavier ou He\n",
    "* _Função de ativação_: ELU\n",
    "* _Normalização_: Batch Normalization\n",
    "* _Regularização_: Dropout\n",
    "* _Otimizador_: Adam\n",
    "* _Escala de evolução da taxa de aprendizado_: nenhum"
   ]
  },
  {
   "cell_type": "markdown",
   "metadata": {},
   "source": [
    "Com SNNs, as escolhas são:\n",
    "\n",
    "* _Inicialização_: pequeno valor próximo ao mínimo da normalização mantida pela SNN\n",
    "* _Função de ativação_: SELU\n",
    "* _Normalização_: não necessária\n",
    "* _Regularização_: Dropout para SNNs (ver paper sobre SNNs)\n",
    "* _Otimizador_: Adam\n",
    "* _Escala de evolução da taxa de aprendizado_: nenhum"
   ]
  },
  {
   "cell_type": "markdown",
   "metadata": {},
   "source": [
    "Mas à frente, vamos melhorar mais este resultado usando uma rede convolutiva."
   ]
  },
  {
   "cell_type": "markdown",
   "metadata": {},
   "source": [
    "### References:\n",
    "\n",
    "https://en.wikipedia.org/wiki/Deep_learning    \n",
    "http://sebastianruder.com/optimizing-gradient-descent/index.html#batchgradientdescent  \n",
    "http://yann.lecun.com/exdb/mnist/  \n",
    "https://www.quora.com/Artificial-Neural-Networks-What-is-the-difference-between-activation-functions  \n",
    "https://www.tensorflow.org/versions/r0.9/tutorials/mnist/pros/index.html  "
   ]
  },
  {
   "cell_type": "code",
   "execution_count": null,
   "metadata": {
    "collapsed": true
   },
   "outputs": [],
   "source": []
  }
 ],
 "metadata": {
  "kernelspec": {
   "display_name": "Python 2",
   "language": "python",
   "name": "python2"
  },
  "language_info": {
   "codemirror_mode": {
    "name": "ipython",
    "version": 2
   },
   "file_extension": ".py",
   "mimetype": "text/x-python",
   "name": "python",
   "nbconvert_exporter": "python",
   "pygments_lexer": "ipython2",
   "version": "2.7.10"
  }
 },
 "nbformat": 4,
 "nbformat_minor": 2
}
