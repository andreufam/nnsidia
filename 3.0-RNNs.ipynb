{
 "cells": [
  {
   "cell_type": "markdown",
   "metadata": {},
   "source": [
    "# Redes Neurais Recorrentes"
   ]
  },
  {
   "cell_type": "code",
   "execution_count": 1,
   "metadata": {},
   "outputs": [
    {
     "name": "stderr",
     "output_type": "stream",
     "text": [
      "E:\\Anaconda\\lib\\site-packages\\h5py\\__init__.py:34: FutureWarning: Conversion of the second argument of issubdtype from `float` to `np.floating` is deprecated. In future, it will be treated as `np.float64 == np.dtype(float).type`.\n",
      "  from ._conv import register_converters as _register_converters\n"
     ]
    }
   ],
   "source": [
    "import numpy as np\n",
    "import matplotlib.pyplot as plt\n",
    "import tensorflow as tf\n",
    "\n",
    "%matplotlib inline"
   ]
  },
  {
   "cell_type": "code",
   "execution_count": 2,
   "metadata": {
    "collapsed": true
   },
   "outputs": [],
   "source": [
    "# to make this notebook's output stable across runs\n",
    "def reset_graph(seed=42):\n",
    "    tf.reset_default_graph()\n",
    "    tf.set_random_seed(seed)\n",
    "    np.random.seed(seed)\n",
    "    \n",
    "def plot_figs(lst):\n",
    "    if len(lst) == 1:\n",
    "        plt.matshow(lst[0], cmap = 'gray', interpolation='nearest')\n",
    "    else:\n",
    "        f, axes = plt.subplots(1, len(lst))\n",
    "        for i, a in enumerate(axes):\n",
    "            a.matshow(lst[i], cmap = 'gray', interpolation='nearest')\n",
    "            a.set(aspect='equal')"
   ]
  },
  {
   "cell_type": "markdown",
   "metadata": {},
   "source": [
    "### Uma RNN manual"
   ]
  },
  {
   "cell_type": "markdown",
   "metadata": {},
   "source": [
    "RNN - Recurrent Neural Networks são redes neurais em que os neurônios tem como entrada a sua saída. Desta forma, eles podem formar memórias.\n",
    "\n",
    "Na prática, elas são implementadas como uma arquitetura copiada múltiplas vezes. Há tantas cópias quantas são os instantes de tempo representados no treino. A saída de cada cópia é entrada para a próxima cópia. O exemplo abaixo descreve uma RNN com 3 neurônios de entrada e cinco de saída em uma célula RNN (ou seja, em um instante do tempo). Supondo que temos treinos com 2 instantes de tempo, a rede teria duas céculas, como no diagrama abaixo: "
   ]
  },
  {
   "cell_type": "markdown",
   "metadata": {},
   "source": [
    "<img src=\"images/rnn0.png\" alt=\"Exemplo de RNN\" style=\"width: 600px;\"/>"
   ]
  },
  {
   "cell_type": "markdown",
   "metadata": {},
   "source": [
    "Esta rede pode ser representada da seguinte forma em tensorflow: "
   ]
  },
  {
   "cell_type": "code",
   "execution_count": 3,
   "metadata": {
    "collapsed": true
   },
   "outputs": [],
   "source": [
    "reset_graph()\n",
    "\n",
    "n_inputs = 3\n",
    "n_neurons = 5\n",
    "\n",
    "X0 = tf.placeholder(tf.float32, [None, n_inputs])\n",
    "X1 = tf.placeholder(tf.float32, [None, n_inputs])\n",
    "\n",
    "Wx = tf.Variable(tf.random_normal(shape=[n_inputs, n_neurons], dtype=tf.float32))\n",
    "Wy = tf.Variable(tf.random_normal(shape=[n_neurons,n_neurons], dtype=tf.float32))\n",
    "b = tf.Variable(tf.zeros([1, n_neurons], dtype=tf.float32))\n",
    "\n",
    "Y0 = tf.tanh(tf.matmul(X0, Wx) + b)\n",
    "Y1 = tf.tanh(tf.matmul(Y0, Wy) + tf.matmul(X1, Wx) + b)\n",
    "\n",
    "init = tf.global_variables_initializer()"
   ]
  },
  {
   "cell_type": "code",
   "execution_count": 5,
   "metadata": {},
   "outputs": [
    {
     "name": "stdout",
     "output_type": "stream",
     "text": [
      "[[-0.00664975  0.19543903  0.08291762  0.08832357 -0.1452561 ]\n",
      " [ 0.32749006 -0.09047262 -0.3080786   0.20217195 -0.4571744 ]\n",
      " [ 0.5958438  -0.3622101  -0.61687875  0.31080633 -0.68643117]\n",
      " [ 0.77524525 -0.58375096 -0.8080832   0.4118852  -0.83014977]]\n",
      "[[ 0.83347845 -0.46762687 -0.8774375   0.15186386 -0.87976223]\n",
      " [ 0.91412014 -0.5418827  -0.82953316 -0.377425   -0.9579276 ]\n",
      " [ 0.95737094 -0.68740857 -0.8081518  -0.65423906 -0.98491126]\n",
      " [ 0.97921664 -0.83296067 -0.8362062  -0.75839305 -0.9942514 ]]\n"
     ]
    }
   ],
   "source": [
    "# t = 0\n",
    "X0_batch = np.array([[0.0, 0.1, 0.2],   # instance 0\n",
    "                     [0.3, 0.4, 0.5],   # instance 1\n",
    "                     [0.6, 0.7, 0.8],   # instance 2\n",
    "                     [0.9, 1.0, 1.1]])  # instance 3\n",
    "# t = 1\n",
    "X1_batch = np.array([[1.1, 1.2, 1.3], \n",
    "                     [1.4, 1.5, 1.6], \n",
    "                     [1.7, 1.8, 1.9], \n",
    "                     [2.0, 2.1, 2.2]]) \n",
    "\n",
    "with tf.Session() as sess:\n",
    "    init.run()\n",
    "    Y0_val, Y1_val = sess.run([Y0, Y1], feed_dict={X0: X0_batch, X1: X1_batch})\n",
    "    \n",
    "print(Y0_val)\n",
    "print(Y1_val)"
   ]
  },
  {
   "cell_type": "markdown",
   "metadata": {},
   "source": [
    "A rede acima pode ser redefinida usando as funções `BasicRNNCell` e `static_rnn`. Note que neste caso, a função retorna tanto as saídas da rede quanto o estado final dela que, neste caso, corresponde a saída para o último intervalo de tempo (o mesmo que `Y1`)."
   ]
  },
  {
   "cell_type": "code",
   "execution_count": 8,
   "metadata": {},
   "outputs": [],
   "source": [
    "reset_graph()\n",
    "\n",
    "n_inputs = 3\n",
    "n_neurons = 5\n",
    "\n",
    "X0 = tf.placeholder(tf.float32, [None, n_inputs])\n",
    "X1 = tf.placeholder(tf.float32, [None, n_inputs])\n",
    "\n",
    "basic_cell = tf.contrib.rnn.BasicRNNCell(num_units=n_neurons)\n",
    "output_seqs, states = tf.contrib.rnn.static_rnn(basic_cell, [X0, X1],\n",
    "                                                dtype=tf.float32)\n",
    "Y0, Y1 = output_seqs\n",
    "\n",
    "init = tf.global_variables_initializer()"
   ]
  },
  {
   "cell_type": "code",
   "execution_count": 9,
   "metadata": {},
   "outputs": [
    {
     "name": "stdout",
     "output_type": "stream",
     "text": [
      "[[ 0.03175795 -0.03413978 -0.07811595 -0.17084466  0.05769194]\n",
      " [ 0.2647824  -0.1855583  -0.09740025 -0.39423943  0.23090008]\n",
      " [ 0.4705062  -0.3286492  -0.11661167 -0.57908356  0.39061368]\n",
      " [ 0.6352659  -0.45809147 -0.13573624 -0.7188958   0.5298294 ]]\n",
      "[[ 0.6560341  -0.55838895 -0.17331886 -0.7907961   0.6223338 ]\n",
      " [ 0.74668574 -0.7433905  -0.21191065 -0.88804203  0.7498099 ]\n",
      " [ 0.819032   -0.85158527 -0.25492802 -0.9409765   0.8342795 ]\n",
      " [ 0.87409574 -0.9107835  -0.3030455  -0.96864784  0.88883334]]\n"
     ]
    }
   ],
   "source": [
    "# t = 0\n",
    "X0_batch = np.array([[0.0, 0.1, 0.2],   # instance 0\n",
    "                     [0.3, 0.4, 0.5],   # instance 1\n",
    "                     [0.6, 0.7, 0.8],   # instance 2\n",
    "                     [0.9, 1.0, 1.1]])  # instance 3\n",
    "# t = 1\n",
    "X1_batch = np.array([[1.1, 1.2, 1.3], \n",
    "                     [1.4, 1.5, 1.6], \n",
    "                     [1.7, 1.8, 1.9], \n",
    "                     [2.0, 2.1, 2.2]]) \n",
    "\n",
    "with tf.Session() as sess:\n",
    "    init.run()\n",
    "    Y0_val, Y1_val = sess.run([Y0, Y1], feed_dict={X0: X0_batch, X1: X1_batch})\n",
    "    \n",
    "print(Y0_val)\n",
    "print(Y1_val)"
   ]
  },
  {
   "cell_type": "markdown",
   "metadata": {},
   "source": [
    "No último exemplo, ainda tivemos que criar uma entrada para cada instante de tempo. A seguir, vamos automatizar isso também:"
   ]
  },
  {
   "cell_type": "code",
   "execution_count": 10,
   "metadata": {
    "collapsed": true
   },
   "outputs": [],
   "source": [
    "reset_graph()\n",
    "\n",
    "n_inputs = 3\n",
    "n_neurons = 5\n",
    "n_steps = 2"
   ]
  },
  {
   "cell_type": "code",
   "execution_count": 11,
   "metadata": {
    "collapsed": true
   },
   "outputs": [],
   "source": [
    "X = tf.placeholder(tf.float32, [None, n_steps, n_inputs])\n",
    "# get list of n_steps tensors with shape [None, n_inputs]\n",
    "Xseqs = tf.unstack(tf.transpose(X, perm = [1, 0, 2]))\n",
    "\n",
    "basic_cell = tf.contrib.rnn.BasicRNNCell(num_units=n_neurons)\n",
    "output_seqs, states = tf.contrib.rnn.static_rnn(basic_cell, Xseqs,\n",
    "                                                dtype=tf.float32)\n",
    "# merge outputs and get final shape (batches, steps, outputs)\n",
    "outputs = tf.transpose(tf.stack(output_seqs), perm = [1, 0, 2])"
   ]
  },
  {
   "cell_type": "code",
   "execution_count": 12,
   "metadata": {
    "collapsed": true
   },
   "outputs": [],
   "source": [
    "init = tf.global_variables_initializer()"
   ]
  },
  {
   "cell_type": "code",
   "execution_count": 14,
   "metadata": {},
   "outputs": [
    {
     "name": "stdout",
     "output_type": "stream",
     "text": [
      "[[[-0.04925115 -0.08284049  0.04345951  0.07417858 -0.04935264]\n",
      "  [-0.31003428 -0.653252    0.2975074   0.7708711  -0.7909568 ]]\n",
      "\n",
      " [[-0.10946348 -0.27015626  0.10460903  0.315636   -0.30657732]\n",
      "  [-0.44478965 -0.74545705  0.48641342  0.8705064  -0.9062193 ]]\n",
      "\n",
      " [[-0.16888303 -0.4390344   0.16497768  0.522135   -0.5256635 ]\n",
      "  [-0.5563627  -0.81515384  0.6256428   0.92795974 -0.95731807]]\n",
      "\n",
      " [[-0.22709988 -0.58170485  0.22413501  0.68141353 -0.69185454]\n",
      "  [-0.64439976 -0.8667141   0.7194453   0.9599478  -0.9795282 ]]]\n"
     ]
    }
   ],
   "source": [
    "# t = 0\n",
    "X_batch = np.array([[[0.0, 0.1, 0.2], [1.1, 1.2, 1.3]],   # instance 0\n",
    "                    [[0.3, 0.4, 0.5], [1.4, 1.5, 1.6]],   # instance 1\n",
    "                    [[0.6, 0.7, 0.8], [1.7, 1.8, 1.9]],   # instance 2\n",
    "                    [[0.9, 1.0, 1.1], [2.0, 2.1, 2.2]]])  # instance 3\n",
    "\n",
    "with tf.Session() as sess:\n",
    "    init.run()\n",
    "    out_vals = sess.run(outputs, feed_dict={X: X_batch})\n",
    "    \n",
    "print(out_vals)"
   ]
  },
  {
   "cell_type": "markdown",
   "metadata": {},
   "source": [
    "### Desdobramento dinâmico no tempo"
   ]
  },
  {
   "cell_type": "markdown",
   "metadata": {},
   "source": [
    "Na prática, contudo, o tensorflow pode poupar todo o trabalho de transposições e mudanças de formas necessárias antes, se usarmos `dynamic_rnn`. De fato, neste caso, o grafo com todas as células para todos instantes no tempo não é realmente criado. O algoritmo usa um laço e controla o processo de atualização de pesos sem consumir tanta memória."
   ]
  },
  {
   "cell_type": "code",
   "execution_count": 15,
   "metadata": {
    "collapsed": true
   },
   "outputs": [],
   "source": [
    "reset_graph()\n",
    "\n",
    "n_inputs = 3\n",
    "n_neurons = 5\n",
    "n_steps = 2"
   ]
  },
  {
   "cell_type": "code",
   "execution_count": 16,
   "metadata": {
    "collapsed": true
   },
   "outputs": [],
   "source": [
    "X = tf.placeholder(tf.float32, [None, n_steps, n_inputs])\n",
    "\n",
    "basic_cell = tf.contrib.rnn.BasicRNNCell(num_units=n_neurons)\n",
    "outputs, states = tf.nn.dynamic_rnn(basic_cell, X, dtype=tf.float32)"
   ]
  },
  {
   "cell_type": "code",
   "execution_count": 17,
   "metadata": {
    "collapsed": true
   },
   "outputs": [],
   "source": [
    "init = tf.global_variables_initializer()"
   ]
  },
  {
   "cell_type": "code",
   "execution_count": 19,
   "metadata": {},
   "outputs": [
    {
     "name": "stdout",
     "output_type": "stream",
     "text": [
      "[[[-0.12536903  0.13399065  0.06619322  0.14388642 -0.00558078]\n",
      "  [-0.8059542   0.8031025   0.5078612   0.9504994   0.03800523]]\n",
      "\n",
      " [[-0.34022027  0.37258416  0.2275392   0.5296505   0.02574121]\n",
      "  [-0.9282176   0.87433124  0.43983948  0.9863469  -0.02313488]]\n",
      "\n",
      " [[-0.52458966  0.57034886  0.3772894   0.7756776   0.05701271]\n",
      "  [-0.9695717   0.92235357  0.39642462  0.9957257  -0.12818918]]\n",
      "\n",
      " [[-0.6701199   0.71855885  0.5096064   0.9013169   0.08817277]\n",
      "  [-0.98487884  0.9527805   0.3875124   0.9985012  -0.2507346 ]]]\n"
     ]
    }
   ],
   "source": [
    "# t = 0\n",
    "X_batch = np.array([[[0.0, 0.1, 0.2], [1.1, 1.2, 1.3]],   # instance 0\n",
    "                    [[0.3, 0.4, 0.5], [1.4, 1.5, 1.6]],   # instance 1\n",
    "                    [[0.6, 0.7, 0.8], [1.7, 1.8, 1.9]],   # instance 2\n",
    "                    [[0.9, 1.0, 1.1], [2.0, 2.1, 2.2]]])  # instance 3\n",
    "\n",
    "with tf.Session() as sess:\n",
    "    init.run()\n",
    "    out_vals = sess.run(outputs, feed_dict={X: X_batch})\n",
    "    \n",
    "print(out_vals)"
   ]
  },
  {
   "cell_type": "markdown",
   "metadata": {},
   "source": [
    "#### Manipulando sequências com tamanho variável"
   ]
  },
  {
   "cell_type": "markdown",
   "metadata": {},
   "source": [
    "Em todos os exemplos acima, nossas entradas tinham o mesmo tamanho. Em muitos problemas, este não é o caso. Por exemplo, em classificação de tweets, cada tweet pode ter um tamanho variável."
   ]
  },
  {
   "cell_type": "code",
   "execution_count": 20,
   "metadata": {
    "collapsed": true
   },
   "outputs": [],
   "source": [
    "reset_graph()\n",
    "\n",
    "n_inputs = 3\n",
    "n_neurons = 5\n",
    "n_steps = 2"
   ]
  },
  {
   "cell_type": "markdown",
   "metadata": {},
   "source": [
    "Se a RNN vai receber sequências de tamanhos diferentes, é necessário informar a lista dos tamanhos:"
   ]
  },
  {
   "cell_type": "code",
   "execution_count": 21,
   "metadata": {
    "collapsed": true
   },
   "outputs": [],
   "source": [
    "X = tf.placeholder(tf.float32, [None, n_steps, n_inputs])\n",
    "seq_lens = tf.placeholder(tf.float32, [None])\n",
    "\n",
    "basic_cell = tf.contrib.rnn.BasicRNNCell(num_units=n_neurons)\n",
    "outputs, states = tf.nn.dynamic_rnn(basic_cell, X, dtype=tf.float32,\n",
    "                                   sequence_length = seq_lens)"
   ]
  },
  {
   "cell_type": "code",
   "execution_count": 22,
   "metadata": {
    "collapsed": true
   },
   "outputs": [],
   "source": [
    "init = tf.global_variables_initializer()"
   ]
  },
  {
   "cell_type": "markdown",
   "metadata": {},
   "source": [
    "E, na entrada, as sequências que tem tamanho menor _tem que ser dadas como zero (padding)_ nos intervalos de tempo que não irão aparecer. Por exemplo, supondo que em nosso exemplo anterior, a segunda instância fosse observada apenas no tempo 0 (sequência de tamanho 1), teríamos:"
   ]
  },
  {
   "cell_type": "code",
   "execution_count": 24,
   "metadata": {},
   "outputs": [
    {
     "name": "stdout",
     "output_type": "stream",
     "text": [
      "[[[ 0.02039886  0.12444817  0.16943736 -0.07733408  0.02524563]\n",
      "  [ 0.71817917  0.8689182   0.96358705 -0.47136068  0.27398974]]\n",
      "\n",
      " [[ 0.22861032  0.41079223  0.60151577 -0.22463728  0.09068716]\n",
      "  [ 0.          0.          0.          0.          0.        ]]\n",
      "\n",
      " [[ 0.41781637  0.6339729   0.8396396  -0.3623429   0.15535478]\n",
      "  [ 0.94111234  0.9610417   0.9878238  -0.4541795   0.49308285]]\n",
      "\n",
      " [[ 0.57660687  0.7854718   0.9407328  -0.4858594   0.21871774]\n",
      "  [ 0.96774274  0.9768544   0.99471605 -0.5186595   0.54894686]]]\n"
     ]
    }
   ],
   "source": [
    "# t = 0\n",
    "X_batch = np.array([[[0.0, 0.1, 0.2], [1.1, 1.2, 1.3]],   # instance 0\n",
    "                    [[0.3, 0.4, 0.5], [0, 0, 0]],         # instance 1 -- padding\n",
    "                    [[0.6, 0.7, 0.8], [1.7, 1.8, 1.9]],   # instance 2\n",
    "                    [[0.9, 1.0, 1.1], [2.0, 2.1, 2.2]]])  # instance 3\n",
    "\n",
    "with tf.Session() as sess:\n",
    "    init.run()\n",
    "    out_vals, state_vals = sess.run([outputs, states], \n",
    "                        feed_dict={X: X_batch, seq_lens: [2,1,2,2]})\n",
    "    \n",
    "print(out_vals)"
   ]
  },
  {
   "cell_type": "markdown",
   "metadata": {},
   "source": [
    "Note que as saídas para o tempo 2 para a segunda instância são zero. Além disso, observe que o estado final da segunda instância corresponde, de fato, ao seu valor no tempo 0:"
   ]
  },
  {
   "cell_type": "code",
   "execution_count": 26,
   "metadata": {},
   "outputs": [
    {
     "name": "stdout",
     "output_type": "stream",
     "text": [
      "[[ 0.71817917  0.8689182   0.96358705 -0.47136068  0.27398974]\n",
      " [ 0.22861032  0.41079223  0.60151577 -0.22463728  0.09068716]\n",
      " [ 0.94111234  0.9610417   0.9878238  -0.4541795   0.49308285]\n",
      " [ 0.96774274  0.9768544   0.99471605 -0.5186595   0.54894686]]\n"
     ]
    }
   ],
   "source": [
    "print(state_vals)"
   ]
  },
  {
   "cell_type": "markdown",
   "metadata": {},
   "source": [
    "Para o caso em que a saída tem tamanho variável, o reconhecimento do fim prematuro será modelado na própria rede. Por exemplo, em tradução, a rede deve emitir uma frase com um número não previamente conhecido de palavras. Assim, a rede deve emitir cada palavra e, quando considerar pertinente, ela emite uma palavra especial que indica _fim de frase_. Ao analisar a saída da rede, são consideradas apenas as palavras observadas antes de _fim de frase_."
   ]
  },
  {
   "cell_type": "markdown",
   "metadata": {},
   "source": [
    "#### O mesmo código em Keras"
   ]
  },
  {
   "cell_type": "code",
   "execution_count": 27,
   "metadata": {},
   "outputs": [
    {
     "name": "stderr",
     "output_type": "stream",
     "text": [
      "Using TensorFlow backend.\n"
     ]
    },
    {
     "name": "stdout",
     "output_type": "stream",
     "text": [
      "_________________________________________________________________\n",
      "Layer (type)                 Output Shape              Param #   \n",
      "=================================================================\n",
      "input_1 (InputLayer)         (None, 2, 3)              0         \n",
      "_________________________________________________________________\n",
      "simple_rnn_1 (SimpleRNN)     (None, 2, 5)              45        \n",
      "=================================================================\n",
      "Total params: 45\n",
      "Trainable params: 45\n",
      "Non-trainable params: 0\n",
      "_________________________________________________________________\n",
      "None\n"
     ]
    }
   ],
   "source": [
    "# Recurrent Neural Network\n",
    "from keras.models import Model\n",
    "from keras.layers import Input, Dense, SimpleRNN\n",
    "\n",
    "# time_steps, input_length\n",
    "visible = Input(shape=(2, 3))\n",
    "# return_sequences = False (default): output.shaep is (5), ie, output from last timestep\n",
    "# return_sequences = True: output.shaep is (2, 5), ie, output from all timesteps; \n",
    "output = SimpleRNN(5, return_sequences = True)(visible)\n",
    "model = Model(inputs=visible, outputs=output)\n",
    "# summarize layers\n",
    "print(model.summary())"
   ]
  },
  {
   "cell_type": "markdown",
   "metadata": {},
   "source": [
    "## Classificando MNIST"
   ]
  },
  {
   "cell_type": "markdown",
   "metadata": {},
   "source": [
    "A ideia de classificar as imagens da MNIST usando uma RNN consiste em considerar que cada imagem é formada por uma sequência de linhas de pixels, cada linha vista em um instante de tempo. "
   ]
  },
  {
   "cell_type": "code",
   "execution_count": 28,
   "metadata": {
    "collapsed": true
   },
   "outputs": [],
   "source": [
    "n_steps = 28\n",
    "n_inputs = 28"
   ]
  },
  {
   "cell_type": "code",
   "execution_count": 29,
   "metadata": {
    "scrolled": true
   },
   "outputs": [
    {
     "name": "stdout",
     "output_type": "stream",
     "text": [
      "WARNING:tensorflow:From <ipython-input-29-ae9b31cef56d>:2: read_data_sets (from tensorflow.contrib.learn.python.learn.datasets.mnist) is deprecated and will be removed in a future version.\n",
      "Instructions for updating:\n",
      "Please use alternatives such as official/mnist/dataset.py from tensorflow/models.\n",
      "WARNING:tensorflow:From E:\\Anaconda\\lib\\site-packages\\tensorflow\\contrib\\learn\\python\\learn\\datasets\\mnist.py:260: maybe_download (from tensorflow.contrib.learn.python.learn.datasets.base) is deprecated and will be removed in a future version.\n",
      "Instructions for updating:\n",
      "Please write your own downloading logic.\n",
      "WARNING:tensorflow:From E:\\Anaconda\\lib\\site-packages\\tensorflow\\contrib\\learn\\python\\learn\\datasets\\mnist.py:262: extract_images (from tensorflow.contrib.learn.python.learn.datasets.mnist) is deprecated and will be removed in a future version.\n",
      "Instructions for updating:\n",
      "Please use tf.data to implement this functionality.\n",
      "Extracting data/MNIST_data\\train-images-idx3-ubyte.gz\n",
      "WARNING:tensorflow:From E:\\Anaconda\\lib\\site-packages\\tensorflow\\contrib\\learn\\python\\learn\\datasets\\mnist.py:267: extract_labels (from tensorflow.contrib.learn.python.learn.datasets.mnist) is deprecated and will be removed in a future version.\n",
      "Instructions for updating:\n",
      "Please use tf.data to implement this functionality.\n",
      "Extracting data/MNIST_data\\train-labels-idx1-ubyte.gz\n",
      "Extracting data/MNIST_data\\t10k-images-idx3-ubyte.gz\n",
      "Extracting data/MNIST_data\\t10k-labels-idx1-ubyte.gz\n",
      "WARNING:tensorflow:From E:\\Anaconda\\lib\\site-packages\\tensorflow\\contrib\\learn\\python\\learn\\datasets\\mnist.py:290: DataSet.__init__ (from tensorflow.contrib.learn.python.learn.datasets.mnist) is deprecated and will be removed in a future version.\n",
      "Instructions for updating:\n",
      "Please use alternatives such as official/mnist/dataset.py from tensorflow/models.\n"
     ]
    }
   ],
   "source": [
    "from tensorflow.examples.tutorials.mnist import input_data\n",
    "mnist = input_data.read_data_sets(\"data/MNIST_data\")\n",
    "X_test = mnist.test.images.reshape((-1, n_steps, n_inputs))\n",
    "y_test = mnist.test.labels"
   ]
  },
  {
   "cell_type": "markdown",
   "metadata": {},
   "source": [
    "Vamos construir uma rede em que cada célula RNN tem 150 neurônios. O estado final da RNN (um código com 150 valores) então será entrada para uma rede densa com dez neurônios agregados via softmax, como ilustrado abaixo (nós vermelhos com dimensão 28, verdes com dimensão 150 e azul com dimensão 10; 28 desdobramentos no tempo). \n",
    "\n",
    "<img src=\"images/rnn1.png\" alt=\"Exemplo de RNN\" style=\"width: 600px;\"/>"
   ]
  },
  {
   "cell_type": "code",
   "execution_count": 36,
   "metadata": {
    "collapsed": true
   },
   "outputs": [],
   "source": [
    "n_neurons = 100\n",
    "n_outputs = 10"
   ]
  },
  {
   "cell_type": "code",
   "execution_count": 31,
   "metadata": {
    "scrolled": false
   },
   "outputs": [
    {
     "name": "stdout",
     "output_type": "stream",
     "text": [
      "_________________________________________________________________\n",
      "Layer (type)                 Output Shape              Param #   \n",
      "=================================================================\n",
      "input_2 (InputLayer)         (None, 28, 28)            0         \n",
      "_________________________________________________________________\n",
      "simple_rnn_2 (SimpleRNN)     (None, 150)               26850     \n",
      "_________________________________________________________________\n",
      "dense_1 (Dense)              (None, 10)                1510      \n",
      "=================================================================\n",
      "Total params: 28,360\n",
      "Trainable params: 28,360\n",
      "Non-trainable params: 0\n",
      "_________________________________________________________________\n",
      "None\n"
     ]
    }
   ],
   "source": [
    "# Recurrent Neural Network\n",
    "from keras.models import Model\n",
    "from keras.layers import Input, Dense, SimpleRNN\n",
    "\n",
    "# time_steps, input_length\n",
    "visible = Input(shape=(n_steps, n_inputs))\n",
    "hidden = SimpleRNN(n_neurons, return_sequences = False)(visible)\n",
    "output = Dense(n_outputs, activation = 'softmax')(hidden)\n",
    "\n",
    "model = Model(inputs=visible, outputs=output)\n",
    "model.compile(optimizer = 'adam', loss = 'categorical_crossentropy', metrics = ['acc'])\n",
    "\n",
    "# summarize layers\n",
    "print(model.summary())"
   ]
  },
  {
   "cell_type": "code",
   "execution_count": 32,
   "metadata": {
    "collapsed": true
   },
   "outputs": [],
   "source": [
    "from keras.utils import to_categorical\n",
    "train_images = mnist.train.images.reshape((55000, 28, 28))\n",
    "train_labels = to_categorical(mnist.train.labels)"
   ]
  },
  {
   "cell_type": "markdown",
   "metadata": {},
   "source": [
    "Vamos treinar a nossa rede usando batches de 150 instâncias: "
   ]
  },
  {
   "cell_type": "code",
   "execution_count": 33,
   "metadata": {},
   "outputs": [
    {
     "name": "stdout",
     "output_type": "stream",
     "text": [
      "Train on 49500 samples, validate on 5500 samples\n",
      "Epoch 1/10\n",
      "49500/49500 [==============================] - 9s 180us/step - loss: 0.4695 - acc: 0.8612 - val_loss: 0.2184 - val_acc: 0.9378\n",
      "Epoch 2/10\n",
      "49500/49500 [==============================] - 9s 172us/step - loss: 0.2017 - acc: 0.9412 - val_loss: 0.1398 - val_acc: 0.9602\n",
      "Epoch 3/10\n",
      "49500/49500 [==============================] - 8s 171us/step - loss: 0.1588 - acc: 0.9529 - val_loss: 0.1368 - val_acc: 0.9595\n",
      "Epoch 4/10\n",
      "49500/49500 [==============================] - 9s 172us/step - loss: 0.1369 - acc: 0.9601 - val_loss: 0.1082 - val_acc: 0.9684\n",
      "Epoch 5/10\n",
      "49500/49500 [==============================] - 8s 171us/step - loss: 0.1190 - acc: 0.9638 - val_loss: 0.1237 - val_acc: 0.9660\n",
      "Epoch 6/10\n",
      "49500/49500 [==============================] - 8s 170us/step - loss: 0.1053 - acc: 0.9683 - val_loss: 0.0983 - val_acc: 0.9716\n",
      "Epoch 7/10\n",
      "49500/49500 [==============================] - 8s 164us/step - loss: 0.0992 - acc: 0.9707 - val_loss: 0.1078 - val_acc: 0.9691\n",
      "Epoch 8/10\n",
      "49500/49500 [==============================] - 8s 164us/step - loss: 0.0920 - acc: 0.9724 - val_loss: 0.0957 - val_acc: 0.9738\n",
      "Epoch 9/10\n",
      "49500/49500 [==============================] - 8s 164us/step - loss: 0.0869 - acc: 0.9742 - val_loss: 0.1011 - val_acc: 0.9715\n",
      "Epoch 10/10\n",
      "49500/49500 [==============================] - 8s 164us/step - loss: 0.0835 - acc: 0.9755 - val_loss: 0.1047 - val_acc: 0.9705\n"
     ]
    }
   ],
   "source": [
    "n_epochs = 10\n",
    "batch_size = 150\n",
    "history = model.fit(train_images, train_labels, epochs = n_epochs, \n",
    "                    batch_size = batch_size, validation_split = 0.1)"
   ]
  },
  {
   "cell_type": "markdown",
   "metadata": {
    "collapsed": true
   },
   "source": [
    "E em tensorflow puro?\n",
    "\n",
    "```python\n",
    "reset_graph()\n",
    "\n",
    "learning_rate = 0.001\n",
    "\n",
    "X = tf.placeholder(tf.float32, [None, n_steps, n_inputs])\n",
    "y = tf.placeholder(tf.int32, [None])\n",
    "\n",
    "basic_cell = tf.contrib.rnn.BasicRNNCell(num_units=n_neurons)\n",
    "outputs, states = tf.nn.dynamic_rnn(basic_cell, X, dtype=tf.float32)\n",
    "\n",
    "logits = tf.layers.dense(states, n_outputs)\n",
    "xentropy = tf.nn.sparse_softmax_cross_entropy_with_logits(labels=y,\n",
    "                                                          logits=logits)\n",
    "loss = tf.reduce_mean(xentropy)\n",
    "optimizer = tf.train.AdamOptimizer(learning_rate=learning_rate)\n",
    "training_op = optimizer.minimize(loss)\n",
    "accuracy = tf.reduce_mean(tf.cast(tf.nn.in_top_k(logits, y, 1), \n",
    "                                  tf.float32))\n",
    "\n",
    "init = tf.global_variables_initializer()\n",
    "\n",
    "```\n",
    "\n",
    "Treinamento com batches de 150 instâncias: \n",
    "\n",
    "```python\n",
    "with tf.Session() as s:\n",
    "    init.run()\n",
    "    for e in range(n_epochs):\n",
    "        for iteration in range(mnist.train.num_examples // batch_size):\n",
    "            X_batch, y_batch = mnist.train.next_batch(batch_size)\n",
    "            X_batch = X_batch.reshape((-1, n_steps, n_inputs))\n",
    "            s.run(training_op, feed_dict={X: X_batch, y: y_batch})\n",
    "        acc_train = accuracy.eval(feed_dict={X: X_batch, y: y_batch})\n",
    "        acc_test = accuracy.eval(feed_dict={X: X_test, y: y_test})\n",
    "        print '%d - accuracy tr: %.6f test: %.6f' % (e, acc_train, acc_test)\n",
    "```"
   ]
  },
  {
   "cell_type": "markdown",
   "metadata": {},
   "source": [
    "## Classificando MNIST com uma RNN de 2 camadas\n",
    "\n",
    "Vamos agora modificar nossa RNN para suportar 2 camadas, como no diagrama a seguir:"
   ]
  },
  {
   "cell_type": "markdown",
   "metadata": {},
   "source": [
    "<img src=\"images/rnn1multi.png\" alt=\"Exemplo de RNN\" style=\"width: 700px;\"/>"
   ]
  },
  {
   "cell_type": "markdown",
   "metadata": {},
   "source": [
    "Para implementar múltiplas camadas em uma RNN com Keras basta empilhá-las. É claro, desta vez, cada camada anterior deve fornecer tanto saídas quanto estados:"
   ]
  },
  {
   "cell_type": "code",
   "execution_count": 37,
   "metadata": {
    "scrolled": false
   },
   "outputs": [
    {
     "name": "stdout",
     "output_type": "stream",
     "text": [
      "_________________________________________________________________\n",
      "Layer (type)                 Output Shape              Param #   \n",
      "=================================================================\n",
      "input_4 (InputLayer)         (None, 28, 28)            0         \n",
      "_________________________________________________________________\n",
      "simple_rnn_5 (SimpleRNN)     (None, 28, 100)           12900     \n",
      "_________________________________________________________________\n",
      "simple_rnn_6 (SimpleRNN)     (None, 100)               20100     \n",
      "_________________________________________________________________\n",
      "dense_3 (Dense)              (None, 10)                1010      \n",
      "=================================================================\n",
      "Total params: 34,010\n",
      "Trainable params: 34,010\n",
      "Non-trainable params: 0\n",
      "_________________________________________________________________\n",
      "None\n"
     ]
    }
   ],
   "source": [
    "# time_steps, input_length\n",
    "visible = Input(shape=(n_steps, n_inputs))\n",
    "h1 = SimpleRNN(n_neurons, return_sequences = True)(visible)\n",
    "h2 = SimpleRNN(n_neurons, return_sequences = False)(h1)\n",
    "output = Dense(n_outputs, activation = 'softmax')(h2)\n",
    "\n",
    "model = Model(inputs=visible, outputs=output)\n",
    "model.compile(optimizer = 'adam', loss = 'categorical_crossentropy', metrics = ['acc'])\n",
    "\n",
    "# summarize layers\n",
    "print(model.summary())"
   ]
  },
  {
   "cell_type": "code",
   "execution_count": 38,
   "metadata": {
    "scrolled": true
   },
   "outputs": [
    {
     "name": "stdout",
     "output_type": "stream",
     "text": [
      "Train on 49500 samples, validate on 5500 samples\n",
      "Epoch 1/10\n",
      "32700/49500 [==================>...........] - ETA: 5s - loss: 0.5667 - acc: 0.8214"
     ]
    },
    {
     "ename": "KeyboardInterrupt",
     "evalue": "",
     "output_type": "error",
     "traceback": [
      "\u001b[1;31m---------------------------------------------------------------------------\u001b[0m",
      "\u001b[1;31mKeyboardInterrupt\u001b[0m                         Traceback (most recent call last)",
      "\u001b[1;32m<ipython-input-38-e81d003780f5>\u001b[0m in \u001b[0;36m<module>\u001b[1;34m()\u001b[0m\n\u001b[0;32m      1\u001b[0m history = model.fit(train_images, train_labels, epochs = n_epochs, \n\u001b[1;32m----> 2\u001b[1;33m                     batch_size = batch_size, validation_split = 0.1)\n\u001b[0m",
      "\u001b[1;32mE:\\Anaconda\\lib\\site-packages\\keras\\engine\\training.py\u001b[0m in \u001b[0;36mfit\u001b[1;34m(self, x, y, batch_size, epochs, verbose, callbacks, validation_split, validation_data, shuffle, class_weight, sample_weight, initial_epoch, steps_per_epoch, validation_steps, **kwargs)\u001b[0m\n\u001b[0;32m   1035\u001b[0m                                         \u001b[0minitial_epoch\u001b[0m\u001b[1;33m=\u001b[0m\u001b[0minitial_epoch\u001b[0m\u001b[1;33m,\u001b[0m\u001b[1;33m\u001b[0m\u001b[0m\n\u001b[0;32m   1036\u001b[0m                                         \u001b[0msteps_per_epoch\u001b[0m\u001b[1;33m=\u001b[0m\u001b[0msteps_per_epoch\u001b[0m\u001b[1;33m,\u001b[0m\u001b[1;33m\u001b[0m\u001b[0m\n\u001b[1;32m-> 1037\u001b[1;33m                                         validation_steps=validation_steps)\n\u001b[0m\u001b[0;32m   1038\u001b[0m \u001b[1;33m\u001b[0m\u001b[0m\n\u001b[0;32m   1039\u001b[0m     def evaluate(self, x=None, y=None,\n",
      "\u001b[1;32mE:\\Anaconda\\lib\\site-packages\\keras\\engine\\training_arrays.py\u001b[0m in \u001b[0;36mfit_loop\u001b[1;34m(model, f, ins, out_labels, batch_size, epochs, verbose, callbacks, val_f, val_ins, shuffle, callback_metrics, initial_epoch, steps_per_epoch, validation_steps)\u001b[0m\n\u001b[0;32m    197\u001b[0m                     \u001b[0mins_batch\u001b[0m\u001b[1;33m[\u001b[0m\u001b[0mi\u001b[0m\u001b[1;33m]\u001b[0m \u001b[1;33m=\u001b[0m \u001b[0mins_batch\u001b[0m\u001b[1;33m[\u001b[0m\u001b[0mi\u001b[0m\u001b[1;33m]\u001b[0m\u001b[1;33m.\u001b[0m\u001b[0mtoarray\u001b[0m\u001b[1;33m(\u001b[0m\u001b[1;33m)\u001b[0m\u001b[1;33m\u001b[0m\u001b[0m\n\u001b[0;32m    198\u001b[0m \u001b[1;33m\u001b[0m\u001b[0m\n\u001b[1;32m--> 199\u001b[1;33m                 \u001b[0mouts\u001b[0m \u001b[1;33m=\u001b[0m \u001b[0mf\u001b[0m\u001b[1;33m(\u001b[0m\u001b[0mins_batch\u001b[0m\u001b[1;33m)\u001b[0m\u001b[1;33m\u001b[0m\u001b[0m\n\u001b[0m\u001b[0;32m    200\u001b[0m                 \u001b[0mouts\u001b[0m \u001b[1;33m=\u001b[0m \u001b[0mto_list\u001b[0m\u001b[1;33m(\u001b[0m\u001b[0mouts\u001b[0m\u001b[1;33m)\u001b[0m\u001b[1;33m\u001b[0m\u001b[0m\n\u001b[0;32m    201\u001b[0m                 \u001b[1;32mfor\u001b[0m \u001b[0ml\u001b[0m\u001b[1;33m,\u001b[0m \u001b[0mo\u001b[0m \u001b[1;32min\u001b[0m \u001b[0mzip\u001b[0m\u001b[1;33m(\u001b[0m\u001b[0mout_labels\u001b[0m\u001b[1;33m,\u001b[0m \u001b[0mouts\u001b[0m\u001b[1;33m)\u001b[0m\u001b[1;33m:\u001b[0m\u001b[1;33m\u001b[0m\u001b[0m\n",
      "\u001b[1;32mE:\\Anaconda\\lib\\site-packages\\keras\\backend\\tensorflow_backend.py\u001b[0m in \u001b[0;36m__call__\u001b[1;34m(self, inputs)\u001b[0m\n\u001b[0;32m   2664\u001b[0m                 \u001b[1;32mreturn\u001b[0m \u001b[0mself\u001b[0m\u001b[1;33m.\u001b[0m\u001b[0m_legacy_call\u001b[0m\u001b[1;33m(\u001b[0m\u001b[0minputs\u001b[0m\u001b[1;33m)\u001b[0m\u001b[1;33m\u001b[0m\u001b[0m\n\u001b[0;32m   2665\u001b[0m \u001b[1;33m\u001b[0m\u001b[0m\n\u001b[1;32m-> 2666\u001b[1;33m             \u001b[1;32mreturn\u001b[0m \u001b[0mself\u001b[0m\u001b[1;33m.\u001b[0m\u001b[0m_call\u001b[0m\u001b[1;33m(\u001b[0m\u001b[0minputs\u001b[0m\u001b[1;33m)\u001b[0m\u001b[1;33m\u001b[0m\u001b[0m\n\u001b[0m\u001b[0;32m   2667\u001b[0m         \u001b[1;32melse\u001b[0m\u001b[1;33m:\u001b[0m\u001b[1;33m\u001b[0m\u001b[0m\n\u001b[0;32m   2668\u001b[0m             \u001b[1;32mif\u001b[0m \u001b[0mpy_any\u001b[0m\u001b[1;33m(\u001b[0m\u001b[0mis_tensor\u001b[0m\u001b[1;33m(\u001b[0m\u001b[0mx\u001b[0m\u001b[1;33m)\u001b[0m \u001b[1;32mfor\u001b[0m \u001b[0mx\u001b[0m \u001b[1;32min\u001b[0m \u001b[0minputs\u001b[0m\u001b[1;33m)\u001b[0m\u001b[1;33m:\u001b[0m\u001b[1;33m\u001b[0m\u001b[0m\n",
      "\u001b[1;32mE:\\Anaconda\\lib\\site-packages\\keras\\backend\\tensorflow_backend.py\u001b[0m in \u001b[0;36m_call\u001b[1;34m(self, inputs)\u001b[0m\n\u001b[0;32m   2634\u001b[0m                                 \u001b[0msymbol_vals\u001b[0m\u001b[1;33m,\u001b[0m\u001b[1;33m\u001b[0m\u001b[0m\n\u001b[0;32m   2635\u001b[0m                                 session)\n\u001b[1;32m-> 2636\u001b[1;33m         \u001b[0mfetched\u001b[0m \u001b[1;33m=\u001b[0m \u001b[0mself\u001b[0m\u001b[1;33m.\u001b[0m\u001b[0m_callable_fn\u001b[0m\u001b[1;33m(\u001b[0m\u001b[1;33m*\u001b[0m\u001b[0marray_vals\u001b[0m\u001b[1;33m)\u001b[0m\u001b[1;33m\u001b[0m\u001b[0m\n\u001b[0m\u001b[0;32m   2637\u001b[0m         \u001b[1;32mreturn\u001b[0m \u001b[0mfetched\u001b[0m\u001b[1;33m[\u001b[0m\u001b[1;33m:\u001b[0m\u001b[0mlen\u001b[0m\u001b[1;33m(\u001b[0m\u001b[0mself\u001b[0m\u001b[1;33m.\u001b[0m\u001b[0moutputs\u001b[0m\u001b[1;33m)\u001b[0m\u001b[1;33m]\u001b[0m\u001b[1;33m\u001b[0m\u001b[0m\n\u001b[0;32m   2638\u001b[0m \u001b[1;33m\u001b[0m\u001b[0m\n",
      "\u001b[1;32mE:\\Anaconda\\lib\\site-packages\\tensorflow\\python\\client\\session.py\u001b[0m in \u001b[0;36m__call__\u001b[1;34m(self, *args, **kwargs)\u001b[0m\n\u001b[0;32m   1380\u001b[0m           ret = tf_session.TF_SessionRunCallable(\n\u001b[0;32m   1381\u001b[0m               \u001b[0mself\u001b[0m\u001b[1;33m.\u001b[0m\u001b[0m_session\u001b[0m\u001b[1;33m.\u001b[0m\u001b[0m_session\u001b[0m\u001b[1;33m,\u001b[0m \u001b[0mself\u001b[0m\u001b[1;33m.\u001b[0m\u001b[0m_handle\u001b[0m\u001b[1;33m,\u001b[0m \u001b[0margs\u001b[0m\u001b[1;33m,\u001b[0m \u001b[0mstatus\u001b[0m\u001b[1;33m,\u001b[0m\u001b[1;33m\u001b[0m\u001b[0m\n\u001b[1;32m-> 1382\u001b[1;33m               run_metadata_ptr)\n\u001b[0m\u001b[0;32m   1383\u001b[0m         \u001b[1;32mif\u001b[0m \u001b[0mrun_metadata\u001b[0m\u001b[1;33m:\u001b[0m\u001b[1;33m\u001b[0m\u001b[0m\n\u001b[0;32m   1384\u001b[0m           \u001b[0mproto_data\u001b[0m \u001b[1;33m=\u001b[0m \u001b[0mtf_session\u001b[0m\u001b[1;33m.\u001b[0m\u001b[0mTF_GetBuffer\u001b[0m\u001b[1;33m(\u001b[0m\u001b[0mrun_metadata_ptr\u001b[0m\u001b[1;33m)\u001b[0m\u001b[1;33m\u001b[0m\u001b[0m\n",
      "\u001b[1;31mKeyboardInterrupt\u001b[0m: "
     ]
    }
   ],
   "source": [
    "history = model.fit(train_images, train_labels, epochs = n_epochs, \n",
    "                    batch_size = batch_size, validation_split = 0.1)"
   ]
  },
  {
   "cell_type": "markdown",
   "metadata": {},
   "source": [
    "Note contudo que nossa arquitetura anterior não corresponde exatamente ao diagrama dado, uma vez que a decisão final da rede depende apenas do último estado da última camada. No diagrama, ao contrário, ela depende dos estados finais das duas camadas. Agora que a rede tem tantos estados finais quanto camadas, a representação a ser fornecida para a rede densa pode envolver qualquer agregação dos estados finais. Abaixo, fornecemos uma representação precisa do diagrama dado, modelando a decisão como a concatenação dos estados finais."
   ]
  },
  {
   "cell_type": "code",
   "execution_count": 39,
   "metadata": {
    "collapsed": true,
    "scrolled": false
   },
   "outputs": [],
   "source": [
    "from keras.layers.merge import Concatenate\n",
    "from keras.layers import Lambda\n",
    "\n",
    "# time_steps, input_length\n",
    "visible = Input(shape=(n_steps, n_inputs))\n",
    "h1 = SimpleRNN(n_neurons, return_sequences = True)(visible)\n",
    "h2 = SimpleRNN(n_neurons, return_sequences = False)(h1)\n",
    "h1_last = Lambda(lambda x: x[:,-1,:])(h1)\n",
    "merge = Concatenate()([h1_last, h2])\n",
    "output = Dense(n_outputs, activation = 'softmax')(merge)\n",
    "\n",
    "model = Model(inputs=visible, outputs=output)\n",
    "model.compile(optimizer = 'adam', loss = 'categorical_crossentropy', metrics = ['acc'])"
   ]
  },
  {
   "cell_type": "markdown",
   "metadata": {},
   "source": [
    "Um detalhe importante desta implementação é o uso de uma camada Lambda do Keras. Ela permite que do tensor de entrada h1 (com shape (batch_size, n_layers, n_neurons)) sejam obtidos apenas os estados da última camada (ou seja, x[:, -1, :] para x correspondendo ao valor de h1). O estado obtido (h1_last) é concatenado com o estado final da última camada (h2) e dado como entrada para a camada densa. Camadas Lambda permitem que transformações arbitrárias sejam executadas sobre os dados fluindo entre as camadas."
   ]
  },
  {
   "cell_type": "code",
   "execution_count": 40,
   "metadata": {
    "scrolled": false
   },
   "outputs": [
    {
     "name": "stdout",
     "output_type": "stream",
     "text": [
      "__________________________________________________________________________________________________\n",
      "Layer (type)                    Output Shape         Param #     Connected to                     \n",
      "==================================================================================================\n",
      "input_5 (InputLayer)            (None, 28, 28)       0                                            \n",
      "__________________________________________________________________________________________________\n",
      "simple_rnn_7 (SimpleRNN)        (None, 28, 100)      12900       input_5[0][0]                    \n",
      "__________________________________________________________________________________________________\n",
      "lambda_1 (Lambda)               (None, 100)          0           simple_rnn_7[0][0]               \n",
      "__________________________________________________________________________________________________\n",
      "simple_rnn_8 (SimpleRNN)        (None, 100)          20100       simple_rnn_7[0][0]               \n",
      "__________________________________________________________________________________________________\n",
      "concatenate_1 (Concatenate)     (None, 200)          0           lambda_1[0][0]                   \n",
      "                                                                 simple_rnn_8[0][0]               \n",
      "__________________________________________________________________________________________________\n",
      "dense_4 (Dense)                 (None, 10)           2010        concatenate_1[0][0]              \n",
      "==================================================================================================\n",
      "Total params: 35,010\n",
      "Trainable params: 35,010\n",
      "Non-trainable params: 0\n",
      "__________________________________________________________________________________________________\n",
      "None\n"
     ]
    }
   ],
   "source": [
    "# summarize layers\n",
    "print(model.summary())"
   ]
  },
  {
   "cell_type": "code",
   "execution_count": 41,
   "metadata": {},
   "outputs": [
    {
     "name": "stdout",
     "output_type": "stream",
     "text": [
      "Train on 49500 samples, validate on 5500 samples\n",
      "Epoch 1/10\n",
      "49500/49500 [==============================] - 17s 336us/step - loss: 0.4382 - acc: 0.8655 - val_loss: 0.1799 - val_acc: 0.9458\n",
      "Epoch 2/10\n",
      "49500/49500 [==============================] - 15s 312us/step - loss: 0.1837 - acc: 0.9450 - val_loss: 0.1290 - val_acc: 0.9627\n",
      "Epoch 3/10\n",
      "49500/49500 [==============================] - 15s 309us/step - loss: 0.1382 - acc: 0.9590 - val_loss: 0.1058 - val_acc: 0.9695\n",
      "Epoch 4/10\n",
      "49500/49500 [==============================] - 15s 310us/step - loss: 0.1237 - acc: 0.9630 - val_loss: 0.1018 - val_acc: 0.9718\n",
      "Epoch 5/10\n",
      "49500/49500 [==============================] - 15s 312us/step - loss: 0.1071 - acc: 0.9686 - val_loss: 0.0995 - val_acc: 0.9720\n",
      "Epoch 6/10\n",
      "49500/49500 [==============================] - 15s 312us/step - loss: 0.0949 - acc: 0.9715 - val_loss: 0.1023 - val_acc: 0.9709\n",
      "Epoch 7/10\n",
      "49500/49500 [==============================] - 15s 312us/step - loss: 0.0923 - acc: 0.9722 - val_loss: 0.0857 - val_acc: 0.9736\n",
      "Epoch 8/10\n",
      "49500/49500 [==============================] - 15s 312us/step - loss: 0.0849 - acc: 0.9744 - val_loss: 0.0715 - val_acc: 0.9795\n",
      "Epoch 9/10\n",
      "49500/49500 [==============================] - 15s 312us/step - loss: 0.0801 - acc: 0.9759 - val_loss: 0.0858 - val_acc: 0.9725\n",
      "Epoch 10/10\n",
      "49500/49500 [==============================] - 16s 315us/step - loss: 0.0787 - acc: 0.9760 - val_loss: 0.0727 - val_acc: 0.9807\n"
     ]
    }
   ],
   "source": [
    "history = model.fit(train_images, train_labels, epochs = n_epochs, \n",
    "                    batch_size = batch_size, validation_split = 0.1)"
   ]
  },
  {
   "cell_type": "markdown",
   "metadata": {
    "collapsed": true
   },
   "source": [
    "## Prevendo séries de tempo\n",
    "### Um modelo $n \\times n$"
   ]
  },
  {
   "cell_type": "markdown",
   "metadata": {},
   "source": [
    "Um dos problemas mais comuns em aprendizado de sequência/temporal é previsão de séries de tempo. Neste caso, dada um evento no tempo, o modelo deve prever o resultado do evento no tempo seguinte. Vamos tomar como exemplo o número de passageiros mensal nos EUA entre 1949 e 1961:"
   ]
  },
  {
   "cell_type": "code",
   "execution_count": 42,
   "metadata": {},
   "outputs": [],
   "source": [
    "import pandas as pd\n",
    "import numpy as np\n",
    "import random\n",
    "import matplotlib.pyplot as plt\n",
    "%matplotlib inline\n",
    "\n",
    "airline = pd.read_csv('data/airline.csv')"
   ]
  },
  {
   "cell_type": "code",
   "execution_count": 43,
   "metadata": {},
   "outputs": [
    {
     "data": {
      "text/html": [
       "<div>\n",
       "<style>\n",
       "    .dataframe thead tr:only-child th {\n",
       "        text-align: right;\n",
       "    }\n",
       "\n",
       "    .dataframe thead th {\n",
       "        text-align: left;\n",
       "    }\n",
       "\n",
       "    .dataframe tbody tr th {\n",
       "        vertical-align: top;\n",
       "    }\n",
       "</style>\n",
       "<table border=\"1\" class=\"dataframe\">\n",
       "  <thead>\n",
       "    <tr style=\"text-align: right;\">\n",
       "      <th></th>\n",
       "      <th>passengers</th>\n",
       "      <th>date</th>\n",
       "    </tr>\n",
       "  </thead>\n",
       "  <tbody>\n",
       "    <tr>\n",
       "      <th>0</th>\n",
       "      <td>112</td>\n",
       "      <td>1949-01-01</td>\n",
       "    </tr>\n",
       "    <tr>\n",
       "      <th>1</th>\n",
       "      <td>118</td>\n",
       "      <td>1949-02-01</td>\n",
       "    </tr>\n",
       "    <tr>\n",
       "      <th>2</th>\n",
       "      <td>132</td>\n",
       "      <td>1949-03-01</td>\n",
       "    </tr>\n",
       "    <tr>\n",
       "      <th>3</th>\n",
       "      <td>129</td>\n",
       "      <td>1949-04-01</td>\n",
       "    </tr>\n",
       "    <tr>\n",
       "      <th>4</th>\n",
       "      <td>121</td>\n",
       "      <td>1949-05-01</td>\n",
       "    </tr>\n",
       "  </tbody>\n",
       "</table>\n",
       "</div>"
      ],
      "text/plain": [
       "   passengers        date\n",
       "0         112  1949-01-01\n",
       "1         118  1949-02-01\n",
       "2         132  1949-03-01\n",
       "3         129  1949-04-01\n",
       "4         121  1949-05-01"
      ]
     },
     "execution_count": 43,
     "metadata": {},
     "output_type": "execute_result"
    }
   ],
   "source": [
    "airline.head(5)"
   ]
  },
  {
   "cell_type": "code",
   "execution_count": 44,
   "metadata": {},
   "outputs": [
    {
     "data": {
      "text/plain": [
       "144"
      ]
     },
     "execution_count": 44,
     "metadata": {},
     "output_type": "execute_result"
    }
   ],
   "source": [
    "len(airline)"
   ]
  },
  {
   "cell_type": "code",
   "execution_count": 45,
   "metadata": {
    "scrolled": false
   },
   "outputs": [
    {
     "data": {
      "text/plain": [
       "<matplotlib.axes._subplots.AxesSubplot at 0x1eaef4d7208>"
      ]
     },
     "execution_count": 45,
     "metadata": {},
     "output_type": "execute_result"
    },
    {
     "data": {
      "image/png": "[encoded data removed]",
      "text/plain": [
       "<matplotlib.figure.Figure at 0x1eaef4e0860>"
      ]
     },
     "metadata": {},
     "output_type": "display_data"
    }
   ],
   "source": [
    "series = airline['passengers']\n",
    "series.plot()"
   ]
  },
  {
   "cell_type": "markdown",
   "metadata": {},
   "source": [
    "Vamos agora preparar a série para supervisão. A idéia é que cada quantidade de passageiros em um certo momento no tempo seja uma variável útil para prever a quantidade no próximo momento no tempo. Vamos usar a operação shift() do pandas para isso:"
   ]
  },
  {
   "cell_type": "code",
   "execution_count": 46,
   "metadata": {
    "collapsed": true
   },
   "outputs": [],
   "source": [
    "def transform_data(series, target, lag = 1):\n",
    "    # transfor to supervised learning\n",
    "    series = series.iloc[1:]\n",
    "    series = pd.concat([series.shift(1), series], axis = 1)\n",
    "    series.fillna(0, inplace=True)\n",
    "    return series"
   ]
  },
  {
   "cell_type": "code",
   "execution_count": 47,
   "metadata": {},
   "outputs": [
    {
     "data": {
      "text/html": [
       "<div>\n",
       "<style>\n",
       "    .dataframe thead tr:only-child th {\n",
       "        text-align: right;\n",
       "    }\n",
       "\n",
       "    .dataframe thead th {\n",
       "        text-align: left;\n",
       "    }\n",
       "\n",
       "    .dataframe tbody tr th {\n",
       "        vertical-align: top;\n",
       "    }\n",
       "</style>\n",
       "<table border=\"1\" class=\"dataframe\">\n",
       "  <thead>\n",
       "    <tr style=\"text-align: right;\">\n",
       "      <th></th>\n",
       "      <th>passengers</th>\n",
       "      <th>passengers</th>\n",
       "    </tr>\n",
       "  </thead>\n",
       "  <tbody>\n",
       "    <tr>\n",
       "      <th>1</th>\n",
       "      <td>0.0</td>\n",
       "      <td>118</td>\n",
       "    </tr>\n",
       "    <tr>\n",
       "      <th>2</th>\n",
       "      <td>118.0</td>\n",
       "      <td>132</td>\n",
       "    </tr>\n",
       "    <tr>\n",
       "      <th>3</th>\n",
       "      <td>132.0</td>\n",
       "      <td>129</td>\n",
       "    </tr>\n",
       "    <tr>\n",
       "      <th>4</th>\n",
       "      <td>129.0</td>\n",
       "      <td>121</td>\n",
       "    </tr>\n",
       "    <tr>\n",
       "      <th>5</th>\n",
       "      <td>121.0</td>\n",
       "      <td>135</td>\n",
       "    </tr>\n",
       "  </tbody>\n",
       "</table>\n",
       "</div>"
      ],
      "text/plain": [
       "   passengers  passengers\n",
       "1         0.0         118\n",
       "2       118.0         132\n",
       "3       132.0         129\n",
       "4       129.0         121\n",
       "5       121.0         135"
      ]
     },
     "execution_count": 47,
     "metadata": {},
     "output_type": "execute_result"
    }
   ],
   "source": [
    "supervised = transform_data(series, 'passengers')\n",
    "supervised_values = supervised.values\n",
    "supervised.head()"
   ]
  },
  {
   "cell_type": "markdown",
   "metadata": {},
   "source": [
    "Agora podemos separar os dados em treino e teste, onde o teste corresponde ao horizonte de tempo para o qual prentendemos fazer previsões. Por exemplo, vamos considerar um horizonte de 40 meses:"
   ]
  },
  {
   "cell_type": "code",
   "execution_count": 48,
   "metadata": {
    "collapsed": true
   },
   "outputs": [],
   "source": [
    "horizon = 40\n",
    "train, test = supervised_values[0:-horizon], supervised_values[-horizon:]"
   ]
  },
  {
   "cell_type": "markdown",
   "metadata": {},
   "source": [
    "Antes de iniciar qualquer previsão, os dados devem ser escalados. Aqui vamos usar uma escala simples para colocar os dados entre -1 e 1:"
   ]
  },
  {
   "cell_type": "code",
   "execution_count": 49,
   "metadata": {
    "collapsed": true
   },
   "outputs": [],
   "source": [
    "from sklearn.preprocessing import MinMaxScaler\n",
    "\n",
    "# scale train and test data to [-1, 1]\n",
    "def scale(train, test):\n",
    "    # fit scaler\n",
    "    scaler = MinMaxScaler(feature_range=(-1, 1))\n",
    "    scaler = scaler.fit(train)\n",
    "    # transform train\n",
    "    train = train.reshape(train.shape[0], train.shape[1])\n",
    "    train_scaled = scaler.transform(train)\n",
    "    # transform test\n",
    "    test = test.reshape(test.shape[0], test.shape[1])\n",
    "    test_scaled = scaler.transform(test)\n",
    "    return scaler, train_scaled, test_scaled\n",
    "\n",
    "# inverse scaling for a forecasted value\n",
    "def invert_scale(scaler, X, value):\n",
    "    new_row = [x for x in X] + [value]\n",
    "    array = np.array(new_row)\n",
    "    array = array.reshape(1, len(array))\n",
    "    inverted = scaler.inverse_transform(array)\n",
    "    return inverted[0, -1]"
   ]
  },
  {
   "cell_type": "code",
   "execution_count": 50,
   "metadata": {
    "collapsed": true
   },
   "outputs": [],
   "source": [
    "scaler, train_scaled, test_scaled = scale(train, test)"
   ]
  },
  {
   "cell_type": "code",
   "execution_count": 51,
   "metadata": {
    "scrolled": false
   },
   "outputs": [
    {
     "data": {
      "text/plain": [
       "array([[-1.        , -0.92286501],\n",
       "       [-0.49247312, -0.84573003],\n",
       "       [-0.43225806, -0.86225895],\n",
       "       [-0.44516129, -0.90633609]])"
      ]
     },
     "execution_count": 51,
     "metadata": {},
     "output_type": "execute_result"
    }
   ],
   "source": [
    "train_scaled[:4]"
   ]
  },
  {
   "cell_type": "code",
   "execution_count": 52,
   "metadata": {},
   "outputs": [
    {
     "data": {
      "text/plain": [
       "(103, 1)"
      ]
     },
     "execution_count": 52,
     "metadata": {},
     "output_type": "execute_result"
    }
   ],
   "source": [
    "train_scaled[:, 0:-1].shape"
   ]
  },
  {
   "cell_type": "markdown",
   "metadata": {},
   "source": [
    "Uma vez escalados os dados, podemos treinar a RNN. Neste caso, vamos usar células LSTM. Em particular, consideramos que cada entrada tenha batch_size = 1, se refira a apenas 1 passo de tempo e tem entrada de comprimento 1 (ou seja, se refere a uma única quantidade de passageiros e nenhuma informação adicional). Como este problema é simples, serão usadas células LSTM com apenas 4 blocos.\n",
    "\n",
    "Como queremos que as células lembrem do estado da computação deixada pelo último batch da época atual, deixamos stateful = True. Assim, mesmo embora a entrada tenha apenas 1 passo de tempo, a rede vai ser influenciada por tantos passos de tempo quanto forem os batches processados ao longo da época. Para isso, vamos treinar cada época por vez, executando os batches na ordem temporal (ou seja, shuffle = False). Como a rede é _stateful_, o estado de um batch é enviado ao próximo até que todos tenham sido processados. Neste ponto, reiniciamos o estado da rede, antes de começar uma nova época."
   ]
  },
  {
   "cell_type": "code",
   "execution_count": 53,
   "metadata": {},
   "outputs": [],
   "source": [
    "from keras.models import Model\n",
    "from keras.layers import Input, Dense, LSTM\n",
    "\n",
    "def fit_lstm(train, batch_size, nb_epoch, neurons):\n",
    "    X, y = train[:, 0:-1], train[:, -1]\n",
    "    X = X.reshape(X.shape[0], 1, X.shape[1])\n",
    "    \n",
    "    visible = Input(batch_shape=(batch_size, X.shape[1], X.shape[2]))\n",
    "    hidden = LSTM(neurons, stateful=True)(visible)\n",
    "    output = Dense(1)(hidden)\n",
    "    model = Model(inputs = visible, outputs = output)\n",
    "    \n",
    "    model.compile(loss='mean_squared_error', optimizer='adam')\n",
    "    for i in range(nb_epoch):\n",
    "        model.fit(X, y, epochs=1, batch_size=batch_size, \n",
    "                  verbose=1, shuffle=False)\n",
    "        model.reset_states()\n",
    "    return model"
   ]
  },
  {
   "cell_type": "markdown",
   "metadata": {},
   "source": [
    "Abaixo, treinamos nossa LSTM para 100 épocas:"
   ]
  },
  {
   "cell_type": "code",
   "execution_count": 54,
   "metadata": {},
   "outputs": [
    {
     "name": "stdout",
     "output_type": "stream",
     "text": [
      "Epoch 1/1\n",
      "103/103 [==============================] - 1s 14ms/step - loss: 0.3319\n",
      "Epoch 1/1\n",
      "103/103 [==============================] - 1s 6ms/step - loss: 0.2421\n",
      "Epoch 1/1\n",
      "103/103 [==============================] - 1s 6ms/step - loss: 0.1492\n",
      "Epoch 1/1\n",
      "103/103 [==============================] - 1s 6ms/step - loss: 0.0909\n",
      "Epoch 1/1\n",
      "103/103 [==============================] - 1s 6ms/step - loss: 0.0770\n",
      "Epoch 1/1\n",
      "103/103 [==============================] - 1s 6ms/step - loss: 0.0671\n",
      "Epoch 1/1\n",
      "103/103 [==============================] - 1s 6ms/step - loss: 0.0623\n",
      "Epoch 1/1\n",
      "103/103 [==============================] - 1s 6ms/step - loss: 0.0586\n",
      "Epoch 1/1\n",
      "103/103 [==============================] - 1s 6ms/step - loss: 0.0557\n",
      "Epoch 1/1\n",
      "103/103 [==============================] - 1s 6ms/step - loss: 0.0532\n",
      "Epoch 1/1\n",
      "103/103 [==============================] - 1s 6ms/step - loss: 0.0510\n",
      "Epoch 1/1\n",
      "103/103 [==============================] - 1s 6ms/step - loss: 0.0490\n",
      "Epoch 1/1\n",
      "103/103 [==============================] - 1s 6ms/step - loss: 0.0472\n",
      "Epoch 1/1\n",
      "103/103 [==============================] - 1s 6ms/step - loss: 0.0455\n",
      "Epoch 1/1\n",
      "103/103 [==============================] - 1s 6ms/step - loss: 0.0440\n",
      "Epoch 1/1\n",
      "103/103 [==============================] - 1s 6ms/step - loss: 0.0426\n",
      "Epoch 1/1\n",
      "103/103 [==============================] - 1s 6ms/step - loss: 0.0414\n",
      "Epoch 1/1\n",
      "103/103 [==============================] - 1s 6ms/step - loss: 0.0404\n",
      "Epoch 1/1\n",
      "103/103 [==============================] - 1s 6ms/step - loss: 0.0396\n",
      "Epoch 1/1\n",
      "103/103 [==============================] - 1s 6ms/step - loss: 0.0389\n",
      "Epoch 1/1\n",
      "103/103 [==============================] - 1s 6ms/step - loss: 0.0383\n",
      "Epoch 1/1\n",
      "103/103 [==============================] - 1s 6ms/step - loss: 0.0378\n",
      "Epoch 1/1\n",
      "103/103 [==============================] - 1s 6ms/step - loss: 0.0373\n",
      "Epoch 1/1\n",
      "103/103 [==============================] - 1s 6ms/step - loss: 0.0369\n",
      "Epoch 1/1\n",
      "103/103 [==============================] - 1s 6ms/step - loss: 0.0366\n",
      "Epoch 1/1\n",
      "103/103 [==============================] - 1s 6ms/step - loss: 0.0362\n",
      "Epoch 1/1\n",
      "103/103 [==============================] - 1s 6ms/step - loss: 0.0359\n",
      "Epoch 1/1\n",
      "103/103 [==============================] - 1s 6ms/step - loss: 0.0356\n",
      "Epoch 1/1\n",
      "103/103 [==============================] - 1s 6ms/step - loss: 0.0353\n",
      "Epoch 1/1\n",
      "103/103 [==============================] - 1s 6ms/step - loss: 0.0350\n",
      "Epoch 1/1\n",
      "103/103 [==============================] - 1s 6ms/step - loss: 0.0347\n",
      "Epoch 1/1\n",
      "103/103 [==============================] - 1s 6ms/step - loss: 0.0345\n",
      "Epoch 1/1\n",
      "103/103 [==============================] - 1s 6ms/step - loss: 0.0342\n",
      "Epoch 1/1\n",
      "103/103 [==============================] - 1s 6ms/step - loss: 0.0340\n",
      "Epoch 1/1\n",
      "103/103 [==============================] - 1s 6ms/step - loss: 0.0337\n",
      "Epoch 1/1\n",
      "103/103 [==============================] - 1s 6ms/step - loss: 0.0335\n",
      "Epoch 1/1\n",
      "103/103 [==============================] - 1s 6ms/step - loss: 0.0333\n",
      "Epoch 1/1\n",
      "103/103 [==============================] - 1s 6ms/step - loss: 0.0331\n",
      "Epoch 1/1\n",
      "103/103 [==============================] - 1s 6ms/step - loss: 0.0329\n",
      "Epoch 1/1\n",
      "103/103 [==============================] - 1s 7ms/step - loss: 0.0327\n",
      "Epoch 1/1\n",
      "103/103 [==============================] - 1s 6ms/step - loss: 0.0325\n",
      "Epoch 1/1\n",
      "103/103 [==============================] - 1s 6ms/step - loss: 0.0323\n",
      "Epoch 1/1\n",
      "103/103 [==============================] - 1s 6ms/step - loss: 0.0321\n",
      "Epoch 1/1\n",
      "103/103 [==============================] - 1s 6ms/step - loss: 0.0320\n",
      "Epoch 1/1\n",
      "103/103 [==============================] - 1s 6ms/step - loss: 0.0318\n",
      "Epoch 1/1\n",
      "103/103 [==============================] - 1s 6ms/step - loss: 0.0316\n",
      "Epoch 1/1\n",
      "103/103 [==============================] - 1s 6ms/step - loss: 0.0315\n",
      "Epoch 1/1\n",
      "103/103 [==============================] - 1s 6ms/step - loss: 0.0313\n",
      "Epoch 1/1\n",
      "103/103 [==============================] - 1s 6ms/step - loss: 0.0311\n",
      "Epoch 1/1\n",
      "103/103 [==============================] - 1s 6ms/step - loss: 0.0310\n",
      "Epoch 1/1\n",
      "103/103 [==============================] - 1s 6ms/step - loss: 0.0308\n",
      "Epoch 1/1\n",
      "103/103 [==============================] - 1s 6ms/step - loss: 0.0307\n",
      "Epoch 1/1\n",
      "103/103 [==============================] - 1s 6ms/step - loss: 0.0305\n",
      "Epoch 1/1\n",
      "103/103 [==============================] - 1s 6ms/step - loss: 0.0304\n",
      "Epoch 1/1\n",
      "103/103 [==============================] - 1s 6ms/step - loss: 0.0302\n",
      "Epoch 1/1\n",
      "103/103 [==============================] - 1s 6ms/step - loss: 0.0301\n",
      "Epoch 1/1\n",
      "103/103 [==============================] - 1s 6ms/step - loss: 0.0299\n",
      "Epoch 1/1\n",
      "103/103 [==============================] - 1s 6ms/step - loss: 0.0298\n",
      "Epoch 1/1\n",
      "103/103 [==============================] - 1s 6ms/step - loss: 0.0297\n",
      "Epoch 1/1\n",
      "103/103 [==============================] - 1s 6ms/step - loss: 0.0295\n",
      "Epoch 1/1\n",
      "103/103 [==============================] - 1s 6ms/step - loss: 0.0294\n",
      "Epoch 1/1\n",
      "103/103 [==============================] - 1s 6ms/step - loss: 0.0293\n",
      "Epoch 1/1\n",
      "103/103 [==============================] - 1s 6ms/step - loss: 0.0291\n",
      "Epoch 1/1\n",
      "103/103 [==============================] - 1s 6ms/step - loss: 0.0290\n",
      "Epoch 1/1\n",
      "103/103 [==============================] - 1s 6ms/step - loss: 0.0289\n",
      "Epoch 1/1\n",
      "103/103 [==============================] - 1s 6ms/step - loss: 0.0287\n",
      "Epoch 1/1\n",
      "103/103 [==============================] - 1s 6ms/step - loss: 0.0286\n",
      "Epoch 1/1\n",
      "103/103 [==============================] - 1s 6ms/step - loss: 0.0285\n",
      "Epoch 1/1\n",
      "103/103 [==============================] - 1s 6ms/step - loss: 0.0284\n",
      "Epoch 1/1\n",
      "103/103 [==============================] - 1s 6ms/step - loss: 0.0282\n",
      "Epoch 1/1\n",
      "103/103 [==============================] - 1s 6ms/step - loss: 0.0281\n",
      "Epoch 1/1\n",
      "103/103 [==============================] - 1s 6ms/step - loss: 0.0280\n",
      "Epoch 1/1\n",
      "103/103 [==============================] - 1s 6ms/step - loss: 0.0279\n",
      "Epoch 1/1\n",
      "103/103 [==============================] - 1s 6ms/step - loss: 0.0278\n",
      "Epoch 1/1\n",
      "103/103 [==============================] - 1s 6ms/step - loss: 0.0277\n",
      "Epoch 1/1\n",
      "103/103 [==============================] - 1s 6ms/step - loss: 0.0275\n",
      "Epoch 1/1\n",
      "103/103 [==============================] - 1s 6ms/step - loss: 0.0274\n",
      "Epoch 1/1\n",
      "103/103 [==============================] - 1s 6ms/step - loss: 0.0273\n",
      "Epoch 1/1\n",
      "103/103 [==============================] - 1s 6ms/step - loss: 0.0272\n",
      "Epoch 1/1\n",
      "103/103 [==============================] - 1s 6ms/step - loss: 0.0271\n",
      "Epoch 1/1\n",
      "103/103 [==============================] - 1s 6ms/step - loss: 0.0270\n",
      "Epoch 1/1\n",
      "103/103 [==============================] - 1s 6ms/step - loss: 0.0269\n",
      "Epoch 1/1\n",
      "103/103 [==============================] - 1s 6ms/step - loss: 0.0268\n",
      "Epoch 1/1\n",
      "103/103 [==============================] - 1s 6ms/step - loss: 0.0266\n",
      "Epoch 1/1\n",
      "103/103 [==============================] - 1s 6ms/step - loss: 0.0265\n",
      "Epoch 1/1\n",
      "103/103 [==============================] - 1s 6ms/step - loss: 0.0264\n",
      "Epoch 1/1\n",
      "103/103 [==============================] - 1s 6ms/step - loss: 0.0263\n",
      "Epoch 1/1\n",
      "103/103 [==============================] - 1s 6ms/step - loss: 0.0263\n",
      "Epoch 1/1\n",
      "103/103 [==============================] - 1s 6ms/step - loss: 0.0262\n",
      "Epoch 1/1\n",
      "103/103 [==============================] - 1s 6ms/step - loss: 0.0261\n",
      "Epoch 1/1\n",
      "103/103 [==============================] - 1s 6ms/step - loss: 0.0260\n",
      "Epoch 1/1\n",
      "103/103 [==============================] - 1s 6ms/step - loss: 0.0259\n",
      "Epoch 1/1\n",
      "103/103 [==============================] - 1s 6ms/step - loss: 0.0258\n",
      "Epoch 1/1\n",
      "103/103 [==============================] - 1s 6ms/step - loss: 0.0257\n",
      "Epoch 1/1\n",
      "103/103 [==============================] - 1s 6ms/step - loss: 0.0256\n",
      "Epoch 1/1\n",
      "103/103 [==============================] - 1s 6ms/step - loss: 0.0255\n",
      "Epoch 1/1\n",
      "103/103 [==============================] - 1s 6ms/step - loss: 0.0254\n",
      "Epoch 1/1\n",
      "103/103 [==============================] - 1s 6ms/step - loss: 0.0254\n",
      "Epoch 1/1\n",
      "103/103 [==============================] - 1s 6ms/step - loss: 0.0253\n",
      "Epoch 1/1\n",
      "103/103 [==============================] - 1s 6ms/step - loss: 0.0252\n"
     ]
    }
   ],
   "source": [
    "lstm_model = fit_lstm(train_scaled, 1, 100, 4)"
   ]
  },
  {
   "cell_type": "markdown",
   "metadata": {},
   "source": [
    "Finalmente, podemos usar o modelo para prever a série. Para cada elemento do conjunto de teste (X), o modelo prevê o próximo valor (yhat). O valor previsto yhat é corrigido em escala e adicionado ao conjunto de previsões:"
   ]
  },
  {
   "cell_type": "code",
   "execution_count": 55,
   "metadata": {
    "collapsed": true
   },
   "outputs": [],
   "source": [
    "# make a one-step forecast\n",
    "def forecast_lstm(model, batch_size, X):\n",
    "    X = X.reshape(1, 1, len(X))\n",
    "    yhat = model.predict(X, batch_size=batch_size)\n",
    "    return yhat[0,0]"
   ]
  },
  {
   "cell_type": "code",
   "execution_count": 56,
   "metadata": {
    "collapsed": true
   },
   "outputs": [],
   "source": [
    "predictions = []\n",
    "for i in range(len(test_scaled)):\n",
    "    # make one-step forecast\n",
    "    X = test_scaled[i, 0:-1] \n",
    "    yhat = forecast_lstm(lstm_model, 1, X)\n",
    "    # invert scaling\n",
    "    yhat = invert_scale(scaler, X, yhat)\n",
    "    # store forecast\n",
    "    predictions += [yhat]"
   ]
  },
  {
   "cell_type": "markdown",
   "metadata": {},
   "source": [
    "O desempenho final obtido pode ser medido em termos de RMSE e observado graficamente:"
   ]
  },
  {
   "cell_type": "code",
   "execution_count": 57,
   "metadata": {},
   "outputs": [
    {
     "name": "stdout",
     "output_type": "stream",
     "text": [
      "Test RMSE: 62.302\n"
     ]
    }
   ],
   "source": [
    "from math import sqrt\n",
    "from sklearn.metrics import mean_squared_error\n",
    "\n",
    "# report performance\n",
    "rmse = sqrt(mean_squared_error(series.values[-horizon:], predictions))\n",
    "print('Test RMSE: %.3f' % rmse)"
   ]
  },
  {
   "cell_type": "code",
   "execution_count": 58,
   "metadata": {
    "scrolled": true
   },
   "outputs": [
    {
     "data": {
      "text/plain": [
       "Text(0.5,0,'Time')"
      ]
     },
     "execution_count": 58,
     "metadata": {},
     "output_type": "execute_result"
    },
    {
     "data": {
      "image/png": "[encoded data removed]",
      "text/plain": [
       "<matplotlib.figure.Figure at 0x1eaf548c390>"
      ]
     },
     "metadata": {},
     "output_type": "display_data"
    }
   ],
   "source": [
    "plt.title(\"Test for horizon = \" + str(horizon), fontsize=14)\n",
    "plt.plot(series.values[-horizon:], \"-\", markersize=5)\n",
    "plt.plot(series.values[-horizon:], \"bo\", markersize=5, label=\"real\")\n",
    "plt.plot(predictions, \"-\", markersize=10)\n",
    "plt.plot(predictions, \"w*\", markersize=10, label=\"prediction\")\n",
    "plt.legend(loc=\"upper left\")\n",
    "plt.xlabel(\"Time\")"
   ]
  },
  {
   "cell_type": "markdown",
   "metadata": {
    "collapsed": true
   },
   "source": [
    "Material derivado do livro _Handson Machine Learning with Scikit-learn and Tensorflow_, de Aurélian Géron. A aula sobre Keras usado como previsor de séries de tempo foi baseada no material de Jason Browlee, disponível em https://machinelearningmastery.com/time-series-forecasting-long-short-term-memory-network-python/."
   ]
  },
  {
   "cell_type": "code",
   "execution_count": null,
   "metadata": {
    "collapsed": true
   },
   "outputs": [],
   "source": []
  }
 ],
 "metadata": {
  "kernelspec": {
   "display_name": "Python 3",
   "language": "python",
   "name": "python3"
  },
  "language_info": {
   "codemirror_mode": {
    "name": "ipython",
    "version": 3
   },
   "file_extension": ".py",
   "mimetype": "text/x-python",
   "name": "python",
   "nbconvert_exporter": "python",
   "pygments_lexer": "ipython3",
   "version": "3.6.3"
  }
 },
 "nbformat": 4,
 "nbformat_minor": 2
}
