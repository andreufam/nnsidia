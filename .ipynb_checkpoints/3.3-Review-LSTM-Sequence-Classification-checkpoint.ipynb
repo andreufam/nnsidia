{
 "cells": [
  {
   "cell_type": "markdown",
   "metadata": {},
   "source": [
    "# CLASSIFICAÇÃO DE SEQUÊNCIAS COM RNNs (LSTMs/GRUs)\n",
    "\n",
    "Nesta seção vamos usar LSTMs e GRUs para resolver três tipos de problemas envolvendo sequências: classificação de sequências de tamanho fixo (aplicada em tarefas como previsão de séries de tempo), classificação de sequências de tamanho variável (aplicada em tarefas como classificação de sentenças em língua natural) e mapeamento de sequência para sequência (aplicada em tarefas como tradução ou diálogo em língua natural). "
   ]
  },
  {
   "cell_type": "markdown",
   "metadata": {},
   "source": [
    "## <a id=\"intro\"/> Introdução\n",
    "Redes Neurais recorrentes (Recurrent Neural Networks - RNNs) são redes neurais profundas com um mecanismo de auto-alimentação inerente. Na prática, a saída de uma camada é adicionada à próxima entrada, servindo como feedback para própria camada. Abaixo temos uma representação de uma RNN:\n",
    "\n",
    "<img src=\"https://ibm.box.com/shared/static/v7p90neiaqghmpwawpiecmz9n7080m59.png\" alt=\"Representation of a Recurrent Neural Network\" width=80%>\n",
    "\n",
    "RNNs são úteis para lidar com o problema de **manutenção do contexto em dados sequênciais** -- o caso de previsão de tempo, ações em mercado financeiro, palavras em uma frase, etc. Em cada iteração, a unidade de processamento obtem uma entrada e o estado atual da rede (o contexto), e gera como saída um novo estado que **re-alimenta a rede**.\n",
    "\n",
    "Este modelo tem uns problemas sérios. É muito caro manter o estado por um grande número de unidades e, mais ainda, por muito tempo. RNNs são também muito sensíveis a mudanças nos seus parâmetros. Assim, elas são muito sucetíveis a problemas com a otimização via gradientes -- elas crescem exponencialmente (Exploding Gradient) ou vão a zero e se estabilizam (Vanishing Gradient), dificultando muito o aprendizado.\n",
    "\n",
    "Para lidar com estes problemas, muitas técnicas já foram propostas. Uma delas, descrita por Hochreiter e Schmidhuber published em 1997, dota a estrutura de memória, o que a torna capaz de manter informação por longos períodos de tempo e, adicionalmente, resolver o problema de sensibilidade. Isto tonar mais viável fazer backpropagation em RNNs. Estas são as LSTMs (Long short-term memory model).\n",
    "\n",
    "Note que muitas outras soluções foram propostas para estes problemas, o que resultou em muitas arquiteturas, além das LSTMs:\n",
    "\n",
    "- Fully Recurrent Network\n",
    "- Recursive Neural Networks\n",
    "- Hopfield Networks\n",
    "- Elman Networks e Jordan Networks\n",
    "- Echo State Networks\n",
    "- Neural history compressor\n",
    "\n",
    "Nossa opção por LSTMs, de alguma forma, está no fato delas incorporarem uma ideia realmente interessante: neurônios formarem células de memória. A ideia geral de LSTMs deu origem a muitas variantes. Entre elas, uma que tem ganho popularidade são as GRUs, uma forma simplificada de LSTM."
   ]
  },
  {
   "cell_type": "markdown",
   "metadata": {},
   "source": [
    "##  <a id=\"lstm\"/>LSTM"
   ]
  },
  {
   "cell_type": "markdown",
   "metadata": {},
   "source": [
    "É uma abstração de como seria uma célula de memória, de um ponto de vista funcional. Ela pode ser usada no lugar de qualquer unidade em uma RNN, sendo responsável por ler, escrever ou lembrar de informação fluindo no modelo. Consiste basicamente de uma unidade linear (a celula de informação propriamente dita) envoltas por três portas lógicas, responsáveis pela manutenção dos dados. Uma é responsável por permitir que dados fluam para a célulade informação (entrada), uma pela saída da célula e a última é responável por lembrar ou esquecer de dados de acordo com as necessidades da rede.\n",
    "\n",
    "Graças à LSTM, é resolvido o problema de manter estados, porque a rede pode escolher esquecê-los se já não servem mais, como o problema dos gradientes, uma vez que as portas lógicas têm derivadas menos suscetíveis a problemas.\n",
    "\n",
    "### Arquitetura Long Short-Term Memory \n",
    "\n",
    "Neste texto, vamos considerar que uma LSTM é formada por três portas lógicas: \"Input\" ou \"Write\", responsável pela escrita na LSTM de dados vindos do resto da RNN; \"Output\" ou \"Read\", responsável pela saída da LSTM para o resto da RNN; e \"Keep\" ou \"Forget\", rsponsável pela manutenção ou modificação de dados armazenados na LSTM.\n",
    "\n",
    "<img src=https://ibm.box.com/shared/static/zx10duv5egw0baw6gh2hzsgr8ex45gsg.png width=\"720\"/>\n",
    "<center>*Diagrama de uma Long Short-Term Memory Unit*</center>\n",
    "\n",
    "Se você estiver mais interssado em saber sobre LSTMs e suas variantes, incluindo GRUs, leia o blog: http://colah.github.io/posts/2015-08-Understanding-LSTMs/"
   ]
  },
  {
   "cell_type": "markdown",
   "metadata": {},
   "source": [
    "## <a id=\"build\"/> LSTMs com TensorFlow"
   ]
  },
  {
   "cell_type": "markdown",
   "metadata": {},
   "source": [
    "#### Importando MNIST"
   ]
  },
  {
   "cell_type": "code",
   "execution_count": 32,
   "metadata": {
    "collapsed": false
   },
   "outputs": [],
   "source": [
    "%matplotlib inline\n",
    "import warnings\n",
    "warnings.filterwarnings('ignore')\n",
    "\n",
    "import numpy as np\n",
    "import matplotlib.pyplot as plt\n",
    "\n",
    "import tensorflow as tf\n",
    "from tensorflow.python.ops import rnn, rnn_cell"
   ]
  },
  {
   "cell_type": "code",
   "execution_count": 33,
   "metadata": {
    "collapsed": false
   },
   "outputs": [
    {
     "name": "stdout",
     "output_type": "stream",
     "text": [
      "Extracting ./train-images-idx3-ubyte.gz\n",
      "Extracting ./train-labels-idx1-ubyte.gz\n",
      "Extracting ./t10k-images-idx3-ubyte.gz\n",
      "Extracting ./t10k-labels-idx1-ubyte.gz\n"
     ]
    }
   ],
   "source": [
    "from tensorflow.examples.tutorials.mnist import input_data\n",
    "mnist = input_data.read_data_sets(\".\", one_hot=True)"
   ]
  },
  {
   "cell_type": "code",
   "execution_count": 34,
   "metadata": {
    "collapsed": false
   },
   "outputs": [
    {
     "name": "stdout",
     "output_type": "stream",
     "text": [
      "Train Images:  (55000, 784)\n",
      "Train Labels   (55000, 10)\n",
      "\n",
      "Test Images:   (10000, 784)\n",
      "Test Labels:   (10000, 10)\n"
     ]
    }
   ],
   "source": [
    "trainimgs = mnist.train.images\n",
    "trainlabels = mnist.train.labels\n",
    "testimgs = mnist.test.images\n",
    "testlabels = mnist.test.labels \n",
    "\n",
    "ntrain = trainimgs.shape[0]\n",
    "ntest = testimgs.shape[0]\n",
    "dim = trainimgs.shape[1]\n",
    "nclasses = trainlabels.shape[1]\n",
    "print \"Train Images: \", trainimgs.shape\n",
    "print \"Train Labels  \", trainlabels.shape\n",
    "print\n",
    "print \"Test Images:  \" , testimgs.shape\n",
    "print \"Test Labels:  \", testlabels.shape"
   ]
  },
  {
   "cell_type": "markdown",
   "metadata": {},
   "source": [
    "### Compreendendo MNIST \n",
    "\n",
    "O código abaixo mostra exemplos de instâncias de MNIST e seus rótulos, como vetores one-hot:"
   ]
  },
  {
   "cell_type": "code",
   "execution_count": 35,
   "metadata": {
    "collapsed": false
   },
   "outputs": [
    {
     "data": {
      "image/png": "[encoded data removed]",
      "text/plain": [
       "<matplotlib.figure.Figure at 0x7fac1b7f5950>"
      ]
     },
     "metadata": {},
     "output_type": "display_data"
    },
    {
     "name": "stdout",
     "output_type": "stream",
     "text": [
      "Sample: 110 - Class: [8] - Label Vector: [ 0.  0.  0.  0.  0.  0.  0.  0.  1.  0.] \n",
      "Sample: 345 - Class: [1] - Label Vector: [ 0.  1.  0.  0.  0.  0.  0.  0.  0.  0.] \n",
      "Sample: 456 - Class: [2] - Label Vector: [ 0.  0.  1.  0.  0.  0.  0.  0.  0.  0.] \n"
     ]
    }
   ],
   "source": [
    "samplesIdx = [110, 345, 456]  #<-- You can change these numbers here to see other samples\n",
    "\n",
    "from mpl_toolkits.mplot3d import Axes3D\n",
    "fig = plt.figure()\n",
    "\n",
    "ax1 = fig.add_subplot(121)\n",
    "ax1.imshow(testimgs[samplesIdx[0]].reshape([28,28]), cmap='gray')\n",
    "\n",
    "\n",
    "xx, yy = np.meshgrid(np.linspace(0,28,28), np.linspace(0,28,28))\n",
    "X =  xx ; Y =  yy\n",
    "Z =  100*np.ones(X.shape)\n",
    "\n",
    "img = testimgs[77].reshape([28,28])\n",
    "ax = fig.add_subplot(122, projection='3d')\n",
    "ax.set_zlim((0,200))\n",
    "\n",
    "\n",
    "offset=200\n",
    "for i in samplesIdx:\n",
    "    img = testimgs[i].reshape([28,28]).transpose()\n",
    "    ax.contourf(X, Y, img, 200, zdir='z', offset=offset, cmap=\"gray\")\n",
    "    offset -= 100\n",
    "\n",
    "    ax.set_xticks([])\n",
    "ax.set_yticks([])\n",
    "ax.set_zticks([])\n",
    "\n",
    "plt.show()\n",
    "\n",
    "\n",
    "for i in samplesIdx:\n",
    "    print \"Sample: {0} - Class: {1} - Label Vector: {2} \".format(i, np.nonzero(testlabels[i])[0], testlabels[i])\n",
    "\n"
   ]
  },
  {
   "cell_type": "markdown",
   "metadata": {},
   "source": [
    "---\n",
    "### Imagens como sequências de linhas\n",
    "\n",
    "Vamos tratar uma imagem MNIST $\\in \\mathcal{R}^{28 \\times 28}$ como $28$ sequẽncias de um vetor $\\mathbf{x} \\in \\mathcal{R}^{28}$. \n",
    "\n",
    "#### Nossa RNN simples consiste de:\n",
    "1. Uma camada de entrada que converte uma entrada de $28$ dimensões em uma camada oculta de $128$ neurônios, \n",
    "2. Uma camada oculta com 128 nós LSTM \n",
    "3. Uma camada de saída que converte a saída de $128$ dimensões para $10$ neurônios, cada qual indicando representando um dígito de 0 a 9. "
   ]
  },
  {
   "cell_type": "code",
   "execution_count": 36,
   "metadata": {
    "collapsed": true
   },
   "outputs": [],
   "source": [
    "n_input = 28 # MNIST data input (img shape: 28*28)\n",
    "n_steps = 28 # timesteps\n",
    "n_hidden = 100 # hidden layer num of features\n",
    "n_classes = 10 # MNIST total classes (0-9 digits)\n",
    "\n",
    "learning_rate = 0.001\n",
    "training_iters = 100000\n",
    "batch_size = 128\n",
    "display_step = 10"
   ]
  },
  {
   "cell_type": "markdown",
   "metadata": {},
   "source": [
    "#### A RNN\n",
    "\n",
    "Inicialmente, vamos definir os placeholders para as entradas (x) e rótulos (y), além dos pesos e biases da camada de saída (estava vai ser a única camada com pesos e biases, já que as demais unidades serão LSTMs). A entrada x corresponde a _n_ batches de 28 sequências de 28 valores; a saída y, _n_ batches de 10 valores (já que usamos hot-vector)."
   ]
  },
  {
   "cell_type": "code",
   "execution_count": 37,
   "metadata": {
    "collapsed": false
   },
   "outputs": [],
   "source": [
    "x = tf.placeholder(dtype=\"float\", shape=[None, n_steps, n_input], name=\"x\")\n",
    "y = tf.placeholder(dtype=\"float\", shape=[None, n_classes], name=\"y\")"
   ]
  },
  {
   "cell_type": "code",
   "execution_count": 38,
   "metadata": {
    "collapsed": true
   },
   "outputs": [],
   "source": [
    "weights = {\n",
    "    'out': tf.Variable(tf.random_normal([n_hidden, n_classes]))\n",
    "}\n",
    "biases = {\n",
    "    'out': tf.Variable(tf.random_normal([n_classes]))\n",
    "}"
   ]
  },
  {
   "cell_type": "markdown",
   "metadata": {},
   "source": [
    "A RNN propriamente dita conecta a entrada x com as LSTMs e estas com a saída. Note que a entrada tem a forma de _batches_ de _passos_ de _entradas_. Contudo, a RNN deve receber _passos_ **listas** de _batches_ de _entradas_, já que vai em cada passo fazer estimativas para o batch inteiro de entradas. Logo, precisamos modificar a forma `x[batches, passos, entradas]` para _passos_ listas de `x[batches, entradas]`. \n",
    "\n",
    "Vamos ver como fazer esta transformação usando apenas numpy, primeiro. Como exemplo suponha que temos 4 batches de 3 passos de 2 entradas:"
   ]
  },
  {
   "cell_type": "code",
   "execution_count": 39,
   "metadata": {
    "collapsed": false
   },
   "outputs": [
    {
     "name": "stdout",
     "output_type": "stream",
     "text": [
      "(4, 3, 2)\n",
      "[[[111 112]\n",
      "  [121 122]\n",
      "  [131 132]]\n",
      "\n",
      " [[211 212]\n",
      "  [221 222]\n",
      "  [231 232]]\n",
      "\n",
      " [[311 312]\n",
      "  [321 322]\n",
      "  [331 332]]\n",
      "\n",
      " [[411 412]\n",
      "  [421 422]\n",
      "  [431 432]]]\n"
     ]
    }
   ],
   "source": [
    "# um exemplo com 4 batches de 3 passos de 2 entradas\n",
    "ex_steps = 3 \n",
    "ex_batches = 4\n",
    "ex_inputs = 2\n",
    "txnp = np.array([[[111,112],[121,122],[131,132]], \n",
    "                 [[211,212],[221,222],[231,232]], \n",
    "                 [[311,312],[321,322],[331,332]], \n",
    "                 [[411,412],[421,422],[431,432]]])\n",
    "print txnp.shape\n",
    "print txnp"
   ]
  },
  {
   "cell_type": "markdown",
   "metadata": {},
   "source": [
    "Queremos obter 3 listas de tensores 4x2 Assim, primeiro transformamos nossos tensores 4x3x2 em 3x4x2: "
   ]
  },
  {
   "cell_type": "code",
   "execution_count": 40,
   "metadata": {
    "collapsed": false
   },
   "outputs": [
    {
     "name": "stdout",
     "output_type": "stream",
     "text": [
      "(3, 4, 2)\n",
      "[[[111 112]\n",
      "  [211 212]\n",
      "  [311 312]\n",
      "  [411 412]]\n",
      "\n",
      " [[121 122]\n",
      "  [221 222]\n",
      "  [321 322]\n",
      "  [421 422]]\n",
      "\n",
      " [[131 132]\n",
      "  [231 232]\n",
      "  [331 332]\n",
      "  [431 432]]]\n"
     ]
    }
   ],
   "source": [
    "txnp = np.transpose(txnp, [1, 0, 2]) # eixo 0 vira 1 e eixo 1 vira 0\n",
    "print txnp.shape\n",
    "print txnp"
   ]
  },
  {
   "cell_type": "markdown",
   "metadata": {},
   "source": [
    "Agora, podemos transformar o tensor 4x3x2 em um tensor 12x2: "
   ]
  },
  {
   "cell_type": "code",
   "execution_count": 41,
   "metadata": {
    "collapsed": false
   },
   "outputs": [
    {
     "name": "stdout",
     "output_type": "stream",
     "text": [
      "(12, 2)\n",
      "[[111 112]\n",
      " [211 212]\n",
      " [311 312]\n",
      " [411 412]\n",
      " [121 122]\n",
      " [221 222]\n",
      " [321 322]\n",
      " [421 422]\n",
      " [131 132]\n",
      " [231 232]\n",
      " [331 332]\n",
      " [431 432]]\n"
     ]
    }
   ],
   "source": [
    "# Reshaping to (n_steps*batch_size, n_input)\n",
    "txnp = np.reshape(txnp, [-1, ex_inputs])\n",
    "print txnp.shape\n",
    "print txnp"
   ]
  },
  {
   "cell_type": "markdown",
   "metadata": {},
   "source": [
    "E, finalmente, converte-lo em uma lista de 3 tensores 4x2: "
   ]
  },
  {
   "cell_type": "code",
   "execution_count": 42,
   "metadata": {
    "collapsed": false
   },
   "outputs": [
    {
     "name": "stdout",
     "output_type": "stream",
     "text": [
      "[array([[111, 112],\n",
      "       [211, 212],\n",
      "       [311, 312],\n",
      "       [411, 412]]), array([[121, 122],\n",
      "       [221, 222],\n",
      "       [321, 322],\n",
      "       [421, 422]]), array([[131, 132],\n",
      "       [231, 232],\n",
      "       [331, 332],\n",
      "       [431, 432]])]\n"
     ]
    }
   ],
   "source": [
    "# Split to get a list of 'n_steps' tensors of shape (batch_size, n_input)\n",
    "txnp = np.split(txnp, ex_steps)\n",
    "print txnp"
   ]
  },
  {
   "cell_type": "markdown",
   "metadata": {},
   "source": [
    "Em tensorflow, isso pode ser escrito assim: "
   ]
  },
  {
   "cell_type": "code",
   "execution_count": 93,
   "metadata": {
    "collapsed": false
   },
   "outputs": [],
   "source": [
    "def input_to_RNN(x, n_steps):\n",
    "    # Prepare data shape to match `rnn` function requirements\n",
    "    # Current data input shape: (batch_size, n_steps, n_input)\n",
    "    # Required shape: 'n_steps' tensors list of shape (batch_size, n_input)\n",
    "\n",
    "    # Permuting batch_size and n_steps\n",
    "    x = tf.transpose(x, [1, 0, 2])\n",
    "    # Reshaping to (n_steps*batch_size, n_input)\n",
    "    x = tf.reshape(x, [-1, n_input])\n",
    "    # Split to get a list of 'n_steps' tensors of shape (batch_size, n_input)\n",
    "    x = tf.split(split_dim=0, num_split=n_steps, value=x)\n",
    "\n",
    "    return x"
   ]
  },
  {
   "cell_type": "markdown",
   "metadata": {},
   "source": [
    "De forma que nossa RNN fica: "
   ]
  },
  {
   "cell_type": "code",
   "execution_count": 94,
   "metadata": {
    "collapsed": false
   },
   "outputs": [],
   "source": [
    "def RNN(x, weights, biases):\n",
    "\n",
    "    # Prepare data shape to match `rnn` function requirements\n",
    "    x = input_to_RNN(x, n_steps)\n",
    "\n",
    "    # Define a lstm cell with tensorflow\n",
    "    lstm_cell = rnn_cell.BasicLSTMCell(n_hidden, forget_bias=1.0)\n",
    "\n",
    "    # Get lstm cell output\n",
    "    outputs, states = rnn.rnn(cell=lstm_cell, inputs=x, dtype=tf.float32)\n",
    "\n",
    "    # Linear activation, using rnn inner loop last output\n",
    "    return tf.matmul(outputs[-1], weights['out']) + biases['out']"
   ]
  },
  {
   "cell_type": "markdown",
   "metadata": {},
   "source": [
    "A rede neural em si é bem tradicional. Usamos entropia cruzada para o custo; o algoritmo de Adam para minimizar o custo; e acurácia como medida de qualidade: "
   ]
  },
  {
   "cell_type": "code",
   "execution_count": 45,
   "metadata": {
    "collapsed": false
   },
   "outputs": [],
   "source": [
    "with tf.variable_scope('forward'):\n",
    "    pred = RNN(x, weights, biases)\n",
    "\n",
    "cost = tf.reduce_mean(tf.nn.softmax_cross_entropy_with_logits(pred, y))\n",
    "optimizer = tf.train.AdamOptimizer(learning_rate=learning_rate).minimize(cost)\n",
    "\n",
    "correct_pred = tf.equal(tf.argmax(pred,1), tf.argmax(y,1))\n",
    "accuracy = tf.reduce_mean(tf.cast(correct_pred, tf.float32))"
   ]
  },
  {
   "cell_type": "markdown",
   "metadata": {},
   "source": [
    "O processo de treino consiste em obter 128 imagens por batch de treino e entregá-las para a RNN-LSTM a cada iteração. Este processo é realizado por um certo número de iterações (training_iters). Ao fim, o modelo é avaliado na coleção de teste: "
   ]
  },
  {
   "cell_type": "code",
   "execution_count": 46,
   "metadata": {
    "collapsed": false
   },
   "outputs": [
    {
     "name": "stdout",
     "output_type": "stream",
     "text": [
      "WARNING:tensorflow:From <ipython-input-46-241fd3ce3424>:1 in <module>.: initialize_all_variables (from tensorflow.python.ops.variables) is deprecated and will be removed after 2017-03-02.\n",
      "Instructions for updating:\n",
      "Use `tf.global_variables_initializer` instead.\n",
      "Iter 1280, Minibatch Loss= 2.114965, Training Accuracy= 0.22656\n",
      "Iter 2560, Minibatch Loss= 1.689952, Training Accuracy= 0.48438\n",
      "Iter 3840, Minibatch Loss= 1.489810, Training Accuracy= 0.43750\n",
      "Iter 5120, Minibatch Loss= 1.156798, Training Accuracy= 0.64844\n",
      "Iter 6400, Minibatch Loss= 0.963463, Training Accuracy= 0.68750\n",
      "Iter 7680, Minibatch Loss= 1.289312, Training Accuracy= 0.51562\n",
      "Iter 8960, Minibatch Loss= 0.952871, Training Accuracy= 0.69531\n",
      "Iter 10240, Minibatch Loss= 0.725280, Training Accuracy= 0.73438\n",
      "Iter 11520, Minibatch Loss= 0.442451, Training Accuracy= 0.86719\n",
      "Iter 12800, Minibatch Loss= 0.629821, Training Accuracy= 0.80469\n",
      "Iter 14080, Minibatch Loss= 0.543252, Training Accuracy= 0.81250\n",
      "Iter 15360, Minibatch Loss= 0.463248, Training Accuracy= 0.82812\n",
      "Iter 16640, Minibatch Loss= 0.512322, Training Accuracy= 0.83594\n",
      "Iter 17920, Minibatch Loss= 0.356376, Training Accuracy= 0.88281\n",
      "Iter 19200, Minibatch Loss= 0.299460, Training Accuracy= 0.92188\n",
      "Iter 20480, Minibatch Loss= 0.184032, Training Accuracy= 0.96094\n",
      "Iter 21760, Minibatch Loss= 0.557894, Training Accuracy= 0.78906\n",
      "Iter 23040, Minibatch Loss= 0.177531, Training Accuracy= 0.93750\n",
      "Iter 24320, Minibatch Loss= 0.437146, Training Accuracy= 0.85938\n",
      "Iter 25600, Minibatch Loss= 0.381019, Training Accuracy= 0.86719\n",
      "Iter 26880, Minibatch Loss= 0.200219, Training Accuracy= 0.92969\n",
      "Iter 28160, Minibatch Loss= 0.249591, Training Accuracy= 0.93750\n",
      "Iter 29440, Minibatch Loss= 0.289498, Training Accuracy= 0.92188\n",
      "Iter 30720, Minibatch Loss= 0.258397, Training Accuracy= 0.90625\n",
      "Iter 32000, Minibatch Loss= 0.237388, Training Accuracy= 0.91406\n",
      "Iter 33280, Minibatch Loss= 0.320465, Training Accuracy= 0.89844\n",
      "Iter 34560, Minibatch Loss= 0.219524, Training Accuracy= 0.94531\n",
      "Iter 35840, Minibatch Loss= 0.231902, Training Accuracy= 0.92969\n",
      "Iter 37120, Minibatch Loss= 0.336298, Training Accuracy= 0.89062\n",
      "Iter 38400, Minibatch Loss= 0.137300, Training Accuracy= 0.96875\n",
      "Iter 39680, Minibatch Loss= 0.181674, Training Accuracy= 0.93750\n",
      "Iter 40960, Minibatch Loss= 0.345220, Training Accuracy= 0.88281\n",
      "Iter 42240, Minibatch Loss= 0.172509, Training Accuracy= 0.97656\n",
      "Iter 43520, Minibatch Loss= 0.148533, Training Accuracy= 0.93750\n",
      "Iter 44800, Minibatch Loss= 0.144851, Training Accuracy= 0.96875\n",
      "Iter 46080, Minibatch Loss= 0.145678, Training Accuracy= 0.96094\n",
      "Iter 47360, Minibatch Loss= 0.219623, Training Accuracy= 0.95312\n",
      "Iter 48640, Minibatch Loss= 0.231194, Training Accuracy= 0.92969\n",
      "Iter 49920, Minibatch Loss= 0.230363, Training Accuracy= 0.91406\n",
      "Iter 51200, Minibatch Loss= 0.143299, Training Accuracy= 0.92969\n",
      "Iter 52480, Minibatch Loss= 0.191881, Training Accuracy= 0.95312\n",
      "Iter 53760, Minibatch Loss= 0.028954, Training Accuracy= 1.00000\n",
      "Iter 55040, Minibatch Loss= 0.354542, Training Accuracy= 0.89844\n",
      "Iter 56320, Minibatch Loss= 0.124627, Training Accuracy= 0.96094\n",
      "Iter 57600, Minibatch Loss= 0.131009, Training Accuracy= 0.95312\n",
      "Iter 58880, Minibatch Loss= 0.065187, Training Accuracy= 0.99219\n",
      "Iter 60160, Minibatch Loss= 0.148504, Training Accuracy= 0.93750\n",
      "Iter 61440, Minibatch Loss= 0.180989, Training Accuracy= 0.96094\n",
      "Iter 62720, Minibatch Loss= 0.149761, Training Accuracy= 0.96094\n",
      "Iter 64000, Minibatch Loss= 0.124851, Training Accuracy= 0.96094\n",
      "Iter 65280, Minibatch Loss= 0.083794, Training Accuracy= 0.96875\n",
      "Iter 66560, Minibatch Loss= 0.155126, Training Accuracy= 0.92969\n",
      "Iter 67840, Minibatch Loss= 0.170068, Training Accuracy= 0.95312\n",
      "Iter 69120, Minibatch Loss= 0.172764, Training Accuracy= 0.95312\n",
      "Iter 70400, Minibatch Loss= 0.225618, Training Accuracy= 0.93750\n",
      "Iter 71680, Minibatch Loss= 0.105085, Training Accuracy= 0.96094\n",
      "Iter 72960, Minibatch Loss= 0.110651, Training Accuracy= 0.96094\n",
      "Iter 74240, Minibatch Loss= 0.095415, Training Accuracy= 0.97656\n",
      "Iter 75520, Minibatch Loss= 0.073593, Training Accuracy= 0.99219\n",
      "Iter 76800, Minibatch Loss= 0.159389, Training Accuracy= 0.96094\n",
      "Iter 78080, Minibatch Loss= 0.077388, Training Accuracy= 0.98438\n",
      "Iter 79360, Minibatch Loss= 0.098820, Training Accuracy= 0.96875\n",
      "Iter 80640, Minibatch Loss= 0.037794, Training Accuracy= 0.99219\n",
      "Iter 81920, Minibatch Loss= 0.123597, Training Accuracy= 0.96094\n",
      "Iter 83200, Minibatch Loss= 0.114284, Training Accuracy= 0.96094\n",
      "Iter 84480, Minibatch Loss= 0.165293, Training Accuracy= 0.95312\n",
      "Iter 85760, Minibatch Loss= 0.100389, Training Accuracy= 0.96094\n",
      "Iter 87040, Minibatch Loss= 0.068853, Training Accuracy= 0.98438\n",
      "Iter 88320, Minibatch Loss= 0.114537, Training Accuracy= 0.97656\n",
      "Iter 89600, Minibatch Loss= 0.135177, Training Accuracy= 0.96875\n",
      "Iter 90880, Minibatch Loss= 0.139688, Training Accuracy= 0.96094\n",
      "Iter 92160, Minibatch Loss= 0.105082, Training Accuracy= 0.96094\n",
      "Iter 93440, Minibatch Loss= 0.095792, Training Accuracy= 0.96094\n",
      "Iter 94720, Minibatch Loss= 0.170603, Training Accuracy= 0.96094\n",
      "Iter 96000, Minibatch Loss= 0.193548, Training Accuracy= 0.95312\n",
      "Iter 97280, Minibatch Loss= 0.069078, Training Accuracy= 0.99219\n",
      "Iter 98560, Minibatch Loss= 0.076339, Training Accuracy= 0.96875\n",
      "Iter 99840, Minibatch Loss= 0.084555, Training Accuracy= 0.97656\n",
      "Optimization Finished!\n",
      "('Testing Accuracy:', 0.984375)\n"
     ]
    }
   ],
   "source": [
    "init = tf.initialize_all_variables()\n",
    "\n",
    "with tf.Session() as sess:\n",
    "    sess.run(init)\n",
    "    step = 1\n",
    "    # Keep training until reach max iterations\n",
    "    while step * batch_size < training_iters:\n",
    "\n",
    "        # 128 x 784\n",
    "        batch_x, batch_y = mnist.train.next_batch(batch_size)\n",
    "        \n",
    "        # Reshape data to get 28 seq of 28 elements\n",
    "        batch_x = batch_x.reshape((batch_size, n_steps, n_input))\n",
    "    \n",
    "        # Run optimization op (backprop)\n",
    "        sess.run(optimizer, feed_dict={x: batch_x, y: batch_y})\n",
    "            \n",
    "        if step % display_step == 0:\n",
    "            # Calculate batch accuracy\n",
    "            acc = sess.run(accuracy, feed_dict={x: batch_x, y: batch_y})\n",
    "            # Calculate batch loss\n",
    "            loss = sess.run(cost, feed_dict={x: batch_x, y: batch_y})\n",
    "            print(\"Iter \" + str(step*batch_size) + \", Minibatch Loss= \" + \\\n",
    "                  \"{:.6f}\".format(loss) + \", Training Accuracy= \" + \\\n",
    "                  \"{:.5f}\".format(acc))\n",
    "        step += 1\n",
    "    print(\"Optimization Finished!\")\n",
    "\n",
    "    # Calculate accuracy for 128 mnist test images\n",
    "    test_len = 128\n",
    "    test_data = mnist.test.images[:test_len].reshape((-1, n_steps, n_input))\n",
    "    test_label = mnist.test.labels[:test_len]\n",
    "    print(\"Testing Accuracy:\", \\\n",
    "        sess.run(accuracy, feed_dict={x: test_data, y: test_label}))"
   ]
  },
  {
   "cell_type": "markdown",
   "metadata": {
    "collapsed": true
   },
   "source": [
    "# RNNs Dinâmicas"
   ]
  },
  {
   "cell_type": "markdown",
   "metadata": {},
   "source": [
    "No exemplo anterior, todas as nossas sequências tinham o mesmo tamanho (28). Em muitos problemas, este não é o caso, com as sequências de entrada tendo tamanho variável. Uma forma de lidar com este problema é normalizando-as para que tenham todas o mesmo tamanho. \n",
    "\n",
    "No exemplo abaixo, vamos ver como mudar a rede dinâmicamente para lidar com os tamanho variáveis. Neste exemplo, vamos construir uma RNN capaz de, dada uma sequência de números, determinar se ela é ou não aleatória. \n",
    "\n",
    "Vamos inicialmente criar uma classe capaz de gerar sequências de números, aleatórias e não aleatórias, dinâmicamente. Para cada sequência, a classe informa sua categoria (aleatória ou não aleatória), seu tamanho e a própria sequencia."
   ]
  },
  {
   "cell_type": "code",
   "execution_count": 84,
   "metadata": {
    "collapsed": false
   },
   "outputs": [],
   "source": [
    "from __future__ import print_function\n",
    "\n",
    "import tensorflow as tf\n",
    "import random\n",
    "\n",
    "# ====================\n",
    "#  TOY DATA GENERATOR\n",
    "# ====================\n",
    "class ToySequenceData(object):\n",
    "    \"\"\" Generate sequence of data with dynamic length.\n",
    "    This class generate samples for training:\n",
    "    - Class 0: linear sequences (i.e. [0, 1, 2, 3,...])\n",
    "    - Class 1: random sequences (i.e. [1, 3, 10, 7,...])\n",
    "    NOTICE:\n",
    "    We have to pad each sequence to reach 'max_seq_len' for TensorFlow\n",
    "    consistency (we cannot feed a numpy array with inconsistent\n",
    "    dimensions). The dynamic calculation will then be perform thanks to\n",
    "    'seqlen' attribute that records every actual sequence length.\n",
    "    \"\"\"\n",
    "    def __init__(self, n_samples=1000, max_seq_len=20, min_seq_len=3,\n",
    "                 max_value=1000):\n",
    "        self.data = []\n",
    "        self.labels = []\n",
    "        self.seqlen = []\n",
    "        for i in range(n_samples):\n",
    "            # Random sequence length\n",
    "            len = random.randint(min_seq_len, max_seq_len)\n",
    "            # Monitor sequence length for TensorFlow dynamic calculation\n",
    "            self.seqlen.append(len)\n",
    "            # Add a random or linear int sequence (50% prob)\n",
    "            if random.random() < .5:\n",
    "                # Generate a linear sequence\n",
    "                rand_start = random.randint(0, max_value - len)\n",
    "                s = [[float(i)/max_value] for i in\n",
    "                     range(rand_start, rand_start + len)]\n",
    "                # Pad sequence for dimension consistency\n",
    "                s += [[0.] for i in range(max_seq_len - len)]\n",
    "                self.data.append(s)\n",
    "                self.labels.append([1., 0.])\n",
    "            else:\n",
    "                # Generate a random sequence\n",
    "                s = [[float(random.randint(0, max_value))/max_value]\n",
    "                     for i in range(len)]\n",
    "                # Pad sequence for dimension consistency\n",
    "                s += [[0.] for i in range(max_seq_len - len)]\n",
    "                self.data.append(s)\n",
    "                self.labels.append([0., 1.])\n",
    "        self.batch_id = 0\n",
    "\n",
    "    def next(self, batch_size):\n",
    "        \"\"\" Return a batch of data. When dataset end is reached, start over.\n",
    "        \"\"\"\n",
    "        if self.batch_id == len(self.data):\n",
    "            self.batch_id = 0\n",
    "        batch_data = (self.data[self.batch_id:min(self.batch_id +\n",
    "                                                  batch_size, len(self.data))])\n",
    "        batch_labels = (self.labels[self.batch_id:min(self.batch_id +\n",
    "                                                  batch_size, len(self.data))])\n",
    "        batch_seqlen = (self.seqlen[self.batch_id:min(self.batch_id +\n",
    "                                                  batch_size, len(self.data))])\n",
    "        self.batch_id = min(self.batch_id + batch_size, len(self.data))\n",
    "        return batch_data, batch_labels, batch_seqlen\n",
    "\n",
    "    def to_str(self, seq):\n",
    "        strout = ''\n",
    "        batch_data, batch_labels, batch_seqlen = seq\n",
    "        for i in range(len(batch_labels)):\n",
    "            strout += str(batch_labels[i]) + ' ' + str(batch_seqlen[i]) + ' ' + str(batch_data[i]) + '\\n'\n",
    "        return strout\n",
    "    "
   ]
  },
  {
   "cell_type": "markdown",
   "metadata": {},
   "source": [
    "Como um exemplo de uso da classe, vamos exibir os batches criados para 12 sequências aleatórias. Para cada sequênica é exibido sua label (one-hot), o tamanho da sequência e a sequência em si. Note que as sequências são geradas com zeros à direita (_right padding_), quando elas têm tamanho menor que `max_seq_len`."
   ]
  },
  {
   "cell_type": "code",
   "execution_count": 89,
   "metadata": {
    "collapsed": false
   },
   "outputs": [
    {
     "name": "stdout",
     "output_type": "stream",
     "text": [
      "batch 0\n",
      "[0.0, 1.0] 4 [[0.1], [0.2], [0.4], [1.0], [0.0], [0.0], [0.0], [0.0], [0.0], [0.0]]\n",
      "[1.0, 0.0] 4 [[0.6], [0.7], [0.8], [0.9], [0.0], [0.0], [0.0], [0.0], [0.0], [0.0]]\n",
      "[0.0, 1.0] 8 [[0.3], [0.1], [0.7], [0.0], [0.9], [0.4], [0.6], [0.4], [0.0], [0.0]]\n",
      "\n",
      "batch 1\n",
      "[1.0, 0.0] 8 [[0.0], [0.1], [0.2], [0.3], [0.4], [0.5], [0.6], [0.7], [0.0], [0.0]]\n",
      "[0.0, 1.0] 9 [[0.6], [1.0], [0.3], [0.1], [0.1], [0.4], [1.0], [0.3], [0.6], [0.0]]\n",
      "[1.0, 0.0] 7 [[0.0], [0.1], [0.2], [0.3], [0.4], [0.5], [0.6], [0.0], [0.0], [0.0]]\n",
      "\n",
      "batch 2\n",
      "[1.0, 0.0] 7 [[0.3], [0.4], [0.5], [0.6], [0.7], [0.8], [0.9], [0.0], [0.0], [0.0]]\n",
      "[0.0, 1.0] 6 [[0.2], [0.5], [0.7], [0.0], [0.0], [0.0], [0.0], [0.0], [0.0], [0.0]]\n",
      "[1.0, 0.0] 10 [[0.0], [0.1], [0.2], [0.3], [0.4], [0.5], [0.6], [0.7], [0.8], [0.9]]\n",
      "\n",
      "batch 3\n",
      "[1.0, 0.0] 6 [[0.1], [0.2], [0.3], [0.4], [0.5], [0.6], [0.0], [0.0], [0.0], [0.0]]\n",
      "[0.0, 1.0] 6 [[0.3], [0.8], [1.0], [0.1], [1.0], [0.0], [0.0], [0.0], [0.0], [0.0]]\n",
      "[1.0, 0.0] 9 [[0.1], [0.2], [0.3], [0.4], [0.5], [0.6], [0.7], [0.8], [0.9], [0.0]]\n",
      "\n"
     ]
    }
   ],
   "source": [
    "n_samples = 12\n",
    "batch_size = 3\n",
    "tsd = ToySequenceData(n_samples, max_seq_len=10, \n",
    "                      min_seq_len=3, max_value=10)\n",
    "n_batches = n_samples / batch_size\n",
    "for i in range(n_batches):\n",
    "    s = tsd.next(batch_size)\n",
    "    print('batch %d\\n%s' % (i, tsd.to_str(s)))"
   ]
  },
  {
   "cell_type": "markdown",
   "metadata": {},
   "source": [
    "Nosso modelo terá, no máximo, 20 entradas, conectadas a 64 unidades ocultas, que por sua vez se conectam a 2 neurônios na saída (classes aleatório e não-aleatório). "
   ]
  },
  {
   "cell_type": "code",
   "execution_count": 92,
   "metadata": {
    "collapsed": false
   },
   "outputs": [],
   "source": [
    "# Parameters\n",
    "learning_rate = 0.01\n",
    "training_iters = 1000000\n",
    "batch_size = 128\n",
    "display_step = 100\n",
    "\n",
    "# Network Parameters\n",
    "seq_max_len = 20 # Sequence max length\n",
    "n_hidden = 64 # hidden layer num of features\n",
    "n_classes = 2 # linear sequence or not\n",
    "\n",
    "trainset = ToySequenceData(n_samples=1000, max_seq_len=seq_max_len)\n",
    "testset = ToySequenceData(n_samples=500, max_seq_len=seq_max_len)\n",
    "\n",
    "# tf Graph input\n",
    "x = tf.placeholder(\"float\", [None, seq_max_len, 1])\n",
    "y = tf.placeholder(\"float\", [None, n_classes])\n",
    "# A placeholder for indicating each sequence length\n",
    "seqlen = tf.placeholder(tf.int32, [None])\n",
    "\n",
    "# Define weights\n",
    "weights = {\n",
    "    'out': tf.Variable(tf.random_normal([n_hidden, n_classes]))\n",
    "}\n",
    "biases = {\n",
    "    'out': tf.Variable(tf.random_normal([n_classes]))\n",
    "}"
   ]
  },
  {
   "cell_type": "markdown",
   "metadata": {},
   "source": [
    "A RNN é criada como antes. Ao preparar a entrada, consideramos que os tensores tem no máximo seq_max_len passos. Neste exemplo, apenas para ilustração, usamos uma GRU no lugar de uma LSTM. Uma GRU (Gated Recurrent Unit, Cho et al, 2014) é uma variante de uma LSTM. Ela combina os gates _forget_ e _input_ em um único gate _update_. Ela também combina os estados oculto e da célula, além de outras pequenas mudanças, que a tornam um modelo mais simples que as LSTMs (embora menos intuitivos). Na prática, elas tem desempenho similar a LSTMs, mas com custo geral menor, pois são menos complexas.\n",
    "\n",
    "O aspecto mais importante de uma RNN dinâmica, contudo, é que _a saída do passo anterior que nos interessa corresponde ao tamanho da sequência_. Por exemplo, se a última sequência tinha tamanho 5, é a saída da 5a unidade (GRU em nosso exemplo) que deve ser estado oculto (de entrada) para a primeira unidade da próxima sequência. "
   ]
  },
  {
   "cell_type": "code",
   "execution_count": null,
   "metadata": {
    "collapsed": true
   },
   "outputs": [],
   "source": [
    "def dynamicRNN(x, seqlen, weights, biases):\n",
    "\n",
    "    # Prepare data shape to match `rnn` function requirements\n",
    "    x = input_to_RNN(x, seq_max_len)\n",
    "    \n",
    "    # Define a GRU cell with tensorflow\n",
    "    gru_cell = tf.nn.rnn_cell.GRUCell(n_hidden)\n",
    "\n",
    "    # Get GRU cell output, providing 'sequence_length' will perform dynamic\n",
    "    # calculation.\n",
    "    outputs, states = tf.nn.rnn(gru_cell, x, dtype=tf.float32,\n",
    "                                sequence_length=seqlen)\n",
    "\n",
    "    # When performing dynamic calculation, we must retrieve the last\n",
    "    # dynamically computed output, i.e., if a sequence length is 10, we need\n",
    "    # to retrieve the 10th output.\n",
    "    # However TensorFlow doesn't support advanced indexing yet, so we build\n",
    "    # a custom op that for each sample in batch size, get its length and\n",
    "    # get the corresponding relevant output.\n",
    "\n",
    "    # 'outputs' is a list of output at every timestep, we pack them in a Tensor\n",
    "    # and change back dimension to [batch_size, n_step, n_input]\n",
    "    outputs = tf.pack(outputs)\n",
    "    outputs = tf.transpose(outputs, [1, 0, 2])\n",
    "\n",
    "    # Hack to build the indexing and retrieve the right output.\n",
    "    batch_size = tf.shape(outputs)[0]\n",
    "    # Start indices for each sample\n",
    "    index = tf.range(0, batch_size) * seq_max_len + (seqlen - 1)\n",
    "    # Indexing\n",
    "    outputs = tf.gather(tf.reshape(outputs, [-1, n_hidden]), index)\n",
    "\n",
    "    # Linear activation, using outputs computed above\n",
    "    return tf.matmul(outputs, weights['out']) + biases['out']"
   ]
  },
  {
   "cell_type": "markdown",
   "metadata": {},
   "source": [
    "No mais, seguem as técnicas tradicionais de treino e teste, como antes:"
   ]
  },
  {
   "cell_type": "code",
   "execution_count": null,
   "metadata": {
    "collapsed": true
   },
   "outputs": [],
   "source": [
    "pred = dynamicRNN(x, seqlen, weights, biases)\n",
    "\n",
    "# Define loss and optimizer\n",
    "cost = tf.reduce_mean(tf.nn.softmax_cross_entropy_with_logits(pred, y))\n",
    "optimizer = tf.train.GradientDescentOptimizer(learning_rate=learning_rate).minimize(cost)\n",
    "\n",
    "# Evaluate model\n",
    "correct_pred = tf.equal(tf.argmax(pred,1), tf.argmax(y,1))\n",
    "accuracy = tf.reduce_mean(tf.cast(correct_pred, tf.float32))\n",
    "\n",
    "# Initializing the variables\n",
    "init = tf.initialize_all_variables()\n",
    "\n",
    "# Launch the graph\n",
    "with tf.Session() as sess:\n",
    "    sess.run(init)\n",
    "    step = 1\n",
    "    # Keep training until reach max iterations\n",
    "    while step * batch_size < training_iters:\n",
    "        batch_x, batch_y, batch_seqlen = trainset.next(batch_size)\n",
    "        # Run optimization op (backprop)\n",
    "        sess.run(optimizer, feed_dict={x: batch_x, y: batch_y,\n",
    "                                       seqlen: batch_seqlen})\n",
    "        if step % display_step == 0:\n",
    "            # Calculate batch accuracy\n",
    "            acc = sess.run(accuracy, feed_dict={x: batch_x, y: batch_y,\n",
    "                                                seqlen: batch_seqlen})\n",
    "            # Calculate batch loss\n",
    "            loss = sess.run(cost, feed_dict={x: batch_x, y: batch_y,\n",
    "                                             seqlen: batch_seqlen})\n",
    "            print(\"Iter \" + str(step*batch_size) + \", Minibatch Loss= \" + \\\n",
    "                  \"{:.6f}\".format(loss) + \", Training Accuracy= \" + \\\n",
    "                  \"{:.5f}\".format(acc))\n",
    "        step += 1\n",
    "    print(\"Optimization Finished!\")\n",
    "\n",
    "    # Calculate accuracy\n",
    "    test_data = testset.data\n",
    "    test_label = testset.labels\n",
    "    test_seqlen = testset.seqlen\n",
    "    print(\"Testing Accuracy:\", \\\n",
    "        sess.run(accuracy, feed_dict={x: test_data, y: test_label,\n",
    "                                      seqlen: test_seqlen}))"
   ]
  },
  {
   "cell_type": "markdown",
   "metadata": {},
   "source": [
    "## RNNs Sequence to Sequence: soletrando a partir de pronúncias"
   ]
  },
  {
   "cell_type": "markdown",
   "metadata": {},
   "source": [
    "De https://github.com/mikesj-public/rnn_spelling_bee/blob/master/spelling_bee_RNN.ipynb. Dados de _The CMU pronouncing dictionary_"
   ]
  },
  {
   "cell_type": "markdown",
   "metadata": {},
   "source": [
    "Nesta seção, vamos criar um modelo que, dada a pronuncia de uma palavra como uma lista de fonemas, ele tenta escrever corretamente a palavra. Este problema é mais simples que _fala para texto_ ou _tradução_ (no sentido de não precisarmos de quantidades colossais de dados para ver algo acontecer [:)]); contudo, uma dificuldade aqui é a avaliação na escrita de palavras nunca vistas antes. Isto é díficil porque (1) há muitas pronúncias com várias transcrições razoáveis além de (2) palavras homônicas com transcrições distintas (_read_, no passado e presente, por exemplo). "
   ]
  },
  {
   "cell_type": "markdown",
   "metadata": {},
   "source": [
    "### Manipulando os dados..."
   ]
  },
  {
   "cell_type": "code",
   "execution_count": 1,
   "metadata": {
    "collapsed": false
   },
   "outputs": [
    {
     "name": "stdout",
     "output_type": "stream",
     "text": [
      "Example line of file : \n",
      "SPELLING  S P EH1 L IH0 NG\n"
     ]
    }
   ],
   "source": [
    "cmu_dict_raw = open(\"cmudict-0.7b\").read()\n",
    "\n",
    "first_line = \"A  AH0\"\n",
    "last_line = \"ZYWICKI  Z IH0 W IH1 K IY0\"\n",
    "\n",
    "lines = cmu_dict_raw.split(\"\\n\")\n",
    "\n",
    "for i, l in enumerate(lines):\n",
    "    if l == first_line:\n",
    "        first_index = i\n",
    "    if l == last_line:\n",
    "        last_index = i\n",
    "        \n",
    "print \"Example line of file : \"\n",
    "print lines[113108]"
   ]
  },
  {
   "cell_type": "code",
   "execution_count": 7,
   "metadata": {
    "collapsed": false
   },
   "outputs": [
    {
     "name": "stdout",
     "output_type": "stream",
     "text": [
      " a 1\n",
      "AA0 1\n"
     ]
    }
   ],
   "source": [
    "# dictionaries to convert between indexes and letters/phonemes\n",
    "\n",
    "phonemes = set()\n",
    "\n",
    "for l in lines[first_index : last_index + 1]:\n",
    "    word, pronounce = l.split(\"  \")\n",
    "    for phoneme in pronounce.split():\n",
    "        phonemes.add(phoneme)\n",
    "        \n",
    "sorted_phonemes = [\"_\"] + sorted(list(phonemes))\n",
    "\n",
    "index_to_phoneme = dict(enumerate(sorted_phonemes))\n",
    "phoneme_to_index = dict((v, k) for k,v in index_to_phoneme.items())\n",
    "\n",
    "index_to_letter = dict(enumerate(\"_abcdefghijklmnopqrstuvwxyz\"))\n",
    "letter_to_index = dict((v, k) for k,v in index_to_letter.items())\n",
    "\n",
    "print index_to_letter[1], letter_to_index['a']\n",
    "print index_to_phoneme[1], phoneme_to_index['AA0']"
   ]
  },
  {
   "cell_type": "code",
   "execution_count": 12,
   "metadata": {
    "collapsed": false
   },
   "outputs": [
    {
     "name": "stdout",
     "output_type": "stream",
     "text": [
      "[43, 8, 65] ['L', 'AH1', 'V']\n"
     ]
    }
   ],
   "source": [
    "from collections import defaultdict\n",
    "\n",
    "pronounce_dict = {}\n",
    "\n",
    "for l in lines[first_index : last_index + 1]:\n",
    "    word, phone_list = l.split(\"  \")\n",
    "    pronounce_dict[word.lower()] = [phoneme_to_index[p] for p in phone_list.split()]\n",
    "    \n",
    "print pronounce_dict['love'], [index_to_phoneme[i] for i in pronounce_dict['love']]"
   ]
  },
  {
   "cell_type": "markdown",
   "metadata": {},
   "source": [
    "A maior palavra do vocubulário:"
   ]
  },
  {
   "cell_type": "code",
   "execution_count": 13,
   "metadata": {
    "collapsed": false
   },
   "outputs": [
    {
     "name": "stdout",
     "output_type": "stream",
     "text": [
      "supercalifragilisticexpialidocious\n",
      "[55, 64, 53, 26, 42, 6, 43, 7, 32, 54, 5, 41, 7, 43, 37, 55, 57, 35, 42, 25, 42, 55, 53, 38, 6, 43, 7, 21, 48, 56, 7, 55]\n"
     ]
    }
   ],
   "source": [
    "max_k = max([len(k) for k,v in pronounce_dict.items()])\n",
    "max_v = max([len(v) for k,v in pronounce_dict.items()])\n",
    "for k,v in pronounce_dict.items():\n",
    "    if len(k) == max_k or  len(v) == max_v:\n",
    "        print k\n",
    "        print v"
   ]
  },
  {
   "cell_type": "markdown",
   "metadata": {},
   "source": [
    "Vamos nos livrar de palavras muito longas ou com pontuação e espaço:"
   ]
  },
  {
   "cell_type": "code",
   "execution_count": 14,
   "metadata": {
    "collapsed": false
   },
   "outputs": [
    {
     "name": "stdout",
     "output_type": "stream",
     "text": [
      "antes: 133779\n",
      "depois: 108006\n"
     ]
    }
   ],
   "source": [
    "bad_ct = set()\n",
    "\n",
    "letters = set(\"abcdefghijklmnopqrstuvwxyz\")\n",
    "print 'antes:', len(pronounce_dict)\n",
    "for k, v in pronounce_dict.items():\n",
    "    if len(k) < 5 or len(k) > 15:\n",
    "        del pronounce_dict[k]\n",
    "        continue\n",
    "    for c in k:\n",
    "        if c not in letters:\n",
    "            del pronounce_dict[k]\n",
    "            break\n",
    "print 'depois:', len(pronounce_dict)"
   ]
  },
  {
   "cell_type": "markdown",
   "metadata": {},
   "source": [
    "Divide linhas em palavras e fonemas, converte para índices (com padding); separa em treino, teste e validação."
   ]
  },
  {
   "cell_type": "code",
   "execution_count": 15,
   "metadata": {
    "collapsed": true
   },
   "outputs": [],
   "source": [
    "import numpy as np\n",
    "\n",
    "pairs = np.random.permutation(list(pronounce_dict.keys()))\n",
    "\n",
    "input_ = np.zeros((len(pairs), 16))\n",
    "labels_ = np.zeros((len(pairs), 15))\n",
    "\n",
    "for i, k in enumerate(pairs):\n",
    "    v = pronounce_dict[k]\n",
    "    k = k + \"_\" * (15 - len(k))\n",
    "    v = v + [0] * (16 - len(v))\n",
    "    for j, n in enumerate(v):\n",
    "        input_[i][j] = n\n",
    "    for j, letter in enumerate(k):\n",
    "        labels_[i][j] = letter_to_index[letter]\n",
    "        \n",
    "input_ = input_.astype(np.int32)\n",
    "labels_ = labels_.astype(np.int32)\n",
    "\n",
    "input_test   = input_[:10000]\n",
    "input_val    = input_[10000:20000]\n",
    "input_train  = input_[20000:]\n",
    "labels_test  = labels_[:10000]\n",
    "labels_val   = labels_[10000:20000]\n",
    "labels_train = labels_[20000:]\n",
    "\n",
    "data_test  = zip(input_test, labels_test)\n",
    "data_val   = zip(input_val, labels_val)\n",
    "data_train = zip(input_train, labels_train)"
   ]
  },
  {
   "cell_type": "markdown",
   "metadata": {},
   "source": [
    "### Implementando em tensorflow"
   ]
  },
  {
   "cell_type": "code",
   "execution_count": 24,
   "metadata": {
    "collapsed": false
   },
   "outputs": [],
   "source": [
    "import tensorflow as tf\n",
    "from tensorflow.python.framework import ops\n",
    "#from tensorflow.models.rnn import rnn_cell, seq2seq"
   ]
  },
  {
   "cell_type": "markdown",
   "metadata": {},
   "source": [
    "Abrindo uma sessão interativa"
   ]
  },
  {
   "cell_type": "code",
   "execution_count": 18,
   "metadata": {
    "collapsed": true
   },
   "outputs": [],
   "source": [
    "ops.reset_default_graph()\n",
    "try:\n",
    "    sess.close()\n",
    "except:\n",
    "    pass\n",
    "sess = tf.InteractiveSession()"
   ]
  },
  {
   "cell_type": "code",
   "execution_count": 19,
   "metadata": {
    "collapsed": true
   },
   "outputs": [],
   "source": [
    "input_seq_length = 16\n",
    "output_seq_length = 15\n",
    "batch_size = 128\n",
    "\n",
    "input_vocab_size = 70\n",
    "output_vocab_size = 28\n",
    "embedding_dim = 256"
   ]
  },
  {
   "cell_type": "markdown",
   "metadata": {},
   "source": [
    "Nossa RNN tem a seguinte topologia:\n",
    "\n",
    "<img src=\"rnn_seq2seq.png\">\n",
    "\n",
    "Ou seja, a entrada do decodificador (`decode_input`) tem que ser deslocada de 1 dos rótulos."
   ]
  },
  {
   "cell_type": "code",
   "execution_count": 21,
   "metadata": {
    "collapsed": true
   },
   "outputs": [],
   "source": [
    "encode_input = [tf.placeholder(tf.int32, shape=(None,), name = \"ei_%i\" %i) \n",
    "                for i in range(input_seq_length)]\n",
    "\n",
    "labels = [tf.placeholder(tf.int32, shape=(None,), name = \"l_%i\" %i) \n",
    "          for i in range(output_seq_length)]\n",
    "\n",
    "decode_input = [tf.zeros_like(encode_input[0], dtype=np.int32, name=\"GO\")] + labels[:-1]"
   ]
  },
  {
   "cell_type": "markdown",
   "metadata": {},
   "source": [
    "A próxima célula é o cerne do nosso modelo. Nossa RNN é formada por células LSTM com dropout entre as camadas. Empilhamos 3 dessas (LSTM+dropout) para formar a rede neural completa. Executamos essa rede com o padrão `seq2seq.embedding_rnn_seq2seq` que permite que a alimentemos com uma sequência normal de números e esta é convertida automaticamente pela própria rede em uma sequência de embeddings de tensores one-hot.\n",
    "\n",
    "Note que nós construimos duas redes no escopo 'decoders'. Uma delas usa `feed_previous = True` enquanto a outra não. Isso é setado para False durante o treino, de forma que mesmo que o aprendiz cometa um erro em uma letra - nós ainda passamos pra ele o rótulo correto em `decoder_inputs`. Como não teríamos os rótulos corretos em um teste real, para o conjunto de teste usamos `feed_previous = True` e o decodificador recebe a letra com máxima probabilidade do último passo da saída do decodificador.\n",
    "\n",
    "`decode_output` é um tensor com forma (batch_size, output_vocab_size). Nós podemos aplicar softmax a este tensor para obter escores logísticos para cada letra."
   ]
  },
  {
   "cell_type": "code",
   "execution_count": 30,
   "metadata": {
    "collapsed": false
   },
   "outputs": [],
   "source": [
    "keep_prob = tf.placeholder(\"float\")\n",
    "\n",
    "# range(3) para formar uma pilha com 3 camadas\n",
    "cells = [tf.nn.rnn_cell.DropoutWrapper(\n",
    "        tf.nn.rnn_cell.BasicLSTMCell(embedding_dim), output_keep_prob=keep_prob\n",
    "    ) for i in range(3)]\n",
    "\n",
    "stacked_lstm = tf.nn.rnn_cell.MultiRNNCell(cells)\n",
    "\n",
    "with tf.variable_scope(\"decoders\") as scope:\n",
    "    decode_outputs, decode_state = tf.nn.seq2seq.embedding_rnn_seq2seq(\n",
    "        encode_input, decode_input, stacked_lstm, input_vocab_size, output_vocab_size, embedding_dim)\n",
    "    \n",
    "    scope.reuse_variables()\n",
    "    \n",
    "    decode_outputs_test, decode_state_test = tf.nn.seq2seq.embedding_rnn_seq2seq(\n",
    "        encode_input, decode_input, stacked_lstm, input_vocab_size, output_vocab_size, embedding_dim,\n",
    "    feed_previous=True)"
   ]
  },
  {
   "cell_type": "markdown",
   "metadata": {},
   "source": [
    "`sequence_loss` é entropia cruzada aplicada ao softmax das saídas do decodificador."
   ]
  },
  {
   "cell_type": "code",
   "execution_count": 32,
   "metadata": {
    "collapsed": false
   },
   "outputs": [],
   "source": [
    "loss_weights = [tf.ones_like(l, dtype=tf.float32) for l in labels]\n",
    "loss = tf.nn.seq2seq.sequence_loss(decode_outputs, labels, loss_weights, output_vocab_size, embedding_dim)\n",
    "optimizer = tf.train.AdamOptimizer(1e-4)\n",
    "train_op = optimizer.minimize(loss)"
   ]
  },
  {
   "cell_type": "code",
   "execution_count": 33,
   "metadata": {
    "collapsed": false
   },
   "outputs": [
    {
     "name": "stdout",
     "output_type": "stream",
     "text": [
      "WARNING:tensorflow:From <ipython-input-33-9f5df2c7784a>:1 in <module>.: initialize_all_variables (from tensorflow.python.ops.variables) is deprecated and will be removed after 2017-03-02.\n",
      "Instructions for updating:\n",
      "Use `tf.global_variables_initializer` instead.\n"
     ]
    }
   ],
   "source": [
    "sess.run(tf.initialize_all_variables())"
   ]
  },
  {
   "cell_type": "markdown",
   "metadata": {},
   "source": [
    "### Modelo de Treino"
   ]
  },
  {
   "cell_type": "markdown",
   "metadata": {},
   "source": [
    "Esta classe pega batches aleatórios e os arranja de forma adequada para o modelo."
   ]
  },
  {
   "cell_type": "code",
   "execution_count": 34,
   "metadata": {
    "collapsed": true
   },
   "outputs": [],
   "source": [
    "class DataIterator:\n",
    "    def __init__(self, data, batch_size):\n",
    "        self.data = data\n",
    "        self.batch_size = batch_size\n",
    "        self.iter = self.make_random_iter()\n",
    "        \n",
    "    def next_batch(self):\n",
    "        try:\n",
    "            idxs = self.iter.next()\n",
    "        except StopIteration:\n",
    "            self.iter = self.make_random_iter()\n",
    "            idxs = self.iter.next()\n",
    "        X, Y = zip(*[self.data[i] for i in idxs])\n",
    "        X = np.array(X).T\n",
    "        Y = np.array(Y).T\n",
    "        return X, Y\n",
    "\n",
    "    def make_random_iter(self):\n",
    "        splits = np.arange(self.batch_size, len(self.data), self.batch_size)\n",
    "        it = np.split(np.random.permutation(range(len(self.data))), splits)[:-1]\n",
    "        return iter(it)\n",
    "    \n",
    "train_iter = DataIterator(data_train, 128)\n",
    "val_iter = DataIterator(data_val, 128)\n",
    "test_iter = DataIterator(data_test, 128)"
   ]
  },
  {
   "cell_type": "markdown",
   "metadata": {},
   "source": [
    "A avaliação é feita usando tanto a perda da seq2seq quanto a precisão, ou seja, a proporção de palavras escritas corretamente pelo modelo."
   ]
  },
  {
   "cell_type": "code",
   "execution_count": 35,
   "metadata": {
    "collapsed": true
   },
   "outputs": [],
   "source": [
    "import sys\n",
    "\n",
    "def get_feed(X, Y):\n",
    "    feed_dict = {encode_input[t]: X[t] for t in range(input_seq_length)}\n",
    "    feed_dict.update({labels[t]: Y[t] for t in range(output_seq_length)})\n",
    "    return feed_dict\n",
    "\n",
    "def train_batch(data_iter):\n",
    "    X, Y = data_iter.next_batch()\n",
    "    feed_dict = get_feed(X, Y)\n",
    "    feed_dict[keep_prob] = 0.5\n",
    "    _, out = sess.run([train_op, loss], feed_dict)\n",
    "    return out\n",
    "\n",
    "def get_eval_batch_data(data_iter):\n",
    "    X, Y = data_iter.next_batch()\n",
    "    feed_dict = get_feed(X, Y)\n",
    "    feed_dict[keep_prob] = 1.\n",
    "    all_output = sess.run([loss] + decode_outputs_test, feed_dict)\n",
    "    eval_loss = all_output[0]\n",
    "    decode_output = np.array(all_output[1:]).transpose([1,0,2])\n",
    "    return eval_loss, decode_output, X, Y\n",
    "\n",
    "def eval_batch(data_iter, num_batches):\n",
    "    losses = []\n",
    "    predict_loss = []\n",
    "    for i in range(num_batches):\n",
    "        eval_loss, output, X, Y = get_eval_batch_data(data_iter)\n",
    "        losses.append(eval_loss)\n",
    "        \n",
    "        for index in range(len(output)):\n",
    "            real = Y.T[index]\n",
    "            predict = np.argmax(output, axis = 2)[index]\n",
    "            predict_loss.append(all(real==predict))\n",
    "    return np.mean(losses), np.mean(predict_loss)"
   ]
  },
  {
   "cell_type": "markdown",
   "metadata": {},
   "source": [
    "Exemplo de execução deixada até cerca de 20000 iterações."
   ]
  },
  {
   "cell_type": "code",
   "execution_count": 36,
   "metadata": {
    "collapsed": false
   },
   "outputs": [
    {
     "name": "stdout",
     "output_type": "stream",
     "text": [
      "val loss   : 3.216738, val predict   = 0.0%\n",
      "train loss : 3.217064, train predict = 0.0%\n",
      "\n",
      "val loss   : 0.923874, val predict   = 0.2%\n",
      "train loss : 0.943416, train predict = 0.6%\n",
      "\n",
      "val loss   : 0.587645, val predict   = 8.2%\n",
      "train loss : 0.583814, train predict = 8.0%\n",
      "\n",
      "val loss   : 0.455057, val predict   = 14.2%\n",
      "train loss : 0.446224, train predict = 15.5%\n",
      "\n",
      "val loss   : 0.379664, val predict   = 16.8%\n",
      "train loss : 0.383763, train predict = 19.1%\n",
      "\n",
      "val loss   : 0.335629, val predict   = 22.9%\n",
      "train loss : 0.334294, train predict = 23.2%\n",
      "\n",
      "val loss   : 0.316641, val predict   = 27.2%\n",
      "train loss : 0.305840, train predict = 25.0%\n",
      "\n",
      "val loss   : 0.290137, val predict   = 28.1%\n",
      "train loss : 0.273253, train predict = 29.7%\n",
      "\n",
      "val loss   : 0.263898, val predict   = 32.2%\n",
      "train loss : 0.262774, train predict = 31.8%\n",
      "\n",
      "val loss   : 0.264169, val predict   = 30.9%\n",
      "train loss : 0.239268, train predict = 35.0%\n",
      "\n",
      "val loss   : 0.245243, val predict   = 34.2%\n",
      "train loss : 0.228171, train predict = 36.8%\n",
      "\n",
      "val loss   : 0.236577, val predict   = 34.6%\n",
      "train loss : 0.213116, train predict = 37.7%\n",
      "\n",
      "val loss   : 0.222518, val predict   = 37.6%\n",
      "train loss : 0.209775, train predict = 38.1%\n",
      "\n",
      "val loss   : 0.226416, val predict   = 37.1%\n",
      "train loss : 0.192899, train predict = 42.6%\n",
      "\n",
      "val loss   : 0.221179, val predict   = 39.0%\n",
      "train loss : 0.191377, train predict = 42.6%\n",
      "\n",
      "val loss   : 0.208909, val predict   = 40.3%\n",
      "train loss : 0.174448, train predict = 46.2%\n",
      "\n",
      "val loss   : 0.206419, val predict   = 39.6%\n",
      "train loss : 0.171818, train predict = 44.4%\n",
      "\n",
      "val loss   : 0.207944, val predict   = 42.4%\n",
      "train loss : 0.163578, train predict = 48.0%\n",
      "\n",
      "val loss   : 0.190042, val predict   = 43.1%\n",
      "train loss : 0.155769, train predict = 49.0%\n",
      "\n",
      "val loss   : 0.190026, val predict   = 41.1%\n",
      "train loss : 0.155520, train predict = 49.6%\n",
      "\n",
      "interrupted by user\n"
     ]
    }
   ],
   "source": [
    "for i in range(100000):\n",
    "    try:\n",
    "        train_batch(train_iter)\n",
    "        if i % 1000 == 0:\n",
    "            val_loss, val_predict = eval_batch(val_iter, 16)\n",
    "            train_loss, train_predict = eval_batch(train_iter, 16)\n",
    "            print \"val loss   : %f, val predict   = %.1f%%\" %(val_loss, val_predict * 100)\n",
    "            print \"train loss : %f, train predict = %.1f%%\" %(train_loss, train_predict * 100)\n",
    "            print\n",
    "            sys.stdout.flush()\n",
    "    except KeyboardInterrupt:\n",
    "        print \"interrupted by user\"\n",
    "        break"
   ]
  },
  {
   "cell_type": "markdown",
   "metadata": {},
   "source": [
    "### Examinando modelos..."
   ]
  },
  {
   "cell_type": "markdown",
   "metadata": {},
   "source": [
    "Eu atingi cerca de 41% no conjunto de validação, quando interrompi. Isso parece bem ruim. Vamos ver agora os erros cometidos. "
   ]
  },
  {
   "cell_type": "code",
   "execution_count": 37,
   "metadata": {
    "collapsed": true
   },
   "outputs": [],
   "source": [
    "eval_loss, output, X, Y = get_eval_batch_data(test_iter)"
   ]
  },
  {
   "cell_type": "code",
   "execution_count": 40,
   "metadata": {
    "collapsed": false
   },
   "outputs": [
    {
     "name": "stdout",
     "output_type": "stream",
     "text": [
      "pronúncia                               correta           chute do modelo   correto?\n",
      "\n",
      "AE0-N-T-OW1-N-IY0-OW0                    antonio           antonio           True\n",
      "R-AW1-N-D-AH2-P                          roundup           roundup           True\n",
      "K-AH0-D-UW1-M-IY0                        kadumi            cadumi            False\n",
      "T-OY0-UW1                                toyoo             towee             False\n",
      "T-EH1-D-F-ER0-D                          tedford           tedford           True\n",
      "AE1-M-IH0-D-AA0-N                        amidon            amidon            True\n",
      "P-R-IH1-T-IY0-ER0                        prettier          pritier           False\n",
      "B-AO1-R-T-AH0-N                          borten            borton            False\n",
      "T-AA1-M-P-K-IH0-N-S-IH0-Z                tompkinses        tompkinces        False\n",
      "K-IH1-M-AH0-L                            kimmel            kimmel            True\n",
      "K-EH2-R-AH0-T-AO1-T-AH0-M-IY0            keratotomy        caratomity        False\n",
      "AA1-K-Y-AH0-P-AY2-ER0                    occupier          occupier          True\n",
      "K-L-IH1-N-T                              clint             klint             False\n",
      "S-IY1-N-ER0                              seanor            seaner            False\n",
      "EH1-L-F-IH0-SH                           elfish            elfish            True\n",
      "K-W-IH1-N-IY0                            quinney           quinny            False\n",
      "S-AE1-N-T-IY0                            santi             santi             True\n",
      "W-AO1-D-AH0-L                            wadle             wadle             True\n",
      "AE1-G-ER0-D                              agard             aggard            False\n",
      "B-IY0-AA0-N-CH-IY1-N-IY0                 bianchini         biancini          False\n",
      "M-AH0-K-ER1-D-IY0                        mccurdy           mccurdy           True\n",
      "M-UH1-R-M-AH0-N                          moormann          moorman           False\n",
      "B-AA1-B-S-T                              bobst             bobst             True\n",
      "S-T-R-IY1-T                              streett           street            False\n",
      "AE0-M-B-AE2-S-AH0-D-AO1-R-IY0-AH0-L      ambassadorial     ambassadiaral     False\n",
      "K-L-OW1-Z-IH0-NG                         closing           closing           True\n",
      "M-IH0-HH-AA1-L-EH0-K                     michalek          mihalek           False\n",
      "R-AA1-B-ER0-S-AH0-N                      robberson         roberson          False\n",
      "L-OW1-D-IH0-NG-Z                         loadings          lodings           False\n",
      "S-ER0-AA0-T-AO1-R-IY0                    serratore         seratori          False\n",
      "T-AE1-K-T-IH0-K                          tactic            tactic            True\n",
      "P-R-EH1-S-IY0-AH0-N-T                    prescient         preceenet         False\n",
      "S-P-AY1-K-AE2-CH-ER0                     spycatcher        spicatucher       False\n",
      "P-R-AA1-S-T-EY2-T                        prostate          prostate          True\n",
      "M-AW1-CH-ER0                             maucher           maucher           True\n",
      "M-EH1-N-S-IH0-K                          mensik            mensick           False\n",
      "L-IH1-N-D-HH-OW2-L-M                     lindholm          lindholm          True\n",
      "B-L-EY1-Z                                blaize            blays             False\n",
      "N-ER1-V-AH0-S                            nervous           nervis            False\n",
      "K-AH1-B-IH0-CH-EH0-K                     kubicek           kubezek           False\n",
      "D-AO1-S-AH0-N                            dawson            dossen            False\n",
      "B-AE1-R-AH0-S                            barrus            barrus            True\n",
      "L-AA1-N-OW0                              llano             lano              False\n",
      "S-AY1-T                                  sight             sight             True\n",
      "W-EH1-L-F-ER0-D                          welford           welford           True\n",
      "G-AA1-R-L-IH0-K                          garlic            garlick           False\n",
      "T-AH1-N-AH0-JH-AH0-Z                     tonnages          tunages           False\n",
      "P-IY0-AE1-N-OW0                          piano             piano             True\n",
      "P-AA1-M-P-AA2-N-Z                        pompons           pompons           True\n",
      "L-OW1-D-ER0-Z                            loaders           loders            False\n",
      "M-AE1-T-S-AH0                            matzoh            matza             False\n",
      "W-EH2-S-T-HH-AE1-M-P-T-AH0-N             westhampton       westamphan        False\n",
      "R-IH1-CH-ER0-D                           richerd           richard           False\n",
      "B-AA1-B-AH0-N                            bobbin            bobben            False\n",
      "P-AA2-L-IY0-V-AY1-N-AH0-L                polyvinyl         polivinal         False\n",
      "K-EY1-JH-D                               caged             caged             True\n",
      "W-AO1-R-IY0-ER0                          warrior           warrier           False\n",
      "P-AE2-T-R-AH0-N-IH1-M-IH0-K              patronymic        patronimic        False\n",
      "S-T-R-IY1-B                              strebe            streeb            False\n",
      "B-R-IH1-L-Y-AH0-N-T                      brilliant         brilliant         True\n",
      "G-AA1-R-D-Z                              guards            gards             False\n",
      "AA1-D-IH0-G-AA0-R-D                      odegaard          odigard           False\n",
      "CH-IY1-Z-IY0-ER0                         cheesier          chesier           False\n",
      "K-AW1-N-S-IH0-L-Z                        councils          counciles         False\n",
      "HH-AE1-M-AH0-L                           hammel            hammel            True\n",
      "D-IH0-T-EY1-N-IH0-NG                     detaining         detaining         True\n",
      "D-UW1-AH0-L-Z                            duels             duels             True\n",
      "F-UH0-R-IY1-N-IY0                        furini            furini            True\n",
      "AO0-R-OW0-P-EH1-Z-AH0                    oropeza           oropesa           False\n",
      "F-R-IY1-K-S                              freaks            freeks            False\n",
      "K-R-IH1-S-T-L-IY2-B                      christlieb        christlebe        False\n",
      "F-IH1-G-M-IH0-N-T-S                      figments          figments          True\n",
      "M-OW1-T-AH0-V-EY0-T-ER0                  motivator         motivater         False\n",
      "V-AH1-L-K-AH0-N-Z                        vulcans           vulkens           False\n",
      "M-EH0-L-IY1-T-OW0                        melito            melito            True\n",
      "D-ER1-W-IH0-N                            derwin            durwin            False\n",
      "AE1-M-R-EH0-P                            amrep             amrep             True\n",
      "EH1-R-AH0-G-AH0-N-S                      arrogance         aragance          False\n",
      "W-EY1-S-T                                waste             wased             False\n",
      "M-IH0-L-EH1-F-S-K-IY0                    milewski          milewski          True\n",
      "AY1-L-ER0                                isler             eiler             False\n",
      "AW1-S-T-AH0-L                            austell           oustal            False\n",
      "D-AW1-N-AH0-N                            downen            downan            False\n",
      "S-N-OW1-B-ER2-D                          snowbird          snowbird          True\n",
      "N-AE1-SH-AH0-N-AE2-L-EY0                 nationale         nationale         True\n",
      "N-AA0-Y-AA1-R                            najar             nayar             False\n",
      "G-AY1-D-P-OW2-S-T-S                      guideposts        guideposts        True\n",
      "P-R-AH0-V-EH1-R-AH0-K-EY0-T-AH0-D        prevaricated      proveracated      False\n",
      "W-UW1-P-IY0                              whoopie           whoopy            False\n",
      "SH-IY1-V-Z                               sheaves           sheves            False\n",
      "M-EH2-R-EY1-B-IY0-AH0-N                  mehrabian         marrabian         False\n",
      "S-L-AA1-P-AH0-L-IY0                      sloppily          sloppley          False\n",
      "T-AH0-N-AY1-T                            tonight           tonight           True\n",
      "L-IH2-T-AH0-G-EY1-SH-AH0-N               litigation        litigation        True\n",
      "S-AH1-M-ER0-L-IH0-N                      sumerlin          summerlin         False\n",
      "F-EH1-R-IY0-M-AH0-N                      ferryman          ferriman          False\n",
      "S-EH1-D-R-IH0-K                          cedric            sedric            False\n",
      "M-IH1-CH-AH0-L                           michell           michel            False\n",
      "L-EH1-G-IH0-T                            leget             leggett           False\n",
      "AO1-R-N-ER0                              orner             orner             True\n",
      "S-OW1-L-IH0-T-R-AA0-N                    solitron          solitron          True\n",
      "F-IH2-G-Y-ER0-EY1-SH-AH0-N               figuration        figuration        True\n",
      "S-T-OW1-L-T-S                            stoeltze          stoltz            False\n",
      "Y-UW1-OW0-L-T                            ewoldt            eulet             False\n",
      "R-IY1-Z-ER0                              reser             reaser            False\n",
      "G-L-AE1-M-ER0-AY0-Z-IH0-NG               glamorizing       glamorizing       True\n",
      "W-IH1-N-T-ER0-TH-ER0                     winterthur        winterther        False\n",
      "M-AH0-CH-IH1-Z-M-OW0                     machismo          machismo          True\n",
      "OW2-V-ER0-EH0-K-S-AY1-T-IH0-NG           overexciting      overexiting       False\n",
      "HH-AA1-R-D-SH-IH0-P                      hardship          hardship          True\n",
      "W-ER1-L-D-P-AE2-S                        worldpass         worldpass         True\n",
      "L-UH1-R-IH0-NG                           luhring           luering           False\n",
      "R-IY2-AH0-W-EY1-K-AH0-N-IH0-NG           reawakening       reawakining       False\n",
      "R-EH1-N-T-AH0-L                          rental            rentle            False\n",
      "S-AH1-CH-ER0                             sucher            sutcher           False\n",
      "ZH-IH1-R-AH0-N                           giron             jeron             False\n",
      "B-L-IH1-S-T-ER0                          blister           blister           True\n",
      "D-AH1-D-L-IY0                            dudley            dudley            True\n",
      "JH-OW2-K-AA1-R                           dzhokhar          jocahr            False\n",
      "SH-L-AA1-B-OW0-M                         schlobohm         schlobom          False\n",
      "P-IH1-NG-K-ER0-M-AH0-N                   pinkerman         pinkerman         True\n",
      "B-R-AE1-N-D                              brande            brand             False\n",
      "F-EY1-Z-D                                fazed             faised            False\n",
      "D-AY0-S-EH1-K-T                          dissect           disect            False\n",
      "S-V-EH1-N-S-K                            svensk            svensk            True\n",
      "B-EH1-R-IH0-NG-Z                         barings           berrings          False\n",
      "AY1-K-AH0-L-B-ER0-G-ER0                  eichelberger      eichelberger      True\n",
      "G-AH0-V-AA1-L-D-AH0                      gavalda           gavalda           True\n"
     ]
    }
   ],
   "source": [
    "print \"pronúncia\".ljust(40),\n",
    "print \"correta\".ljust(17),\n",
    "print \"chute do modelo\".ljust(17),\n",
    "print \"correto?\"\n",
    "print\n",
    "\n",
    "for index in range(len(output)):\n",
    "    phonemes = \"-\".join([index_to_phoneme[p] for p in X.T[index]]) \n",
    "    real = [index_to_letter[l] for l in Y.T[index]] \n",
    "    predict = [index_to_letter[l] for l in np.argmax(output, axis = 2)[index]]\n",
    "   \n",
    "    print phonemes.split(\"-_\")[0].ljust(40),\n",
    "    print \"\".join(real).split(\"_\")[0].ljust(17),\n",
    "    print \"\".join(predict).split(\"_\")[0].ljust(17),\n",
    "    print str(real == predict)"
   ]
  },
  {
   "cell_type": "markdown",
   "metadata": {},
   "source": [
    "Como podemos ver, os erros não parecem tão terríveis assim. "
   ]
  },
  {
   "cell_type": "markdown",
   "metadata": {},
   "source": [
    "Este curso é baseado em material da [Big Data University](https://bigdatauniversity.com/?utm_source=bducopyrightlink&utm_medium=dswb&utm_campaign=bdu). Assim, segue os termos da [licença do MIT](https://bigdatauniversity.com/mit-license/). Material adicional de Aymeric Damien (ver https://github.com/aymericdamien/TensorFlow-Examples para muitos exemplos) e Mikesj (https://github.com/mikesj-public/rnn_spelling_bee/blob/master/spelling_bee_RNN.ipynb).\n"
   ]
  }
 ],
 "metadata": {
  "kernelspec": {
   "display_name": "Python 2",
   "language": "python",
   "name": "python2"
  },
  "language_info": {
   "codemirror_mode": {
    "name": "ipython",
    "version": 2
   },
   "file_extension": ".py",
   "mimetype": "text/x-python",
   "name": "python",
   "nbconvert_exporter": "python",
   "pygments_lexer": "ipython2",
   "version": "2.7.11"
  },
  "widgets": {
   "state": {},
   "version": "1.1.2"
  }
 },
 "nbformat": 4,
 "nbformat_minor": 0
}
