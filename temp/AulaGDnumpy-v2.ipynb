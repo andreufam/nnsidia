{
 "cells": [
  {
   "cell_type": "markdown",
   "metadata": {},
   "source": [
    "# Gradiente Descendente"
   ]
  },
  {
   "cell_type": "markdown",
   "metadata": {},
   "source": [
    "Dada uma função de estimação $\\hat{y}$ e uma função de perda $\\ell$ (_loss function_, que compara quão boa é a função estimadora $\\hat{y}$ em relação aos casos reais observados no treino), é possível determinar o conjunto de pesos $W$, usados por $\\hat{y}$, que minimizam a perda $\\ell$.\n",
    "\n",
    "* Estimador (usando maiusculas para indicar notação vetorial e considerando peso livre incorporado à W): \n",
    "    - $\\hat{Y}^{m \\times 1} = X^{m \\times n} W^{n \\times 1}$\n",
    "* Perda (neste caso, por exemplo, a média do quadrado da diferença): \n",
    "    - $\\ell(\\hat{Y}, Y) = \\frac{1}{m} \\sum \\frac{1}{2}(\\hat{Y} - Y)^2$\n",
    "    - $\\ell(\\hat{Y}, Y) = \\frac{1}{m} \\sum \\frac{1}{2}(X W - Y)^2$\n",
    "\n",
    "Para minimizar $\\ell$, precisamos achar $W$ tal que $\\frac{\\partial \\ell(\\hat{Y}, Y)}{\\partial W} = 0$. Para o caso específico da função de perda dada, a soma dos quadrados das diferenças, temos que obter $W$ com ajuda da expressão (a redução à soma foi retirada para facilitar a visualização, mas ela é trivial desde que a derivada da soma de termos é a soma das derivadas dos termos):\n",
    "\n",
    "* $\\frac{\\partial \\ell(\\hat{Y}, Y)}{\\partial W}$ = $\\frac{\\partial \\frac{1}{m} \\sum \\frac{1}{2}(X W - Y)^2}{\\partial W} \\\\= \\frac{\\partial}{\\partial W}\\frac{1}{2 m} \\sum (X^2 W^2 - 2 X W Y + Y^2) \\\\= \\frac{1}{2 m} \\sum (2 X^2 W - 2 X Y) \\\\= \\frac{1}{m} \\sum X^2 W - X Y \\\\= \\frac{1}{m} \\sum X^{T}X W - X^{T} Y \\\\= \\frac{1}{m} \\sum X^{T}(X W - Y)$\n",
    "\n",
    "Embora $W$ possa ser obtido de forma exata, resolvendo $\\frac{1}{m} \\sum X^{T}(X W - Y) = 0$, isto envolve uma inversão matricial, o que torna o algoritmo inviável na prática. Assim, vamos obter a solução através de um método iterativo, o Gradiente Descendente (GD). No GD, o conjunto de pesos $W$ é atualizado ao longo de $E$ épocas de acordo com o valor do gradiente de $\\ell$ ($\\nabla \\ell$), ou seja (para o nosso exemplo), o valor assumido pela derivada $\\frac{\\partial \\ell(\\hat{Y}, Y)}{\\partial W} = \\nabla \\ell = \\frac{1}{m} \\sum X^{T}(X W - Y)$. \n",
    "\n",
    "De forma geral, o algoritmo é:\n",
    "\n",
    "* Inicie $W$ com um valor qualquer;\n",
    "* Para $E$ épocas:\n",
    "    * Estime $\\hat{Y} = X W$ usando exemplos de treino;\n",
    "    * Calcule $\\ell(\\hat{Y}, Y)$;\n",
    "    * Obtenha o gradiente $\\nabla \\ell = \\frac{\\partial \\ell(\\hat{Y}, Y)}{\\partial W}$;\n",
    "    * Atualize $W$ de forma que $W = W - \\eta \\nabla \\ell$, onde $\\eta$ (taxa de aprendizado) é a proporção do gradiente que corresponde ao passo.\n",
    "* Retorne $W$"
   ]
  },
  {
   "cell_type": "markdown",
   "metadata": {},
   "source": [
    "## GD em Numpy"
   ]
  },
  {
   "cell_type": "code",
   "execution_count": 3,
   "metadata": {
    "collapsed": true,
    "scrolled": true
   },
   "outputs": [],
   "source": [
    "import pandas as pd\n",
    "import numpy as np\n",
    "import matplotlib.pyplot as plt\n",
    "%matplotlib inline"
   ]
  },
  {
   "cell_type": "markdown",
   "metadata": {},
   "source": [
    "Para implementarmos o GD em Numpy, vamos tratar os pesos livres (_biases_) como pesos aplicados a um atributo $X_0$ de valor constante igual a 1. Assim, a matrix $X$ será acrescida de uma coluna de 1's. Se a matriz é:\n",
    "\n",
    "$$\n",
    "\\begin{bmatrix}\n",
    "    x_{11} & x_{12} & \\dots  & x_{1n} \\\\\n",
    "    x_{21} & x_{22} & \\dots  & x_{2n} \\\\\n",
    "    \\vdots & \\vdots & \\ddots & \\vdots \\\\\n",
    "    x_{d1} & x_{d2} & \\dots  & x_{dn}\n",
    "\\end{bmatrix}$$\n",
    "\n",
    "Ela se tornará:\n",
    "\n",
    "$$\n",
    "\\begin{bmatrix}\n",
    "    1 & x_{11} & x_{12} & \\dots  & x_{1n} \\\\\n",
    "    1 & x_{21} & x_{22} & \\dots  & x_{2n} \\\\\n",
    "    1 & \\vdots & \\vdots & \\ddots & \\vdots \\\\\n",
    "    1 & x_{d1} & x_{d2} & \\dots  & x_{dn}\n",
    "\\end{bmatrix}\n",
    "$$\n"
   ]
  },
  {
   "cell_type": "code",
   "execution_count": 4,
   "metadata": {
    "collapsed": true
   },
   "outputs": [],
   "source": [
    "def GD(X, y, lrate, epochs):\n",
    "    losses = []\n",
    "    X = np.c_[np.ones((X.shape[0])), X] # insert bias\n",
    "    m, n = X.shape \n",
    "    W = np.zeros(n)\n",
    "    for i in range(0, epochs):\n",
    "        yhat = np.dot(X, W)\n",
    "        error = yhat - y\n",
    "        loss = np.sum(error ** 2) / (2 * m)\n",
    "        losses += [loss]\n",
    "        print \"%3d: %f\" % (i, loss)\n",
    "        Gw = np.dot(X.T, error) / m\n",
    "        W = W - lrate * Gw\n",
    "    return W, losses"
   ]
  },
  {
   "cell_type": "markdown",
   "metadata": {},
   "source": [
    "### Testando nossa implementação"
   ]
  },
  {
   "cell_type": "code",
   "execution_count": 5,
   "metadata": {
    "collapsed": true
   },
   "outputs": [],
   "source": [
    "bpm = pd.read_csv('bpm.csv')"
   ]
  },
  {
   "cell_type": "code",
   "execution_count": 6,
   "metadata": {},
   "outputs": [
    {
     "data": {
      "text/html": [
       "<div>\n",
       "<style>\n",
       "    .dataframe thead tr:only-child th {\n",
       "        text-align: right;\n",
       "    }\n",
       "\n",
       "    .dataframe thead th {\n",
       "        text-align: left;\n",
       "    }\n",
       "\n",
       "    .dataframe tbody tr th {\n",
       "        vertical-align: top;\n",
       "    }\n",
       "</style>\n",
       "<table border=\"1\" class=\"dataframe\">\n",
       "  <thead>\n",
       "    <tr style=\"text-align: right;\">\n",
       "      <th></th>\n",
       "      <th>Idade</th>\n",
       "      <th>Altura</th>\n",
       "      <th>Peso</th>\n",
       "      <th>BPM</th>\n",
       "    </tr>\n",
       "  </thead>\n",
       "  <tbody>\n",
       "    <tr>\n",
       "      <th>0</th>\n",
       "      <td>73</td>\n",
       "      <td>165</td>\n",
       "      <td>63</td>\n",
       "      <td>66</td>\n",
       "    </tr>\n",
       "    <tr>\n",
       "      <th>1</th>\n",
       "      <td>57</td>\n",
       "      <td>177</td>\n",
       "      <td>68</td>\n",
       "      <td>86</td>\n",
       "    </tr>\n",
       "    <tr>\n",
       "      <th>2</th>\n",
       "      <td>50</td>\n",
       "      <td>164</td>\n",
       "      <td>75</td>\n",
       "      <td>80</td>\n",
       "    </tr>\n",
       "    <tr>\n",
       "      <th>3</th>\n",
       "      <td>71</td>\n",
       "      <td>170</td>\n",
       "      <td>52</td>\n",
       "      <td>92</td>\n",
       "    </tr>\n",
       "    <tr>\n",
       "      <th>4</th>\n",
       "      <td>32</td>\n",
       "      <td>173</td>\n",
       "      <td>75</td>\n",
       "      <td>74</td>\n",
       "    </tr>\n",
       "    <tr>\n",
       "      <th>5</th>\n",
       "      <td>31</td>\n",
       "      <td>168</td>\n",
       "      <td>80</td>\n",
       "      <td>69</td>\n",
       "    </tr>\n",
       "    <tr>\n",
       "      <th>6</th>\n",
       "      <td>36</td>\n",
       "      <td>185</td>\n",
       "      <td>95</td>\n",
       "      <td>85</td>\n",
       "    </tr>\n",
       "    <tr>\n",
       "      <th>7</th>\n",
       "      <td>36</td>\n",
       "      <td>176</td>\n",
       "      <td>65</td>\n",
       "      <td>85</td>\n",
       "    </tr>\n",
       "    <tr>\n",
       "      <th>8</th>\n",
       "      <td>59</td>\n",
       "      <td>174</td>\n",
       "      <td>74</td>\n",
       "      <td>63</td>\n",
       "    </tr>\n",
       "    <tr>\n",
       "      <th>9</th>\n",
       "      <td>64</td>\n",
       "      <td>160</td>\n",
       "      <td>63</td>\n",
       "      <td>65</td>\n",
       "    </tr>\n",
       "    <tr>\n",
       "      <th>10</th>\n",
       "      <td>37</td>\n",
       "      <td>175</td>\n",
       "      <td>82</td>\n",
       "      <td>62</td>\n",
       "    </tr>\n",
       "    <tr>\n",
       "      <th>11</th>\n",
       "      <td>37</td>\n",
       "      <td>176</td>\n",
       "      <td>72</td>\n",
       "      <td>55</td>\n",
       "    </tr>\n",
       "    <tr>\n",
       "      <th>12</th>\n",
       "      <td>45</td>\n",
       "      <td>175</td>\n",
       "      <td>75</td>\n",
       "      <td>70</td>\n",
       "    </tr>\n",
       "  </tbody>\n",
       "</table>\n",
       "</div>"
      ],
      "text/plain": [
       "    Idade  Altura  Peso  BPM\n",
       "0      73     165    63   66\n",
       "1      57     177    68   86\n",
       "2      50     164    75   80\n",
       "3      71     170    52   92\n",
       "4      32     173    75   74\n",
       "5      31     168    80   69\n",
       "6      36     185    95   85\n",
       "7      36     176    65   85\n",
       "8      59     174    74   63\n",
       "9      64     160    63   65\n",
       "10     37     175    82   62\n",
       "11     37     176    72   55\n",
       "12     45     175    75   70"
      ]
     },
     "execution_count": 6,
     "metadata": {},
     "output_type": "execute_result"
    }
   ],
   "source": [
    "bpm"
   ]
  },
  {
   "cell_type": "code",
   "execution_count": 7,
   "metadata": {
    "collapsed": true
   },
   "outputs": [],
   "source": [
    "for c in ['Idade', 'Altura', 'Peso']:\n",
    "    bpm[c] = (bpm[c] - bpm[c].mean()) / bpm[c].std()"
   ]
  },
  {
   "cell_type": "code",
   "execution_count": 8,
   "metadata": {},
   "outputs": [
    {
     "data": {
      "text/html": [
       "<div>\n",
       "<style>\n",
       "    .dataframe thead tr:only-child th {\n",
       "        text-align: right;\n",
       "    }\n",
       "\n",
       "    .dataframe thead th {\n",
       "        text-align: left;\n",
       "    }\n",
       "\n",
       "    .dataframe tbody tr th {\n",
       "        vertical-align: top;\n",
       "    }\n",
       "</style>\n",
       "<table border=\"1\" class=\"dataframe\">\n",
       "  <thead>\n",
       "    <tr style=\"text-align: right;\">\n",
       "      <th></th>\n",
       "      <th>Idade</th>\n",
       "      <th>Altura</th>\n",
       "      <th>Peso</th>\n",
       "      <th>BPM</th>\n",
       "    </tr>\n",
       "  </thead>\n",
       "  <tbody>\n",
       "    <tr>\n",
       "      <th>0</th>\n",
       "      <td>1.646529</td>\n",
       "      <td>-1.080847</td>\n",
       "      <td>-0.870186</td>\n",
       "      <td>66</td>\n",
       "    </tr>\n",
       "    <tr>\n",
       "      <th>1</th>\n",
       "      <td>0.579619</td>\n",
       "      <td>0.732187</td>\n",
       "      <td>-0.398835</td>\n",
       "      <td>86</td>\n",
       "    </tr>\n",
       "    <tr>\n",
       "      <th>2</th>\n",
       "      <td>0.112846</td>\n",
       "      <td>-1.231934</td>\n",
       "      <td>0.261056</td>\n",
       "      <td>80</td>\n",
       "    </tr>\n",
       "    <tr>\n",
       "      <th>3</th>\n",
       "      <td>1.513165</td>\n",
       "      <td>-0.325416</td>\n",
       "      <td>-1.907158</td>\n",
       "      <td>92</td>\n",
       "    </tr>\n",
       "    <tr>\n",
       "      <th>4</th>\n",
       "      <td>-1.087427</td>\n",
       "      <td>0.127842</td>\n",
       "      <td>0.261056</td>\n",
       "      <td>74</td>\n",
       "    </tr>\n",
       "    <tr>\n",
       "      <th>5</th>\n",
       "      <td>-1.154109</td>\n",
       "      <td>-0.627589</td>\n",
       "      <td>0.732407</td>\n",
       "      <td>69</td>\n",
       "    </tr>\n",
       "    <tr>\n",
       "      <th>6</th>\n",
       "      <td>-0.820700</td>\n",
       "      <td>1.940877</td>\n",
       "      <td>2.146459</td>\n",
       "      <td>85</td>\n",
       "    </tr>\n",
       "    <tr>\n",
       "      <th>7</th>\n",
       "      <td>-0.820700</td>\n",
       "      <td>0.581101</td>\n",
       "      <td>-0.681646</td>\n",
       "      <td>85</td>\n",
       "    </tr>\n",
       "    <tr>\n",
       "      <th>8</th>\n",
       "      <td>0.712983</td>\n",
       "      <td>0.278928</td>\n",
       "      <td>0.166786</td>\n",
       "      <td>63</td>\n",
       "    </tr>\n",
       "    <tr>\n",
       "      <th>9</th>\n",
       "      <td>1.046392</td>\n",
       "      <td>-1.836278</td>\n",
       "      <td>-0.870186</td>\n",
       "      <td>65</td>\n",
       "    </tr>\n",
       "    <tr>\n",
       "      <th>10</th>\n",
       "      <td>-0.754018</td>\n",
       "      <td>0.430015</td>\n",
       "      <td>0.920947</td>\n",
       "      <td>62</td>\n",
       "    </tr>\n",
       "    <tr>\n",
       "      <th>11</th>\n",
       "      <td>-0.754018</td>\n",
       "      <td>0.581101</td>\n",
       "      <td>-0.021755</td>\n",
       "      <td>55</td>\n",
       "    </tr>\n",
       "    <tr>\n",
       "      <th>12</th>\n",
       "      <td>-0.220563</td>\n",
       "      <td>0.430015</td>\n",
       "      <td>0.261056</td>\n",
       "      <td>70</td>\n",
       "    </tr>\n",
       "  </tbody>\n",
       "</table>\n",
       "</div>"
      ],
      "text/plain": [
       "       Idade    Altura      Peso  BPM\n",
       "0   1.646529 -1.080847 -0.870186   66\n",
       "1   0.579619  0.732187 -0.398835   86\n",
       "2   0.112846 -1.231934  0.261056   80\n",
       "3   1.513165 -0.325416 -1.907158   92\n",
       "4  -1.087427  0.127842  0.261056   74\n",
       "5  -1.154109 -0.627589  0.732407   69\n",
       "6  -0.820700  1.940877  2.146459   85\n",
       "7  -0.820700  0.581101 -0.681646   85\n",
       "8   0.712983  0.278928  0.166786   63\n",
       "9   1.046392 -1.836278 -0.870186   65\n",
       "10 -0.754018  0.430015  0.920947   62\n",
       "11 -0.754018  0.581101 -0.021755   55\n",
       "12 -0.220563  0.430015  0.261056   70"
      ]
     },
     "execution_count": 8,
     "metadata": {},
     "output_type": "execute_result"
    }
   ],
   "source": [
    "bpm"
   ]
  },
  {
   "cell_type": "code",
   "execution_count": 9,
   "metadata": {
    "collapsed": true
   },
   "outputs": [],
   "source": [
    "X = bpm.values[:,:-1]\n",
    "y = bpm.values[:,-1]"
   ]
  },
  {
   "cell_type": "code",
   "execution_count": 10,
   "metadata": {},
   "outputs": [
    {
     "name": "stdout",
     "output_type": "stream",
     "text": [
      "  0: 2741.000000\n",
      "  1: 2230.518155\n",
      "  2: 1816.939076\n",
      "  3: 1481.858160\n",
      "  4: 1210.367532\n",
      "  5: 990.391496\n",
      "  6: 812.148336\n",
      "  7: 667.714420\n",
      "  8: 550.671162\n",
      "  9: 455.819070\n",
      " 10: 378.946145\n",
      " 11: 316.640280\n",
      " 12: 266.137312\n",
      " 13: 225.197940\n",
      " 14: 192.008029\n",
      " 15: 165.097858\n",
      " 16: 143.276700\n",
      " 17: 125.579844\n",
      " 18: 111.225664\n",
      " 19: 99.580859\n",
      " 20: 90.132288\n",
      " 21: 82.464151\n",
      " 22: 76.239512\n",
      " 23: 71.185328\n",
      " 24: 67.080320\n",
      " 25: 63.745150\n",
      " 26: 61.034459\n",
      " 27: 58.830425\n",
      " 28: 57.037532\n",
      " 29: 55.578345\n",
      " 30: 54.390078\n",
      " 31: 53.421819\n",
      " 32: 52.632275\n",
      " 33: 51.987954\n",
      " 34: 51.461685\n",
      " 35: 51.031421\n",
      " 36: 50.679268\n",
      " 37: 50.390701\n",
      " 38: 50.153928\n",
      " 39: 49.959367\n"
     ]
    }
   ],
   "source": [
    "W, losses = GD(X, y, 0.1, 40)"
   ]
  },
  {
   "cell_type": "code",
   "execution_count": 11,
   "metadata": {
    "scrolled": false
   },
   "outputs": [
    {
     "data": {
      "text/plain": [
       "[<matplotlib.lines.Line2D at 0x7f315702fa90>]"
      ]
     },
     "execution_count": 11,
     "metadata": {},
     "output_type": "execute_result"
    },
    {
     "data": {
      "image/png": "[encoded data removed]",
      "text/plain": [
       "<matplotlib.figure.Figure at 0x7f315910e510>"
      ]
     },
     "metadata": {},
     "output_type": "display_data"
    }
   ],
   "source": [
    "plt.plot(losses)"
   ]
  },
  {
   "cell_type": "markdown",
   "metadata": {},
   "source": [
    "O conjunto de pesos obtidos pelo GD pode agora ser usado para prever o BPM:"
   ]
  },
  {
   "cell_type": "code",
   "execution_count": 12,
   "metadata": {},
   "outputs": [
    {
     "data": {
      "text/plain": [
       "array([72.1483538 ,  1.47151542,  4.55980766, -3.0916883 ])"
      ]
     },
     "execution_count": 12,
     "metadata": {},
     "output_type": "execute_result"
    }
   ],
   "source": [
    "W"
   ]
  },
  {
   "cell_type": "code",
   "execution_count": 13,
   "metadata": {
    "collapsed": true
   },
   "outputs": [],
   "source": [
    "bpm['BPMhat'] = W[0] + W[1]*bpm.Idade + W[2]*bpm.Altura + W[3]*bpm.Peso"
   ]
  },
  {
   "cell_type": "code",
   "execution_count": 14,
   "metadata": {},
   "outputs": [
    {
     "data": {
      "text/plain": [
       "<matplotlib.legend.Legend at 0x7f3156f29d10>"
      ]
     },
     "execution_count": 14,
     "metadata": {},
     "output_type": "execute_result"
    },
    {
     "data": {
      "image/png": "[encoded data removed]",
      "text/plain": [
       "<matplotlib.figure.Figure at 0x7f315705e950>"
      ]
     },
     "metadata": {},
     "output_type": "display_data"
    }
   ],
   "source": [
    "plt.bar(np.arange(13)*2, bpm.BPM, label = 'y', color = 'b')\n",
    "plt.bar(np.arange(13)*2+1, bpm.BPMhat, label = 'yhat', color = 'r')\n",
    "plt.legend()"
   ]
  },
  {
   "cell_type": "markdown",
   "metadata": {},
   "source": [
    "### Uma versão com lotes"
   ]
  },
  {
   "cell_type": "markdown",
   "metadata": {},
   "source": [
    "Note que a estimativa não precisa ser feitas com todas as instâncias da entrada. Podemos usar apenas _m_ instâncias, o que é conhecida como estimativa baseada em _lotes_ (_batches_). Abaixo, temos a implementação do GD baseado em lotes ou _mini batch GD_:"
   ]
  },
  {
   "cell_type": "code",
   "execution_count": 15,
   "metadata": {
    "collapsed": true
   },
   "outputs": [],
   "source": [
    "def GDb(X, y, lrate, epochs, m):\n",
    "    losses = []\n",
    "    X = np.c_[np.ones((X.shape[0])), X]\n",
    "    m, n = X.shape \n",
    "    W = np.zeros(n)\n",
    "    for i in range(0, epochs):\n",
    "        idxs = np.random.randint(X.shape[0], size = m)\n",
    "        Xb = X[idxs]\n",
    "        yb = y[idxs]\n",
    "        yhat = np.dot(Xb, W)\n",
    "        error = yhat - yb\n",
    "        loss = np.sum(error ** 2) / (2 * m)\n",
    "        losses += [loss]\n",
    "        # print \"%3d: %f\" % (i, loss)\n",
    "        Gw = np.dot(Xb.T, error) / m\n",
    "        W = W - lrate * Gw\n",
    "    return W, losses"
   ]
  },
  {
   "cell_type": "code",
   "execution_count": 16,
   "metadata": {},
   "outputs": [],
   "source": [
    "W, losses = GDb(X, y, 0.1, 40, 6)"
   ]
  },
  {
   "cell_type": "code",
   "execution_count": 17,
   "metadata": {
    "scrolled": true
   },
   "outputs": [
    {
     "data": {
      "text/plain": [
       "[<matplotlib.lines.Line2D at 0x7f3156e0e690>]"
      ]
     },
     "execution_count": 17,
     "metadata": {},
     "output_type": "execute_result"
    },
    {
     "data": {
      "image/png": "[encoded data removed]",
      "text/plain": [
       "<matplotlib.figure.Figure at 0x7f315705e250>"
      ]
     },
     "metadata": {},
     "output_type": "display_data"
    }
   ],
   "source": [
    "plt.plot(losses)"
   ]
  },
  {
   "cell_type": "markdown",
   "metadata": {},
   "source": [
    "Note a maior variância do resultado. Abaixo, temos os pesos W, praticamente os mesmos obtidos pelo método original."
   ]
  },
  {
   "cell_type": "code",
   "execution_count": 18,
   "metadata": {},
   "outputs": [
    {
     "data": {
      "text/plain": [
       "array([73.39716365,  0.69215404,  5.29753901, -3.09866299])"
      ]
     },
     "execution_count": 18,
     "metadata": {},
     "output_type": "execute_result"
    }
   ],
   "source": [
    "W"
   ]
  },
  {
   "cell_type": "markdown",
   "metadata": {},
   "source": [
    "### GD estocástico"
   ]
  },
  {
   "cell_type": "markdown",
   "metadata": {},
   "source": [
    "Um caso especial do método baseado em lotes ocorre quando o tamanho do lote é 1. Este método é conhecido como Gradiente Descendente Estocástico e é muito usado especialmente em problemas _on-line_."
   ]
  },
  {
   "cell_type": "code",
   "execution_count": 19,
   "metadata": {
    "collapsed": true
   },
   "outputs": [],
   "source": [
    "W, losses = GDb(X, y, 0.1, 40, 1)"
   ]
  },
  {
   "cell_type": "code",
   "execution_count": 20,
   "metadata": {},
   "outputs": [
    {
     "data": {
      "text/plain": [
       "[<matplotlib.lines.Line2D at 0x7f3156d46990>]"
      ]
     },
     "execution_count": 20,
     "metadata": {},
     "output_type": "execute_result"
    },
    {
     "data": {
      "image/png": "[encoded data removed]",
      "text/plain": [
       "<matplotlib.figure.Figure at 0x7f3156e36dd0>"
      ]
     },
     "metadata": {},
     "output_type": "display_data"
    }
   ],
   "source": [
    "plt.plot(losses)"
   ]
  },
  {
   "cell_type": "code",
   "execution_count": 21,
   "metadata": {},
   "outputs": [
    {
     "data": {
      "text/plain": [
       "array([71.27867683,  0.65069685,  3.59899861, -1.84017232])"
      ]
     },
     "execution_count": 21,
     "metadata": {},
     "output_type": "execute_result"
    }
   ],
   "source": [
    "W"
   ]
  },
  {
   "cell_type": "markdown",
   "metadata": {},
   "source": [
    "### Regressores usados para classificação (regressor logístico)"
   ]
  },
  {
   "cell_type": "markdown",
   "metadata": {},
   "source": [
    "Regressores podem ser usados para classificação. Suponha que desejamos saber se uma pessoa esta acima ou abaixo de uma certa idade I apartir de variáveis Altura, Peso e BPM. Visto desta forma, este é um problema de classificação. Note, contudo, que isto é equivalente a estimar se a probabilidade de uma pessoa estar acima ou abaixo da idade I é maior que 0.5. Desta forma, ele se torna um problema de regressão (previsão numérica da probabilidade).  \n",
    "\n",
    "Esta ideia pode ser generalizada para múltiplas categorias pois a classificação de _n_ categorias pode ser vista meramente como a combinação de _n_ regressores logísticos, um para cada categoria. O regressor que fornecer a maior probabilidade define a classe mais provável.\n",
    "\n",
    "Para entendermos a ideia na prática, vamos supor que queremos prever, a partir das variáveis Altura, Peso e BPM, se uma pessoa tem menos de 41 anos, mais de 60, ou está entre 41 e 60."
   ]
  },
  {
   "cell_type": "code",
   "execution_count": 22,
   "metadata": {
    "collapsed": true
   },
   "outputs": [],
   "source": [
    "bpm = pd.read_csv('bpm.csv')"
   ]
  },
  {
   "cell_type": "markdown",
   "metadata": {},
   "source": [
    "Incialmente, vamos criar um campo IdadeCat para representar as três faixas de idade e apagar o campo Idade, em seguida:"
   ]
  },
  {
   "cell_type": "code",
   "execution_count": 23,
   "metadata": {
    "collapsed": true
   },
   "outputs": [],
   "source": [
    "bpm['IdadeCat'] = bpm.Idade.apply(lambda v: 0 if v <= 40 else 1 if v <= 61 else 2)\n",
    "bpm = bpm.drop('Idade', axis = 1)"
   ]
  },
  {
   "cell_type": "code",
   "execution_count": 24,
   "metadata": {},
   "outputs": [
    {
     "data": {
      "text/html": [
       "<div>\n",
       "<style>\n",
       "    .dataframe thead tr:only-child th {\n",
       "        text-align: right;\n",
       "    }\n",
       "\n",
       "    .dataframe thead th {\n",
       "        text-align: left;\n",
       "    }\n",
       "\n",
       "    .dataframe tbody tr th {\n",
       "        vertical-align: top;\n",
       "    }\n",
       "</style>\n",
       "<table border=\"1\" class=\"dataframe\">\n",
       "  <thead>\n",
       "    <tr style=\"text-align: right;\">\n",
       "      <th></th>\n",
       "      <th>Altura</th>\n",
       "      <th>Peso</th>\n",
       "      <th>BPM</th>\n",
       "      <th>IdadeCat</th>\n",
       "    </tr>\n",
       "  </thead>\n",
       "  <tbody>\n",
       "    <tr>\n",
       "      <th>0</th>\n",
       "      <td>165</td>\n",
       "      <td>63</td>\n",
       "      <td>66</td>\n",
       "      <td>2</td>\n",
       "    </tr>\n",
       "    <tr>\n",
       "      <th>1</th>\n",
       "      <td>177</td>\n",
       "      <td>68</td>\n",
       "      <td>86</td>\n",
       "      <td>1</td>\n",
       "    </tr>\n",
       "    <tr>\n",
       "      <th>2</th>\n",
       "      <td>164</td>\n",
       "      <td>75</td>\n",
       "      <td>80</td>\n",
       "      <td>1</td>\n",
       "    </tr>\n",
       "    <tr>\n",
       "      <th>3</th>\n",
       "      <td>170</td>\n",
       "      <td>52</td>\n",
       "      <td>92</td>\n",
       "      <td>2</td>\n",
       "    </tr>\n",
       "    <tr>\n",
       "      <th>4</th>\n",
       "      <td>173</td>\n",
       "      <td>75</td>\n",
       "      <td>74</td>\n",
       "      <td>0</td>\n",
       "    </tr>\n",
       "    <tr>\n",
       "      <th>5</th>\n",
       "      <td>168</td>\n",
       "      <td>80</td>\n",
       "      <td>69</td>\n",
       "      <td>0</td>\n",
       "    </tr>\n",
       "    <tr>\n",
       "      <th>6</th>\n",
       "      <td>185</td>\n",
       "      <td>95</td>\n",
       "      <td>85</td>\n",
       "      <td>0</td>\n",
       "    </tr>\n",
       "    <tr>\n",
       "      <th>7</th>\n",
       "      <td>176</td>\n",
       "      <td>65</td>\n",
       "      <td>85</td>\n",
       "      <td>0</td>\n",
       "    </tr>\n",
       "    <tr>\n",
       "      <th>8</th>\n",
       "      <td>174</td>\n",
       "      <td>74</td>\n",
       "      <td>63</td>\n",
       "      <td>1</td>\n",
       "    </tr>\n",
       "    <tr>\n",
       "      <th>9</th>\n",
       "      <td>160</td>\n",
       "      <td>63</td>\n",
       "      <td>65</td>\n",
       "      <td>2</td>\n",
       "    </tr>\n",
       "    <tr>\n",
       "      <th>10</th>\n",
       "      <td>175</td>\n",
       "      <td>82</td>\n",
       "      <td>62</td>\n",
       "      <td>0</td>\n",
       "    </tr>\n",
       "    <tr>\n",
       "      <th>11</th>\n",
       "      <td>176</td>\n",
       "      <td>72</td>\n",
       "      <td>55</td>\n",
       "      <td>0</td>\n",
       "    </tr>\n",
       "    <tr>\n",
       "      <th>12</th>\n",
       "      <td>175</td>\n",
       "      <td>75</td>\n",
       "      <td>70</td>\n",
       "      <td>1</td>\n",
       "    </tr>\n",
       "  </tbody>\n",
       "</table>\n",
       "</div>"
      ],
      "text/plain": [
       "    Altura  Peso  BPM  IdadeCat\n",
       "0      165    63   66         2\n",
       "1      177    68   86         1\n",
       "2      164    75   80         1\n",
       "3      170    52   92         2\n",
       "4      173    75   74         0\n",
       "5      168    80   69         0\n",
       "6      185    95   85         0\n",
       "7      176    65   85         0\n",
       "8      174    74   63         1\n",
       "9      160    63   65         2\n",
       "10     175    82   62         0\n",
       "11     176    72   55         0\n",
       "12     175    75   70         1"
      ]
     },
     "execution_count": 24,
     "metadata": {},
     "output_type": "execute_result"
    }
   ],
   "source": [
    "bpm"
   ]
  },
  {
   "cell_type": "markdown",
   "metadata": {},
   "source": [
    "Agora aplicamos as normalizações tradicionais:"
   ]
  },
  {
   "cell_type": "code",
   "execution_count": 25,
   "metadata": {
    "collapsed": true
   },
   "outputs": [],
   "source": [
    "for c in ['Altura', 'Peso', 'BPM']:\n",
    "    bpm[c] = (bpm[c] - bpm[c].mean()) / bpm[c].std()"
   ]
  },
  {
   "cell_type": "markdown",
   "metadata": {},
   "source": [
    "E modificamos o campo IdadeCat para três novos campos que determinam se a pessoa está ou não em cada faixa etária alvo:"
   ]
  },
  {
   "cell_type": "code",
   "execution_count": 26,
   "metadata": {
    "collapsed": true
   },
   "outputs": [],
   "source": [
    "bpm = bpm.join(pd.get_dummies(bpm.IdadeCat)).drop('IdadeCat', axis = 1)"
   ]
  },
  {
   "cell_type": "code",
   "execution_count": 27,
   "metadata": {},
   "outputs": [
    {
     "data": {
      "text/html": [
       "<div>\n",
       "<style>\n",
       "    .dataframe thead tr:only-child th {\n",
       "        text-align: right;\n",
       "    }\n",
       "\n",
       "    .dataframe thead th {\n",
       "        text-align: left;\n",
       "    }\n",
       "\n",
       "    .dataframe tbody tr th {\n",
       "        vertical-align: top;\n",
       "    }\n",
       "</style>\n",
       "<table border=\"1\" class=\"dataframe\">\n",
       "  <thead>\n",
       "    <tr style=\"text-align: right;\">\n",
       "      <th></th>\n",
       "      <th>Altura</th>\n",
       "      <th>Peso</th>\n",
       "      <th>BPM</th>\n",
       "      <th>0</th>\n",
       "      <th>1</th>\n",
       "      <th>2</th>\n",
       "    </tr>\n",
       "  </thead>\n",
       "  <tbody>\n",
       "    <tr>\n",
       "      <th>0</th>\n",
       "      <td>-1.080847</td>\n",
       "      <td>-0.870186</td>\n",
       "      <td>-0.636160</td>\n",
       "      <td>0</td>\n",
       "      <td>0</td>\n",
       "      <td>1</td>\n",
       "    </tr>\n",
       "    <tr>\n",
       "      <th>1</th>\n",
       "      <td>0.732187</td>\n",
       "      <td>-0.398835</td>\n",
       "      <td>1.123431</td>\n",
       "      <td>0</td>\n",
       "      <td>1</td>\n",
       "      <td>0</td>\n",
       "    </tr>\n",
       "    <tr>\n",
       "      <th>2</th>\n",
       "      <td>-1.231934</td>\n",
       "      <td>0.261056</td>\n",
       "      <td>0.595554</td>\n",
       "      <td>0</td>\n",
       "      <td>1</td>\n",
       "      <td>0</td>\n",
       "    </tr>\n",
       "    <tr>\n",
       "      <th>3</th>\n",
       "      <td>-0.325416</td>\n",
       "      <td>-1.907158</td>\n",
       "      <td>1.651308</td>\n",
       "      <td>0</td>\n",
       "      <td>0</td>\n",
       "      <td>1</td>\n",
       "    </tr>\n",
       "    <tr>\n",
       "      <th>4</th>\n",
       "      <td>0.127842</td>\n",
       "      <td>0.261056</td>\n",
       "      <td>0.067677</td>\n",
       "      <td>1</td>\n",
       "      <td>0</td>\n",
       "      <td>0</td>\n",
       "    </tr>\n",
       "    <tr>\n",
       "      <th>5</th>\n",
       "      <td>-0.627589</td>\n",
       "      <td>0.732407</td>\n",
       "      <td>-0.372221</td>\n",
       "      <td>1</td>\n",
       "      <td>0</td>\n",
       "      <td>0</td>\n",
       "    </tr>\n",
       "    <tr>\n",
       "      <th>6</th>\n",
       "      <td>1.940877</td>\n",
       "      <td>2.146459</td>\n",
       "      <td>1.035451</td>\n",
       "      <td>1</td>\n",
       "      <td>0</td>\n",
       "      <td>0</td>\n",
       "    </tr>\n",
       "    <tr>\n",
       "      <th>7</th>\n",
       "      <td>0.581101</td>\n",
       "      <td>-0.681646</td>\n",
       "      <td>1.035451</td>\n",
       "      <td>1</td>\n",
       "      <td>0</td>\n",
       "      <td>0</td>\n",
       "    </tr>\n",
       "    <tr>\n",
       "      <th>8</th>\n",
       "      <td>0.278928</td>\n",
       "      <td>0.166786</td>\n",
       "      <td>-0.900098</td>\n",
       "      <td>0</td>\n",
       "      <td>1</td>\n",
       "      <td>0</td>\n",
       "    </tr>\n",
       "    <tr>\n",
       "      <th>9</th>\n",
       "      <td>-1.836278</td>\n",
       "      <td>-0.870186</td>\n",
       "      <td>-0.724139</td>\n",
       "      <td>0</td>\n",
       "      <td>0</td>\n",
       "      <td>1</td>\n",
       "    </tr>\n",
       "    <tr>\n",
       "      <th>10</th>\n",
       "      <td>0.430015</td>\n",
       "      <td>0.920947</td>\n",
       "      <td>-0.988078</td>\n",
       "      <td>1</td>\n",
       "      <td>0</td>\n",
       "      <td>0</td>\n",
       "    </tr>\n",
       "    <tr>\n",
       "      <th>11</th>\n",
       "      <td>0.581101</td>\n",
       "      <td>-0.021755</td>\n",
       "      <td>-1.603935</td>\n",
       "      <td>1</td>\n",
       "      <td>0</td>\n",
       "      <td>0</td>\n",
       "    </tr>\n",
       "    <tr>\n",
       "      <th>12</th>\n",
       "      <td>0.430015</td>\n",
       "      <td>0.261056</td>\n",
       "      <td>-0.284242</td>\n",
       "      <td>0</td>\n",
       "      <td>1</td>\n",
       "      <td>0</td>\n",
       "    </tr>\n",
       "  </tbody>\n",
       "</table>\n",
       "</div>"
      ],
      "text/plain": [
       "      Altura      Peso       BPM  0  1  2\n",
       "0  -1.080847 -0.870186 -0.636160  0  0  1\n",
       "1   0.732187 -0.398835  1.123431  0  1  0\n",
       "2  -1.231934  0.261056  0.595554  0  1  0\n",
       "3  -0.325416 -1.907158  1.651308  0  0  1\n",
       "4   0.127842  0.261056  0.067677  1  0  0\n",
       "5  -0.627589  0.732407 -0.372221  1  0  0\n",
       "6   1.940877  2.146459  1.035451  1  0  0\n",
       "7   0.581101 -0.681646  1.035451  1  0  0\n",
       "8   0.278928  0.166786 -0.900098  0  1  0\n",
       "9  -1.836278 -0.870186 -0.724139  0  0  1\n",
       "10  0.430015  0.920947 -0.988078  1  0  0\n",
       "11  0.581101 -0.021755 -1.603935  1  0  0\n",
       "12  0.430015  0.261056 -0.284242  0  1  0"
      ]
     },
     "execution_count": 27,
     "metadata": {},
     "output_type": "execute_result"
    }
   ],
   "source": [
    "bpm"
   ]
  },
  {
   "cell_type": "code",
   "execution_count": 28,
   "metadata": {
    "collapsed": true
   },
   "outputs": [],
   "source": [
    "X = bpm.values[:,:3]\n",
    "Y = bpm.values[:,3:]"
   ]
  },
  {
   "cell_type": "markdown",
   "metadata": {},
   "source": [
    "Nosso problema agora se tornou uma regressão multipla (várias variáveis de entrada) multi-variada (várias variáveis de saída). Precisamos modificar nosso programa para suportar isso.\n",
    "\n",
    "Basicamente, vamos fazer W ser iniciado com ${\\bf 0}^{n \\times p}$ onde $n$ é o número de colunas em X (ou seja, o número de variáveis de entrada) e $p$ é o número de colunas em Y (número de variáveis de saída). \n",
    "\n",
    "Além disso, vamos introduzir uma função sigmoid em nosso estimador de forma que ele produza probabilidades, já que queremos prever probabilidades agora. Em particular, após esta transformação, temos o que chamamos de um __regressor logístico__. "
   ]
  },
  {
   "cell_type": "code",
   "execution_count": 29,
   "metadata": {
    "collapsed": true
   },
   "outputs": [],
   "source": [
    "sigmoid = lambda x: 1.0 / (1.0 + np.exp(-x))\n",
    "\n",
    "def GDrl(X, y, lrate, epochs):\n",
    "    losses = []\n",
    "    X = np.c_[np.ones((X.shape[0])), X] # insert bias\n",
    "    m, n = X.shape \n",
    "    W = np.zeros((n, y.shape[1]))\n",
    "    for i in range(0, epochs):\n",
    "        yhat = sigmoid(np.dot(X, W)) # probability\n",
    "        error = yhat - y\n",
    "        loss = np.sum(error ** 2) / (2 * m)\n",
    "        losses += [loss]\n",
    "        print \"%3d: %f\" % (i, loss)\n",
    "        Gw = np.dot(X.T, error) / m\n",
    "        W = W - lrate * Gw\n",
    "    return W, losses"
   ]
  },
  {
   "cell_type": "code",
   "execution_count": 30,
   "metadata": {},
   "outputs": [
    {
     "name": "stdout",
     "output_type": "stream",
     "text": [
      "  0: 0.375000\n",
      "  1: 0.365656\n",
      "  2: 0.356919\n",
      "  3: 0.348764\n",
      "  4: 0.341157\n",
      "  5: 0.334066\n",
      "  6: 0.327456\n",
      "  7: 0.321291\n",
      "  8: 0.315539\n",
      "  9: 0.310166\n",
      " 10: 0.305143\n",
      " 11: 0.300442\n",
      " 12: 0.296037\n",
      " 13: 0.291904\n",
      " 14: 0.288022\n",
      " 15: 0.284370\n",
      " 16: 0.280930\n",
      " 17: 0.277686\n",
      " 18: 0.274624\n",
      " 19: 0.271729\n",
      " 20: 0.268989\n",
      " 21: 0.266393\n",
      " 22: 0.263930\n",
      " 23: 0.261592\n",
      " 24: 0.259370\n",
      " 25: 0.257256\n",
      " 26: 0.255243\n",
      " 27: 0.253324\n",
      " 28: 0.251493\n",
      " 29: 0.249745\n",
      " 30: 0.248075\n",
      " 31: 0.246477\n",
      " 32: 0.244949\n",
      " 33: 0.243484\n",
      " 34: 0.242081\n",
      " 35: 0.240735\n",
      " 36: 0.239443\n",
      " 37: 0.238202\n",
      " 38: 0.237010\n",
      " 39: 0.235863\n"
     ]
    }
   ],
   "source": [
    "Ws, losses = GDrl(X, Y, 0.1, 40)"
   ]
  },
  {
   "cell_type": "code",
   "execution_count": 31,
   "metadata": {},
   "outputs": [
    {
     "data": {
      "text/plain": [
       "array([[-0.09965342, -0.49279271, -0.73264971],\n",
       "       [ 0.53835179,  0.02135372, -0.59132336],\n",
       "       [ 0.59783358,  0.06099958, -0.69380513],\n",
       "       [-0.17001497,  0.11131028,  0.0405053 ]])"
      ]
     },
     "execution_count": 31,
     "metadata": {},
     "output_type": "execute_result"
    }
   ],
   "source": [
    "Ws"
   ]
  },
  {
   "cell_type": "code",
   "execution_count": 32,
   "metadata": {
    "scrolled": false
   },
   "outputs": [
    {
     "data": {
      "text/plain": [
       "[<matplotlib.lines.Line2D at 0x7f3156c979d0>]"
      ]
     },
     "execution_count": 32,
     "metadata": {},
     "output_type": "execute_result"
    },
    {
     "data": {
      "image/png": "[encoded data removed]",
      "text/plain": [
       "<matplotlib.figure.Figure at 0x7f3156d65850>"
      ]
     },
     "metadata": {},
     "output_type": "display_data"
    }
   ],
   "source": [
    "plt.plot(losses)"
   ]
  },
  {
   "cell_type": "code",
   "execution_count": 33,
   "metadata": {
    "collapsed": true
   },
   "outputs": [],
   "source": [
    "def predict(X, W):\n",
    "    X = np.c_[np.ones((X.shape[0])), X] # insert bias\n",
    "    yhat = sigmoid(np.dot(X, W))\n",
    "    return yhat"
   ]
  },
  {
   "cell_type": "code",
   "execution_count": 34,
   "metadata": {},
   "outputs": [
    {
     "data": {
      "text/plain": [
       "array([[0.2509411 , 0.34529968, 0.61879869],\n",
       "       [0.46632195, 0.4069865 , 0.30082127],\n",
       "       [0.33002937, 0.39248381, 0.45979267],\n",
       "       [0.15502088, 0.39358445, 0.70053763],\n",
       "       [0.52840253, 0.38542001, 0.27157894],\n",
       "       [0.5159005 , 0.37684775, 0.29219108],\n",
       "       [0.88619031, 0.44888957, 0.03463577],\n",
       "       [0.40845168, 0.3997018 , 0.36322415],\n",
       "       [0.57523643, 0.35965706, 0.25927079],\n",
       "       [0.18462382, 0.33946277, 0.71658666],\n",
       "       [0.70065246, 0.36878886, 0.15897058],\n",
       "       [0.61606293, 0.34068447, 0.24487368],\n",
       "       [0.58327663, 0.37769931, 0.23513086]])"
      ]
     },
     "execution_count": 34,
     "metadata": {},
     "output_type": "execute_result"
    }
   ],
   "source": [
    "predict(X, Ws)"
   ]
  },
  {
   "cell_type": "code",
   "execution_count": 35,
   "metadata": {},
   "outputs": [
    {
     "name": "stdout",
     "output_type": "stream",
     "text": [
      "[2 0 2 2 0 0 0 0 0 2 0 0 0]\n",
      "[2 1 1 2 0 0 0 0 1 2 0 0 1]\n"
     ]
    }
   ],
   "source": [
    "print np.argmax(predict(X, Ws), axis = 1)\n",
    "print np.argmax(Y, axis = 1)"
   ]
  },
  {
   "cell_type": "code",
   "execution_count": 36,
   "metadata": {
    "collapsed": true
   },
   "outputs": [],
   "source": [
    "def predict_softmax(X, W):\n",
    "    X = np.c_[np.ones((X.shape[0])), X] # insert bias\n",
    "    yhat = np.exp(np.dot(X, W))\n",
    "    return yhat / yhat.sum(axis = 1).reshape(-1,1)"
   ]
  },
  {
   "cell_type": "code",
   "execution_count": 37,
   "metadata": {},
   "outputs": [
    {
     "data": {
      "text/plain": [
       "array([[0.13477372, 0.21217931, 0.65304696],\n",
       "       [0.43901476, 0.34481648, 0.21616876],\n",
       "       [0.24756512, 0.32468075, 0.42775413],\n",
       "       [0.05784111, 0.20462562, 0.73753327],\n",
       "       [0.52841253, 0.29575734, 0.17583013],\n",
       "       [0.51155314, 0.29028942, 0.19815744],\n",
       "       [0.9015402 , 0.09430576, 0.00415404],\n",
       "       [0.35836849, 0.34557986, 0.29605166],\n",
       "       [0.59765652, 0.24787259, 0.15447089],\n",
       "       [0.06927019, 0.15722134, 0.77350847],\n",
       "       [0.75166784, 0.18762994, 0.06070222],\n",
       "       [0.65611453, 0.21128743, 0.13259805],\n",
       "       [0.60486483, 0.26228745, 0.13284772]])"
      ]
     },
     "execution_count": 37,
     "metadata": {},
     "output_type": "execute_result"
    }
   ],
   "source": [
    "predict_softmax(X, Ws)"
   ]
  },
  {
   "cell_type": "code",
   "execution_count": null,
   "metadata": {
    "collapsed": true
   },
   "outputs": [],
   "source": []
  }
 ],
 "metadata": {
  "kernelspec": {
   "display_name": "Python 2",
   "language": "python",
   "name": "python2"
  },
  "language_info": {
   "codemirror_mode": {
    "name": "ipython",
    "version": 2
   },
   "file_extension": ".py",
   "mimetype": "text/x-python",
   "name": "python",
   "nbconvert_exporter": "python",
   "pygments_lexer": "ipython2",
   "version": "2.7.11"
  }
 },
 "nbformat": 4,
 "nbformat_minor": 2
}
