{
 "cells": [
  {
   "cell_type": "code",
   "execution_count": 1,
   "metadata": {
    "collapsed": true
   },
   "outputs": [],
   "source": [
    "import numpy as np"
   ]
  },
  {
   "cell_type": "code",
   "execution_count": 2,
   "metadata": {
    "collapsed": true
   },
   "outputs": [],
   "source": [
    "def mul(m1, m2):\n",
    "    mr = np.zeros((m1.shape[0], m2.shape[1]))\n",
    "    for i in range(m1.shape[0]):\n",
    "        for j in range(m2.shape[1]):\n",
    "            for k in range(m1.shape[1]):\n",
    "                mr[i][j] += m1[i][k] * m2[k][j]\n",
    "    return mr"
   ]
  },
  {
   "cell_type": "code",
   "execution_count": 3,
   "metadata": {
    "collapsed": true
   },
   "outputs": [],
   "source": [
    "m1 = np.random.rand(100, 15)\n",
    "m2 = np.random.rand(15, 110)"
   ]
  },
  {
   "cell_type": "code",
   "execution_count": 4,
   "metadata": {},
   "outputs": [
    {
     "data": {
      "text/plain": [
       "array([[3.91339547, 2.70917172, 3.54623378, ..., 2.94147986, 4.21146565,\n",
       "        3.67838419],\n",
       "       [4.76132882, 3.51630504, 3.89187687, ..., 3.97848322, 5.01914875,\n",
       "        4.59665574],\n",
       "       [3.73151719, 2.79648854, 2.63897866, ..., 3.53664714, 4.14881   ,\n",
       "        3.4819296 ],\n",
       "       ...,\n",
       "       [3.45885336, 3.2513792 , 3.45030575, ..., 2.32875312, 4.22736762,\n",
       "        3.65260429],\n",
       "       [4.91210151, 2.75311898, 3.71608866, ..., 4.14460892, 4.15779273,\n",
       "        3.79390371],\n",
       "       [3.03139731, 3.1084668 , 3.0661128 , ..., 2.04739179, 3.87843312,\n",
       "        2.81452002]])"
      ]
     },
     "execution_count": 4,
     "metadata": {},
     "output_type": "execute_result"
    }
   ],
   "source": [
    "mul(m1, m2)"
   ]
  },
  {
   "cell_type": "code",
   "execution_count": 5,
   "metadata": {},
   "outputs": [
    {
     "name": "stdout",
     "output_type": "stream",
     "text": [
      "1 loop, best of 3: 125 ms per loop\n"
     ]
    }
   ],
   "source": [
    "%timeit mul(m1, m2)"
   ]
  },
  {
   "cell_type": "code",
   "execution_count": 14,
   "metadata": {},
   "outputs": [
    {
     "name": "stdout",
     "output_type": "stream",
     "text": [
      "The slowest run took 6.90 times longer than the fastest. This could mean that an intermediate result is being cached.\n",
      "10000 loops, best of 3: 20.3 µs per loop\n"
     ]
    }
   ],
   "source": [
    "%timeit np.matmul(m1, m2)"
   ]
  },
  {
   "cell_type": "code",
   "execution_count": 7,
   "metadata": {},
   "outputs": [
    {
     "data": {
      "text/plain": [
       "6038.647342995169"
      ]
     },
     "execution_count": 7,
     "metadata": {},
     "output_type": "execute_result"
    }
   ],
   "source": [
    "125000/20.7"
   ]
  },
  {
   "cell_type": "code",
   "execution_count": 8,
   "metadata": {
    "collapsed": true
   },
   "outputs": [],
   "source": [
    "import tensorflow as tf"
   ]
  },
  {
   "cell_type": "code",
   "execution_count": 9,
   "metadata": {
    "collapsed": true
   },
   "outputs": [],
   "source": [
    "t1 = tf.constant(np.random.rand(100, 15), dtype = tf.float32)\n",
    "t2 = tf.constant(np.random.rand(15, 110), dtype = tf.float32)"
   ]
  },
  {
   "cell_type": "code",
   "execution_count": 13,
   "metadata": {},
   "outputs": [],
   "source": [
    "t3 = tf.matmul(t1, t2)"
   ]
  },
  {
   "cell_type": "code",
   "execution_count": 15,
   "metadata": {},
   "outputs": [
    {
     "data": {
      "text/plain": [
       "<tf.Tensor 'MatMul:0' shape=(100, 110) dtype=float32>"
      ]
     },
     "execution_count": 15,
     "metadata": {},
     "output_type": "execute_result"
    }
   ],
   "source": [
    "t3"
   ]
  },
  {
   "cell_type": "code",
   "execution_count": 16,
   "metadata": {},
   "outputs": [
    {
     "name": "stdout",
     "output_type": "stream",
     "text": [
      "[[4.666102  2.4169302 4.1782703 ... 4.437763  2.7638974 3.1665502]\n",
      " [3.2213469 3.0366454 3.4782772 ... 3.3809547 3.150714  3.4014783]\n",
      " [4.43037   2.4688265 4.506041  ... 3.9627442 2.3388894 2.9474144]\n",
      " ...\n",
      " [3.4876692 2.9836946 3.4770057 ... 3.4859517 2.73291   3.7067409]\n",
      " [3.9826703 2.1219165 3.9497666 ... 4.3032217 3.2240555 3.5391896]\n",
      " [3.963118  2.1283212 3.6194992 ... 3.0308645 2.036427  2.9857416]]\n"
     ]
    }
   ],
   "source": [
    "with tf.Session() as s:\n",
    "    print(s.run(t3))"
   ]
  },
  {
   "cell_type": "code",
   "execution_count": 17,
   "metadata": {
    "collapsed": true
   },
   "outputs": [],
   "source": [
    "def sigmoid(t):\n",
    "    return 1.0/(1.0+tf.exp(t))"
   ]
  },
  {
   "cell_type": "code",
   "execution_count": 19,
   "metadata": {},
   "outputs": [],
   "source": [
    "t1s = sigmoid(t1)"
   ]
  },
  {
   "cell_type": "code",
   "execution_count": 20,
   "metadata": {},
   "outputs": [
    {
     "name": "stdout",
     "output_type": "stream",
     "text": [
      "[[0.30296642 0.48637217 0.28249207 ... 0.4603621  0.35841608 0.45189556]\n",
      " [0.3176203  0.4375327  0.4917469  ... 0.3349186  0.28978753 0.31985885]\n",
      " [0.3814723  0.35032538 0.41512015 ... 0.37215143 0.286961   0.42852652]\n",
      " ...\n",
      " [0.37907723 0.3632793  0.49617016 ... 0.33103883 0.43652987 0.3260305 ]\n",
      " [0.2969817  0.4333761  0.34723943 ... 0.4899493  0.35004064 0.30472004]\n",
      " [0.45565954 0.37043288 0.30280054 ... 0.35398382 0.44014588 0.4529571 ]]\n"
     ]
    }
   ],
   "source": [
    "with tf.Session() as s:\n",
    "    print(s.run(t1s))"
   ]
  },
  {
   "cell_type": "code",
   "execution_count": null,
   "metadata": {
    "collapsed": true
   },
   "outputs": [],
   "source": []
  }
 ],
 "metadata": {
  "kernelspec": {
   "display_name": "Python 2",
   "language": "python",
   "name": "python2"
  },
  "language_info": {
   "codemirror_mode": {
    "name": "ipython",
    "version": 2
   },
   "file_extension": ".py",
   "mimetype": "text/x-python",
   "name": "python",
   "nbconvert_exporter": "python",
   "pygments_lexer": "ipython2",
   "version": "2.7.11"
  }
 },
 "nbformat": 4,
 "nbformat_minor": 2
}
