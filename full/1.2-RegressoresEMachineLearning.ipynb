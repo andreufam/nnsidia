{
 "cells": [
  {
   "cell_type": "markdown",
   "metadata": {},
   "source": [
    "# Regressores & Aprendizagem de Máquina"
   ]
  },
  {
   "cell_type": "markdown",
   "metadata": {},
   "source": [
    "### ML como um problema de otimização"
   ]
  },
  {
   "cell_type": "markdown",
   "metadata": {},
   "source": [
    "* _Estimador linear_, considerando $n-1$ atributos: \n",
    "    \n",
    "    $\\hat{y}(\\textbf{w}) = \\hat{y}(\\textbf{w}, \\textbf{x}) = w_0 x_0 + w_1 x_1 + \\ldots + w_{n-1} x_{n-1} + b$\n",
    "    \n",
    "    $\\hat{y}(\\textbf{w}) = w_0 x_0 + w_1 x_1 + \\ldots + w_{n-1} x_{n-1} + w_{n} x_{n}$ (bias incorporado em $\\textbf{x}$, $b = w_n, x_n = 1$)\n",
    "    \n",
    "    $\\hat{y}(\\textbf{w}) = \\textbf{x} \\dot~\\textbf{w}$\n",
    "\n",
    "    Se considerarmos todas as $m$ instâncias $\\textbf{x}$, temos $\\hat{y}(\\textbf{w}) = X \\dot~\\textbf{w}$ (supondo $X^{(m \\times n)}$ e $\\textbf{w}^{(n \\times 1)}$)"
   ]
  },
  {
   "cell_type": "markdown",
   "metadata": {},
   "source": [
    "* Eventualmente estimador linear poderia incorporar um transformador, uma _função de ativação_ $\\alpha$: \n",
    "    \n",
    "    $\\hat{y}(\\textbf{w}) = \\alpha(X \\dot~\\textbf{w})$\n",
    "    \n",
    "    Supondo $\\alpha(x) = x$, função identidade, temos o estimador clássico usado na regressão linear, ou seja,     $\\hat{y}(\\textbf{w}) = X \\dot~\\textbf{w}$. Funções de ativação podem ser usadas para transformar a saída para um certo intervalo (-1 a 1, 0 a 1, etc) e também modificarem a natureza simples de um estimador polinomial de grau 1, como o usado aqui. "
   ]
  },
  {
   "cell_type": "markdown",
   "metadata": {},
   "source": [
    "* _Função de perda_ (_loss_), avalia o quão bom é o seu estimador $\\hat{y}(\\textbf{w})$ em relação aos valores reais $\\textbf{y}$. Por exemplo, ao adotarmos a média das diferenças dos quadrados (MSE -- mean squared error), temos:\n",
    "\n",
    "    $\\ell(\\hat{y}(\\textbf{w}), \\textbf{y}) = \\frac{1}{m} \\sum_{i}^{m}{(\\hat{y}_i(\\textbf{w}) - y_i)^2}$\n",
    "    \n",
    "    $\\ell(\\hat{y}(\\textbf{w}), \\textbf{y}) = mean ((\\hat{y}(\\textbf{w}) - \\textbf{y})^2)$"
   ]
  },
  {
   "cell_type": "markdown",
   "metadata": {},
   "source": [
    "* Função de perda com _regularizador_ $R$:\n",
    "\n",
    "    $L(\\hat{y}(\\textbf{w}), \\textbf{y}) = \\ell(\\hat{y}(\\textbf{w}), \\textbf{y}) + \\lambda R(\\textbf{w})$\n",
    "    \n",
    "    O regularizador é uma função de penalização que tem por objetivo eliminar certos conjuntos de pesos, privilegiando outros. Ao fazer isso, o modelo se restringe a um menor espaço de pesos, melhorando sua generalização. Exemplos de regularizadores são o L1 ($R(\\mathbf{w}) \\approx \\sum_{\\forall i}{\\frac{w_i}{|w_i|}}$) e o L2 ($R(\\mathbf{w}) \\approx \\sum_{\\forall i}{{\\frac{w_i}{|w_i|}}^2}$). Note que enquanto L1 prefere pesos não nulos, o L2 não gosta de _outliers_."
   ]
  },
  {
   "cell_type": "markdown",
   "metadata": {},
   "source": [
    "* Objetivo de ML é determinar $\\textbf{w}$ que minimiza $L$, ou seja, determinar $\\textbf{w}$ tal que $\\frac{\\partial}{\\partial \\textbf{w}} L(\\hat{y}(\\textbf{w}), \\textbf{y}) = 0$. No nosso caso, supondo $\\lambda = 0$:\n",
    "\n",
    "    $\n",
    "    \\begin{align}\n",
    "        \\frac{\\partial}{\\partial \\textbf{w}} L(\\hat{y}(\\textbf{w}), \\textbf{y}) &= \\frac{\\partial}{\\partial \\textbf{w}} \\frac{1}{m} \\sum_{i}^{m}{(\\hat{y}_i(\\textbf{w}) - y_i)^2} = 0 \\\\\n",
    "        &= \\frac{1}{m} \\sum_{i}^{m}{\\frac{\\partial}{\\partial \\textbf{w}} (\\hat{y}_i(\\textbf{w}) - y_i)^2} \\\\\n",
    "        &= \\frac{1}{m} \\sum_{i}^{m}{\\frac{\\partial}{\\partial \\textbf{w}} (\\textbf{x}_i \\dot~\\textbf{w} - y_i)^2} \\\\\n",
    "        &= \\frac{1}{m} \\sum_{i}^{m}{\\frac{\\partial}{\\partial \\textbf{w}} ({\\textbf{x}_i}^2 \\dot~\\textbf{w}^2 - 2 \\textbf{x}_i \\dot~\\textbf{w} \\dot~y_i + {y_i}^2})  \\\\\n",
    "        &= \\frac{1}{m} \\sum_{i}^{m}{(2 {\\textbf{x}_i}^2 \\dot~\\textbf{w} - 2 \\textbf{x}_i \\dot~y_i)}  \\\\\n",
    "        &= \\frac{2}{m} \\sum_{i}^{m}{({\\textbf{x}_i}^2 \\dot~\\textbf{w} - \\textbf{x}_i \\dot~y_i)}  \\\\\n",
    "        &= \\frac{2}{m} (\\sum_{i}^{m}{{\\textbf{x}_i}^2 \\dot~\\textbf{w}} - \\sum_{i}^{m} {\\textbf{x}_i \\dot~y_i})  \\\\\n",
    "        &= \\frac{2}{m} (X^T X\\dot~\\textbf{w} - X^T \\textbf{y}) \\text{ supondo } X^{(m \\times n)}, \\textbf{y}^{(m \\times 1)} \\text{ e } \\textbf{w}^{(n \\times 1)}\\\\ \n",
    "        &= \\frac{2}{m} X^T (X\\dot~\\textbf{w} - \\textbf{y})  \n",
    "    \\end{align}    \n",
    "    $\n",
    "\n",
    "    Esta função corresponde ao gradiente da função de perda $L$ e pode ser usado para obter $\\textbf{w}$ tanto diretamente quanto iterativamente. Como a solução direta é limitada a valores pequenos de $n$ e $m$, vamos implementar a solução iterativa, o _Gradiente Descendente_."
   ]
  },
  {
   "cell_type": "markdown",
   "metadata": {},
   "source": [
    "### Gradiente Descendente"
   ]
  },
  {
   "cell_type": "markdown",
   "metadata": {},
   "source": [
    "* GradientDescendente($X^{m \\times n}$, $\\textbf{y}^{m \\times 1}$, taxa de aprendizado $\\eta$, número de épocas $N$):\n",
    "    - inicie $\\textbf{w}^{n \\times 1}$ com valores aleatorios entre -1 e 1\n",
    "    - para $N$ épocas:\n",
    "        - $\\hat{y}(\\textbf{w}) = X \\dot~\\textbf{w}$\n",
    "        - $\\ell(\\hat{y}(\\textbf{w}), \\textbf{y}) = mean ((\\hat{y}(\\textbf{w}) - \\textbf{y})^2)$\n",
    "        - $\\nabla\\ell = \\frac{2}{m} X^T (X\\dot~\\textbf{w} - ~\\textbf{y})$\n",
    "        - $\\textbf{w}' = \\textbf{w} - \\eta \\nabla\\ell$\n",
    "        - $\\textbf{w} = \\textbf{w}'$\n",
    "    - retorne $\\textbf{w}$\n"
   ]
  },
  {
   "cell_type": "markdown",
   "metadata": {},
   "source": [
    "### GD em Numpy"
   ]
  },
  {
   "cell_type": "code",
   "execution_count": 1,
   "metadata": {
    "collapsed": true
   },
   "outputs": [],
   "source": [
    "from __future__ import division, print_function"
   ]
  },
  {
   "cell_type": "code",
   "execution_count": 2,
   "metadata": {
    "scrolled": true
   },
   "outputs": [
    {
     "name": "stderr",
     "output_type": "stream",
     "text": [
      "/Users/marcocristo/Library/Enthought/Canopy_64bit/User/lib/python2.7/site-packages/matplotlib/font_manager.py:273: UserWarning: Matplotlib is building the font cache using fc-list. This may take a moment.\n",
      "  warnings.warn('Matplotlib is building the font cache using fc-list. This may take a moment.')\n"
     ]
    }
   ],
   "source": [
    "import numpy as np\n",
    "import matplotlib.pyplot as plt\n",
    "%matplotlib inline"
   ]
  },
  {
   "cell_type": "code",
   "execution_count": 4,
   "metadata": {},
   "outputs": [
    {
     "name": "stdout",
     "output_type": "stream",
     "text": [
      "[-1.         -0.77777778 -0.55555556 -0.33333333 -0.11111111  0.11111111\n",
      "  0.33333333  0.55555556  0.77777778  1.        ]\n",
      "[-8.10977002 -6.66115758 -6.01197604 -3.35547817 -2.33494898  1.38434027\n",
      "  1.15775935  1.79446844  5.0682767   4.22801008]\n"
     ]
    }
   ],
   "source": [
    "x = np.linspace(-1, 1, 10)\n",
    "y = 6. * x - 1.\n",
    "y += np.random.normal(0, 1.0, len(x))\n",
    "print(x)\n",
    "print(y)"
   ]
  },
  {
   "cell_type": "code",
   "execution_count": 5,
   "metadata": {},
   "outputs": [
    {
     "data": {
      "text/plain": [
       "[<matplotlib.lines.Line2D at 0x106cfe750>]"
      ]
     },
     "execution_count": 5,
     "metadata": {},
     "output_type": "execute_result"
    },
    {
     "data": {
      "image/png": "[encoded data removed]",
      "text/plain": [
       "<matplotlib.figure.Figure at 0x106c5b410>"
      ]
     },
     "metadata": {},
     "output_type": "display_data"
    }
   ],
   "source": [
    "plt.plot(y, '.')\n",
    "plt.plot(6. * x - 1)"
   ]
  },
  {
   "cell_type": "code",
   "execution_count": 6,
   "metadata": {
    "collapsed": true
   },
   "outputs": [],
   "source": [
    "xscaled = (x - np.mean(x))/np.std(x)"
   ]
  },
  {
   "cell_type": "code",
   "execution_count": 7,
   "metadata": {},
   "outputs": [
    {
     "data": {
      "text/plain": [
       "array([-1.5666989 , -1.21854359, -0.87038828, -0.52223297, -0.17407766,\n",
       "        0.17407766,  0.52223297,  0.87038828,  1.21854359,  1.5666989 ])"
      ]
     },
     "execution_count": 7,
     "metadata": {},
     "output_type": "execute_result"
    }
   ],
   "source": [
    "xscaled"
   ]
  },
  {
   "cell_type": "markdown",
   "metadata": {},
   "source": [
    "Incorporando bias em X"
   ]
  },
  {
   "cell_type": "code",
   "execution_count": 8,
   "metadata": {
    "collapsed": true
   },
   "outputs": [],
   "source": [
    "X = np.stack([np.ones(len(y)), xscaled]).T"
   ]
  },
  {
   "cell_type": "code",
   "execution_count": 9,
   "metadata": {},
   "outputs": [
    {
     "data": {
      "text/plain": [
       "array([[ 1.        , -1.5666989 ],\n",
       "       [ 1.        , -1.21854359],\n",
       "       [ 1.        , -0.87038828],\n",
       "       [ 1.        , -0.52223297],\n",
       "       [ 1.        , -0.17407766],\n",
       "       [ 1.        ,  0.17407766],\n",
       "       [ 1.        ,  0.52223297],\n",
       "       [ 1.        ,  0.87038828],\n",
       "       [ 1.        ,  1.21854359],\n",
       "       [ 1.        ,  1.5666989 ]])"
      ]
     },
     "execution_count": 9,
     "metadata": {},
     "output_type": "execute_result"
    }
   ],
   "source": [
    "X"
   ]
  },
  {
   "cell_type": "code",
   "execution_count": 10,
   "metadata": {},
   "outputs": [
    {
     "data": {
      "text/plain": [
       "array([[-8.10977002],\n",
       "       [-6.66115758],\n",
       "       [-6.01197604],\n",
       "       [-3.35547817],\n",
       "       [-2.33494898],\n",
       "       [ 1.38434027],\n",
       "       [ 1.15775935],\n",
       "       [ 1.79446844],\n",
       "       [ 5.0682767 ],\n",
       "       [ 4.22801008]])"
      ]
     },
     "execution_count": 10,
     "metadata": {},
     "output_type": "execute_result"
    }
   ],
   "source": [
    "y.reshape(-1,1)"
   ]
  },
  {
   "cell_type": "code",
   "execution_count": 11,
   "metadata": {},
   "outputs": [
    {
     "data": {
      "text/plain": [
       "(10, 2)"
      ]
     },
     "execution_count": 11,
     "metadata": {},
     "output_type": "execute_result"
    }
   ],
   "source": [
    "m, n = X.shape\n",
    "m, n"
   ]
  },
  {
   "cell_type": "code",
   "execution_count": 12,
   "metadata": {},
   "outputs": [
    {
     "data": {
      "text/plain": [
       "array([[0.78939064],\n",
       "       [0.22195084]])"
      ]
     },
     "execution_count": 12,
     "metadata": {},
     "output_type": "execute_result"
    }
   ],
   "source": [
    "W = np.random.uniform(-1, 1, (2,1))\n",
    "W"
   ]
  },
  {
   "cell_type": "code",
   "execution_count": 13,
   "metadata": {},
   "outputs": [
    {
     "data": {
      "text/plain": [
       "array([[0.44166049],\n",
       "       [0.51893386],\n",
       "       [0.59620722],\n",
       "       [0.67348059],\n",
       "       [0.75075395],\n",
       "       [0.82802732],\n",
       "       [0.90530069],\n",
       "       [0.98257405],\n",
       "       [1.05984742],\n",
       "       [1.13712078]])"
      ]
     },
     "execution_count": 13,
     "metadata": {},
     "output_type": "execute_result"
    }
   ],
   "source": [
    "np.matmul(X, W)"
   ]
  },
  {
   "cell_type": "code",
   "execution_count": 15,
   "metadata": {
    "collapsed": true
   },
   "outputs": [],
   "source": [
    "def gd(X, y, n_epochs = 100, lrating = 0.1):    \n",
    "    m, n = X.shape # m instancias e n colunas (including bias)\n",
    "    Y = y.reshape(-1,1)\n",
    "    W = np.random.uniform(-1, 1, (n, 1))\n",
    "    for e in range(n_epochs):\n",
    "        Yhat = np.matmul(X, W)\n",
    "        error = Yhat - Y\n",
    "        loss = np.mean(error ** 2)\n",
    "        gloss = (2./m) * np.matmul(X.T, error)\n",
    "        Wn = W - lrating * gloss\n",
    "        W = Wn\n",
    "        if e%10 == 0:\n",
    "            print(loss)\n",
    "    return W"
   ]
  },
  {
   "cell_type": "code",
   "execution_count": 16,
   "metadata": {},
   "outputs": [
    {
     "name": "stdout",
     "output_type": "stream",
     "text": [
      "29.608677332967158\n",
      "1.1326162273095994\n"
     ]
    },
    {
     "data": {
      "text/plain": [
       "array([[-1.26256711],\n",
       "       [ 4.28411257]])"
      ]
     },
     "execution_count": 16,
     "metadata": {},
     "output_type": "execute_result"
    }
   ],
   "source": [
    "W = gd(X, y, n_epochs = 20, lrating = 0.1)\n",
    "W"
   ]
  },
  {
   "cell_type": "code",
   "execution_count": 20,
   "metadata": {},
   "outputs": [
    {
     "data": {
      "text/plain": [
       "(-1, 10)"
      ]
     },
     "execution_count": 20,
     "metadata": {},
     "output_type": "execute_result"
    },
    {
     "data": {
      "image/png": "[encoded data removed]",
      "text/plain": [
       "<matplotlib.figure.Figure at 0x1072bc4d0>"
      ]
     },
     "metadata": {},
     "output_type": "display_data"
    }
   ],
   "source": [
    "plt.plot(y, '.')\n",
    "plt.plot(np.matmul(X,W))\n",
    "plt.xlim(-1,10)"
   ]
  },
  {
   "cell_type": "markdown",
   "metadata": {},
   "source": [
    "### Traduzindo para TF"
   ]
  },
  {
   "cell_type": "code",
   "execution_count": 21,
   "metadata": {},
   "outputs": [
    {
     "name": "stderr",
     "output_type": "stream",
     "text": [
      "/Users/marcocristo/Library/Enthought/Canopy_64bit/User/lib/python2.7/site-packages/h5py/__init__.py:36: FutureWarning: Conversion of the second argument of issubdtype from `float` to `np.floating` is deprecated. In future, it will be treated as `np.float64 == np.dtype(float).type`.\n",
      "  from ._conv import register_converters as _register_converters\n"
     ]
    }
   ],
   "source": [
    "import tensorflow as tf"
   ]
  },
  {
   "cell_type": "code",
   "execution_count": 22,
   "metadata": {
    "collapsed": true
   },
   "outputs": [],
   "source": [
    "def gdtf(X, y, n_epochs = 100, lrating = 0.1):\n",
    "    m, n = X.shape\n",
    "    \n",
    "    X = tf.constant(X, dtype = tf.float32, name = \"X\")\n",
    "    y = tf.constant(y.reshape(-1, 1), dtype = tf.float32, name = \"y\")\n",
    "    W = tf.Variable(tf.random_uniform([n, 1], -1.0, 1.0), name = \"W\")\n",
    "    \n",
    "    Yhat = tf.matmul(X, W, name = \"predictions\")\n",
    "    error = Yhat - y\n",
    "    loss = tf.reduce_mean(tf.square(error), name = \"loss\")\n",
    "    gloss = (2./m) * tf.matmul(tf.transpose(X), error)\n",
    "    training = tf.assign(W, W - lrating * gloss)\n",
    "    \n",
    "    init = tf.global_variables_initializer()\n",
    "    \n",
    "    with tf.Session() as s:\n",
    "        s.run(init)\n",
    "        for e in range(n_epochs):\n",
    "            s.run(training)\n",
    "            if e%10==0:\n",
    "                print(loss.eval())\n",
    "        finalW = W.eval()\n",
    "    return finalW"
   ]
  },
  {
   "cell_type": "code",
   "execution_count": 23,
   "metadata": {},
   "outputs": [
    {
     "name": "stdout",
     "output_type": "stream",
     "text": [
      "16.064823\n",
      "0.9764662\n",
      "0.8025093\n",
      "0.80050373\n",
      "0.80048066\n",
      "0.80048037\n",
      "0.8004802\n",
      "0.80048025\n",
      "0.80048025\n",
      "0.80048025\n"
     ]
    },
    {
     "data": {
      "text/plain": [
       "array([[-1.2840474],\n",
       "       [ 4.342145 ]], dtype=float32)"
      ]
     },
     "execution_count": 23,
     "metadata": {},
     "output_type": "execute_result"
    }
   ],
   "source": [
    "W = gdtf(X, y, n_epochs=100)\n",
    "W"
   ]
  },
  {
   "cell_type": "code",
   "execution_count": 24,
   "metadata": {},
   "outputs": [
    {
     "data": {
      "text/plain": [
       "(-10, 10)"
      ]
     },
     "execution_count": 24,
     "metadata": {},
     "output_type": "execute_result"
    },
    {
     "data": {
      "image/png": "[encoded data removed]",
      "text/plain": [
       "<matplotlib.figure.Figure at 0x11566c8d0>"
      ]
     },
     "metadata": {},
     "output_type": "display_data"
    }
   ],
   "source": [
    "plt.plot(y, '.')\n",
    "plt.plot(np.matmul(X,W))\n",
    "plt.plot(6*x - 1.0, 'r--')\n",
    "plt.ylim(-10,10)"
   ]
  },
  {
   "cell_type": "markdown",
   "metadata": {},
   "source": [
    "Além de saber se função está sendo minimizada, é importante ver como ela está sendo minimizada. Assim, o código normalmente coleta mais informações, mas com o cuidado de não interferir constantemente com a otimização."
   ]
  },
  {
   "cell_type": "code",
   "execution_count": 26,
   "metadata": {
    "collapsed": true
   },
   "outputs": [],
   "source": [
    "def gdtf(X, y, n_epochs = 100, lrating = 0.1):\n",
    "    m, n = X.shape\n",
    "    \n",
    "    X = tf.constant(X, dtype = tf.float32, name = \"X\")\n",
    "    y = tf.constant(y.reshape(-1, 1), dtype = tf.float32, name = \"y\")\n",
    "    W = tf.Variable(tf.random_uniform([n, 1], -1.0, 1.0), name = \"W\")\n",
    "    \n",
    "    Yhat = tf.matmul(X, W, name = \"predictions\")\n",
    "    error = Yhat - y\n",
    "    loss = tf.reduce_mean(tf.square(error), name = \"loss\")\n",
    "    gloss = (2./m) * tf.matmul(tf.transpose(X), error)\n",
    "    training = tf.assign(W, W - lrating * gloss)\n",
    "    \n",
    "    init = tf.global_variables_initializer()\n",
    "    \n",
    "    lossvalues = []\n",
    "    with tf.Session() as s:\n",
    "        s.run(init)\n",
    "        for e in range(n_epochs):\n",
    "            s.run(training)\n",
    "            lossvalues += [loss.eval()]  # getting loss data for detailed analysis\n",
    "            if e%10==0:                  # avoiding very frequent I/O because it is very expensive\n",
    "                print(lossvalues[-1])\n",
    "        finalW = W.eval()\n",
    "    return finalW, lossvalues"
   ]
  },
  {
   "cell_type": "code",
   "execution_count": 27,
   "metadata": {},
   "outputs": [
    {
     "name": "stdout",
     "output_type": "stream",
     "text": [
      "10.839501\n",
      "0.91622245\n",
      "0.8018147\n",
      "0.80049574\n",
      "0.8004805\n",
      "0.80048025\n",
      "0.8004805\n",
      "0.80048025\n",
      "0.80048025\n",
      "0.80048025\n"
     ]
    },
    {
     "data": {
      "text/plain": [
       "array([[-1.2840474],\n",
       "       [ 4.342145 ]], dtype=float32)"
      ]
     },
     "execution_count": 27,
     "metadata": {},
     "output_type": "execute_result"
    }
   ],
   "source": [
    "W, lossvalues = gdtf(X, y, n_epochs=100)\n",
    "W"
   ]
  },
  {
   "cell_type": "code",
   "execution_count": 28,
   "metadata": {},
   "outputs": [
    {
     "data": {
      "text/plain": [
       "[<matplotlib.lines.Line2D at 0x115dc5450>]"
      ]
     },
     "execution_count": 28,
     "metadata": {},
     "output_type": "execute_result"
    },
    {
     "data": {
      "image/png": "[encoded data removed]",
      "text/plain": [
       "<matplotlib.figure.Figure at 0x115d4a050>"
      ]
     },
     "metadata": {},
     "output_type": "display_data"
    }
   ],
   "source": [
    "plt.plot(lossvalues[:40])"
   ]
  },
  {
   "cell_type": "markdown",
   "metadata": {},
   "source": [
    "Note que deveriamos evitar avaliar o grafo múltiplas vezes para obter valores de nós. O ideal é obter todos os valores de interesse em uma única avaliação, como feito abaixo:"
   ]
  },
  {
   "cell_type": "code",
   "execution_count": 29,
   "metadata": {
    "collapsed": true
   },
   "outputs": [],
   "source": [
    "def gdtf(X, y, n_epochs = 100, lrating = 0.1):\n",
    "    m, n = X.shape\n",
    "    \n",
    "    X = tf.constant(X, dtype = tf.float32, name = \"X\")\n",
    "    y = tf.constant(y.reshape(-1, 1), dtype = tf.float32, name = \"y\")\n",
    "    W = tf.Variable(tf.random_uniform([n, 1], -1.0, 1.0), name = \"W\")\n",
    "    \n",
    "    Yhat = tf.matmul(X, W, name = \"predictions\")\n",
    "    error = Yhat - y\n",
    "    loss = tf.reduce_mean(tf.square(error), name = \"loss\")\n",
    "    gloss = (2./m) * tf.matmul(tf.transpose(X), error)\n",
    "    training = tf.assign(W, W - lrating * gloss)\n",
    "    \n",
    "    init = tf.global_variables_initializer()\n",
    "    \n",
    "    lossvalues = []\n",
    "    with tf.Session() as s:\n",
    "        s.run(init)\n",
    "        for e in range(n_epochs):\n",
    "            W_e, loss_e = s.run([training, loss]) # Evaluate the graph just once\n",
    "            lossvalues += [loss_e]\n",
    "            if e%10==0:\n",
    "                print(lossvalues[-1])\n",
    "    return W_e, lossvalues"
   ]
  },
  {
   "cell_type": "code",
   "execution_count": 30,
   "metadata": {},
   "outputs": [
    {
     "name": "stdout",
     "output_type": "stream",
     "text": [
      "26.122375\n",
      "1.0924219\n",
      "0.80384624\n",
      "0.8005191\n",
      "0.8004807\n",
      "0.80048037\n",
      "0.80048025\n",
      "0.80048025\n",
      "0.80048025\n",
      "0.80048025\n"
     ]
    },
    {
     "data": {
      "text/plain": [
       "array([[-1.2840474],\n",
       "       [ 4.342145 ]], dtype=float32)"
      ]
     },
     "execution_count": 30,
     "metadata": {},
     "output_type": "execute_result"
    }
   ],
   "source": [
    "W, lossvalues = gdtf(X, y, n_epochs=100)\n",
    "W"
   ]
  },
  {
   "cell_type": "markdown",
   "metadata": {},
   "source": [
    "### Diferenciação automática"
   ]
  },
  {
   "cell_type": "markdown",
   "metadata": {},
   "source": [
    "Note que a função a ser diferenciada depende do estimador, da ativação, da função de perda e do regularizador. Logo, ela pode ser bastante complexa."
   ]
  },
  {
   "cell_type": "markdown",
   "metadata": {},
   "source": [
    "Para estas situações, o TF ajuda com um mecanismo de auto diferenciação."
   ]
  },
  {
   "cell_type": "code",
   "execution_count": 41,
   "metadata": {
    "collapsed": true
   },
   "outputs": [],
   "source": [
    "# autodiferenciador\n",
    "def gdtf2(X, y, n_epochs = 100, lrating = 0.1):\n",
    "    m, n = X.shape\n",
    "        \n",
    "    X = tf.constant(X, dtype = tf.float32, name = \"X\")\n",
    "    y = tf.constant(y.reshape(-1, 1), dtype = tf.float32, name = \"y\")\n",
    "    W = tf.Variable(tf.random_uniform([n, 1], -1.0, 1.0), name = \"W\")\n",
    "    \n",
    "    Yhat = tf.matmul(X, W, name = \"predictions\")\n",
    "    error = Yhat - y\n",
    "    loss = tf.reduce_mean(tf.square(error), name = \"loss\")\n",
    "    # gradients(loss function, variables) --> [gradient per variable]\n",
    "    gloss = tf.gradients(loss, [W])[0]\n",
    "    training = tf.assign(W, W - lrating * gloss)\n",
    "    \n",
    "    init = tf.global_variables_initializer()\n",
    "    lossvalues = []\n",
    "    with tf.Session() as s:\n",
    "        s.run(init)\n",
    "        for e in range(n_epochs):\n",
    "            W_e, loss_e = s.run([training, loss])\n",
    "            lossvalues += [loss_e]\n",
    "            if e%10==0:\n",
    "                print(loss_e)\n",
    "    return W_e, lossvalues"
   ]
  },
  {
   "cell_type": "code",
   "execution_count": 42,
   "metadata": {},
   "outputs": [
    {
     "name": "stdout",
     "output_type": "stream",
     "text": [
      "19.13882\n",
      "1.0119072\n",
      "0.8029181\n",
      "0.8005085\n",
      "0.80048066\n",
      "0.80048025\n",
      "0.80048037\n",
      "0.80048025\n",
      "0.80048025\n",
      "0.80048025\n"
     ]
    },
    {
     "data": {
      "text/plain": [
       "array([[-1.2840475],\n",
       "       [ 4.342145 ]], dtype=float32)"
      ]
     },
     "execution_count": 42,
     "metadata": {},
     "output_type": "execute_result"
    }
   ],
   "source": [
    "W, _ = gdtf2(X, y, n_epochs=100)\n",
    "W"
   ]
  },
  {
   "cell_type": "markdown",
   "metadata": {},
   "source": [
    "### Diferentes otimizadores"
   ]
  },
  {
   "cell_type": "markdown",
   "metadata": {},
   "source": [
    "Como lidar com mínimos locais e _saddle points_?? (pontos em que eixos representam concavidades opostas, muitas vezes não fáceis de detectar devido a platôs)"
   ]
  },
  {
   "cell_type": "code",
   "execution_count": 33,
   "metadata": {
    "scrolled": true
   },
   "outputs": [
    {
     "data": {
      "text/html": [
       "<script>requirejs.config({paths: { 'plotly': ['https://cdn.plot.ly/plotly-latest.min']},});if(!window.Plotly) {{require(['plotly'],function(plotly) {window.Plotly=plotly;});}}</script>"
      ],
      "text/vnd.plotly.v1+html": [
       "<script>requirejs.config({paths: { 'plotly': ['https://cdn.plot.ly/plotly-latest.min']},});if(!window.Plotly) {{require(['plotly'],function(plotly) {window.Plotly=plotly;});}}</script>"
      ]
     },
     "metadata": {},
     "output_type": "display_data"
    },
    {
     "name": "stderr",
     "output_type": "stream",
     "text": [
      "IOPub data rate exceeded.\n",
      "The notebook server will temporarily stop sending output\n",
      "to the client in order to avoid crashing it.\n",
      "To change this limit, set the config variable\n",
      "`--NotebookApp.iopub_data_rate_limit`.\n"
     ]
    }
   ],
   "source": [
    "# saddle point -- se usando jupyter 5, chame servidor com:\n",
    "# jupyter notebook --NotebookApp.iopub_data_rate_limit=1.0e10\n",
    "\n",
    "import plotly.offline as py\n",
    "from plotly.graph_objs import *\n",
    "import numpy as np\n",
    "\n",
    "py.init_notebook_mode(connected=True)\n",
    "\n",
    "xx = np.linspace(-10, 10, 240)\n",
    "yy = np.linspace(-10, 10, 240)\n",
    "xs,ys = np.meshgrid(xx, yy)\n",
    "zs = xs * (xs**2 - 3*ys**2)\n",
    "\n",
    "surface = Surface(x=xs, y=ys, z=zs)\n",
    "data = Data([surface])\n",
    "\n",
    "fig = Figure(data=data)\n",
    "py.iplot(fig)"
   ]
  },
  {
   "cell_type": "markdown",
   "metadata": {},
   "source": [
    "Uma possibilidade para lidar com estes problemas é usar diferentes otimizadores, como os descritos a seguir:\n",
    "\n",
    "* _SGD_: gradiente descendente estocástico. Usa gradiente da função para determinar direção e distância do ponto de mínimo. Ele corresponde ao GD clássico (_batch GD_) considerando estimativas baseadas em uma única instância $x_i$; se mais instâncias forem usadas, digamos $b$ instâncias, tal que $b << m$, então o algoritmo é chamado de GD (ou SGD, dependendo dos autores) com mini lotes, cada lote com tamanho $b$ (mini-batch [stochastic] gradient descent);"
   ]
  },
  {
   "cell_type": "markdown",
   "metadata": {},
   "source": [
    "* _Momento_: atualização dos pesos depende de útima atualização, de forma que o impulso anterior interfere no comportamento atual (mais adiante). Supondo uma bolinha descendo um morro, ela vai ficando cada vez mais rápida à medida que desce. Algumas variantes deste algorimo podem incorporar ruído Gaussiano;"
   ]
  },
  {
   "cell_type": "markdown",
   "metadata": {},
   "source": [
    "* _Gradiente Acelerado de Nesterov_ (NAG): o momento é corrigido pelo efeito que ele vai ter. Intuitivamente, é como se o comportamento fosse baseado no impulso (passado) corrigido pelo comportamento que se vai adquirir em seguida (futuro). Supondo a bolinha descendo o morro, ela vai desacelerando à medida que se aproxima de um novo morro (isso diminui o efeito de vai-e-vem perto do mínimo);"
   ]
  },
  {
   "cell_type": "markdown",
   "metadata": {},
   "source": [
    "* _Adagrad_: Os métodos anteriores supõem que uma mesma taxa de atualização $\\eta$ deve ser aplicada para todos os parâmetros $w_0, w_1, ..., w_n$. Adagrad é um método adaptativo que aplica um valor distinto de $\\eta$ ($\\eta_0, \\eta_1, ..., \\eta_n$) para cada parâmetro de acordo com os valores anteriores observados para esse parâmetro. A ideia é atualizar _mais_ parâmetros associados a atributos observados menos frequentemente; e _menos_, parâmetros associados a atributos mais frequentes. Estes métodos são particularmente rápidos para problemas em que há atributos esparsos como em linguagem natural. Uma vantagem desse método é não ser necessário adotar uma política manual de atualização de um $\\eta$ global. Uma desvantagem é que a taxa de aprendizado tende à zero com o tempo;"
   ]
  },
  {
   "cell_type": "markdown",
   "metadata": {},
   "source": [
    "* _Adadelta_: extensão de Adagrad que tenta resolver o problema de sumiço de $\\eta$ baseando a adaptação em uma janela de valores do passado de tamanho fixo em lugar de todos os valores;"
   ]
  },
  {
   "cell_type": "markdown",
   "metadata": {},
   "source": [
    "* _RMSProp_: método proposto por Hinton, quase ao mesmo tempo que o Adadelta, para corrigir o problema do Adagrad. Embora haja pequenas diferenças em relação ao Adadelta, eles se baseiam em ideias muito similares;"
   ]
  },
  {
   "cell_type": "markdown",
   "metadata": {},
   "source": [
    "* _Adam_, _AdaMax_ e _Nadam_: modificações de Adadelta (Adam e AdaMax) e RMSProb (Nadam) para incorporar momento aos métodos adaptativos;"
   ]
  },
  {
   "cell_type": "markdown",
   "metadata": {},
   "source": [
    "Em geral, estes algoritmos buscam lidar melhor com diferentes topologias que o SGD. Por exemplo, veja o caso de superfícies com simetrias (as animações abaixo são de Alec Radford): algoritmos baseados em momento exploram até encontrar saída; os adaptativos rapidamente começam a descer."
   ]
  },
  {
   "cell_type": "markdown",
   "metadata": {},
   "source": [
    "![](images/LongValleyImgur.gif)"
   ]
  },
  {
   "cell_type": "markdown",
   "metadata": {},
   "source": [
    "No caso de superfícies com _saddle points_, o SGD se mostra claramente muito lento; os de momento repetem seu comportamento exploratório; os adaptativos novamente são muito rápidos."
   ]
  },
  {
   "cell_type": "markdown",
   "metadata": {},
   "source": [
    "![](images/SaddlePointImgur.gif)"
   ]
  },
  {
   "cell_type": "markdown",
   "metadata": {},
   "source": [
    "Abaixo, um exemplo de uso de um otimizador de momento no TF:"
   ]
  },
  {
   "cell_type": "code",
   "execution_count": 43,
   "metadata": {
    "collapsed": true
   },
   "outputs": [],
   "source": [
    "# otimizadores\n",
    "def gdtf3(X, y, n_epochs = 100, lrating = 0.1):\n",
    "    m, n = X.shape\n",
    "    \n",
    "    X = tf.constant(X, dtype = tf.float32, name = \"X\")\n",
    "    y = tf.constant(y.reshape(-1, 1), dtype = tf.float32, name = \"y\")\n",
    "    W = tf.Variable(tf.random_uniform([n, 1], -1.0, 1.0), name = \"W\")\n",
    "    \n",
    "    Yhat = tf.matmul(X, W, name = \"predictions\")\n",
    "    loss = tf.reduce_mean(tf.square(Yhat - y), name = \"loss\")\n",
    "    \n",
    "    #otimizador = tf.train.GradientDescentOptimizer(learning_rate = lrating)\n",
    "    otimizador = tf.train.MomentumOptimizer(learning_rate = lrating, momentum = 0.9)\n",
    "    training = otimizador.minimize(loss)\n",
    "    \n",
    "    init = tf.global_variables_initializer()\n",
    "    lossvalues = []\n",
    "    with tf.Session() as s:\n",
    "        s.run(init)\n",
    "        for e in range(n_epochs):\n",
    "            W_e, loss_e = s.run([training, loss])\n",
    "            lossvalues += [loss_e]\n",
    "            if e%10==0:\n",
    "                print(loss_e)\n",
    "    return W_e, lossvalues"
   ]
  },
  {
   "cell_type": "code",
   "execution_count": 44,
   "metadata": {},
   "outputs": [
    {
     "name": "stdout",
     "output_type": "stream",
     "text": [
      "26.617777\n",
      "0.8009801\n",
      "3.9496047\n",
      "0.8505596\n",
      "1.1480532\n",
      "0.82449424\n",
      "0.8348317\n",
      "0.80659866\n",
      "0.8034414\n",
      "0.80166185\n"
     ]
    }
   ],
   "source": [
    "W, _ = gdtf3(X, y, n_epochs=100)\n",
    "W"
   ]
  },
  {
   "cell_type": "markdown",
   "metadata": {},
   "source": [
    "O otimizador baseado em momento, usado no programa acima, \"lembra\" a última atualização e a repete em parte -- algo como descrito na Equação abaixo:\n",
    "\n",
    "$$\\textbf{w}' = \\textbf{w} + \\mu * v - \\eta \\nabla\\ell$$\n",
    "\n",
    "onde $\\mu$ é o quanto a última atualização $v$ deve ser lembrada. Um típico valor de de $\\mu$ pode ser 0.9. "
   ]
  },
  {
   "cell_type": "markdown",
   "metadata": {},
   "source": [
    "**Exercício**: Compare os otimizadores, usando 40 épocas: \n",
    "* GradientDescentOptimizer(learning_rate = 0.1)\n",
    "* AdagradOptimizer(learning_rate = 1.0)\n",
    "* RMSPropOptimizer(learning_rate = 0.1)\n",
    "* AdamOptimizer(learning_rate = 1.0)\n",
    "\n",
    "Uma vez que tiver obtido as curvas de perda para cada método (ls_sgd, ls_adag, ls_rms e ls_adam) você pode plotá-las com o código abaixo:\n",
    "\n",
    "```python\n",
    "# gráficos\n",
    "plt.plot(ls_sgd, label = 'sgd')\n",
    "plt.plot(ls_adag, label = 'adag')\n",
    "plt.plot(ls_rms, label = 'rms')\n",
    "plt.plot(ls_adam, label = 'adam')\n",
    "plt.legend()\n",
    "```"
   ]
  },
  {
   "cell_type": "markdown",
   "metadata": {},
   "source": [
    "<div align=\"right\">\n",
    "<a href=\"#losses\" class=\"btn btn-default\" data-toggle=\"collapse\">Solução #1</a>\n",
    "</div>\n",
    "<div id=\"losses\" class=\"collapse\">\n",
    "```\n",
    "# otimizadores\n",
    "def gdtf_opt(X, y, n_epochs = 100, lrating = 0.1, \n",
    "             otimizador = None):\n",
    "    m, n = X.shape\n",
    "    \n",
    "    X = tf.constant(X, dtype = tf.float32, name = \"X\")\n",
    "    y = tf.constant(y.reshape(-1, 1), dtype = tf.float32, name = \"y\")\n",
    "    W = tf.Variable(tf.random_uniform([n, 1], -1.0, 1.0), name = \"W\")\n",
    "    \n",
    "    Yhat = tf.matmul(X, W, name = \"predictions\")\n",
    "    loss = tf.reduce_mean(tf.square(Yhat - y), name = \"loss\")\n",
    "    \n",
    "    training = otimizador.minimize(loss)\n",
    "    \n",
    "    init = tf.global_variables_initializer()\n",
    "    lossvalues = []\n",
    "    with tf.Session() as s:\n",
    "        s.run(init)\n",
    "        for e in range(n_epochs):\n",
    "            W_e, loss_e = s.run([training, loss])\n",
    "            lossvalues += [loss_e]\n",
    "    return W_e, lossvalues\n",
    "\n",
    "# execução\n",
    "W, ls_sgd = gdtf_opt(X, y, n_epochs=40, \n",
    "             otimizador = tf.train.GradientDescentOptimizer(\n",
    "                 learning_rate = 0.1))\n",
    "W, ls_adag = gdtf_opt(X, y, n_epochs=40, \n",
    "             otimizador = tf.train.AdagradOptimizer(learning_rate = 1))\n",
    "W, ls_rms = gdtf_opt(X, y, n_epochs=40, \n",
    "             otimizador = tf.train.RMSPropOptimizer(learning_rate = 0.1))\n",
    "W, ls_adam = gdtf_opt(X, y, n_epochs=40, \n",
    "             otimizador = tf.train.AdamOptimizer(learning_rate = 1))\n",
    "\n",
    "```\n",
    "</div>"
   ]
  },
  {
   "cell_type": "markdown",
   "metadata": {},
   "source": [
    "### Processamento em lotes: os métodos estocásticos"
   ]
  },
  {
   "cell_type": "markdown",
   "metadata": {},
   "source": [
    "Apenas relembrando placeholders..."
   ]
  },
  {
   "cell_type": "code",
   "execution_count": 87,
   "metadata": {},
   "outputs": [
    {
     "data": {
      "text/plain": [
       "array([[6., 7., 8.]], dtype=float32)"
      ]
     },
     "execution_count": 87,
     "metadata": {},
     "output_type": "execute_result"
    }
   ],
   "source": [
    "import tensorflow as tf\n",
    "\n",
    "A = tf.placeholder(tf.float32, shape=(None,3))\n",
    "B = A + 5\n",
    "\n",
    "with tf.Session() as s:\n",
    "    b1 = s.run(B, feed_dict = {A: [[1,2,3]]})\n",
    "    \n",
    "b1"
   ]
  },
  {
   "cell_type": "code",
   "execution_count": 89,
   "metadata": {
    "collapsed": true
   },
   "outputs": [],
   "source": [
    "# GD com batches --> gradiente descendente estocástico\n",
    "def gdtf4(Xi, yi, batch_size = 1, n_epochs = 100, lrating = 0.1):\n",
    "    def get_batch(batch_size):\n",
    "        ids = np.random.randint(Xi.shape[0], size = batch_size)\n",
    "        return Xi[ids, :], yi[ids,:]\n",
    "    \n",
    "    m, n = Xi.shape\n",
    "    yi = yi.reshape(-1,1)\n",
    "    \n",
    "    n_batches = int(np.ceil(float(m)/batch_size))\n",
    "    \n",
    "    X = tf.placeholder(dtype = tf.float32, shape=(None, n), name = \"X\")\n",
    "    y = tf.placeholder(dtype = tf.float32, shape=(None, 1), name = \"y\")\n",
    "    W = tf.Variable(tf.random_uniform([n, 1], -1.0, 1.0), name = \"W\")\n",
    "    \n",
    "    Yhat = tf.matmul(X, W, name = \"predictions\")\n",
    "    loss = tf.reduce_mean(tf.square(Yhat - y), name = \"loss\")\n",
    "    \n",
    "    #otimizador = tf.train.GradientDescentOptimizer(learning_rate = lrating)\n",
    "    otimizador = tf.train.MomentumOptimizer(learning_rate = lrating, momentum = 0.9)\n",
    "    training = otimizador.minimize(loss)\n",
    "    \n",
    "    init = tf.global_variables_initializer()\n",
    "\n",
    "    lossvalues = []\n",
    "    mlossvalues = []\n",
    "    with tf.Session() as s:\n",
    "        s.run(init)\n",
    "        for e in range(n_epochs):\n",
    "            mloss = 0.\n",
    "            for batch_index in range(n_batches):\n",
    "                # politica completamente estocastica!\n",
    "                Xb, yb = get_batch(batch_size)\n",
    "                _, W_e, loss_e = s.run([training, W, loss], feed_dict = {X: Xb, y: yb})\n",
    "                mloss += loss_e\n",
    "                lossvalues += [loss_e]\n",
    "            mloss = float(mloss) / n_batches\n",
    "            mlossvalues += n_batches * [mloss]\n",
    "            print(mloss)\n",
    "    return W_e, lossvalues, mlossvalues"
   ]
  },
  {
   "cell_type": "code",
   "execution_count": 90,
   "metadata": {},
   "outputs": [
    {
     "name": "stdout",
     "output_type": "stream",
     "text": [
      "17.3067093849\n",
      "6.76767002074\n",
      "1.13819150329\n",
      "0.597953179479\n",
      "2.381396126\n",
      "2.08984603882\n",
      "1.27573567629\n",
      "0.905211898685\n",
      "1.07052196562\n",
      "0.776255773008\n",
      "0.84228906706\n",
      "0.868243962526\n",
      "0.759797335789\n",
      "1.00370015539\n",
      "0.646837014891\n",
      "1.18684344329\n",
      "0.534210734628\n",
      "0.580253218859\n",
      "0.410886830091\n",
      "0.453078570962\n"
     ]
    },
    {
     "data": {
      "text/plain": [
       "array([[-1.5934641],\n",
       "       [ 4.4811788]], dtype=float32)"
      ]
     },
     "execution_count": 90,
     "metadata": {},
     "output_type": "execute_result"
    }
   ],
   "source": [
    "W, lossvalues, mlossvalues = gdtf4(X, y, n_epochs=20, batch_size = 2, lrating = 0.01)\n",
    "W"
   ]
  },
  {
   "cell_type": "code",
   "execution_count": 91,
   "metadata": {},
   "outputs": [
    {
     "data": {
      "text/plain": [
       "(-10, 10)"
      ]
     },
     "execution_count": 91,
     "metadata": {},
     "output_type": "execute_result"
    },
    {
     "data": {
      "image/png": "[encoded data removed]",
      "text/plain": [
       "<matplotlib.figure.Figure at 0x11cbcae50>"
      ]
     },
     "metadata": {},
     "output_type": "display_data"
    }
   ],
   "source": [
    "plt.plot(y, '.')\n",
    "plt.plot(np.matmul(X,W))\n",
    "plt.plot(6*x - 1.0, 'r--')\n",
    "plt.ylim(-10,10)"
   ]
  },
  {
   "cell_type": "code",
   "execution_count": 92,
   "metadata": {},
   "outputs": [
    {
     "data": {
      "text/plain": [
       "[<matplotlib.lines.Line2D at 0x11ff21890>]"
      ]
     },
     "execution_count": 92,
     "metadata": {},
     "output_type": "execute_result"
    },
    {
     "data": {
      "image/png": "[encoded data removed]",
      "text/plain": [
       "<matplotlib.figure.Figure at 0x11ff21bd0>"
      ]
     },
     "metadata": {},
     "output_type": "display_data"
    }
   ],
   "source": [
    "plt.plot(lossvalues)\n",
    "plt.plot(mlossvalues)"
   ]
  },
  {
   "cell_type": "markdown",
   "metadata": {},
   "source": [
    "Note que muitas estratégias de batching podem ser usadas. Determinar o conjunto de exemplos de onde serão feitas as estimativas é parte importante de ML baseada em otimização."
   ]
  },
  {
   "cell_type": "markdown",
   "metadata": {},
   "source": [
    "### Checkpoints "
   ]
  },
  {
   "cell_type": "markdown",
   "metadata": {},
   "source": [
    "Em longos processos de treino, é interessante salvar o estado geral dos parâmetros sendo aprendidos, de forma que seja possível retomar o processo mais tarde, partindo do último ponto de parada.\n",
    "\n",
    "É possível fazer isso em TF com checkpoints."
   ]
  },
  {
   "cell_type": "code",
   "execution_count": 93,
   "metadata": {
    "collapsed": true
   },
   "outputs": [],
   "source": [
    "tf.reset_default_graph()"
   ]
  },
  {
   "cell_type": "code",
   "execution_count": 95,
   "metadata": {
    "collapsed": true
   },
   "outputs": [],
   "source": [
    "# save model\n",
    "def gdtf5(Xi, yi, batch_size = 1, n_epochs = 1000, lrating = 0.01, \n",
    "          model_dir = '/tmp/model0tf.ckpt', save = True, restore = False):\n",
    "    def get_batch(batch_size):\n",
    "        ids = np.random.randint(Xi.shape[0], size = batch_size)\n",
    "        return Xi[ids, :], yi[ids,:]\n",
    "    \n",
    "    m, n = Xi.shape\n",
    "    yi = yi.reshape(-1,1)\n",
    "    \n",
    "    n_batches = int(np.ceil(float(m)/batch_size))\n",
    "    \n",
    "    X = tf.placeholder(dtype = tf.float32, shape=(None, n), name = \"X\")\n",
    "    y = tf.placeholder(dtype = tf.float32, shape=(None, 1), name = \"y\")\n",
    "    W = tf.Variable(tf.random_uniform([n, 1], -1.0, 1.0), name = \"W\")\n",
    "    \n",
    "    Yhat = tf.matmul(X, W, name = \"predictions\")\n",
    "    loss = tf.reduce_mean(tf.square(Yhat - y), name = \"loss\")\n",
    "    \n",
    "    otimizador = tf.train.GradientDescentOptimizer(learning_rate = lrating)\n",
    "    #otimizador = tf.train.MomentumOptimizer(learning_rate = lrating, momentum = 0.9)\n",
    "    training = otimizador.minimize(loss)\n",
    "    \n",
    "    init = tf.global_variables_initializer()\n",
    "    # init saving object\n",
    "    if save: saver = tf.train.Saver({\"W\": W})\n",
    "    \n",
    "    with tf.Session() as s:\n",
    "        if restore:\n",
    "            saver.restore(s, model_dir)\n",
    "        else:\n",
    "            s.run(init)\n",
    "        for e in range(n_epochs):\n",
    "            mloss = 0.\n",
    "            for batch_index in range(n_batches):\n",
    "                Xb, yb = get_batch(batch_size)\n",
    "                _, W_e, loss_e = s.run([training, W, loss], feed_dict = {X: Xb, y: yb})\n",
    "                mloss += loss_e\n",
    "            mloss = float(mloss) / n_batches\n",
    "            \n",
    "            if e%10 == 0:\n",
    "                print(mloss)\n",
    "                if save: \n",
    "                    print('checkpoint: saving model...')\n",
    "                    save_path = saver.save(s, model_dir)\n",
    "        if save: save_path = saver.save(s, model_dir)\n",
    "    return W_e\n"
   ]
  },
  {
   "cell_type": "code",
   "execution_count": 96,
   "metadata": {},
   "outputs": [
    {
     "name": "stdout",
     "output_type": "stream",
     "text": [
      "14.8250605583\n",
      "checkpoint: saving model...\n"
     ]
    },
    {
     "data": {
      "text/plain": [
       "(-10, 10)"
      ]
     },
     "execution_count": 96,
     "metadata": {},
     "output_type": "execute_result"
    },
    {
     "data": {
      "image/png": "[encoded data removed]",
      "text/plain": [
       "<matplotlib.figure.Figure at 0x11fcc7650>"
      ]
     },
     "metadata": {},
     "output_type": "display_data"
    }
   ],
   "source": [
    "W = gdtf5(X, y, n_epochs=1, batch_size = 2)\n",
    "W\n",
    "plt.plot(y, '.')\n",
    "plt.plot(np.matmul(X,W))\n",
    "plt.plot(6*x - 1.0, 'r--')\n",
    "plt.ylim(-10,10)"
   ]
  },
  {
   "cell_type": "code",
   "execution_count": 97,
   "metadata": {},
   "outputs": [
    {
     "name": "stdout",
     "output_type": "stream",
     "text": [
      "25.6951263428\n",
      "checkpoint: saving model...\n",
      "2.19347782731\n",
      "checkpoint: saving model...\n",
      "1.15114124417\n",
      "checkpoint: saving model...\n",
      "0.35535454303\n",
      "checkpoint: saving model...\n",
      "0.559120941162\n",
      "checkpoint: saving model...\n"
     ]
    },
    {
     "data": {
      "text/plain": [
       "(-10, 10)"
      ]
     },
     "execution_count": 97,
     "metadata": {},
     "output_type": "execute_result"
    },
    {
     "data": {
      "image/png": "[encoded data removed]",
      "text/plain": [
       "<matplotlib.figure.Figure at 0x11b9a3b90>"
      ]
     },
     "metadata": {},
     "output_type": "display_data"
    }
   ],
   "source": [
    "W = gdtf5(X, y, n_epochs=50, batch_size = 2)\n",
    "W\n",
    "plt.plot(y, '.')\n",
    "plt.plot(np.matmul(X,W))\n",
    "plt.plot(6*x - 1.0, 'r--')\n",
    "plt.ylim(-10,10)"
   ]
  },
  {
   "cell_type": "markdown",
   "metadata": {},
   "source": [
    "### Transferência de aprendizado v0 "
   ]
  },
  {
   "cell_type": "code",
   "execution_count": 98,
   "metadata": {},
   "outputs": [
    {
     "name": "stdout",
     "output_type": "stream",
     "text": [
      "INFO:tensorflow:Restoring parameters from /tmp/model0tf.ckpt\n",
      "0.489341925085\n",
      "checkpoint: saving model...\n"
     ]
    },
    {
     "data": {
      "text/plain": [
       "(-10, 10)"
      ]
     },
     "execution_count": 98,
     "metadata": {},
     "output_type": "execute_result"
    },
    {
     "data": {
      "image/png": "[encoded data removed]",
      "text/plain": [
       "<matplotlib.figure.Figure at 0x11b992b90>"
      ]
     },
     "metadata": {},
     "output_type": "display_data"
    }
   ],
   "source": [
    "W = gdtf5(X, y, n_epochs=1, batch_size = 2, restore = True)\n",
    "W\n",
    "plt.plot(y, '.')\n",
    "plt.plot(np.matmul(X,W))\n",
    "plt.plot(6*x - 1.0, 'r--')\n",
    "plt.ylim(-10,10)"
   ]
  },
  {
   "cell_type": "markdown",
   "metadata": {},
   "source": [
    "### Registros para acompanhamento -> logging"
   ]
  },
  {
   "cell_type": "code",
   "execution_count": 99,
   "metadata": {
    "collapsed": true
   },
   "outputs": [],
   "source": [
    "# log \n",
    "def gdtf6(Xi, yi, batch_size = 1, n_epochs = 1000, lrating = 0.01, \n",
    "          model_dir = '/tmp/model0tf.ckpt', save = True, restore = False):\n",
    "    def get_batch(batch_size):\n",
    "        ids = np.random.randint(Xi.shape[0], size = batch_size)\n",
    "        return Xi[ids, :], yi[ids,:]\n",
    "    \n",
    "    tf.reset_default_graph()\n",
    "    \n",
    "    from datetime import datetime\n",
    "    \n",
    "    now = datetime.utcnow().strftime('%Y%m%d%H%M%S')\n",
    "    logdir = 'logs/run-' + now + '/'\n",
    "    \n",
    "    m, n = Xi.shape\n",
    "    yi = yi.reshape(-1,1)\n",
    "    \n",
    "    n_batches = int(np.ceil(float(m)/batch_size))\n",
    "    \n",
    "    X = tf.placeholder(dtype = tf.float32, shape=(None, n), name = \"X\")\n",
    "    y = tf.placeholder(dtype = tf.float32, shape=(None, 1), name = \"y\")\n",
    "    W = tf.Variable(tf.random_uniform([n, 1], -1.0, 1.0), name = \"W\")\n",
    "    \n",
    "    Yhat = tf.matmul(X, W, name = \"predictions\")\n",
    "    loss = tf.reduce_mean(tf.square(Yhat - y), name = \"loss\")\n",
    "    \n",
    "    otimizador = tf.train.GradientDescentOptimizer(learning_rate = lrating)\n",
    "    #otimizador = tf.train.MomentumOptimizer(learning_rate = lrating, momentum = 0.9)\n",
    "    training = otimizador.minimize(loss)\n",
    "    \n",
    "    # log summary\n",
    "    loss_summary = tf.summary.scalar('loss-MSE', loss)\n",
    "    logfile = tf.summary.FileWriter(logdir, tf.get_default_graph())\n",
    "    \n",
    "    init = tf.global_variables_initializer()\n",
    "    # init saving object\n",
    "    if save: saver = tf.train.Saver({\"W\": W})\n",
    "    \n",
    "    with tf.Session() as s:\n",
    "        if restore:\n",
    "            saver.restore(s, model_dir)\n",
    "        else:\n",
    "            s.run(init)\n",
    "        for e in range(n_epochs):\n",
    "            mloss = 0.\n",
    "            for batch_index in range(n_batches):\n",
    "                Xb, yb = get_batch(batch_size)\n",
    "                _, W_e, loss_e, summary_str = s.run([training, W, loss, loss_summary], \n",
    "                                                    feed_dict = {X: Xb, y: yb})\n",
    "                mloss += loss_e\n",
    "                # *** note that log every step is very expensive for any real app ***\n",
    "                logfile.add_summary(summary_str, e*n_batches + batch_index)\n",
    "            mloss = float(mloss) / n_batches\n",
    "            \n",
    "            if e%10 == 0:\n",
    "                print(mloss)\n",
    "                if save: \n",
    "                    print('checkpoint: saving model...')\n",
    "                    save_path = saver.save(s, model_dir)\n",
    "        if save: save_path = saver.save(s, model_dir)\n",
    "    logfile.close()        \n",
    "    \n",
    "    return W_e\n"
   ]
  },
  {
   "cell_type": "code",
   "execution_count": 100,
   "metadata": {},
   "outputs": [
    {
     "name": "stdout",
     "output_type": "stream",
     "text": [
      "18.4708981992\n",
      "checkpoint: saving model...\n"
     ]
    },
    {
     "data": {
      "text/plain": [
       "(-10, 10)"
      ]
     },
     "execution_count": 100,
     "metadata": {},
     "output_type": "execute_result"
    },
    {
     "data": {
      "image/png": "[encoded data removed]",
      "text/plain": [
       "<matplotlib.figure.Figure at 0x11d8ed990>"
      ]
     },
     "metadata": {},
     "output_type": "display_data"
    }
   ],
   "source": [
    "W = gdtf6(X, y, n_epochs=10, batch_size = 2)\n",
    "W\n",
    "plt.plot(y, '.')\n",
    "plt.plot(np.matmul(X,W))\n",
    "plt.ylim(-10,10)"
   ]
  },
  {
   "cell_type": "code",
   "execution_count": 101,
   "metadata": {
    "scrolled": true
   },
   "outputs": [
    {
     "name": "stdout",
     "output_type": "stream",
     "text": [
      "49.8632125854\n",
      "checkpoint: saving model...\n",
      "33.7493782043\n",
      "checkpoint: saving model...\n",
      "14.947473526\n",
      "checkpoint: saving model...\n",
      "14.5022335052\n",
      "checkpoint: saving model...\n",
      "5.20685863495\n",
      "checkpoint: saving model...\n",
      "5.52992725372\n",
      "checkpoint: saving model...\n",
      "3.47772979736\n",
      "checkpoint: saving model...\n",
      "1.5452105999\n",
      "checkpoint: saving model...\n",
      "0.707199275494\n",
      "checkpoint: saving model...\n",
      "1.36088275909\n",
      "checkpoint: saving model...\n"
     ]
    },
    {
     "data": {
      "text/plain": [
       "(-10, 10)"
      ]
     },
     "execution_count": 101,
     "metadata": {},
     "output_type": "execute_result"
    },
    {
     "data": {
      "image/png": "[encoded data removed]",
      "text/plain": [
       "<matplotlib.figure.Figure at 0x105ed9110>"
      ]
     },
     "metadata": {},
     "output_type": "display_data"
    }
   ],
   "source": [
    "W = gdtf6(X, y, n_epochs=100, batch_size = 10)\n",
    "W\n",
    "plt.plot(y, '.')\n",
    "plt.plot(np.matmul(X,W))\n",
    "plt.ylim(-10,10)"
   ]
  },
  {
   "cell_type": "markdown",
   "metadata": {},
   "source": [
    "Para observar so carregar servidor tensorboard e ir para o endereço localhost:6006"
   ]
  },
  {
   "cell_type": "markdown",
   "metadata": {},
   "source": [
    "### Melhorando logs com escopos"
   ]
  },
  {
   "cell_type": "code",
   "execution_count": 102,
   "metadata": {
    "collapsed": true
   },
   "outputs": [],
   "source": [
    "# scopes\n",
    "def gdtf8(Xi, yi, batch_size = 1, n_epochs = 1000, lrating = 0.01, \n",
    "          model_dir = '/tmp/model0tf.ckpt', save = True, restore = False):\n",
    "    def get_batch(batch_size):\n",
    "        ids = np.random.randint(Xi.shape[0], size = batch_size)\n",
    "        return Xi[ids, :], yi[ids,:]\n",
    "    \n",
    "    tf.reset_default_graph()\n",
    "    \n",
    "    from datetime import datetime\n",
    "    \n",
    "    now = datetime.utcnow().strftime('%Y%m%d%H%M%S')\n",
    "    logdir = 'logs/run-' + now + '/'\n",
    "    \n",
    "    m, n = Xi.shape\n",
    "    yi = yi.reshape(-1,1)\n",
    "    \n",
    "    n_batches = int(np.ceil(float(m)/batch_size))\n",
    "    \n",
    "    X = tf.placeholder(dtype = tf.float32, shape=(None, n), name = \"X\")\n",
    "    y = tf.placeholder(dtype = tf.float32, shape=(None, 1), name = \"y\")\n",
    "    W = tf.Variable(tf.random_uniform([n, 1], -1.0, 1.0), name = \"W\")\n",
    "    \n",
    "    Yhat = tf.matmul(X, W, name = \"predictions\")\n",
    "    \n",
    "    with tf.name_scope('loss'):\n",
    "        error = Yhat - y\n",
    "        mse = tf.reduce_mean(tf.square(error), name = \"mse\")\n",
    "    \n",
    "    otimizador = tf.train.GradientDescentOptimizer(learning_rate = lrating)\n",
    "    training = otimizador.minimize(mse)\n",
    "    \n",
    "    # log summary\n",
    "    loss_summary = tf.summary.scalar('loss-MSE', mse)\n",
    "    logfile = tf.summary.FileWriter(logdir, tf.get_default_graph())\n",
    "    \n",
    "    init = tf.global_variables_initializer()\n",
    "    # init saving object\n",
    "    if save: saver = tf.train.Saver({\"W\": W})\n",
    "    \n",
    "    with tf.Session() as s:\n",
    "        if restore:\n",
    "            saver.restore(s, model_dir)\n",
    "        else:\n",
    "            s.run(init)\n",
    "        for e in range(n_epochs):\n",
    "            mloss = 0.\n",
    "            for batch_index in range(n_batches):\n",
    "                Xb, yb = get_batch(batch_size)\n",
    "                _, W_e, loss_e, summary_str = s.run([training, W, mse, loss_summary], \n",
    "                                                    feed_dict = {X: Xb, y: yb})\n",
    "                mloss += loss_e\n",
    "                # *** note that log every step is very expensive for any real app ***\n",
    "                logfile.add_summary(summary_str, e*n_batches + batch_index)\n",
    "            mloss = float(mloss) / n_batches\n",
    "            \n",
    "            if e%10 == 0:\n",
    "                print(mloss)\n",
    "                if save: \n",
    "                    print('checkpoint: saving model...')\n",
    "                    save_path = saver.save(s, model_dir)\n",
    "        if save: save_path = saver.save(s, model_dir)\n",
    "            \n",
    "    logfile.close()        \n",
    "    return W_e\n"
   ]
  },
  {
   "cell_type": "code",
   "execution_count": 103,
   "metadata": {},
   "outputs": [
    {
     "name": "stdout",
     "output_type": "stream",
     "text": [
      "13.8575544357\n",
      "checkpoint: saving model...\n",
      "12.8925418854\n",
      "checkpoint: saving model...\n",
      "5.12379026413\n",
      "checkpoint: saving model...\n",
      "3.91445970535\n",
      "checkpoint: saving model...\n",
      "2.31023478508\n",
      "checkpoint: saving model...\n",
      "3.04519128799\n",
      "checkpoint: saving model...\n",
      "2.03860282898\n",
      "checkpoint: saving model...\n",
      "2.02296185493\n",
      "checkpoint: saving model...\n",
      "0.772380232811\n",
      "checkpoint: saving model...\n",
      "0.937614738941\n",
      "checkpoint: saving model...\n"
     ]
    },
    {
     "data": {
      "text/plain": [
       "(-10, 10)"
      ]
     },
     "execution_count": 103,
     "metadata": {},
     "output_type": "execute_result"
    },
    {
     "data": {
      "image/png": "[encoded data removed]",
      "text/plain": [
       "<matplotlib.figure.Figure at 0x11cdec050>"
      ]
     },
     "metadata": {},
     "output_type": "display_data"
    }
   ],
   "source": [
    "W = gdtf8(X, y, n_epochs=100, batch_size = 10)\n",
    "W\n",
    "plt.plot(y, '.')\n",
    "plt.plot(np.matmul(X,W))\n",
    "plt.ylim(-10,10)"
   ]
  },
  {
   "cell_type": "markdown",
   "metadata": {
    "collapsed": true
   },
   "source": [
    "## Regressor Logístico"
   ]
  },
  {
   "cell_type": "markdown",
   "metadata": {},
   "source": [
    "Desta vez, vamos usar um regressor logístico, ou seja, nosso estimador vai usar como função de ativação a função sigmoid. Nosso interesse nesses regressores é o fato de que eles podem ser usados para modelar neurônios:\n",
    "\n",
    "* Entradas $X$ do regressor corrspondem aos sinais recebidos de outros neurônios, via sinapses através dos dentritos;\n",
    "* Pesos $\\bf{w}$ correspondem à permeabilidade elétrica dos dentritos, ou seja, a importância da conexcão com cada neurônio particular na entrada;\n",
    "* A saída no fim dos axônios corresponde à estimativa $\\sigma(X \\bf{w})$, com $\\sigma$ indicando uma função sigmoid.\n",
    "\n",
    "Vamos observar a função sigmoid e sua derivada."
   ]
  },
  {
   "cell_type": "code",
   "execution_count": 104,
   "metadata": {
    "collapsed": true
   },
   "outputs": [],
   "source": [
    "import tensorflow as tf\n",
    "import numpy as np\n",
    "import matplotlib.pyplot as plt\n",
    "%matplotlib inline\n",
    "\n",
    "xis = tf.placeholder(tf.float32, name = 'xis')\n",
    "sigmoid = 1. / (1 + tf.exp(-xis))\n",
    "dsigf = tf.gradients(sigmoid, [xis])[0]"
   ]
  },
  {
   "cell_type": "code",
   "execution_count": 105,
   "metadata": {},
   "outputs": [
    {
     "data": {
      "text/plain": [
       "[<matplotlib.lines.Line2D at 0x11cb0ef50>]"
      ]
     },
     "execution_count": 105,
     "metadata": {},
     "output_type": "execute_result"
    },
    {
     "data": {
      "image/png": "[encoded data removed]",
      "text/plain": [
       "<matplotlib.figure.Figure at 0x11cebf690>"
      ]
     },
     "metadata": {},
     "output_type": "display_data"
    }
   ],
   "source": [
    "xvals = np.linspace(-7, 7, 50)\n",
    "\n",
    "with tf.Session() as s:\n",
    "    sv, dsv = s.run([sigmoid, dsigf], feed_dict = {xis: xvals})\n",
    "\n",
    "plt.plot(sv)\n",
    "plt.plot(dsv)"
   ]
  },
  {
   "cell_type": "markdown",
   "metadata": {},
   "source": [
    "A função sigmoid converte qualquer número para o intervalo 0 a 1. Ela produz gradientes positivos na redondeza de $y$ = 0.5.\n",
    "\n",
    "Ao usar uma sigmoid, o problema de regressão pode ser visto como um problema de classificação, já que um valor entre 0 a 1 pode ser interpretado como uma probabilidade, a probabilidade da entrada corresponder a uma certa classe.\n",
    "\n",
    "Para vermos como lidamos com um problema de classificação usando regressores logísticos, vamos usar a coleção Irís. Nesta coleção, o objetivo é classificar uma flor representada por 4 atributos (largura e comprimento da pétala, largura e comprimento do sepal) em 3 classes que correspondem à espécie da flor (_setosa_, _versicolor_ e _virginica_)."
   ]
  },
  {
   "cell_type": "code",
   "execution_count": 106,
   "metadata": {
    "collapsed": true
   },
   "outputs": [],
   "source": [
    "import pandas as pd\n",
    "from sklearn.datasets import load_iris\n",
    "from sklearn.model_selection import train_test_split"
   ]
  },
  {
   "cell_type": "code",
   "execution_count": 107,
   "metadata": {
    "collapsed": true
   },
   "outputs": [],
   "source": [
    "iris = load_iris()"
   ]
  },
  {
   "cell_type": "markdown",
   "metadata": {},
   "source": [
    "Aquie temos um exemplo de 5 flores representadas por 4 atributos (largura e comprimento da pétala, largura e comprimento do sepal):"
   ]
  },
  {
   "cell_type": "code",
   "execution_count": 108,
   "metadata": {},
   "outputs": [
    {
     "data": {
      "text/plain": [
       "array([[5.1, 3.5, 1.4, 0.2],\n",
       "       [4.9, 3. , 1.4, 0.2],\n",
       "       [4.7, 3.2, 1.3, 0.2],\n",
       "       [4.6, 3.1, 1.5, 0.2],\n",
       "       [5. , 3.6, 1.4, 0.2]])"
      ]
     },
     "execution_count": 108,
     "metadata": {},
     "output_type": "execute_result"
    }
   ],
   "source": [
    "iris['data'][:5]"
   ]
  },
  {
   "cell_type": "markdown",
   "metadata": {},
   "source": [
    "A seguir a classe dessas 5 instâncias: 0, que eu acho que é _setosa_."
   ]
  },
  {
   "cell_type": "code",
   "execution_count": 109,
   "metadata": {},
   "outputs": [
    {
     "data": {
      "text/plain": [
       "array([0, 0, 0, 0, 0])"
      ]
     },
     "execution_count": 109,
     "metadata": {},
     "output_type": "execute_result"
    }
   ],
   "source": [
    "iris['target'][:5]"
   ]
  },
  {
   "cell_type": "markdown",
   "metadata": {},
   "source": [
    "Para o problema ser resolvido, vamos precisar de um modelo de regressão para cada classe. Assim, para um problema de $t$ = 3 classes, precisamos ter três valores reais, um para cada regressor. Desta forma, os valores reais serão definidos como vetores de tamanho $t$. "
   ]
  },
  {
   "cell_type": "code",
   "execution_count": 110,
   "metadata": {
    "collapsed": true
   },
   "outputs": [],
   "source": [
    "iris_X, iris_y = iris['data'], iris['target']\n",
    "# obtem hot-vectors associados com target\n",
    "iris_y = pd.get_dummies(iris_y).values "
   ]
  },
  {
   "cell_type": "code",
   "execution_count": 111,
   "metadata": {},
   "outputs": [
    {
     "data": {
      "text/plain": [
       "array([[1, 0, 0],\n",
       "       [1, 0, 0],\n",
       "       [1, 0, 0],\n",
       "       [1, 0, 0],\n",
       "       [1, 0, 0]], dtype=uint8)"
      ]
     },
     "execution_count": 111,
     "metadata": {},
     "output_type": "execute_result"
    }
   ],
   "source": [
    "iris_y[:5]"
   ]
  },
  {
   "cell_type": "markdown",
   "metadata": {},
   "source": [
    "Como antes, vamos normalizar a entrada:"
   ]
  },
  {
   "cell_type": "code",
   "execution_count": 112,
   "metadata": {},
   "outputs": [
    {
     "data": {
      "text/plain": [
       "array([[-0.90068117,  1.03205722, -1.3412724 , -1.31297673],\n",
       "       [-1.14301691, -0.1249576 , -1.3412724 , -1.31297673],\n",
       "       [-1.38535265,  0.33784833, -1.39813811, -1.31297673],\n",
       "       [-1.50652052,  0.10644536, -1.2844067 , -1.31297673],\n",
       "       [-1.02184904,  1.26346019, -1.3412724 , -1.31297673]])"
      ]
     },
     "execution_count": 112,
     "metadata": {},
     "output_type": "execute_result"
    }
   ],
   "source": [
    "iris_X = (iris_X - np.mean(iris_X, axis = 0)) / np.std(iris_X, axis = 0)\n",
    "iris_X[:5]"
   ]
  },
  {
   "cell_type": "markdown",
   "metadata": {},
   "source": [
    "Finalmente, podemos dividir a coleção em treino e teste."
   ]
  },
  {
   "cell_type": "code",
   "execution_count": 113,
   "metadata": {
    "collapsed": true
   },
   "outputs": [],
   "source": [
    "# separa treino e teste\n",
    "trainX, testX, trainY, testY = train_test_split(iris_X, \n",
    "                                                iris_y, \n",
    "                                                test_size=0.33, \n",
    "                                                random_state=42)"
   ]
  },
  {
   "cell_type": "markdown",
   "metadata": {},
   "source": [
    "Antes de escrever o código completo do regressor, lembre que temos que incorporar os biases no peso. Fazemos isso incorporando um vetor de 1's na entrada. "
   ]
  },
  {
   "cell_type": "code",
   "execution_count": 116,
   "metadata": {},
   "outputs": [
    {
     "data": {
      "text/plain": [
       "array([[ 1.        , -0.90068117,  1.03205722, -1.3412724 , -1.31297673],\n",
       "       [ 1.        , -1.14301691, -0.1249576 , -1.3412724 , -1.31297673],\n",
       "       [ 1.        , -1.38535265,  0.33784833, -1.39813811, -1.31297673],\n",
       "       [ 1.        , -1.50652052,  0.10644536, -1.2844067 , -1.31297673],\n",
       "       [ 1.        , -1.02184904,  1.26346019, -1.3412724 , -1.31297673]])"
      ]
     },
     "execution_count": 116,
     "metadata": {},
     "output_type": "execute_result"
    }
   ],
   "source": [
    "np.hstack((np.ones((iris_X.shape[0], 1)), iris_X))[:5]"
   ]
  },
  {
   "cell_type": "markdown",
   "metadata": {},
   "source": [
    "Contudo, desta vez, vamos fazer isso dentro do código, como abaixo: "
   ]
  },
  {
   "cell_type": "code",
   "execution_count": 118,
   "metadata": {
    "collapsed": true
   },
   "outputs": [],
   "source": [
    "# codigo mais simples -- mudando o gdtf3\n",
    "def gdlog_tf(X, Y, n_epochs = 100, lrating = 0.1):\n",
    "    # supoe que bias nao foi incorporado -- entao coloca\n",
    "    X = np.hstack((np.ones((X.shape[0], 1)), X))\n",
    "    \n",
    "    m, n = X.shape\n",
    "    _, t = Y.shape # number of targets\n",
    "    \n",
    "    X = tf.constant(X, dtype = tf.float32, name = \"X\")\n",
    "    Y = tf.constant(Y, dtype = tf.float32, name = \"Y\")\n",
    "    W = tf.Variable(tf.random_uniform([n, t], -1.0, 1.0), name = \"W\")\n",
    "    \n",
    "    Yhat = tf.nn.sigmoid(tf.matmul(X, W, name = \"predictions\"))\n",
    "    #loss = tf.reduce_mean(tf.square(Yhat - Y), name = \"loss\")\n",
    "    loss = tf.nn.l2_loss(Yhat - Y, name=\"squared_error_cost\")\n",
    "    \n",
    "    otimizador = tf.train.GradientDescentOptimizer(learning_rate = lrating)\n",
    "    training = otimizador.minimize(loss)\n",
    "    \n",
    "    init = tf.global_variables_initializer()\n",
    "    with tf.Session() as s:\n",
    "        s.run(init)\n",
    "        for e in range(n_epochs):\n",
    "            _, W_e, loss_e = s.run([training, W, loss])\n",
    "            if e%200==0:\n",
    "                print(loss_e)\n",
    "    return W_e"
   ]
  },
  {
   "cell_type": "markdown",
   "metadata": {},
   "source": [
    "Para testarmos, vamos inicialmente treinar o modelo:"
   ]
  },
  {
   "cell_type": "code",
   "execution_count": 119,
   "metadata": {
    "scrolled": true
   },
   "outputs": [
    {
     "name": "stdout",
     "output_type": "stream",
     "text": [
      "43.43606\n",
      "9.169531\n",
      "8.966011\n",
      "8.880617\n",
      "8.829628\n",
      "8.793635\n",
      "8.765783\n",
      "8.742992\n",
      "8.7236595\n",
      "8.706848\n",
      "8.691965\n",
      "8.678612\n",
      "8.666512\n",
      "8.655457\n",
      "8.645292\n"
     ]
    },
    {
     "data": {
      "text/plain": [
       "array([[ -3.3681686 ,  -0.98799825, -12.293435  ],\n",
       "       [ -1.4539216 ,  -0.63682365,  -1.0998359 ],\n",
       "       [  2.3290973 ,  -1.2274275 ,  -2.207225  ],\n",
       "       [ -3.7362854 ,   2.9432406 ,   8.545131  ],\n",
       "       [ -2.4952924 ,  -2.3676448 ,   9.395024  ]], dtype=float32)"
      ]
     },
     "execution_count": 119,
     "metadata": {},
     "output_type": "execute_result"
    }
   ],
   "source": [
    "W = gdlog_tf(trainX, trainY, n_epochs=3000)\n",
    "W"
   ]
  },
  {
   "cell_type": "markdown",
   "metadata": {},
   "source": [
    "E obter previsões com o mesmo, usando o conjunto de teste:"
   ]
  },
  {
   "cell_type": "code",
   "execution_count": 120,
   "metadata": {
    "collapsed": true
   },
   "outputs": [],
   "source": [
    "def get_pred(W, testX):\n",
    "    # get test predictions\n",
    "    sigmoid = lambda x: 1. / (1. + np.exp(-x))\n",
    "    return sigmoid(np.matmul(testX, W))"
   ]
  },
  {
   "cell_type": "markdown",
   "metadata": {},
   "source": [
    "Para avaliarmos o que foi feito, precisamos incorporar o bias na entrada e contar quantos casos foram classificados corretamente:"
   ]
  },
  {
   "cell_type": "code",
   "execution_count": 121,
   "metadata": {
    "collapsed": true
   },
   "outputs": [],
   "source": [
    "# incorporate bias to test\n",
    "Xt = np.hstack((np.ones((testX.shape[0], 1)), testX))"
   ]
  },
  {
   "cell_type": "code",
   "execution_count": 122,
   "metadata": {
    "collapsed": true
   },
   "outputs": [],
   "source": [
    "def evaluate(pred, testY):\n",
    "    # calculate accuracy\n",
    "    acc = float(sum(np.equal(np.argmax(pred, 1), np.argmax(testY, 1))))/len(pred)\n",
    "    return acc"
   ]
  },
  {
   "cell_type": "code",
   "execution_count": 123,
   "metadata": {},
   "outputs": [
    {
     "data": {
      "text/plain": [
       "0.98"
      ]
     },
     "execution_count": 123,
     "metadata": {},
     "output_type": "execute_result"
    }
   ],
   "source": [
    "evaluate(get_pred(W, Xt), testY)"
   ]
  },
  {
   "cell_type": "markdown",
   "metadata": {},
   "source": [
    "Note que podemos modificar um pouco a estratégia de avaliação para tratar as saídas do regressor como uma probabilidade normalizada. Desta forma, podemos ver quanta dúvida ele teve em cada flor."
   ]
  },
  {
   "cell_type": "code",
   "execution_count": 127,
   "metadata": {},
   "outputs": [
    {
     "name": "stdout",
     "output_type": "stream",
     "text": [
      "P: 0.00 1.00 0.00  R: 0 1 0\n",
      "P: 0.98 0.02 0.00  R: 1 0 0\n",
      "P: 0.00 0.40 0.60  R: 0 0 1\n",
      "P: 0.00 0.97 0.03  R: 0 1 0\n",
      "P: 0.00 0.98 0.02  R: 0 1 0\n"
     ]
    }
   ],
   "source": [
    "pred = get_pred(W, Xt)\n",
    "# normalize cada linha entre 0 e 1 --> softmax, ou seja, sigmoids normalizadas\n",
    "pred = np.divide(pred, np.reshape(np.sum(pred, axis = 1), (-1, 1)))\n",
    "for i in range(5):\n",
    "    print('P: %.2f %.2f %.2f  R: %d %d %d'%(pred[i, 0], pred[i, 1], pred[i, 2], \n",
    "                                     testY[i, 0], testY[i, 1], testY[i, 2]))"
   ]
  },
  {
   "cell_type": "markdown",
   "metadata": {},
   "source": [
    "No exemplo acima, note que houve bastante dúvida na classificação da 3a flor, entre as classes 1 (40%) e 2 (60%). Ele corretamente escolher a classe 2. Se modificarmos nossa função de estimativa para incorporar esta normalização, temos a função softmax:"
   ]
  },
  {
   "cell_type": "code",
   "execution_count": 128,
   "metadata": {
    "collapsed": true
   },
   "outputs": [],
   "source": [
    "def softmax(W, testX):\n",
    "    # get test predictions\n",
    "    sigmoid = lambda x: 1. / (1. + np.exp(-x))\n",
    "    pred = sigmoid(np.matmul(Xt, W))\n",
    "    return np.divide(pred, np.reshape(np.sum(pred, axis = 1), (-1, 1)))"
   ]
  },
  {
   "cell_type": "code",
   "execution_count": 129,
   "metadata": {},
   "outputs": [
    {
     "data": {
      "text/plain": [
       "0.98"
      ]
     },
     "execution_count": 129,
     "metadata": {},
     "output_type": "execute_result"
    }
   ],
   "source": [
    "evaluate(softmax(W, Xt), testY)"
   ]
  },
  {
   "cell_type": "markdown",
   "metadata": {},
   "source": [
    "E acabamos de implementar nossa primeira rede neural!"
   ]
  }
 ],
 "metadata": {
  "kernelspec": {
   "display_name": "Python 2",
   "language": "python",
   "name": "python2"
  },
  "language_info": {
   "codemirror_mode": {
    "name": "ipython",
    "version": 2
   },
   "file_extension": ".py",
   "mimetype": "text/x-python",
   "name": "python",
   "nbconvert_exporter": "python",
   "pygments_lexer": "ipython2",
   "version": "2.7.10"
  }
 },
 "nbformat": 4,
 "nbformat_minor": 1
}
