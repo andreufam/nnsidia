{
 "cells": [
  {
   "cell_type": "code",
   "execution_count": 1,
   "metadata": {},
   "outputs": [
    {
     "name": "stderr",
     "output_type": "stream",
     "text": [
      "/Users/marcocristo/Library/Enthought/Canopy_64bit/User/lib/python2.7/site-packages/matplotlib/font_manager.py:273: UserWarning: Matplotlib is building the font cache using fc-list. This may take a moment.\n",
      "  warnings.warn('Matplotlib is building the font cache using fc-list. This may take a moment.')\n"
     ]
    }
   ],
   "source": [
    "import tensorflow as tf\n",
    "import numpy as np\n",
    "import matplotlib.pyplot as plt\n",
    "\n",
    "%matplotlib inline\n",
    "\n",
    "from tensorflow.examples.tutorials.mnist import input_data"
   ]
  },
  {
   "cell_type": "code",
   "execution_count": 2,
   "metadata": {},
   "outputs": [
    {
     "name": "stdout",
     "output_type": "stream",
     "text": [
      "Extracting data/MNIST_data/train-images-idx3-ubyte.gz\n",
      "Extracting data/MNIST_data/train-labels-idx1-ubyte.gz\n",
      "Extracting data/MNIST_data/t10k-images-idx3-ubyte.gz\n",
      "Extracting data/MNIST_data/t10k-labels-idx1-ubyte.gz\n"
     ]
    }
   ],
   "source": [
    "mnist = input_data.read_data_sets('data/MNIST_data')"
   ]
  },
  {
   "cell_type": "code",
   "execution_count": 3,
   "metadata": {},
   "outputs": [
    {
     "name": "stdout",
     "output_type": "stream",
     "text": [
      "55000\n",
      "10000\n",
      "5000\n"
     ]
    }
   ],
   "source": [
    "print mnist.train.num_examples\n",
    "print mnist.test.num_examples\n",
    "print mnist.validation.num_examples"
   ]
  },
  {
   "cell_type": "code",
   "execution_count": 17,
   "metadata": {},
   "outputs": [
    {
     "data": {
      "text/plain": [
       "8"
      ]
     },
     "execution_count": 17,
     "metadata": {},
     "output_type": "execute_result"
    },
    {
     "data": {
      "image/png": "[encoded data removed]",
      "text/plain": [
       "<matplotlib.figure.Figure at 0x113e9bf10>"
      ]
     },
     "metadata": {},
     "output_type": "display_data"
    }
   ],
   "source": [
    "import random\n",
    "\n",
    "idx = random.randint(0, mnist.train.num_examples)\n",
    "plt.matshow(mnist.train.images[idx].reshape((28,28)), cmap = 'gray')\n",
    "mnist.train.labels[idx]"
   ]
  },
  {
   "cell_type": "code",
   "execution_count": 36,
   "metadata": {
    "collapsed": true
   },
   "outputs": [],
   "source": [
    "class Activation(object):\n",
    "    \"\"\"Funcao de ativacao\"\"\"\n",
    "    def __init__(self, name):\n",
    "        self.name = name\n",
    "        \n",
    "    def init(self, n_inputs, n_outputs):\n",
    "        return tf.random_uniform([n_inputs, n_outputs], -1.0, 1.0)\n",
    "        \n",
    "    def fire(self, ypred):\n",
    "        if self.name == 'sigmoid':\n",
    "            return tf.nn.sigmoid(ypred) \n",
    "        else:\n",
    "            return ypred\n",
    "            \n",
    "class Layer(object):\n",
    "    \"\"\"Camada de rede neural sequencial\"\"\"\n",
    "    def __init__(self, units, activation = None, name = None):\n",
    "        self.units = units\n",
    "        self.name = name \n",
    "        self.activation = activation if activation != None else Activation('')\n",
    "        \n",
    "    def output(self, X):\n",
    "        n_inputs = int(X.get_shape()[1])\n",
    "        with tf.name_scope(self.name):\n",
    "            self.W = tf.Variable(self.activation.init(n_inputs, self.units), name = 'W')\n",
    "            self.b = tf.Variable(tf.zeros([self.units]), name = 'b')\n",
    "            ypred = self.activation.fire(tf.matmul(X, self.W) + self.b)\n",
    "        return ypred\n",
    "\n",
    "class LossFunction(object):\n",
    "    def __init__(self, name = 'sigmoid'):\n",
    "        self.name = name\n",
    "\n",
    "    def get(self, yreal, ypred):\n",
    "        if self.name == 'sigmoid':\n",
    "            loss = tf.nn.sparse_softmax_cross_entropy_with_logits(\n",
    "                labels = yreal, logits = ypred) \n",
    "        return tf.reduce_mean(loss, name = 'lossf')\n",
    "    \n",
    "class Optimizer(object):\n",
    "    def __init__(self, name = 'sgd', lrate = 0.1):\n",
    "        self.name = name\n",
    "        self.lrate = lrate\n",
    "\n",
    "    def get(self, lossf):\n",
    "        if self.name == 'sgd':\n",
    "            opt = tf.train.GradientDescentOptimizer(learning_rate = self.lrate) \n",
    "        return opt.minimize(lossf)\n",
    "    \n",
    "class FeedforwardNeuralNet(object):\n",
    "    \"\"\"Rede neural sequencial\"\"\"\n",
    "    def __init__(self, input_dim, lrate = 0.1):\n",
    "        self.input_dim = input_dim\n",
    "        self.lrate = lrate\n",
    "        self.layers = []\n",
    "        \n",
    "    def add(self, units, activation = None, name = None):\n",
    "        \"\"\"Adiciona camadas para rede neural\"\"\"\n",
    "        self.layers += [Layer(units, activation, name)]\n",
    "    \n",
    "    def compile(self, loss = 'sigmoid', optimizer = 'sgd'):\n",
    "        \"\"\"Cria grafo da rede neural\"\"\"\n",
    "        self.X = tf.placeholder(tf.float32, \n",
    "                           shape = (None, self.input_dim), \n",
    "                           name = 'X')\n",
    "        self.y = tf.placeholder(tf.int64, shape = (None), name = 'y')\n",
    "        \n",
    "        # cria layers\n",
    "        with tf.name_scope('layers'):\n",
    "            layer_in = self.X\n",
    "            for layer in self.layers:\n",
    "                layer_out = layer.output(layer_in)\n",
    "                layer_in = layer_out\n",
    "                    \n",
    "        # loss function\n",
    "        with tf.name_scope('loss'):\n",
    "            self.lossf = LossFunction(loss).get(self.y, layer_out)\n",
    "    \n",
    "        # optimizer\n",
    "        with tf.name_scope('train'):\n",
    "            self.train_op = Optimizer(optimizer, self.lrate).get(self.lossf)\n",
    "            \n",
    "        # evalution metrics\n",
    "        with tf.name_scope('eval'):\n",
    "            correct = tf.nn.in_top_k(layer_out, self.y, 1)\n",
    "            self.acc = tf.reduce_mean(tf.cast(correct, tf.float32))\n",
    "            \n",
    "        self.init_op = tf.global_variables_initializer()\n",
    "        self.saver = tf.train.Saver()\n",
    "    \n",
    "    def fit(self, train_data, n_epochs, batch_size, val_data = None):\n",
    "        \"\"\"Executa treino da rede neural\"\"\"\n",
    "        num_batches = train_data.num_examples // batch_size\n",
    "        with tf.Session() as s:\n",
    "            s.run(self.init_op)\n",
    "            for e in range(n_epochs):\n",
    "                tloss = 0.\n",
    "                for i in range(num_batches):\n",
    "                    X_b, y_b = train_data.next_batch(batch_size)\n",
    "                    _, loss_e = s.run([self.train_op, self.lossf], \n",
    "                                      feed_dict = {self.X: X_b, self.y: y_b})\n",
    "                    tloss += loss_e\n",
    "                acc_train = s.run(self.acc, \n",
    "                                  feed_dict = {self.X: X_b, self.y: y_b})\n",
    "                if val_data:\n",
    "                    acc_val = s.run(self.acc, \n",
    "                                    feed_dict = {self.X: val_data.images, \n",
    "                                                 self.y: val_data.labels})\n",
    "                    print '%2d loss: %.8f acct: %.3f accv: %.3f' % (e, \n",
    "                                                                    tloss/num_batches, \n",
    "                                                                    acc_train, acc_val)\n",
    "                else:\n",
    "                    print '%2d loss: %.8f acc: %.3f' % (e, tloss/num_batches, acc_train)\n",
    "            self.saver.save(s, '/tmp/model.ckpt')\n",
    "    \n",
    "    def evaluate(self, X_test, y_test):\n",
    "        \"\"\"Avalia rede neural em colecao de teste\"\"\"\n",
    "        with tf.Session() as s:\n",
    "            self.saver.restore(s, '/tmp/model.ckpt')\n",
    "            acc_test = s.run(self.acc, \n",
    "                             feed_dict = {self.X: X_test, self.y: y_test})\n",
    "        return acc_test"
   ]
  },
  {
   "cell_type": "code",
   "execution_count": 37,
   "metadata": {},
   "outputs": [],
   "source": [
    "fnn = FeedforwardNeuralNet(28*28)\n",
    "\n",
    "fnn.add(units = 300, activation = Activation('sigmoid'), name = 'h1')\n",
    "fnn.add(units = 100, activation = Activation('sigmoid'), name = 'h2')\n",
    "fnn.add(units = 10, name = 'out')\n",
    "\n",
    "fnn.compile()"
   ]
  },
  {
   "cell_type": "code",
   "execution_count": 38,
   "metadata": {},
   "outputs": [
    {
     "name": "stdout",
     "output_type": "stream",
     "text": [
      " 0 loss: 0.77025737 acct: 0.860 accv: 0.875\n",
      " 1 loss: 0.37998930 acct: 0.880 accv: 0.903\n",
      " 2 loss: 0.30695872 acct: 0.940 accv: 0.914\n",
      " 3 loss: 0.26576621 acct: 0.920 accv: 0.924\n",
      " 4 loss: 0.23772365 acct: 0.920 accv: 0.931\n",
      " 5 loss: 0.21611309 acct: 0.960 accv: 0.934\n",
      " 6 loss: 0.19817895 acct: 0.940 accv: 0.937\n",
      " 7 loss: 0.18322160 acct: 0.920 accv: 0.940\n",
      " 8 loss: 0.17041204 acct: 0.980 accv: 0.941\n",
      " 9 loss: 0.15935269 acct: 0.980 accv: 0.943\n"
     ]
    }
   ],
   "source": [
    "fnn.fit(mnist.train, n_epochs = 10, batch_size = 50, val_data = mnist.validation)"
   ]
  },
  {
   "cell_type": "code",
   "execution_count": 39,
   "metadata": {},
   "outputs": [
    {
     "name": "stdout",
     "output_type": "stream",
     "text": [
      "INFO:tensorflow:Restoring parameters from /tmp/model.ckpt\n"
     ]
    },
    {
     "data": {
      "text/plain": [
       "0.93959999"
      ]
     },
     "execution_count": 39,
     "metadata": {},
     "output_type": "execute_result"
    }
   ],
   "source": [
    "fnn.evaluate(mnist.test.images, mnist.test.labels)"
   ]
  },
  {
   "cell_type": "code",
   "execution_count": 27,
   "metadata": {
    "collapsed": true
   },
   "outputs": [],
   "source": [
    "fnn = FeedforwardNeuralNet(28*28)\n",
    "\n",
    "fnn.add(units = 300, activation = Activation('sigmoid'), name = 'h1')\n",
    "fnn.add(units = 200, activation = Activation('sigmoid'), name = 'h2')\n",
    "fnn.add(units = 100, activation = Activation('sigmoid'), name = 'h3')\n",
    "fnn.add(units = 10, name = 'out')\n",
    "\n",
    "fnn.compile()"
   ]
  },
  {
   "cell_type": "code",
   "execution_count": 28,
   "metadata": {},
   "outputs": [
    {
     "name": "stdout",
     "output_type": "stream",
     "text": [
      " 0 loss: 0.76557712 acc: 0.86\n",
      " 1 loss: 0.36817659 acc: 0.92\n",
      " 2 loss: 0.29207661 acc: 0.94\n",
      " 3 loss: 0.25025942 acc: 0.92\n",
      " 4 loss: 0.21961834 acc: 0.98\n",
      " 5 loss: 0.19711604 acc: 1.00\n",
      " 6 loss: 0.17888542 acc: 0.98\n",
      " 7 loss: 0.16398811 acc: 0.98\n",
      " 8 loss: 0.15184093 acc: 0.98\n",
      " 9 loss: 0.13996185 acc: 1.00\n"
     ]
    }
   ],
   "source": [
    "fnn.fit(mnist.train, n_epochs = 10, batch_size = 50)"
   ]
  },
  {
   "cell_type": "code",
   "execution_count": 29,
   "metadata": {},
   "outputs": [
    {
     "name": "stdout",
     "output_type": "stream",
     "text": [
      "INFO:tensorflow:Restoring parameters from /tmp/model.ckpt\n"
     ]
    },
    {
     "data": {
      "text/plain": [
       "0.94169998"
      ]
     },
     "execution_count": 29,
     "metadata": {},
     "output_type": "execute_result"
    }
   ],
   "source": [
    "fnn.evaluate(mnist.test.images, mnist.test.labels)"
   ]
  },
  {
   "cell_type": "code",
   "execution_count": 42,
   "metadata": {
    "collapsed": true
   },
   "outputs": [],
   "source": [
    "class Activation(object):\n",
    "    \"\"\"Funcao de ativacao\"\"\"\n",
    "    def __init__(self, name):\n",
    "        self.name = name\n",
    "        \n",
    "    def init(self, n_inputs, n_outputs):\n",
    "        if self.name == 'sigmoid':\n",
    "            s = np.sqrt(2. / (n_inputs + n_outputs))\n",
    "            return tf.truncated_normal([n_inputs, n_outputs], stddev = s)\n",
    "        elif self.name == 'relu':\n",
    "            s = 2. / np.sqrt(n_inputs + n_outputs)\n",
    "            return tf.truncated_normal([n_inputs, n_outputs], stddev = s)\n",
    "        else:\n",
    "            return tf.random_uniform([n_inputs, n_outputs], -1.0, 1.0)\n",
    "        \n",
    "    def fire(self, ypred):\n",
    "        if self.name == 'sigmoid':\n",
    "            return tf.nn.sigmoid(ypred) \n",
    "        if self.name == 'relu':\n",
    "            return tf.nn.relu(ypred) \n",
    "        else:\n",
    "            return ypred\n",
    "            "
   ]
  },
  {
   "cell_type": "code",
   "execution_count": 43,
   "metadata": {},
   "outputs": [],
   "source": [
    "fnn = FeedforwardNeuralNet(28*28)\n",
    "\n",
    "fnn.add(units = 300, activation = Activation('sigmoid'), name = 'h1')\n",
    "fnn.add(units = 100, activation = Activation('sigmoid'), name = 'h2')\n",
    "fnn.add(units = 10, name = 'out')\n",
    "\n",
    "fnn.compile()"
   ]
  },
  {
   "cell_type": "code",
   "execution_count": 44,
   "metadata": {},
   "outputs": [
    {
     "name": "stdout",
     "output_type": "stream",
     "text": [
      " 0 loss: 0.62783600 acct: 0.840 accv: 0.895\n",
      " 1 loss: 0.33086230 acct: 0.920 accv: 0.916\n",
      " 2 loss: 0.29454604 acct: 0.960 accv: 0.923\n",
      " 3 loss: 0.27100554 acct: 0.980 accv: 0.928\n",
      " 4 loss: 0.25092946 acct: 0.900 accv: 0.934\n",
      " 5 loss: 0.23226798 acct: 0.900 accv: 0.936\n",
      " 6 loss: 0.21414431 acct: 0.900 accv: 0.941\n",
      " 7 loss: 0.19933033 acct: 1.000 accv: 0.946\n",
      " 8 loss: 0.18506786 acct: 1.000 accv: 0.953\n",
      " 9 loss: 0.17238688 acct: 0.920 accv: 0.955\n"
     ]
    }
   ],
   "source": [
    "fnn.fit(mnist.train, n_epochs = 10, batch_size = 50, val_data = mnist.validation)"
   ]
  },
  {
   "cell_type": "code",
   "execution_count": 45,
   "metadata": {},
   "outputs": [
    {
     "name": "stdout",
     "output_type": "stream",
     "text": [
      "INFO:tensorflow:Restoring parameters from /tmp/model.ckpt\n"
     ]
    },
    {
     "data": {
      "text/plain": [
       "0.94910002"
      ]
     },
     "execution_count": 45,
     "metadata": {},
     "output_type": "execute_result"
    }
   ],
   "source": [
    "fnn.evaluate(mnist.test.images, mnist.test.labels)"
   ]
  },
  {
   "cell_type": "code",
   "execution_count": 46,
   "metadata": {
    "collapsed": true
   },
   "outputs": [],
   "source": [
    "fnn = FeedforwardNeuralNet(28*28)\n",
    "\n",
    "fnn.add(units = 300, activation = Activation('relu'), name = 'h1')\n",
    "fnn.add(units = 100, activation = Activation('relu'), name = 'h2')\n",
    "fnn.add(units = 10, name = 'out')\n",
    "\n",
    "fnn.compile()"
   ]
  },
  {
   "cell_type": "code",
   "execution_count": 47,
   "metadata": {},
   "outputs": [
    {
     "name": "stdout",
     "output_type": "stream",
     "text": [
      " 0 loss: 0.24517504 acct: 1.000 accv: 0.967\n",
      " 1 loss: 0.09659583 acct: 1.000 accv: 0.969\n",
      " 2 loss: 0.06378422 acct: 1.000 accv: 0.977\n",
      " 3 loss: 0.04435909 acct: 1.000 accv: 0.981\n",
      " 4 loss: 0.03208611 acct: 1.000 accv: 0.980\n",
      " 5 loss: 0.02318602 acct: 1.000 accv: 0.981\n",
      " 6 loss: 0.01515691 acct: 1.000 accv: 0.980\n",
      " 7 loss: 0.01097729 acct: 1.000 accv: 0.982\n",
      " 8 loss: 0.00765493 acct: 1.000 accv: 0.983\n",
      " 9 loss: 0.00577094 acct: 1.000 accv: 0.982\n"
     ]
    }
   ],
   "source": [
    "fnn.fit(mnist.train, n_epochs = 10, batch_size = 50, val_data = mnist.validation)"
   ]
  },
  {
   "cell_type": "code",
   "execution_count": 48,
   "metadata": {},
   "outputs": [
    {
     "name": "stdout",
     "output_type": "stream",
     "text": [
      "INFO:tensorflow:Restoring parameters from /tmp/model.ckpt\n"
     ]
    },
    {
     "data": {
      "text/plain": [
       "0.97909999"
      ]
     },
     "execution_count": 48,
     "metadata": {},
     "output_type": "execute_result"
    }
   ],
   "source": [
    "fnn.evaluate(mnist.test.images, mnist.test.labels)"
   ]
  },
  {
   "cell_type": "code",
   "execution_count": 49,
   "metadata": {
    "collapsed": true
   },
   "outputs": [],
   "source": [
    "class Activation(object):\n",
    "    \"\"\"Funcao de ativacao\"\"\"\n",
    "    def __init__(self, name):\n",
    "        self.name = name\n",
    "        \n",
    "    def init(self, n_inputs, n_outputs):\n",
    "        if self.name == 'sigmoid':\n",
    "            s = np.sqrt(2. / (n_inputs + n_outputs))\n",
    "            return tf.truncated_normal([n_inputs, n_outputs], stddev = s)\n",
    "        elif self.name == 'relu' or self.name == 'elu':\n",
    "            s = 2. / np.sqrt(n_inputs + n_outputs)\n",
    "            return tf.truncated_normal([n_inputs, n_outputs], stddev = s)\n",
    "        else:\n",
    "            return tf.random_uniform([n_inputs, n_outputs], -1.0, 1.0)\n",
    "        \n",
    "    def fire(self, ypred):\n",
    "        if self.name == 'sigmoid':\n",
    "            return tf.nn.sigmoid(ypred) \n",
    "        if self.name == 'relu':\n",
    "            return tf.nn.relu(ypred) \n",
    "        if self.name == 'elu':\n",
    "            return tf.nn.elu(ypred) \n",
    "        else:\n",
    "            return ypred"
   ]
  },
  {
   "cell_type": "code",
   "execution_count": 53,
   "metadata": {
    "collapsed": true
   },
   "outputs": [],
   "source": [
    "fnn = FeedforwardNeuralNet(28*28)\n",
    "\n",
    "fnn.add(units = 300, activation = Activation('elu'), name = 'h1')\n",
    "fnn.add(units = 100, activation = Activation('elu'), name = 'h2')\n",
    "fnn.add(units = 10, name = 'out')\n",
    "\n",
    "fnn.compile()"
   ]
  },
  {
   "cell_type": "code",
   "execution_count": 54,
   "metadata": {},
   "outputs": [
    {
     "name": "stdout",
     "output_type": "stream",
     "text": [
      " 0 loss: 0.52349476 acct: 1.000 accv: 0.963\n",
      " 1 loss: 0.12870802 acct: 1.000 accv: 0.963\n",
      " 2 loss: 0.09524252 acct: 1.000 accv: 0.975\n",
      " 3 loss: 0.07248327 acct: 1.000 accv: 0.976\n",
      " 4 loss: 0.05930154 acct: 1.000 accv: 0.978\n",
      " 5 loss: 0.04735885 acct: 1.000 accv: 0.976\n",
      " 6 loss: 0.03949537 acct: 1.000 accv: 0.977\n",
      " 7 loss: 0.03221011 acct: 1.000 accv: 0.979\n",
      " 8 loss: 0.02663012 acct: 1.000 accv: 0.981\n",
      " 9 loss: 0.02204738 acct: 1.000 accv: 0.980\n"
     ]
    }
   ],
   "source": [
    "fnn.fit(mnist.train, n_epochs = 10, batch_size = 50, val_data = mnist.validation)"
   ]
  },
  {
   "cell_type": "code",
   "execution_count": 55,
   "metadata": {},
   "outputs": [
    {
     "name": "stdout",
     "output_type": "stream",
     "text": [
      "INFO:tensorflow:Restoring parameters from /tmp/model.ckpt\n"
     ]
    },
    {
     "data": {
      "text/plain": [
       "0.9781"
      ]
     },
     "execution_count": 55,
     "metadata": {},
     "output_type": "execute_result"
    }
   ],
   "source": [
    "fnn.evaluate(mnist.test.images, mnist.test.labels)"
   ]
  },
  {
   "cell_type": "code",
   "execution_count": 56,
   "metadata": {
    "collapsed": true
   },
   "outputs": [],
   "source": [
    "class Activation(object):\n",
    "    \"\"\"Funcao de ativacao\"\"\"\n",
    "    def __init__(self, name):\n",
    "        self.name = name\n",
    "        \n",
    "    def init(self, n_inputs, n_outputs):\n",
    "        if self.name == 'selu':\n",
    "            return tf.truncated_normal([n_inputs, n_outputs], \n",
    "                                       stddev = np.sqrt(1./n_inputs))\n",
    "        elif self.name == 'sigmoid':\n",
    "            s = np.sqrt(2. / (n_inputs + n_outputs))\n",
    "            return tf.truncated_normal([n_inputs, n_outputs], stddev = s)\n",
    "        elif self.name == 'relu' or self.name == 'elu':\n",
    "            s = 2. / np.sqrt(n_inputs + n_outputs)\n",
    "            return tf.truncated_normal([n_inputs, n_outputs], stddev = s)\n",
    "        else:\n",
    "            return tf.random_uniform([n_inputs, n_outputs], -1.0, 1.0)\n",
    "        \n",
    "    def fire(self, ypred):\n",
    "        def selu(z, scale=1.0507009873554804934193349852946,\n",
    "                 alpha=1.6732632423543772848170429916717):\n",
    "            return scale * tf.where(z >= 0.0, z, alpha * tf.nn.elu(z))   \n",
    "        \n",
    "        if self.name == 'sigmoid':\n",
    "            return tf.nn.sigmoid(ypred) \n",
    "        elif self.name == 'relu':\n",
    "            return tf.nn.relu(ypred) \n",
    "        elif self.name == 'elu':\n",
    "            return tf.nn.elu(ypred) \n",
    "        elif self.name == 'selu':\n",
    "            return selu(ypred) \n",
    "        else:\n",
    "            return ypred"
   ]
  },
  {
   "cell_type": "code",
   "execution_count": 66,
   "metadata": {
    "collapsed": true
   },
   "outputs": [],
   "source": [
    "class SNN (FeedforwardNeuralNet):\n",
    "    def __init__(self, input_dim, lrate = 0.1):\n",
    "        FeedforwardNeuralNet.__init__(self, input_dim, lrate)\n",
    "            \n",
    "    def fit(self, train_data, n_epochs, batch_size, val_data = None):\n",
    "        \"\"\"Executa treino da rede neural\"\"\"\n",
    "        self.means = train_data.images.mean(axis=0, keepdims=True)\n",
    "        self.stds = train_data.images.std(axis=0, keepdims=True) + 1e-10\n",
    "        X_val_s = (val_data.images - self.means) / self.stds\n",
    "        \n",
    "        num_batches = train_data.num_examples // batch_size\n",
    "        with tf.Session() as s:\n",
    "            s.run(self.init_op)\n",
    "            for e in range(n_epochs):\n",
    "                tloss = 0.\n",
    "                for i in range(num_batches):\n",
    "                    X_b, y_b = train_data.next_batch(batch_size)\n",
    "                    X_b_s = (X_b - self.means) / self.stds\n",
    "                    _, loss_e = s.run([self.train_op, self.lossf], \n",
    "                                      feed_dict = {self.X: X_b_s, self.y: y_b})\n",
    "                    tloss += loss_e\n",
    "                acc_train = s.run(self.acc, \n",
    "                                  feed_dict = {self.X: X_b_s, self.y: y_b})\n",
    "                if val_data:\n",
    "                    acc_val = s.run(self.acc, \n",
    "                                    feed_dict = {self.X: X_val_s, \n",
    "                                                 self.y: val_data.labels})\n",
    "                    print '%2d loss: %.8f acct: %.3f accv: %.3f' % (e, \n",
    "                                                                    tloss/num_batches, \n",
    "                                                                    acc_train, acc_val)\n",
    "                else:\n",
    "                    print '%2d loss: %.8f acc: %.3f' % (e, tloss/num_batches, acc_train)\n",
    "            self.saver.save(s, '/tmp/model.ckpt')\n",
    "    \n",
    "    def evaluate(self, X_test, y_test):\n",
    "        \"\"\"Avalia rede neural em colecao de teste\"\"\"\n",
    "        with tf.Session() as s:\n",
    "            self.saver.restore(s, '/tmp/model.ckpt')\n",
    "            X_test_s = (X_test - self.means) / self.stds\n",
    "            acc_test = s.run(self.acc, \n",
    "                             feed_dict = {self.X: X_test_s, self.y: y_test})\n",
    "        return acc_test"
   ]
  },
  {
   "cell_type": "code",
   "execution_count": 67,
   "metadata": {
    "collapsed": true
   },
   "outputs": [],
   "source": [
    "snn = SNN(28*28)\n",
    "\n",
    "snn.add(units = 300, activation = Activation('selu'), name = 'h1')\n",
    "snn.add(units = 100, activation = Activation('selu'), name = 'h2')\n",
    "snn.add(units = 10, name = 'out')\n",
    "\n",
    "snn.compile()"
   ]
  },
  {
   "cell_type": "code",
   "execution_count": 69,
   "metadata": {},
   "outputs": [
    {
     "name": "stdout",
     "output_type": "stream",
     "text": [
      " 0 loss: 0.91828956 acct: 1.000 accv: 0.953\n",
      " 1 loss: 0.14386290 acct: 1.000 accv: 0.962\n",
      " 2 loss: 0.07764883 acct: 1.000 accv: 0.971\n",
      " 3 loss: 0.04592241 acct: 1.000 accv: 0.971\n",
      " 4 loss: 0.03387023 acct: 1.000 accv: 0.975\n",
      " 5 loss: 0.02465808 acct: 1.000 accv: 0.973\n",
      " 6 loss: 0.01486253 acct: 1.000 accv: 0.973\n",
      " 7 loss: 0.00968616 acct: 1.000 accv: 0.976\n",
      " 8 loss: 0.00654101 acct: 1.000 accv: 0.976\n",
      " 9 loss: 0.00382789 acct: 1.000 accv: 0.977\n"
     ]
    }
   ],
   "source": [
    "snn.fit(mnist.train, n_epochs = 10, batch_size = 50, val_data = mnist.validation)"
   ]
  },
  {
   "cell_type": "code",
   "execution_count": 70,
   "metadata": {},
   "outputs": [
    {
     "name": "stdout",
     "output_type": "stream",
     "text": [
      "INFO:tensorflow:Restoring parameters from /tmp/model.ckpt\n"
     ]
    },
    {
     "data": {
      "text/plain": [
       "0.97539997"
      ]
     },
     "execution_count": 70,
     "metadata": {},
     "output_type": "execute_result"
    }
   ],
   "source": [
    "snn.evaluate(mnist.test.images, mnist.test.labels)"
   ]
  },
  {
   "cell_type": "code",
   "execution_count": null,
   "metadata": {
    "collapsed": true
   },
   "outputs": [],
   "source": []
  }
 ],
 "metadata": {
  "kernelspec": {
   "display_name": "Python 2",
   "language": "python",
   "name": "python2"
  },
  "language_info": {
   "codemirror_mode": {
    "name": "ipython",
    "version": 2
   },
   "file_extension": ".py",
   "mimetype": "text/x-python",
   "name": "python",
   "nbconvert_exporter": "python",
   "pygments_lexer": "ipython2",
   "version": "2.7.10"
  }
 },
 "nbformat": 4,
 "nbformat_minor": 2
}
