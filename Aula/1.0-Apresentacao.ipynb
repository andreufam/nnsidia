{
 "cells": [
  {
   "cell_type": "markdown",
   "metadata": {},
   "source": [
    "# Computação Eficiente"
   ]
  },
  {
   "cell_type": "markdown",
   "metadata": {},
   "source": [
    "Python é linguagem OO pensada como interface para sistemas de computação complexos. Assim, operações aparentemente simples escondem algoritmos sofisticados:"
   ]
  },
  {
   "cell_type": "code",
   "execution_count": null,
   "metadata": {
    "scrolled": true
   },
   "outputs": [],
   "source": [
    "2+1"
   ]
  },
  {
   "cell_type": "code",
   "execution_count": null,
   "metadata": {},
   "outputs": [],
   "source": [
    "type(2)"
   ]
  },
  {
   "cell_type": "code",
   "execution_count": null,
   "metadata": {},
   "outputs": [],
   "source": [
    "(2).__add__(1)"
   ]
  },
  {
   "cell_type": "markdown",
   "metadata": {},
   "source": [
    "_Observação_: use dir() para descobrir os atributos e métodos disponíveis para um objeto."
   ]
  },
  {
   "cell_type": "code",
   "execution_count": null,
   "metadata": {},
   "outputs": [],
   "source": [
    "', '.join(dir(2))"
   ]
  },
  {
   "cell_type": "code",
   "execution_count": null,
   "metadata": {
    "collapsed": true
   },
   "outputs": [],
   "source": [
    "import numpy as np"
   ]
  },
  {
   "cell_type": "code",
   "execution_count": null,
   "metadata": {},
   "outputs": [],
   "source": [
    "v1 = np.random.rand(100)\n",
    "v2 = np.random.rand(100)\n",
    "v3 = v1 + v2\n",
    "print(v3)"
   ]
  },
  {
   "cell_type": "code",
   "execution_count": null,
   "metadata": {
    "collapsed": true
   },
   "outputs": [],
   "source": [
    "m1 = np.random.rand(100, 15)\n",
    "m2 = np.random.rand(15, 110)"
   ]
  },
  {
   "cell_type": "code",
   "execution_count": null,
   "metadata": {
    "collapsed": true
   },
   "outputs": [],
   "source": [
    "def matmul(m1, m2):\n",
    "    r = np.zeros((m1.shape[0], m2.shape[1]))\n",
    "    for i in range(m1.shape[0]):\n",
    "        for j in range(m2.shape[1]):\n",
    "            for k in range(m2.shape[0]):\n",
    "                r[i][j] += m1[i][k] * m2[k][j]\n",
    "    return r"
   ]
  },
  {
   "cell_type": "code",
   "execution_count": null,
   "metadata": {},
   "outputs": [],
   "source": [
    "%timeit matmul(m1, m2)"
   ]
  },
  {
   "cell_type": "code",
   "execution_count": null,
   "metadata": {
    "scrolled": false
   },
   "outputs": [],
   "source": [
    "%timeit np.matmul(m1, m2)"
   ]
  },
  {
   "cell_type": "code",
   "execution_count": null,
   "metadata": {},
   "outputs": [],
   "source": [
    "177000/21.4"
   ]
  },
  {
   "cell_type": "markdown",
   "metadata": {},
   "source": [
    "Será que esta diferença de desempenho se deve ao mau uso do Python no primeiro exemplo? Esse ganho de eficiência talvez não exista ao se comparar com o código tivesse sido escrito em C e compilado de forma otimizada. Vamos ver?\n",
    "\n",
    "Comparação de multiplicação de matrizes em Numpy, Python (C-Python) e C\n",
    "\n",
    "<img src=\"images/TLhDi\" alt=\"NumpyVersusC\" style=\"width: 500px;\"/>"
   ]
  },
  {
   "cell_type": "markdown",
   "metadata": {},
   "source": [
    "Por que, na comparação acima, o Numpy foi tão rápido? Mais rápido mesmo que um código puro escrito em C? Basicamente, porque o código em numpy corresponde a versões otimizadas do melhor algotimo (prático) conhecido para o problema, escrito originalmente em Fortran para o BLAS. Abaixo, podemos ver a implementação do algoritmo de Strassen -- $O(n^{2.83})$, usado pelo numpy. Note o detalhe do _loop unrolling_ para acelerar o processamento em um hardware real.\n",
    "\n",
    "```C\n",
    "\n",
    "/*  -- translated by f2c (version 19940927).\n",
    "   You must link the resulting object file with the libraries:\n",
    "\t-lf2c -lm   (in that order)\n",
    "*/\n",
    "\n",
    "#include \"f2c.h\"\n",
    "\n",
    "doublereal sdot_(integer *n, real *sx, integer *incx, real *sy, integer *incy)\n",
    "{\n",
    "\n",
    "\n",
    "    /* System generated locals */\n",
    "    integer i__1;\n",
    "    real ret_val;\n",
    "\n",
    "    /* Local variables */\n",
    "    static integer i, m;\n",
    "    static real stemp;\n",
    "    static integer ix, iy, mp1;\n",
    "\n",
    "\n",
    "/*     forms the dot product of two vectors.   \n",
    "       uses unrolled loops for increments equal to one.   \n",
    "       jack dongarra, linpack, 3/11/78.   \n",
    "       modified 12/3/93, array(1) declarations changed to array(*)   \n",
    "\n",
    "\n",
    "    \n",
    "   Parameter adjustments   \n",
    "       Function Body */\n",
    "#define SY(I) sy[(I)-1]\n",
    "#define SX(I) sx[(I)-1]\n",
    "\n",
    "\n",
    "    stemp = 0.f;\n",
    "    ret_val = 0.f;\n",
    "    if (*n <= 0) {\n",
    "\treturn ret_val;\n",
    "    }\n",
    "    if (*incx == 1 && *incy == 1) {\n",
    "\tgoto L20;\n",
    "    }\n",
    "\n",
    "/*        code for unequal increments or equal increments   \n",
    "            not equal to 1 */\n",
    "\n",
    "    ix = 1;\n",
    "    iy = 1;\n",
    "    if (*incx < 0) {\n",
    "\tix = (-(*n) + 1) * *incx + 1;\n",
    "    }\n",
    "    if (*incy < 0) {\n",
    "\tiy = (-(*n) + 1) * *incy + 1;\n",
    "    }\n",
    "    i__1 = *n;\n",
    "    for (i = 1; i <= *n; ++i) {\n",
    "\tstemp += SX(ix) * SY(iy);\n",
    "\tix += *incx;\n",
    "\tiy += *incy;\n",
    "/* L10: */\n",
    "    }\n",
    "    ret_val = stemp;\n",
    "    return ret_val;\n",
    "\n",
    "/*        code for both increments equal to 1   \n",
    "\n",
    "\n",
    "          clean-up loop */\n",
    "\n",
    "L20:\n",
    "    m = *n % 5;\n",
    "    if (m == 0) {\n",
    "\tgoto L40;\n",
    "    }\n",
    "    i__1 = m;\n",
    "    for (i = 1; i <= m; ++i) {\n",
    "\tstemp += SX(i) * SY(i);\n",
    "/* L30: */\n",
    "    }\n",
    "    if (*n < 5) {\n",
    "\tgoto L60;\n",
    "    }\n",
    "L40:\n",
    "    mp1 = m + 1;\n",
    "    i__1 = *n;\n",
    "    for (i = mp1; i <= *n; i += 5) {\n",
    "\tstemp = stemp + SX(i) * SY(i) + SX(i + 1) * SY(i + 1) + SX(i + 2) * \n",
    "\t\tSY(i + 2) + SX(i + 3) * SY(i + 3) + SX(i + 4) * SY(i + 4);\n",
    "/* L50: */\n",
    "    }\n",
    "L60:\n",
    "    ret_val = stemp;\n",
    "    return ret_val;\n",
    "} /* sdot_ */\n",
    "\n",
    "```"
   ]
  },
  {
   "cell_type": "markdown",
   "metadata": {},
   "source": [
    "### O Tensorflow é o numpy para máquinas vetoriais\n",
    "\n",
    "Contudo, usa uma abordagem estática. Ou seja, o grafo de computação é declarado primeiro e, então, compilado e executado."
   ]
  },
  {
   "cell_type": "code",
   "execution_count": null,
   "metadata": {
    "collapsed": true
   },
   "outputs": [],
   "source": [
    "import tensorflow as tf"
   ]
  },
  {
   "cell_type": "code",
   "execution_count": null,
   "metadata": {
    "collapsed": true
   },
   "outputs": [],
   "source": [
    "t1 = tf.constant(np.random.rand(100, 15), dtype = tf.float32)\n",
    "t2 = tf.constant(np.random.rand(15, 110), dtype = tf.float32)"
   ]
  },
  {
   "cell_type": "code",
   "execution_count": null,
   "metadata": {
    "collapsed": true
   },
   "outputs": [],
   "source": [
    "t3 = tf.matmul(t1, t2)"
   ]
  },
  {
   "cell_type": "code",
   "execution_count": null,
   "metadata": {},
   "outputs": [],
   "source": [
    "t3"
   ]
  },
  {
   "cell_type": "code",
   "execution_count": null,
   "metadata": {
    "scrolled": true
   },
   "outputs": [],
   "source": [
    "with tf.Session() as s:\n",
    "    print(s.run(t3))"
   ]
  },
  {
   "cell_type": "code",
   "execution_count": null,
   "metadata": {
    "collapsed": true
   },
   "outputs": [],
   "source": [
    "def sigmoid(t):\n",
    "    return 1.0 / (1.0 + tf.exp(-t))"
   ]
  },
  {
   "cell_type": "code",
   "execution_count": null,
   "metadata": {
    "collapsed": true
   },
   "outputs": [],
   "source": [
    "t1 = tf.constant(np.random.rand(100, 15), dtype = tf.float32)\n",
    "t2 = tf.constant(np.random.rand(15, 110), dtype = tf.float32)"
   ]
  },
  {
   "cell_type": "code",
   "execution_count": null,
   "metadata": {
    "collapsed": true
   },
   "outputs": [],
   "source": [
    "t1s = sigmoid(t1)"
   ]
  },
  {
   "cell_type": "code",
   "execution_count": null,
   "metadata": {},
   "outputs": [],
   "source": [
    "t1s"
   ]
  },
  {
   "cell_type": "code",
   "execution_count": null,
   "metadata": {},
   "outputs": [],
   "source": [
    "with tf.Session() as s:\n",
    "    print(s.run(t1s))"
   ]
  },
  {
   "cell_type": "code",
   "execution_count": null,
   "metadata": {
    "collapsed": true
   },
   "outputs": [],
   "source": [
    "t1 = tf.placeholder(shape = (100, 15), dtype = tf.float32)\n",
    "t2 = tf.placeholder(shape = (15, 110), dtype = tf.float32)"
   ]
  },
  {
   "cell_type": "code",
   "execution_count": null,
   "metadata": {
    "collapsed": true
   },
   "outputs": [],
   "source": [
    "t3 = tf.matmul(t1, t2)"
   ]
  },
  {
   "cell_type": "code",
   "execution_count": null,
   "metadata": {},
   "outputs": [],
   "source": [
    "t3"
   ]
  },
  {
   "cell_type": "code",
   "execution_count": null,
   "metadata": {
    "scrolled": true
   },
   "outputs": [],
   "source": [
    "with tf.Session() as s:\n",
    "    print(s.run(t3, feed_dict = {t1: m1, t2: m2}))\n",
    "    m1 = 2 * m1\n",
    "    m2 = 3 * m2\n",
    "    print(s.run(t3, feed_dict = {t1: m1, t2: m2}))"
   ]
  },
  {
   "cell_type": "markdown",
   "metadata": {},
   "source": [
    "O problema com essa abordagem é que ela ainda é relativamente baixo nível. Logo, não é produtiva em termos de prototipação. Assim, surge a necessidade de APIs de mais alto nível ainda, como o Keras."
   ]
  }
 ],
 "metadata": {
  "kernelspec": {
   "display_name": "Python 3",
   "language": "python",
   "name": "python3"
  },
  "language_info": {
   "codemirror_mode": {
    "name": "ipython",
    "version": 3
   },
   "file_extension": ".py",
   "mimetype": "text/x-python",
   "name": "python",
   "nbconvert_exporter": "python",
   "pygments_lexer": "ipython3",
   "version": "3.6.3"
  }
 },
 "nbformat": 4,
 "nbformat_minor": 2
}
