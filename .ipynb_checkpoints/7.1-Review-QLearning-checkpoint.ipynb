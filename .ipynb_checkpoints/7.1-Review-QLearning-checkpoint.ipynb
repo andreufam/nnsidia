{
 "cells": [
  {
   "cell_type": "markdown",
   "metadata": {},
   "source": [
    "# QLearning: Aprendizagem por reforço"
   ]
  },
  {
   "cell_type": "markdown",
   "metadata": {},
   "source": [
    "## Básico"
   ]
  },
  {
   "cell_type": "markdown",
   "metadata": {},
   "source": [
    "**Ideia**: Qual o valor/utilidade de uma ação em dado estado?\n",
    "\n",
    "-- _qlearning_ é um algoritmo para aprender recompensas de _longo_ prazo!\n",
    "\n",
    "Para simplificar, suponha que um agente precisa escolher uma ação _a_ em um certo estado _s_. A ação deve mudar o estado para _s'_ e, eventualmente, ter uma implicação vantajosa ou desvantajosa para o agente. A vantagem ou desvantagem pode ser vista pelo agente como uma recompensa (ou uma punição). A utilidade da ação (_Q_) está então relacionada à probabilidade dela resultar em um prêmio para o agente.\n",
    "\n",
    "Em termos práticos, o agente precisa aprender uma tabela (_Tabela Q_), que associa o estado à utilidade esperada (Q) de uma ação. No futuro, ele pode escolher entre uma ação de acordo com a tabela ou explorar (agir aleatoriamente). Cada nova ação atualiza a tabela, de acordo com a Equação de Bellman:\n",
    "\n",
    "$$Q(s, a) = r + \\gamma(\\max Q(s',a'))$$\n",
    "\n",
    "ou seja, a utilidade esperada $Q(s,a)$ para a ação atual $a$ no estado $s$ corresponde à recompensa imediata $r$ mais o máximo valor esperado para o estado futuro $s'$ que será atingido (esse máximo valor será alcançado no futuro através da ação $a'$). A utilidade da tabela é descontada por um fator $\\gamma$, que pode ser pensado como uma certa taxa de \"importância\" do futuro possível em relação ao prêmio já obtido.\n",
    "\n",
    "Note que _r_ pode ser zero! ou seja, não há _supervisão_ garantida para toda a ação do agente. Assim, ele precisa aprender compromissos de longo prazo. "
   ]
  },
  {
   "cell_type": "markdown",
   "metadata": {},
   "source": [
    "## _Fronzenlake_ e gym"
   ]
  },
  {
   "cell_type": "markdown",
   "metadata": {},
   "source": [
    "Vamos aprender as ideias básicas de aprendizagem por reforço ao criar um agente que aprenda a jogar _FrozenLake_.\n",
    "\n",
    "\n",
    "<div class=\"alert alert-info\">\n",
    "_FrozenLake_ é um jogo feito em um tabuleiro de 4x4 onde o agente tem que sair do ponto inicial S para a meta G, evitando buracos H. Ou seja, ele deve tentar andar apenas pelo superfície congelada de uma lago (posições indicadas por F). Aleatoriamente, o vento pode empurrar o agente para um buraco sem que ele possa fazer nada a respeito. Ou seja, _aprendizado perfeito é impossível_! \n",
    "\n",
    "Note que, dada uma configuração do jogo (o exemplo abaixo), apenas há 16 estados possíveis (cada bloco em que o agente pode estar) para o qual o agente pode fazer até 4 ações possíveis (ir ao Norte, Sul, Leste ou Oeste).\n",
    "</div>"
   ]
  },
  {
   "cell_type": "markdown",
   "metadata": {},
   "source": [
    "<pre>\n",
    "| S | F | F | F |\n",
    "| F | H | F | H |\n",
    "| F | F | F | H |\n",
    "| H | F | F | G |\n",
    "</pre>"
   ]
  },
  {
   "cell_type": "markdown",
   "metadata": {},
   "source": [
    "Para escrever um agente para este jogo usando a estratégia descrita, vamos usar o pacote _gym_, fornecido pela OpenAI (https://gym.openai.com/). Este pacote permite que escrevamos uma política de aprendizado para uma grande variedade de jogos, como por exemplo, os do console Atari. O pacote fornece uma abstração para o jogo que facilita a obtenção do seu estado atual, execução de uma ação e retorno de um _feedback_, na forma de uma recompensa ou punição. Entre os jogos suportados, temos _frozenlake_."
   ]
  },
  {
   "cell_type": "code",
   "execution_count": 2,
   "metadata": {
    "collapsed": true
   },
   "outputs": [],
   "source": [
    "import gym\n",
    "import numpy as np"
   ]
  },
  {
   "cell_type": "code",
   "execution_count": 3,
   "metadata": {
    "collapsed": false,
    "scrolled": true
   },
   "outputs": [
    {
     "name": "stderr",
     "output_type": "stream",
     "text": [
      "INFO:gym.envs.registration:Making new env: FrozenLake-v0\n",
      "[2017-02-28 12:08:38,733] Making new env: FrozenLake-v0\n"
     ]
    }
   ],
   "source": [
    "# lê ambiente para jogo\n",
    "env = gym.make('FrozenLake-v0')"
   ]
  },
  {
   "cell_type": "markdown",
   "metadata": {},
   "source": [
    "A estrutura básica de um agente em um ambiente fornecido pelo gym consiste em:\n",
    "* iniciar o ambiente\n",
    "* para cada passo do jogo até ele ser concluído\n",
    "    * atualize a animação do jogo, se for o caso\n",
    "    * decida por uma ação\n",
    "    * execute a ação recebendo feedback e informação sobre novo estado\n",
    "* finalizar o ambiente\n",
    "\n",
    "Abaixo, temos um pequeno agente exemplo."
   ]
  },
  {
   "cell_type": "code",
   "execution_count": 48,
   "metadata": {
    "collapsed": false
   },
   "outputs": [
    {
     "name": "stderr",
     "output_type": "stream",
     "text": [
      "INFO:gym.envs.registration:Making new env: FrozenLake-v0\n",
      "[2017-02-28 13:29:11,927] Making new env: FrozenLake-v0\n"
     ]
    },
    {
     "name": "stdout",
     "output_type": "stream",
     "text": [
      "\u001b[41mS\u001b[0mFFF\n",
      "FHFH\n",
      "FFFH\n",
      "HFFG\n",
      "\n",
      "\u001b[41mS\u001b[0mFFF\n",
      "FHFH\n",
      "FFFH\n",
      "HFFG\n",
      "  (Right)\n",
      "\u001b[41mS\u001b[0mFFF\n",
      "FHFH\n",
      "FFFH\n",
      "HFFG\n",
      "  (Left)\n",
      "\u001b[41mS\u001b[0mFFF\n",
      "FHFH\n",
      "FFFH\n",
      "HFFG\n",
      "  (Up)\n",
      "SFFF\n",
      "\u001b[41mF\u001b[0mHFH\n",
      "FFFH\n",
      "HFFG\n",
      "  (Right)\n",
      "\u001b[41mS\u001b[0mFFF\n",
      "FHFH\n",
      "FFFH\n",
      "HFFG\n",
      "  (Up)\n",
      "SFFF\n",
      "\u001b[41mF\u001b[0mHFH\n",
      "FFFH\n",
      "HFFG\n",
      "  (Down)\n",
      "SFFF\n",
      "F\u001b[41mH\u001b[0mFH\n",
      "FFFH\n",
      "HFFG\n",
      "  (Down)\n",
      "reward: 0.0\n"
     ]
    }
   ],
   "source": [
    "env = gym.make(\"FrozenLake-v0\")\n",
    "\n",
    "# obtenha uma observação do ambiente (estado)\n",
    "observation = env.reset()\n",
    "# excute ateh, no maximo, 10 passos do jogo\n",
    "for i in range(10):\n",
    "    # anime o jogo\n",
    "    env.render()\n",
    "    # execute uma ação aleatória\n",
    "    action = env.action_space.sample()  \n",
    "    # obtenha novo estado, recompensa, indicação de fim de jogo e\n",
    "    # informacao adicional do ambiente, usada principalmente para debug\n",
    "    observation, reward, done, info = env.step(action)\n",
    "    if done:\n",
    "        env.render()\n",
    "        print 'reward:', reward\n",
    "        env.reset()\n",
    "        break\n",
    "\n",
    "env.close()"
   ]
  },
  {
   "cell_type": "markdown",
   "metadata": {},
   "source": [
    "Para maiores detalhes sobre gym, consulte https://gym.openai.com/docs"
   ]
  },
  {
   "cell_type": "markdown",
   "metadata": {},
   "source": [
    "## Implementando qLeaning"
   ]
  },
  {
   "cell_type": "markdown",
   "metadata": {},
   "source": [
    "Agora precisamos codificar a estratégia explicada no contexto do gradiente ascendente. Considerando que vamos sair da utilidade $Q(s, a)$ para a nova utilidade $r + \\gamma(\\max Q(s',a'))$, a derivada pode ser aproximada pela diferença imediata:\n",
    "\n",
    "$$Q(s,a)' \\approx (r + \\gamma(\\max Q(s',a'))) - Q(s, a)$$\n",
    "\n",
    "Assim, o novo $Q(s, a)$ pode ser atualizado como:\n",
    "\n",
    "$$Q(s, a) = Q(s, a) + \\lambda Q(s, a)'$$\n",
    "\n",
    "onde $\\lambda$ é a taxa de aprendizado. Segue, abaixo, o código para todo o processo:"
   ]
  },
  {
   "cell_type": "code",
   "execution_count": 4,
   "metadata": {
    "collapsed": false
   },
   "outputs": [
    {
     "name": "stdout",
     "output_type": "stream",
     "text": [
      "episode 0 0.0\n",
      "SFFF\n",
      "F\u001b[41mH\u001b[0mFH\n",
      "FFFH\n",
      "HFFG\n",
      "  (Left)\n",
      "episode 500 0.0\n",
      "\u001b[41mS\u001b[0mFFF\n",
      "FHFH\n",
      "FFFH\n",
      "HFFG\n",
      "  (Right)\n",
      "episode 1000 1.0\n",
      "SFFF\n",
      "FHFH\n",
      "FFFH\n",
      "HFF\u001b[41mG\u001b[0m\n",
      "  (Right)\n",
      "episode 1500 0.0\n",
      "S\u001b[41mF\u001b[0mFF\n",
      "FHFH\n",
      "FFFH\n",
      "HFFG\n",
      "  (Up)\n",
      "episode 2000 0.0\n",
      "SFFF\n",
      "F\u001b[41mH\u001b[0mFH\n",
      "FFFH\n",
      "HFFG\n",
      "  (Left)\n",
      "episode 2500 0.0\n",
      "SFFF\n",
      "F\u001b[41mH\u001b[0mFH\n",
      "FFFH\n",
      "HFFG\n",
      "  (Left)\n",
      "episode 3000 0.0\n",
      "S\u001b[41mF\u001b[0mFF\n",
      "FHFH\n",
      "FFFH\n",
      "HFFG\n",
      "  (Up)\n",
      "episode 3500 1.0\n",
      "SFFF\n",
      "FHFH\n",
      "FFFH\n",
      "HFF\u001b[41mG\u001b[0m\n",
      "  (Right)\n",
      "episode 4000 0.0\n",
      "SFFF\n",
      "F\u001b[41mH\u001b[0mFH\n",
      "FFFH\n",
      "HFFG\n",
      "  (Up)\n",
      "episode 4500 1.0\n",
      "SFFF\n",
      "FHFH\n",
      "FFFH\n",
      "HFF\u001b[41mG\u001b[0m\n",
      "  (Right)\n"
     ]
    }
   ],
   "source": [
    "# inicia tabela Q com zeros\n",
    "# action = left, down, right, up\n",
    "Q = np.zeros([env.observation_space.n, env.action_space.n])\n",
    "\n",
    "# parametros \n",
    "lr = .85 # tx de aprendizado\n",
    "y = .99 # tx de importancia\n",
    "num_episodes = 5000\n",
    "\n",
    "# lista com premios e passos por episodio\n",
    "rList = []\n",
    "for i in range(num_episodes):\n",
    "    # reseta ambiente e pega nova obs\n",
    "    s = env.reset()\n",
    "    rAll = 0\n",
    "    d = False\n",
    "    j = 0\n",
    "    # algortimo de aprendizado com tabela Q\n",
    "    while j < 99:\n",
    "        j+=1\n",
    "        # escolhe uma acao (de forma gulosa e com ruido descrescente \n",
    "        # ao longo do aprendizado) da tabela Q\n",
    "        a = np.argmax(Q[s,:] + \n",
    "                      np.random.randn(1, env.action_space.n) * (1./(i+1)))\n",
    "        # obtem novo estado, premio do ambiente e indicação se terminou\n",
    "        s1, r, done, _ = env.step(a)\n",
    "        # atualiza tab Q com novo conhecimento\n",
    "        Q[s,a] = Q[s,a] + lr * (r + y*np.max(Q[s1,:]) - Q[s,a])\n",
    "        rAll += r\n",
    "        s = s1\n",
    "        if done == True:\n",
    "            break\n",
    "    if i % 500 == 0: \n",
    "        print 'episode', i, r\n",
    "        env.render()\n",
    "    rList.append(rAll)    "
   ]
  },
  {
   "cell_type": "code",
   "execution_count": 5,
   "metadata": {
    "collapsed": false
   },
   "outputs": [
    {
     "name": "stdout",
     "output_type": "stream",
     "text": [
      "Score over time: 0.4362\n"
     ]
    }
   ],
   "source": [
    "print \"Score over time: \" +  str(sum(rList)/num_episodes)"
   ]
  },
  {
   "cell_type": "code",
   "execution_count": 6,
   "metadata": {
    "collapsed": false
   },
   "outputs": [
    {
     "name": "stderr",
     "output_type": "stream",
     "text": [
      "/Users/marcocristo/Library/Enthought/Canopy_64bit/User/lib/python2.7/site-packages/matplotlib/font_manager.py:273: UserWarning: Matplotlib is building the font cache using fc-list. This may take a moment.\n",
      "  warnings.warn('Matplotlib is building the font cache using fc-list. This may take a moment.')\n"
     ]
    },
    {
     "data": {
      "text/plain": [
       "[<matplotlib.lines.Line2D at 0x10986e810>]"
      ]
     },
     "execution_count": 6,
     "metadata": {},
     "output_type": "execute_result"
    },
    {
     "data": {
      "image/png": "[encoded data removed]",
      "text/plain": [
       "<matplotlib.figure.Figure at 0x10687d450>"
      ]
     },
     "metadata": {},
     "output_type": "display_data"
    }
   ],
   "source": [
    "import matplotlib.pyplot as plt\n",
    "%matplotlib inline\n",
    "\n",
    "plt.plot(rList[:2000])"
   ]
  },
  {
   "cell_type": "markdown",
   "metadata": {},
   "source": [
    "Como pode ser visto, o agente aprendeu uma política eficaz rapidamente. Ou seja, rapidamente, ele aprendeu a evitar buracos. Eventualmente, ele ainda cai num buraco, o que é esperado, dado o vento. Abaixo, temos a tabela de utilidades aprendida:"
   ]
  },
  {
   "cell_type": "code",
   "execution_count": 7,
   "metadata": {
    "collapsed": false
   },
   "outputs": [
    {
     "name": "stdout",
     "output_type": "stream",
     "text": [
      "Final Q-Table Values\n",
      "[[  6.41865546e-03   5.67664758e-03   5.50838811e-01   1.00540401e-02]\n",
      " [  1.97135783e-04   3.21783341e-03   1.80903204e-03   2.98748796e-01]\n",
      " [  4.63811080e-03   3.18378260e-03   8.89674019e-03   2.12637704e-01]\n",
      " [  2.03620225e-03   0.00000000e+00   1.06105536e-03   2.06573820e-01]\n",
      " [  6.75201996e-01   1.80894421e-03   2.32614665e-03   2.71072992e-03]\n",
      " [  0.00000000e+00   0.00000000e+00   0.00000000e+00   0.00000000e+00]\n",
      " [  1.83195294e-01   1.67864777e-06   8.72315379e-05   8.59638190e-05]\n",
      " [  0.00000000e+00   0.00000000e+00   0.00000000e+00   0.00000000e+00]\n",
      " [  1.51490467e-03   4.05165415e-04   4.08751283e-04   7.71872793e-01]\n",
      " [  1.03190844e-03   9.33249217e-01   0.00000000e+00   4.16604760e-04]\n",
      " [  1.07266773e-02   1.24396499e-04   4.31229934e-04   1.79669184e-04]\n",
      " [  0.00000000e+00   0.00000000e+00   0.00000000e+00   0.00000000e+00]\n",
      " [  0.00000000e+00   0.00000000e+00   0.00000000e+00   0.00000000e+00]\n",
      " [  1.15490583e-03   2.86458834e-03   4.92783707e-01   0.00000000e+00]\n",
      " [  0.00000000e+00   0.00000000e+00   1.11213792e-01   0.00000000e+00]\n",
      " [  0.00000000e+00   0.00000000e+00   0.00000000e+00   0.00000000e+00]]\n"
     ]
    }
   ],
   "source": [
    "print \"Final Q-Table Values\"\n",
    "print Q"
   ]
  },
  {
   "cell_type": "markdown",
   "metadata": {},
   "source": [
    "## Aprendendo Q com Redes Neurais "
   ]
  },
  {
   "cell_type": "markdown",
   "metadata": {},
   "source": [
    "O problema com tabelas Q é que elas não escalam para qualquer problema minimamente realista. Assim, vamos usar redes neurais. Dada a entrada que corresponde a um estado, esperamos que a rede aprenda os valores Q!!!\n",
    "\n",
    "__Idéia__: codificar a entrada como um hot-vector com 16 neurônios. A saída com 4 neurônios, um para cada ação possível. A função de perda é o quadrado da diferença entre os valores Q aprendidos até o momento (já considerando o efeito da última recompensa, o que seria o \"ground truth\" mais atual) e os valores Q estimados pela rede. _Leia isso de novo... É isso mesmo :P_\n",
    "\n",
    "Note que frozenlake é um jogo muito simples, com apenas $4 * 16 = 64$ estados. A rede proposta tem $4 * 16$ pesos $+ 4$ biases = 68 parâmetros para aprender. Obviamente, ela não é menor que a própria tabela Q. Contudo, para um problema mais realista, com um número muito maior de estados, a tabela Q deve ser muito maior que a rede neural. Por exemplo, suponha um jogo de videogame com resolução 420x280 = 117600 pixels e 16 cores. Este jogo tem $16^{117600}$ estados possíveis. O espaço de estados inteiro poderia ser representado por uma rede neural de cerca de alguns milhões de parâmetros, o que é muito menos que $16^{117600}$. Logo, a rede de fato deve aprender uma versão muito comprimida do espaço de estados. Em outras palavras, ela vai aprender a generalizar os estados."
   ]
  },
  {
   "cell_type": "code",
   "execution_count": 8,
   "metadata": {
    "collapsed": false
   },
   "outputs": [],
   "source": [
    "import gym\n",
    "import numpy as np\n",
    "import random\n",
    "import tensorflow as tf"
   ]
  },
  {
   "cell_type": "code",
   "execution_count": 9,
   "metadata": {
    "collapsed": false
   },
   "outputs": [
    {
     "name": "stderr",
     "output_type": "stream",
     "text": [
      "INFO:gym.envs.registration:Making new env: FrozenLake-v0\n",
      "[2017-02-28 12:09:18,592] Making new env: FrozenLake-v0\n"
     ]
    }
   ],
   "source": [
    "env = gym.make('FrozenLake-v0')"
   ]
  },
  {
   "cell_type": "code",
   "execution_count": 10,
   "metadata": {
    "collapsed": true
   },
   "outputs": [],
   "source": [
    "# implementacao em tensor flow\n",
    "tf.reset_default_graph()"
   ]
  },
  {
   "cell_type": "code",
   "execution_count": 11,
   "metadata": {
    "collapsed": true
   },
   "outputs": [],
   "source": [
    "# A rede\n",
    "inputs1 = tf.placeholder(shape=[1,16], dtype=tf.float32)\n",
    "W = tf.Variable(tf.random_uniform([16,4], 0, 0.01))\n",
    "Qout = tf.matmul(inputs1, W)\n",
    "predict = tf.argmax(Qout, 1)\n",
    "\n",
    "# função de perda\n",
    "nextQ = tf.placeholder(shape=[1,4], dtype=tf.float32)\n",
    "loss = tf.reduce_sum(tf.square(nextQ - Qout))\n",
    "trainer = tf.train.GradientDescentOptimizer(learning_rate=0.1)\n",
    "updateModel = trainer.minimize(loss)"
   ]
  },
  {
   "cell_type": "markdown",
   "metadata": {},
   "source": [
    "O algoritmo que vamos usar pode ser descrito assim:\n",
    "* Para cada episódio:\n",
    "    * Para cada novimento do agente e enquanto não for o fim do jogo:\n",
    "        * Use rede neural para prever utilidade _Q_ de cada ação _a_ em _s_\n",
    "        * Defina como próxima ação _a_ aquela com o maior _Q_ previsto ou uma aleatória, se preferir explorar\n",
    "        * Execute nova _a_ no ambiente, obtendo recompensa _r_ e novo estado _s'_\n",
    "        * Utilize rede neural para obter utilidades _Q'_ para estado _s'_\n",
    "        * Atualize _Q_ correspondente a _a_ com a informação de _Q'_ e a recompensa _r_ obtida\n",
    "        * Treine a rede considerando o novo valor de _Q_ como a utilidade _mais_ correta para o estado _s_"
   ]
  },
  {
   "cell_type": "code",
   "execution_count": 13,
   "metadata": {
    "collapsed": false
   },
   "outputs": [
    {
     "name": "stdout",
     "output_type": "stream",
     "text": [
      "Percent of succesful episodes: 0.4545%\n"
     ]
    }
   ],
   "source": [
    "# o treino\n",
    "# inicie parametros\n",
    "#init = tf.global_variables_initializer()\n",
    "init = tf.initialize_all_variables()\n",
    "\n",
    "# parâmetros de aprendizado\n",
    "y = .99                # importance rate  \n",
    "e = 0.1                # exploration rate\n",
    "num_episodes = 2000\n",
    "\n",
    "# passos por episódios (mais passo, mais tempo vivo!)\n",
    "jList = [] \n",
    "rList = [] # rewards\n",
    "with tf.Session() as sess:\n",
    "    sess.run(init)\n",
    "    for i in range(num_episodes):\n",
    "        # reseta ambiente e pega nova observacao\n",
    "        s = env.reset()\n",
    "        rAll = 0\n",
    "        d = False\n",
    "        j = 0\n",
    "        # Q-Network\n",
    "        while j < 99:\n",
    "            j+=1\n",
    "            # escolha uma acao de forma gulosa da rede Q\n",
    "            # a acao eh escolhida com uma certa aleatoriedade! \n",
    "            # (dada por e)\n",
    "            get_state_as_hot_vector = lambda s: np.identity(16)[s:s+1]\n",
    "            a, allQ = sess.run([predict, Qout],\n",
    "                               feed_dict = {inputs1:get_state_as_hot_vector(s)})\n",
    "            # define aleatoriamente se permanece com sugestão da rede ou...\n",
    "            if np.random.rand(1) < e:\n",
    "                # uma ação tomada aleatoriament (exploração)\n",
    "                a[0] = env.action_space.sample()\n",
    "            # obtenha novo estado e recompensa do ambiente\n",
    "            s1,r,d,_ = env.step(a[0])\n",
    "            # obtenha os valores Q passando o novo estado pra rede\n",
    "            Q1 = sess.run(Qout, feed_dict={inputs1:get_state_as_hot_vector(s1)})\n",
    "            # obtenha maxQ' e defina o valor alvo como a acao escolhida.\n",
    "            maxQ1 = np.max(Q1)\n",
    "            targetQ = allQ\n",
    "            # o pulo do gato! note que a estimativa feita é atualizada com a \n",
    "            # recompensa vinda do ambiente!!!\n",
    "            targetQ[0,a[0]] = r + y*maxQ1 \n",
    "            # treine a rede usando o alvo e o valor Q previsto\n",
    "            _, W1 = sess.run([updateModel, W],\n",
    "                             feed_dict={inputs1:get_state_as_hot_vector(s), nextQ:targetQ})\n",
    "            rAll += r\n",
    "            s = s1\n",
    "            if d == True:\n",
    "                # reduza a chance de acoes aleatorias aa medida que o modelo eh treinado.\n",
    "                e = 1./((i/50) + 10)\n",
    "                break\n",
    "        jList.append(j)\n",
    "        rList.append(rAll)\n",
    "print \"Percent of succesful episodes: \" + str(sum(rList)/num_episodes) + \"%\"\n"
   ]
  },
  {
   "cell_type": "markdown",
   "metadata": {},
   "source": [
    "Podemos ver como a rede evoluiu analisando as listas de prêmios recebidos e passos dados por episódio."
   ]
  },
  {
   "cell_type": "code",
   "execution_count": 14,
   "metadata": {
    "collapsed": false
   },
   "outputs": [
    {
     "data": {
      "text/plain": [
       "[<matplotlib.lines.Line2D at 0x111e26d50>]"
      ]
     },
     "execution_count": 14,
     "metadata": {},
     "output_type": "execute_result"
    },
    {
     "data": {
      "image/png": "[encoded data removed]",
      "text/plain": [
       "<matplotlib.figure.Figure at 0x1065eb9d0>"
      ]
     },
     "metadata": {},
     "output_type": "display_data"
    }
   ],
   "source": [
    "plt.plot(rList)"
   ]
  },
  {
   "cell_type": "markdown",
   "metadata": {},
   "source": [
    "Notamos que uma hora a rede aprende e alcança resultados consistentes. Abaixo temos o número de passos dado em cada episódio do jogo. Observe que aos poucos, o agente permanece vivo por um tempo cada vez maior."
   ]
  },
  {
   "cell_type": "code",
   "execution_count": 15,
   "metadata": {
    "collapsed": false
   },
   "outputs": [
    {
     "data": {
      "text/plain": [
       "[<matplotlib.lines.Line2D at 0x111eb5b50>]"
      ]
     },
     "execution_count": 15,
     "metadata": {},
     "output_type": "execute_result"
    },
    {
     "data": {
      "image/png": "[encoded data removed]",
      "text/plain": [
       "<matplotlib.figure.Figure at 0x109882990>"
      ]
     },
     "metadata": {},
     "output_type": "display_data"
    }
   ],
   "source": [
    "plt.plot(jList)"
   ]
  },
  {
   "cell_type": "markdown",
   "metadata": {},
   "source": [
    "RNs são capazes de aprender, mas não de forma tão eficiente quanto Tabelas Q. No gráfico é possível notar a instabilidade, mesmo após quase 2000 sessões de treino. Para serem viáveis em problemas realmente grandes, precisamos aprender muitas heurísticas ainda. "
   ]
  },
  {
   "cell_type": "markdown",
   "metadata": {},
   "source": [
    "## Reinforcement Learning "
   ]
  },
  {
   "cell_type": "markdown",
   "metadata": {},
   "source": [
    "## Ação -> Recompensa: os caça níqueis de _n_ braços "
   ]
  },
  {
   "cell_type": "markdown",
   "metadata": {},
   "source": [
    "Em aprendizado por reforço (AR), os problemas tem 3 características:\n",
    "\n",
    "1. diferentes ações levam a diferentes recompensas\n",
    "2. recompensas podem vir bem depois de uma ação\n",
    "3. recompensas dependem do estado do ambiente\n",
    "\n",
    "Nesta seção vamos lidar com um problema bem simples de AR, o dos caça níqueis com _n_ braços. Neste problema, apenas o item 1 acima está presente. Em geral, ele é descrito assim: \n",
    "\n",
    "Imagine que há uma máquina de caça níqueis com _n_ braços, cada qual com uma probabilidade de retorno diferente. Neste jogo, a meta é descobrir o braço com melhor retorno e maximizar o ganho do agente por sempre escolher aquele braço. "
   ]
  },
  {
   "cell_type": "code",
   "execution_count": 33,
   "metadata": {
    "collapsed": true
   },
   "outputs": [],
   "source": [
    "import tensorflow as tf\n",
    "import numpy as np"
   ]
  },
  {
   "cell_type": "code",
   "execution_count": 51,
   "metadata": {
    "collapsed": true
   },
   "outputs": [],
   "source": [
    "# Os bandidos (braços), neste caso 4.\n",
    "# No início, bandits[3] tem o menor valor e, portanto, tem maior probabilidade \n",
    "# de dar um retorno positivo. \n",
    "bandits = [0.2, 0, -0.2, -5] # neste caso, é o bandits[3]\n",
    "num_bandits = len(bandits)\n",
    "def pullBandit(bandit_val):\n",
    "    # pegue um numero aleatorio de dist normal com media = 0\n",
    "    result = np.random.randn(1)\n",
    "    if result > bandit_val:\n",
    "        # retorne recompensa positiva.\n",
    "        return 1\n",
    "    else:\n",
    "        # retorne recompensa negativa.\n",
    "        return -1"
   ]
  },
  {
   "cell_type": "markdown",
   "metadata": {},
   "source": [
    "__Agente__: Rede neural (cof, cof!) com um valor para cada bandido. Cada valor é uma estimativa do retorno de escolher aquele bandido. Política de aprendizado é feita pelo GD que atualiza o agente mudando o valor para a ação selecionada na direção da recompensa recebida."
   ]
  },
  {
   "cell_type": "code",
   "execution_count": 36,
   "metadata": {
    "collapsed": true
   },
   "outputs": [],
   "source": [
    "# agente\n",
    "tf.reset_default_graph()\n",
    "\n",
    "# feed-forward NN. Faz as escolhas.\n",
    "weights = tf.Variable(tf.ones([num_bandits]))\n",
    "chosen_action = tf.argmax(weights, 0)\n",
    "\n",
    "# procedimento de treino. \n",
    "# Rede eh alimentada com reward e acao escolhida para calculo da perda\n",
    "# Perda eh usada para atualizar pesos.\n",
    "reward_holder = tf.placeholder(shape=[1], dtype=tf.float32)\n",
    "action_holder = tf.placeholder(shape=[1], dtype=tf.int32)\n",
    "responsible_weight = tf.slice(weights, action_holder, [1])\n",
    "loss = -(tf.log(responsible_weight) * reward_holder)\n",
    "optimizer = tf.train.GradientDescentOptimizer(learning_rate=0.001)\n",
    "update = optimizer.minimize(loss)"
   ]
  },
  {
   "cell_type": "code",
   "execution_count": 50,
   "metadata": {
    "collapsed": false
   },
   "outputs": [
    {
     "name": "stdout",
     "output_type": "stream",
     "text": [
      "Rewards after 49 episodes: [ -1.  -1.  -1.  22.]\n",
      "Rewards after 99 episodes: [ -1.   1.  -1.  68.]\n",
      "Rewards after 149 episodes: [   0.    0.   -1.  114.]\n",
      "Rewards after 199 episodes: [   2.    0.    1.  160.]\n",
      "Rewards after 249 episodes: [   2.   -2.    3.  200.]\n",
      "Rewards after 299 episodes: [   3.   -4.    2.  246.]\n",
      "Rewards after 349 episodes: [   4.   -5.    2.  294.]\n",
      "Rewards after 399 episodes: [   5.   -5.    2.  341.]\n",
      "Rewards after 449 episodes: [   5.   -4.    1.  385.]\n",
      "Rewards after 499 episodes: [   5.   -4.    4.  432.]\n",
      "Rewards after 549 episodes: [   4.   -4.    5.  480.]\n",
      "Rewards after 599 episodes: [   5.   -4.    6.  528.]\n",
      "Rewards after 649 episodes: [   8.   -6.    7.  570.]\n",
      "Rewards after 699 episodes: [   8.   -7.    7.  619.]\n",
      "Rewards after 749 episodes: [   8.   -7.    7.  667.]\n",
      "Rewards after 799 episodes: [   9.   -7.    6.  715.]\n",
      "Rewards after 849 episodes: [   9.   -7.    6.  763.]\n",
      "Rewards after 899 episodes: [  11.   -7.    7.  810.]\n",
      "Rewards after 949 episodes: [   9.   -8.    7.  857.]\n",
      "The agent thinks bandit 4 is the most promising....\n",
      "...and it was right!\n"
     ]
    }
   ],
   "source": [
    "total_episodes = 1000 # nro de episodios.\n",
    "total_reward = np.zeros(num_bandits) # scores dos bandidos.\n",
    "e = 0.1 # chance de ação aleatória.\n",
    "\n",
    "init = tf.global_variables_initializer()\n",
    "\n",
    "with tf.Session() as sess:\n",
    "    sess.run(init)\n",
    "    i = 0\n",
    "    while i < total_episodes:\n",
    "        \n",
    "        # escolha ação aleatória ou da rede.\n",
    "        if np.random.rand(1) < e:\n",
    "            action = np.random.randint(num_bandits)\n",
    "        else:\n",
    "            action = sess.run(chosen_action)\n",
    "        \n",
    "        # obtenha recompensa pela escolha feita.\n",
    "        reward = pullBandit(bandits[action]) \n",
    "        \n",
    "        # atualize rede.\n",
    "        _, resp, ww = sess.run([update, responsible_weight, weights], \n",
    "                               feed_dict={reward_holder:[reward], action_holder:[action]})\n",
    "        \n",
    "        # atualize escores.\n",
    "        total_reward[action] += reward\n",
    "        if i % 50 == 0 and i > 0:\n",
    "            print \"Rewards after \" + str(i-1) + \" episodes: \" + str(total_reward)\n",
    "        i+=1\n",
    "print \"The agent thinks bandit \" + str(np.argmax(ww)+1) + \" is the most promising....\"\n",
    "if np.argmax(ww) == np.argmax(-np.array(bandits)):\n",
    "    print \"...and it was right!\"\n",
    "else:\n",
    "    print \"...and it was wrong!\""
   ]
  },
  {
   "cell_type": "markdown",
   "metadata": {},
   "source": [
    "Note que sem estados, a melhor ação em qualquer momento, é a melhor ação sempre! "
   ]
  },
  {
   "cell_type": "markdown",
   "metadata": {},
   "source": [
    "## Estado/Ação -> Recompensa: o _n_ caça níqueis! "
   ]
  },
  {
   "cell_type": "markdown",
   "metadata": {},
   "source": [
    "Nesta seção, vamos considerar problemas de AR onde há estados, mas estes não dependem de estados prévios e ações. Vamos usar para isso o problema dos _n_ caça níqueis.\n",
    "\n",
    "Nesse problema, temos _n_ caça níqueis (estados) com _m_ braços (ações). O objetivo é aprender a melhor ação para qualquer estado. "
   ]
  },
  {
   "cell_type": "code",
   "execution_count": 52,
   "metadata": {
    "collapsed": true
   },
   "outputs": [],
   "source": [
    "import tensorflow as tf\n",
    "import tensorflow.contrib.slim as slim\n",
    "import numpy as np"
   ]
  },
  {
   "cell_type": "code",
   "execution_count": 53,
   "metadata": {
    "collapsed": true
   },
   "outputs": [],
   "source": [
    "class contextual_bandit():\n",
    "    def __init__(self):\n",
    "        self.state = 0\n",
    "        # os bandidos. Atualmente, braços 4, 2 e 1 são os melhores.\n",
    "        self.bandits = np.array([[0.2,0,-0.0,-5], [0.1,-5,1,0.25], [-5,5,5,5]])\n",
    "        self.num_bandits = self.bandits.shape[0]\n",
    "        self.num_actions = self.bandits.shape[1]\n",
    "        \n",
    "    def getBandit(self):\n",
    "        # retorna um estado aleatório para cada episódio\n",
    "        self.state = np.random.randint(0,len(self.bandits)) \n",
    "        return self.state\n",
    "        \n",
    "    def pullArm(self, action):\n",
    "        bandit_val = self.bandits[self.state, action]\n",
    "        result = np.random.randn(1)\n",
    "        if result > bandit_val:\n",
    "            return 1\n",
    "        else:\n",
    "            return -1"
   ]
  },
  {
   "cell_type": "code",
   "execution_count": 54,
   "metadata": {
    "collapsed": true
   },
   "outputs": [],
   "source": [
    "class agent():\n",
    "    def __init__(self, lr, s_size, a_size):\n",
    "        # NN. estado -> acao.\n",
    "        self.state_in= tf.placeholder(shape=[1],dtype=tf.int32)\n",
    "        state_in_OH = slim.one_hot_encoding(self.state_in,s_size)\n",
    "        output = slim.fully_connected(state_in_OH,\n",
    "                                      a_size,\n",
    "                                      biases_initializer=None,\n",
    "                                      activation_fn=tf.nn.sigmoid,\n",
    "                                      weights_initializer=tf.ones_initializer())\n",
    "        self.output = tf.reshape(output,[-1])\n",
    "        self.chosen_action = tf.argmax(self.output, 0)\n",
    "\n",
    "        # Treino. acao, reward -> NN -> loss -> atualizacao e pesos.\n",
    "        self.reward_holder = tf.placeholder(shape=[1],dtype=tf.float32)\n",
    "        self.action_holder = tf.placeholder(shape=[1],dtype=tf.int32)\n",
    "        self.responsible_weight = tf.slice(self.output, self.action_holder, [1])\n",
    "        self.loss = -(tf.log(self.responsible_weight) * self.reward_holder)\n",
    "        optimizer = tf.train.GradientDescentOptimizer(learning_rate=lr)\n",
    "        self.update = optimizer.minimize(self.loss)"
   ]
  },
  {
   "cell_type": "code",
   "execution_count": 56,
   "metadata": {
    "collapsed": false
   },
   "outputs": [
    {
     "name": "stdout",
     "output_type": "stream",
     "text": [
      "Mean reward for each of the 3 bandits: [ 0.    0.25  0.  ]\n",
      "Mean reward for each of the 3 bandits: [ 24.75  31.75  38.25]\n",
      "Mean reward for each of the 3 bandits: [ 72.25  71.5   64.5 ]\n",
      "Mean reward for each of the 3 bandits: [ 109.5   108.25  102.  ]\n",
      "Mean reward for each of the 3 bandits: [ 147.5   148.75  135.  ]\n",
      "Mean reward for each of the 3 bandits: [ 188.5   188.75  170.  ]\n",
      "Mean reward for each of the 3 bandits: [ 229.25  224.    207.  ]\n",
      "Mean reward for each of the 3 bandits: [ 265.75  263.    244.  ]\n",
      "Mean reward for each of the 3 bandits: [ 307.25  300.75  279.75]\n",
      "Mean reward for each of the 3 bandits: [ 348.25  339.75  315.75]\n",
      "Mean reward for each of the 3 bandits: [ 384.75  380.    349.5 ]\n",
      "Mean reward for each of the 3 bandits: [ 420.25  422.25  385.25]\n",
      "Mean reward for each of the 3 bandits: [ 456.    465.5   420.75]\n",
      "Mean reward for each of the 3 bandits: [ 496.25  505.5   451.5 ]\n",
      "Mean reward for each of the 3 bandits: [ 534.75  541.    491.  ]\n",
      "Mean reward for each of the 3 bandits: [ 573.25  581.5   523.  ]\n",
      "Mean reward for each of the 3 bandits: [ 612.    620.75  554.5 ]\n",
      "Mean reward for each of the 3 bandits: [ 646.75  658.75  593.75]\n",
      "Mean reward for each of the 3 bandits: [ 685.75  694.5   631.5 ]\n",
      "Mean reward for each of the 3 bandits: [ 723.75  732.    663.5 ]\n",
      "The agent thinks action 4 for bandit 1 is the most promising....\n",
      "...and it was right!\n",
      "The agent thinks action 2 for bandit 2 is the most promising....\n",
      "...and it was right!\n",
      "The agent thinks action 1 for bandit 3 is the most promising....\n",
      "...and it was right!\n"
     ]
    }
   ],
   "source": [
    "# treinamento\n",
    "tf.reset_default_graph() \n",
    "\n",
    "cBandit = contextual_bandit() # bandidos\n",
    "myAgent = agent(lr=0.001, s_size=cBandit.num_bandits, a_size=cBandit.num_actions) # agente\n",
    "weights = tf.trainable_variables()[0] # pesos a serem avaliados olhando pra rede\n",
    "\n",
    "total_episodes = 10000 # episodios.\n",
    "total_reward = np.zeros([cBandit.num_bandits, cBandit.num_actions]) # scores das máquinas.\n",
    "e = 0.1 # chance de escolher acao aleatoria\n",
    "\n",
    "init = tf.global_variables_initializer()\n",
    "\n",
    "with tf.Session() as sess:\n",
    "    sess.run(init)\n",
    "    i = 0\n",
    "    while i < total_episodes:\n",
    "        s = cBandit.getBandit() # obter estado\n",
    "        \n",
    "        # agir aleatoriamente ou de acordo com a rede\n",
    "        if np.random.rand(1) < e:\n",
    "            action = np.random.randint(cBandit.num_actions)\n",
    "        else:\n",
    "            action = sess.run(myAgent.chosen_action, feed_dict={myAgent.state_in:[s]})\n",
    "        \n",
    "        reward = cBandit.pullArm(action) # obtem recompensa por acao\n",
    "        \n",
    "        # atualize NN\n",
    "        feed_dict = {myAgent.reward_holder:[reward],\n",
    "                     myAgent.action_holder:[action],\n",
    "                     myAgent.state_in:[s]}\n",
    "        _,ww = sess.run([myAgent.update, weights], feed_dict=feed_dict)\n",
    "        \n",
    "        # atualize escores.\n",
    "        total_reward[s,action] += reward\n",
    "        if i % 500 == 0:\n",
    "            print \"Mean reward for each of the \" + str(cBandit.num_bandits) \\\n",
    "                + \" bandits: \" + str(np.mean(total_reward,axis=1))\n",
    "        i+=1\n",
    "        \n",
    "for a in range(cBandit.num_bandits):\n",
    "    print \"The agent thinks action \" + str(np.argmax(ww[a])+1) + \" for bandit \" \\\n",
    "        + str(a+1) + \" is the most promising....\"\n",
    "    if np.argmax(ww[a]) == np.argmin(cBandit.bandits[a]):\n",
    "        print \"...and it was right!\"\n",
    "    else:\n",
    "        print \"...and it was wrong!\""
   ]
  },
  {
   "cell_type": "markdown",
   "metadata": {},
   "source": [
    "## (Estado <-> Ação) -> Recompensa: equilibrando um lápis! "
   ]
  },
  {
   "cell_type": "markdown",
   "metadata": {},
   "source": [
    "Neste jogo, o objetivo é equilibrar um lápis, de ponta a cabeça, na palma da mão, apenas movendo a mão para esquerda ou direita. Agora nosso agente deve ser capaz de observar o mundo (o lápis) e contar com recompensas que tardam a aparecer (vários movimentos antes do lápis cair)"
   ]
  },
  {
   "cell_type": "code",
   "execution_count": 66,
   "metadata": {
    "collapsed": true
   },
   "outputs": [],
   "source": [
    "import numpy as np\n",
    "import cPickle as pickle\n",
    "import tensorflow as tf\n",
    "%matplotlib inline\n",
    "import matplotlib.pyplot as plt\n",
    "import math"
   ]
  },
  {
   "cell_type": "code",
   "execution_count": 67,
   "metadata": {
    "collapsed": false
   },
   "outputs": [
    {
     "name": "stderr",
     "output_type": "stream",
     "text": [
      "Traceback (most recent call last):\n",
      "  File \"/home/marco/Canopy/appdata/canopy-1.7.3.3335.rh5-x86_64/lib/python2.7/logging/__init__.py\", line 874, in emit\n",
      "    stream.write(fs % msg)\n",
      "IOError: [Errno 5] Input/output error\n",
      "Logged from file registration.py, line 90\n",
      "[2017-01-06 17:45:12,566] Making new env: CartPole-v0\n"
     ]
    }
   ],
   "source": [
    "import gym\n",
    "env = gym.make('CartPole-v0')"
   ]
  },
  {
   "cell_type": "markdown",
   "metadata": {},
   "source": [
    "O que acontece se eu tentar equilibrar fazendo movimentos aleatórios? Nesta versão do jogo, do gym, para cada movimento que o agente mantém o lápis no ar, ele ganha um ponto. O objetivo é ganhar ao menos 200."
   ]
  },
  {
   "cell_type": "code",
   "execution_count": 74,
   "metadata": {
    "collapsed": false
   },
   "outputs": [
    {
     "name": "stdout",
     "output_type": "stream",
     "text": [
      "Reward for this episode was: 12.0\n",
      "Reward for this episode was: 17.0\n",
      "Reward for this episode was: 15.0\n",
      "Reward for this episode was: 51.0\n",
      "Reward for this episode was: 20.0\n",
      "Reward for this episode was: 16.0\n",
      "Reward for this episode was: 15.0\n",
      "Reward for this episode was: 19.0\n",
      "Reward for this episode was: 45.0\n",
      "Reward for this episode was: 26.0\n"
     ]
    }
   ],
   "source": [
    "env.reset()\n",
    "random_episodes = 0\n",
    "reward_sum = 0\n",
    "while random_episodes < 10:\n",
    "    env.render()\n",
    "    observation, reward, done, _ = env.step(np.random.randint(0,2))\n",
    "    reward_sum += reward\n",
    "    if done:\n",
    "        random_episodes += 1\n",
    "        print \"Reward for this episode was:\",reward_sum\n",
    "        reward_sum = 0\n",
    "        env.reset()"
   ]
  },
  {
   "cell_type": "markdown",
   "metadata": {},
   "source": [
    "Como vimos o desempenho não é muito alentador. Vamos tentar com uma rede neural."
   ]
  },
  {
   "cell_type": "code",
   "execution_count": 76,
   "metadata": {
    "collapsed": true
   },
   "outputs": [],
   "source": [
    "# hyperparameters\n",
    "H = 10 # num de neuronios na camada escondida\n",
    "batch_size = 5 # quantos episodios antes de atualizar os pesos?\n",
    "learning_rate = 1e-2 # tx de aprendizado.\n",
    "gamma = 0.99 # fator de desconto da recompensa \n",
    "\n",
    "D = 4 # dimensionalidade da entrada"
   ]
  },
  {
   "cell_type": "code",
   "execution_count": 77,
   "metadata": {
    "collapsed": true
   },
   "outputs": [],
   "source": [
    "tf.reset_default_graph()\n",
    "\n",
    "# Rede deste o ponto em que eh feita a observacao do ambiente \n",
    "# ate o fornecimento da probabiliade de escolher a acao: esq ou dir.\n",
    "observations = tf.placeholder(tf.float32, [None,D] , name=\"input_x\")\n",
    "W1 = tf.get_variable(\"W1\", shape=[D, H],\n",
    "           initializer=tf.contrib.layers.xavier_initializer())\n",
    "layer1 = tf.nn.relu(tf.matmul(observations,W1))\n",
    "W2 = tf.get_variable(\"W2\", shape=[H, 1],\n",
    "           initializer=tf.contrib.layers.xavier_initializer())\n",
    "score = tf.matmul(layer1,W2)\n",
    "probability = tf.nn.sigmoid(score)\n",
    "\n",
    "# parte da rede que aprende politica de acao\n",
    "tvars = tf.trainable_variables()\n",
    "input_y = tf.placeholder(tf.float32,[None,1], name=\"input_y\")\n",
    "advantages = tf.placeholder(tf.float32,name=\"reward_signal\")\n",
    "\n",
    "# Funcao de perda: muda pesos na direcao de oferecer acoes mais vantajosas \n",
    "# (recompensa no tempo) com maior probabilidade, e ações menos vantajosas menos provavelmente.\n",
    "loglik = tf.log(input_y*(input_y - probability) + (1 - input_y)*(input_y + probability))\n",
    "loss = -tf.reduce_mean(loglik * advantages) \n",
    "newGrads = tf.gradients(loss,tvars)\n",
    "\n",
    "# Após colecionar gradientes de muitos episódios, eles são aplicados.\n",
    "# Note que os gradientes não são aplicados após cada episódio de forma a lidar\n",
    "# com ruído no sinal de recompensa.\n",
    "adam = tf.train.AdamOptimizer(learning_rate=learning_rate) \n",
    "W1Grad = tf.placeholder(tf.float32,name=\"batch_grad1\") \n",
    "W2Grad = tf.placeholder(tf.float32,name=\"batch_grad2\")\n",
    "batchGrad = [W1Grad,W2Grad]\n",
    "updateGrads = adam.apply_gradients(zip(batchGrad,tvars))"
   ]
  },
  {
   "cell_type": "markdown",
   "metadata": {},
   "source": [
    "**Função de Descontos**: Esta função nos permite ponderar as recompensas recebidas. No contexto do jogo de equilíbrio, o ideal é que ações que mantem o lápis no ar por muito tempo ganhem um prêmio maior e ações que contribuem para a queda do lápis tenham  recompensa negativa ou decrementada. Assim, as ações perto do fim do episódio são ponderadas para menos uma vez que são vistas como mais negativas. As ações no início, ao contrário, são vistas como mais positivas. "
   ]
  },
  {
   "cell_type": "code",
   "execution_count": 78,
   "metadata": {
    "collapsed": true
   },
   "outputs": [],
   "source": [
    "def discount_rewards(r):\n",
    "    \"\"\" calcule desconto sobre 1D-vetor (float) das recompensas \"\"\"\n",
    "    discounted_r = np.zeros_like(r)\n",
    "    running_add = 0\n",
    "    for t in reversed(xrange(0, r.size)):\n",
    "        running_add = running_add * gamma + r[t]\n",
    "        discounted_r[t] = running_add\n",
    "    return discounted_r"
   ]
  },
  {
   "cell_type": "code",
   "execution_count": null,
   "metadata": {
    "collapsed": false
   },
   "outputs": [],
   "source": [
    "xs,hs,dlogps,drs,ys,tfps = [],[],[],[],[],[]\n",
    "running_reward = None\n",
    "reward_sum = 0\n",
    "episode_number = 1\n",
    "total_episodes = 10000\n",
    "init = tf.global_variables_initializer()\n",
    "\n",
    "# Launch the graph\n",
    "with tf.Session() as sess:\n",
    "    rendering = False\n",
    "    sess.run(init)\n",
    "    observation = env.reset() # Obtain an initial observation of the environment\n",
    "\n",
    "    # Reset the gradient placeholder. We will collect gradients in \n",
    "    # gradBuffer until we are ready to update our policy network. \n",
    "    gradBuffer = sess.run(tvars)\n",
    "    for ix,grad in enumerate(gradBuffer):\n",
    "        gradBuffer[ix] = grad * 0\n",
    "    \n",
    "    while episode_number <= total_episodes:\n",
    "        \n",
    "        # Rendering the environment slows things down, \n",
    "        # so let's only look at it once our agent is doing a good job.\n",
    "        if reward_sum/batch_size > 100 or rendering == True : \n",
    "            env.render()\n",
    "            rendering = True\n",
    "            \n",
    "        # Make sure the observation is in a shape the network can handle.\n",
    "        x = np.reshape(observation,[1,D])\n",
    "        \n",
    "        # Run the policy network and get an action to take. \n",
    "        tfprob = sess.run(probability,feed_dict={observations: x})\n",
    "        action = 1 if np.random.uniform() < tfprob else 0\n",
    "        \n",
    "        xs.append(x) # observation\n",
    "        y = 1 if action == 0 else 0 # a \"fake label\"\n",
    "        ys.append(y)\n",
    "\n",
    "        # step the environment and get new measurements\n",
    "        observation, reward, done, info = env.step(action)\n",
    "        reward_sum += reward\n",
    "\n",
    "        drs.append(reward) # record reward (has to be done after we call step() to get reward for previous action)\n",
    "\n",
    "        if done: \n",
    "            episode_number += 1\n",
    "            # stack together all inputs, hidden states, action gradients, and rewards for this episode\n",
    "            epx = np.vstack(xs)\n",
    "            epy = np.vstack(ys)\n",
    "            epr = np.vstack(drs)\n",
    "            tfp = tfps\n",
    "            xs,hs,dlogps,drs,ys,tfps = [],[],[],[],[],[] # reset array memory\n",
    "\n",
    "            # compute the discounted reward backwards through time\n",
    "            discounted_epr = discount_rewards(epr)\n",
    "            # size the rewards to be unit normal (helps control the gradient estimator variance)\n",
    "            discounted_epr -= np.mean(discounted_epr)\n",
    "            discounted_epr /= np.std(discounted_epr)\n",
    "            \n",
    "            # Get the gradient for this episode, and save it in the gradBuffer\n",
    "            tGrad = sess.run(newGrads,feed_dict={observations: epx, input_y: epy, advantages: discounted_epr})\n",
    "            for ix,grad in enumerate(tGrad):\n",
    "                gradBuffer[ix] += grad\n",
    "                \n",
    "            # If we have completed enough episodes, then update the policy network with our gradients.\n",
    "            if episode_number % batch_size == 0: \n",
    "                sess.run(updateGrads,feed_dict={W1Grad: gradBuffer[0],W2Grad:gradBuffer[1]})\n",
    "                for ix,grad in enumerate(gradBuffer):\n",
    "                    gradBuffer[ix] = grad * 0\n",
    "                \n",
    "                # Give a summary of how well our network is doing for each batch of episodes.\n",
    "                running_reward = reward_sum if running_reward is None else running_reward * 0.99 + reward_sum * 0.01\n",
    "                print 'Average reward for episode %f.  Total average reward %f.' % (reward_sum/batch_size, running_reward/batch_size)\n",
    "                \n",
    "                if reward_sum/batch_size > 200: \n",
    "                    print \"Task solved in\",episode_number,'episodes!'\n",
    "                    break\n",
    "                    \n",
    "                reward_sum = 0\n",
    "            \n",
    "            observation = env.reset()\n",
    "        \n",
    "print episode_number,'Episodes completed.'"
   ]
  },
  {
   "cell_type": "markdown",
   "metadata": {
    "collapsed": true
   },
   "source": [
    "Este curso é baseado em material disponível em https://medium.com/emergent-future/simple-reinforcement-learning-with-tensorflow-part-0-q-learning-with-tables-and-neural-networks-d195264329d0#.tflji3pdd"
   ]
  }
 ],
 "metadata": {
  "kernelspec": {
   "display_name": "Python 2",
   "language": "python",
   "name": "python2"
  },
  "language_info": {
   "codemirror_mode": {
    "name": "ipython",
    "version": 2
   },
   "file_extension": ".py",
   "mimetype": "text/x-python",
   "name": "python",
   "nbconvert_exporter": "python",
   "pygments_lexer": "ipython2",
   "version": "2.7.10"
  }
 },
 "nbformat": 4,
 "nbformat_minor": 0
}
