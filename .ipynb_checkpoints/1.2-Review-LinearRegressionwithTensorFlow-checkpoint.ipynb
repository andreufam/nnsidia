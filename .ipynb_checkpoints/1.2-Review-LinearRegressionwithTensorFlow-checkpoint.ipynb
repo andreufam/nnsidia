{
 "cells": [
  {
   "cell_type": "markdown",
   "metadata": {
    "collapsed": true
   },
   "source": [
    "# REGRESSÃO LINEAR COM TENSORFLOW"
   ]
  },
  {
   "cell_type": "markdown",
   "metadata": {},
   "source": [
    "Esta aula revisa regressão linear e fornece uma implementação para ela em TensorFlow."
   ]
  },
  {
   "cell_type": "markdown",
   "metadata": {},
   "source": [
    "<a id=\"ref1\"></a>\n",
    "# Regressão Linear (RL)\n",
    "\n",
    "Descrição linear de uma ou mais variáveis apartir de uma ou mais outras variáveis. No caso mais comum, temos uma variável dependente ou saída (o alvo da previsão) e _n_ outras, chamadas de independente ou as entradas. Esta é a regressão múltipla, uma referência a múltiplas entradas (quando há múltiplas saídas, dizemos que a regressão é multivariada).\n",
    "\n",
    "Essa relação é representada como:\n",
    "\n",
    "$$Y = a X + b $$\n",
    "\n",
    "onde Y é a saída e X são as entradas, <b>a</b> e <b>b</b> são os pesos ou  parâmetros a ajustar. <b> a </b> é chamado também de \"inclinação\" e <b> b </b> a \"interceptação\". Nesta função Y é dito ser função de X ou dependente de X.\n",
    "\n",
    "O gráfico dessa função corresponde a uma linha. Mudanças na \"inclinação\" mudam o ângulo da linha enquanto mudanças no \"interceptação\" afetam a altura em que ela cruza o eixo."
   ]
  },
  {
   "cell_type": "code",
   "execution_count": 2,
   "metadata": {
    "collapsed": false
   },
   "outputs": [
    {
     "name": "stderr",
     "output_type": "stream",
     "text": [
      "/Users/marcocristo/Library/Enthought/Canopy_64bit/User/lib/python2.7/site-packages/matplotlib/font_manager.py:273: UserWarning: Matplotlib is building the font cache using fc-list. This may take a moment.\n",
      "  warnings.warn('Matplotlib is building the font cache using fc-list. This may take a moment.')\n"
     ]
    }
   ],
   "source": [
    "import numpy as np\n",
    "import tensorflow as tf\n",
    "import matplotlib.patches as mpatches\n",
    "import matplotlib.pyplot as plt\n",
    "%matplotlib inline\n",
    "plt.rcParams['figure.figsize'] = (10, 6)"
   ]
  },
  {
   "cell_type": "markdown",
   "metadata": {},
   "source": [
    "Um exemplo de X:"
   ]
  },
  {
   "cell_type": "code",
   "execution_count": 4,
   "metadata": {
    "collapsed": false
   },
   "outputs": [
    {
     "data": {
      "text/plain": [
       "array([ 0. ,  0.1,  0.2,  0.3,  0.4,  0.5,  0.6,  0.7,  0.8,  0.9,  1. ,\n",
       "        1.1,  1.2,  1.3,  1.4,  1.5,  1.6,  1.7,  1.8,  1.9,  2. ,  2.1,\n",
       "        2.2,  2.3,  2.4,  2.5,  2.6,  2.7,  2.8,  2.9,  3. ,  3.1,  3.2,\n",
       "        3.3,  3.4,  3.5,  3.6,  3.7,  3.8,  3.9,  4. ,  4.1,  4.2,  4.3,\n",
       "        4.4,  4.5,  4.6,  4.7,  4.8,  4.9])"
      ]
     },
     "execution_count": 4,
     "metadata": {},
     "output_type": "execute_result"
    }
   ],
   "source": [
    "X = np.arange(0.0, 5.0, 0.1)\n",
    "X"
   ]
  },
  {
   "cell_type": "code",
   "execution_count": 19,
   "metadata": {
    "collapsed": false
   },
   "outputs": [
    {
     "data": {
      "image/png": "[encoded data removed]",
      "text/plain": [
       "<matplotlib.figure.Figure at 0x110eb2c10>"
      ]
     },
     "metadata": {},
     "output_type": "display_data"
    }
   ],
   "source": [
    "## modifique a e b para ver como eles afetam a linha\n",
    "a = 3 # inclinação/slope\n",
    "b = 2 # interceptação\n",
    "\n",
    "Y= a*X + b \n",
    "\n",
    "plt.plot(X,Y) \n",
    "plt.ylabel('Dependent Variable')\n",
    "plt.xlabel('Indepdendent Variable')\n",
    "plt.show()"
   ]
  },
  {
   "cell_type": "markdown",
   "metadata": {},
   "source": [
    "<a id=\"ref2\"></a>\n",
    "# RL com TensorFlow\n",
    "<h6>Um exemplo de RL simples. </h6>\n",
    "\n",
    "Vamos gerar pontos aleatórios e definir uma relação linear e, depois, usar TensorFlow para ajustar os parâmetros.\n"
   ]
  },
  {
   "cell_type": "code",
   "execution_count": 15,
   "metadata": {
    "collapsed": true
   },
   "outputs": [],
   "source": [
    "x_data = np.random.rand(100).astype(np.float32)"
   ]
  },
  {
   "cell_type": "markdown",
   "metadata": {},
   "source": [
    "Neste exemplo, vamos usar a seguinte equação:\n",
    "\n",
    "$$Y = 3 X + 2 $$\n",
    "\n",
    "Com esta equação, vamos gerar alguns pontos aleatórios, adicionando algum ruído Gaussiano."
   ]
  },
  {
   "cell_type": "code",
   "execution_count": 21,
   "metadata": {
    "collapsed": false
   },
   "outputs": [],
   "source": [
    "y_original_data = x_data * 3 + 2\n",
    "noisef = lambda y: y + np.random.normal(loc=0.0, scale=0.1)\n",
    "y_data = np.vectorize(noisef)(y_original_data)"
   ]
  },
  {
   "cell_type": "code",
   "execution_count": 23,
   "metadata": {
    "collapsed": false
   },
   "outputs": [
    {
     "data": {
      "text/plain": [
       "[<matplotlib.lines.Line2D at 0x111ad02d0>]"
      ]
     },
     "execution_count": 23,
     "metadata": {},
     "output_type": "execute_result"
    },
    {
     "data": {
      "image/png": "[encoded data removed]",
      "text/plain": [
       "<matplotlib.figure.Figure at 0x111a52b50>"
      ]
     },
     "metadata": {},
     "output_type": "display_data"
    }
   ],
   "source": [
    "plt.plot(x_data, y_data, '.')"
   ]
  },
  {
   "cell_type": "markdown",
   "metadata": {},
   "source": [
    "Vamos primeiro definir __a__ e __b__ aleatoriamente e então definir a função linear:"
   ]
  },
  {
   "cell_type": "code",
   "execution_count": 25,
   "metadata": {
    "collapsed": false
   },
   "outputs": [],
   "source": [
    "a = tf.Variable(1.0)\n",
    "b = tf.Variable(0.2)\n",
    "y = a * x_data + b"
   ]
  },
  {
   "cell_type": "markdown",
   "metadata": {},
   "source": [
    "Nossa estimativa da função correta deve ter pontos muito próximos dos pontos dados. Logo para obter a função correta, a diferença do quadrado das distâncias entre os pontos estimados e os reais deve ser mínima. Isso define nossa função de perda (loss function). Assim, vamos usar  __tf.reduce_mean()__ aplicada ao quadrado das diferenças dos pontos:"
   ]
  },
  {
   "cell_type": "code",
   "execution_count": 26,
   "metadata": {
    "collapsed": false
   },
   "outputs": [],
   "source": [
    "loss = tf.reduce_mean(tf.square(y - y_data))"
   ]
  },
  {
   "cell_type": "markdown",
   "metadata": {},
   "source": [
    "Para fazer a minimização, podemos usar o gradiente descendente com uma taxa de aprendizado de 0.5: <br/>  \n",
    "Ou seja, nosso método de treino para obter a e b é: __tf.train.GradientDescentOptimizer.  \n",
    ".minimize()__."
   ]
  },
  {
   "cell_type": "code",
   "execution_count": 28,
   "metadata": {
    "collapsed": false
   },
   "outputs": [],
   "source": [
    "optimizer = tf.train.GradientDescentOptimizer(0.5)\n",
    "train = optimizer.minimize(loss)"
   ]
  },
  {
   "cell_type": "markdown",
   "metadata": {},
   "source": [
    "Para rodar o modelo, primeiro iniciamos as variáveis:"
   ]
  },
  {
   "cell_type": "code",
   "execution_count": 29,
   "metadata": {
    "collapsed": true
   },
   "outputs": [],
   "source": [
    "init = tf.initialize_all_variables()\n",
    "sess = tf.Session()\n",
    "sess.run(init)"
   ]
  },
  {
   "cell_type": "markdown",
   "metadata": {},
   "source": [
    "E então rodamos o grafo:"
   ]
  },
  {
   "cell_type": "code",
   "execution_count": 30,
   "metadata": {
    "collapsed": false
   },
   "outputs": [
    {
     "name": "stdout",
     "output_type": "stream",
     "text": [
      "(0, [2.4595256, 2.9336464])\n",
      "(5, [2.4567266, 2.270236])\n",
      "(10, [2.642885, 2.1768906])\n",
      "(15, [2.7736611, 2.1109672])\n",
      "(20, [2.8656297, 2.0646064])\n",
      "(25, [2.9303069, 2.0320032])\n",
      "(30, [2.9757912, 2.0090752])\n",
      "(35, [3.0077782, 1.9929507])\n",
      "(40, [3.030273, 1.9816113])\n",
      "(45, [3.0460923, 1.9736367])\n",
      "(50, [3.0572176, 1.9680288])\n",
      "(55, [3.0650415, 1.9640847])\n",
      "(60, [3.0705435, 1.9613111])\n",
      "(65, [3.0744126, 1.9593607])\n",
      "(70, [3.0771337, 1.9579891])\n",
      "(75, [3.0790472, 1.9570245])\n",
      "(80, [3.0803931, 1.9563462])\n",
      "(85, [3.0813394, 1.9558691])\n",
      "(90, [3.082005, 1.9555335])\n",
      "(95, [3.082473, 1.9552976])\n"
     ]
    }
   ],
   "source": [
    "train_data = []\n",
    "for step in range(100):\n",
    "    evals = sess.run([train,a,b])[1:]\n",
    "    if step % 5 == 0:\n",
    "        print(step, evals)\n",
    "        train_data.append(evals)"
   ]
  },
  {
   "cell_type": "markdown",
   "metadata": {},
   "source": [
    "Note que nossas estimativas iniciais convergiram para os valores corretos. Isso pode ser visto também no gráfico abaixo, onde as estimativas sucessivas são exibidas:"
   ]
  },
  {
   "cell_type": "code",
   "execution_count": 31,
   "metadata": {
    "collapsed": false,
    "scrolled": true
   },
   "outputs": [
    {
     "data": {
      "image/png": "[encoded data removed]",
      "text/plain": [
       "<matplotlib.figure.Figure at 0x1101fdb90>"
      ]
     },
     "metadata": {},
     "output_type": "display_data"
    }
   ],
   "source": [
    "converter = plt.colors\n",
    "cr, cg, cb = (1.0, 1.0, 0.0)\n",
    "for f in train_data:\n",
    "    cb += 1.0 / len(train_data)\n",
    "    cg -= 1.0 / len(train_data)\n",
    "    if cb > 1.0: cb = 1.0\n",
    "    if cg < 0.0: cg = 0.0\n",
    "    [a, b] = f\n",
    "    f_y = np.vectorize(lambda x: a*x + b)(x_data)\n",
    "    line = plt.plot(x_data, f_y)\n",
    "    plt.setp(line, color=(cr,cg,cb))\n",
    "\n",
    "plt.plot(x_data, y_data, 'ro')\n",
    "\n",
    "green_line = mpatches.Patch(color='red', label='Data Points')\n",
    "\n",
    "plt.legend(handles=[green_line])\n",
    "\n",
    "plt.show()"
   ]
  },
  {
   "cell_type": "markdown",
   "metadata": {},
   "source": [
    "Este curso é baseado em material da [Big Data University](https://bigdatauniversity.com/?utm_source=bducopyrightlink&utm_medium=dswb&utm_campaign=bdu). Assim, segue os termos da [licença do MIT](https://bigdatauniversity.com/mit-license/). Aula modificada por Marco Cristo apartir de versão de Rafael Belo Da Silva"
   ]
  }
 ],
 "metadata": {
  "kernelspec": {
   "display_name": "Python 2",
   "language": "python",
   "name": "python2"
  },
  "language_info": {
   "codemirror_mode": {
    "name": "ipython",
    "version": 2
   },
   "file_extension": ".py",
   "mimetype": "text/x-python",
   "name": "python",
   "nbconvert_exporter": "python",
   "pygments_lexer": "ipython2",
   "version": "2.7.10"
  },
  "widgets": {
   "state": {},
   "version": "1.1.2"
  }
 },
 "nbformat": 4,
 "nbformat_minor": 0
}
