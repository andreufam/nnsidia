{
 "cells": [
  {
   "cell_type": "markdown",
   "metadata": {},
   "source": [
    "# Redes Neurais Feedforward (FNN/DNN)"
   ]
  },
  {
   "cell_type": "markdown",
   "metadata": {},
   "source": [
    "## Nota de aula, 14 de setembro"
   ]
  },
  {
   "cell_type": "code",
   "execution_count": 3,
   "metadata": {},
   "outputs": [
    {
     "name": "stderr",
     "output_type": "stream",
     "text": [
      "/Users/marcocristo/Library/Enthought/Canopy_64bit/User/lib/python2.7/site-packages/matplotlib/font_manager.py:273: UserWarning: Matplotlib is building the font cache using fc-list. This may take a moment.\n",
      "  warnings.warn('Matplotlib is building the font cache using fc-list. This may take a moment.')\n"
     ]
    }
   ],
   "source": [
    "import tensorflow as tf\n",
    "import numpy as np\n",
    "import matplotlib.pyplot as plt\n",
    "%matplotlib inline\n",
    "\n",
    "from tensorflow.examples.tutorials.mnist import input_data"
   ]
  },
  {
   "cell_type": "code",
   "execution_count": 4,
   "metadata": {},
   "outputs": [
    {
     "name": "stdout",
     "output_type": "stream",
     "text": [
      "Extracting data/MNIST_data/train-images-idx3-ubyte.gz\n",
      "Extracting data/MNIST_data/train-labels-idx1-ubyte.gz\n",
      "Extracting data/MNIST_data/t10k-images-idx3-ubyte.gz\n",
      "Extracting data/MNIST_data/t10k-labels-idx1-ubyte.gz\n"
     ]
    }
   ],
   "source": [
    "mnist = input_data.read_data_sets('data/MNIST_data')"
   ]
  },
  {
   "cell_type": "code",
   "execution_count": 5,
   "metadata": {},
   "outputs": [
    {
     "name": "stdout",
     "output_type": "stream",
     "text": [
      "55000\n",
      "10000\n",
      "5000\n"
     ]
    }
   ],
   "source": [
    "print mnist.train.num_examples\n",
    "print mnist.test.num_examples\n",
    "print mnist.validation.num_examples"
   ]
  },
  {
   "cell_type": "code",
   "execution_count": 6,
   "metadata": {},
   "outputs": [
    {
     "name": "stdout",
     "output_type": "stream",
     "text": [
      "5\n"
     ]
    },
    {
     "data": {
      "image/png": "[encoded data removed]",
      "text/plain": [
       "<matplotlib.figure.Figure at 0x11433e210>"
      ]
     },
     "metadata": {},
     "output_type": "display_data"
    }
   ],
   "source": [
    "import random\n",
    "idx = random.randint(1, mnist.train.num_examples)\n",
    "img = mnist.train.images[idx].reshape((28,28))\n",
    "plt.matshow(img, cmap = 'gray')\n",
    "print mnist.train.labels[idx]"
   ]
  },
  {
   "cell_type": "code",
   "execution_count": 7,
   "metadata": {
    "collapsed": true
   },
   "outputs": [],
   "source": [
    "class Activation(object):\n",
    "    \"\"\"Funcao de ativacao\"\"\"\n",
    "    def __init__(self, name):\n",
    "        self.name = name\n",
    "        \n",
    "    def init(self, n_inputs, n_outputs):\n",
    "        'Xavier'\n",
    "        if self.name == 'sigmoid':\n",
    "            s = np.sqrt(2. / (n_inputs + n_outputs))\n",
    "            return tf.truncated_normal((n_inputs, n_outputs), \n",
    "                                       stddev = s)\n",
    "        elif self.name == 'relu':\n",
    "            s = 2. / np.sqrt((n_inputs + n_outputs))\n",
    "            return tf.truncated_normal((n_inputs, n_outputs), \n",
    "                                       stddev = s)\n",
    "        else:\n",
    "            return tf.random_uniform([n_inputs, n_outputs], -1.0, 1.0)\n",
    "        \n",
    "    def fire(self, ypred):\n",
    "        if self.name == 'sigmoid':\n",
    "            return tf.nn.sigmoid(ypred) \n",
    "        elif self.name == 'relu':\n",
    "            return tf.nn.relu(ypred) \n",
    "        else:\n",
    "            return ypred\n",
    "            \n",
    "class Layer(object):\n",
    "    \"\"\"Camada de rede neural sequencial\"\"\"\n",
    "    def __init__(self, units, activation = None, name = None):\n",
    "        self.units = units\n",
    "        self.name = name \n",
    "        self.activation = activation if activation != None else Activation('')\n",
    "        \n",
    "    def output(self, X):\n",
    "        n_inputs = int(X.get_shape()[1])\n",
    "        with tf.name_scope(self.name):\n",
    "            self.W = tf.Variable(self.activation.init(n_inputs, self.units), name = 'W')\n",
    "            self.b = tf.Variable(tf.zeros([self.units]), name = 'b')\n",
    "            ypred = self.activation.fire(tf.matmul(X, self.W) + self.b)\n",
    "        return ypred\n",
    "\n",
    "class LossFunction(object):\n",
    "    def __init__(self, name = 'sigmoid'):\n",
    "        self.name = name\n",
    "\n",
    "    def get(self, yreal, ypred):\n",
    "        if self.name == 'sigmoid':\n",
    "            loss = tf.nn.sparse_softmax_cross_entropy_with_logits(\n",
    "                labels = yreal, logits = ypred) \n",
    "        return tf.reduce_mean(loss, name = 'lossf')\n",
    "    \n",
    "class Optimizer(object):\n",
    "    def __init__(self, name = 'sgd', lrate = 0.1):\n",
    "        self.name = name\n",
    "        self.lrate = lrate\n",
    "\n",
    "    def get(self, lossf):\n",
    "        if self.name == 'sgd':\n",
    "            opt = tf.train.GradientDescentOptimizer(learning_rate = self.lrate) \n",
    "        return opt.minimize(lossf)\n",
    "    \n",
    "class FeedforwardNeuralNet(object):\n",
    "    \"\"\"Rede neural sequencial\"\"\"\n",
    "    def __init__(self, input_dim, lrate = 0.1):\n",
    "        self.input_dim = input_dim\n",
    "        self.lrate = lrate\n",
    "        self.layers = []\n",
    "        \n",
    "    def add(self, units, activation = None, name = None):\n",
    "        \"\"\"Adiciona camadas para rede neural\"\"\"\n",
    "        self.layers += [Layer(units, activation, name)]\n",
    "    \n",
    "    def compile(self, loss = 'sigmoid', optimizer = 'sgd'):\n",
    "        \"\"\"Cria grafo da rede neural\"\"\"\n",
    "        self.X = tf.placeholder(tf.float32, \n",
    "                           shape = (None, self.input_dim), \n",
    "                           name = 'X')\n",
    "        self.y = tf.placeholder(tf.int64, shape = (None), name = 'y')\n",
    "        \n",
    "        # cria layers\n",
    "        with tf.name_scope('layers'):\n",
    "            layer_in = self.X\n",
    "            for layer in self.layers:\n",
    "                layer_out = layer.output(layer_in)\n",
    "                layer_in = layer_out\n",
    "                    \n",
    "        # loss function\n",
    "        with tf.name_scope('loss'):\n",
    "            self.lossf = LossFunction(loss).get(self.y, layer_out)\n",
    "    \n",
    "        # optimizer\n",
    "        with tf.name_scope('train'):\n",
    "            self.train_op = Optimizer(optimizer, self.lrate).get(self.lossf)\n",
    "            \n",
    "        # evalution metrics\n",
    "        with tf.name_scope('eval'):\n",
    "            correct = tf.nn.in_top_k(layer_out, self.y, 1)\n",
    "            self.acc = tf.reduce_mean(tf.cast(correct, tf.float32))\n",
    "            \n",
    "        self.init_op = tf.global_variables_initializer()\n",
    "        self.saver = tf.train.Saver()\n",
    "    \n",
    "    def fit(self, train_data, n_epochs, batch_size, val_data = None):\n",
    "        \"\"\"Executa treino da rede neural\"\"\"\n",
    "        num_batches = train_data.num_examples // batch_size\n",
    "        with tf.Session() as s:\n",
    "            s.run(self.init_op)\n",
    "            for e in range(n_epochs):\n",
    "                tloss = 0.\n",
    "                for i in range(num_batches):\n",
    "                    X_b, y_b = train_data.next_batch(batch_size)\n",
    "                    _, loss_e = s.run([self.train_op, self.lossf], \n",
    "                                      feed_dict = {self.X: X_b, self.y: y_b})\n",
    "                    tloss += loss_e\n",
    "                acc_train = s.run(self.acc, \n",
    "                                  feed_dict = {self.X: X_b, self.y: y_b})\n",
    "                if val_data:\n",
    "                    acc_val = s.run(self.acc, \n",
    "                                    feed_dict = {self.X: val_data.images, \n",
    "                                                 self.y: val_data.labels})\n",
    "                    print '%2d loss: %.8f acct: %.3f accv: %.3f' % (e, \n",
    "                                                                    tloss/num_batches, \n",
    "                                                                    acc_train, acc_val)\n",
    "                else:\n",
    "                    print '%2d loss: %.8f acc: %.3f' % (e, tloss/num_batches, acc_train)\n",
    "            self.saver.save(s, '/tmp/model.ckpt')\n",
    "    \n",
    "    def evaluate(self, X_test, y_test):\n",
    "        \"\"\"Avalia rede neural em colecao de teste\"\"\"\n",
    "        with tf.Session() as s:\n",
    "            self.saver.restore(s, '/tmp/model.ckpt')\n",
    "            acc_test = s.run(self.acc, \n",
    "                             feed_dict = {self.X: X_test, self.y: y_test})\n",
    "        return acc_test"
   ]
  },
  {
   "cell_type": "code",
   "execution_count": 19,
   "metadata": {
    "collapsed": true
   },
   "outputs": [],
   "source": [
    "tf.reset_default_graph()\n",
    "\n",
    "model = FeedforwardNeuralNet(28 * 28)\n",
    "\n",
    "model.add(units = 300, activation = Activation('sigmoid'), name = 'h1')\n",
    "model.add(units = 100, activation = Activation('sigmoid'), name = 'h2')\n",
    "model.add(units = 10, name = 'out')\n",
    "\n",
    "model.compile()"
   ]
  },
  {
   "cell_type": "code",
   "execution_count": 22,
   "metadata": {},
   "outputs": [
    {
     "name": "stdout",
     "output_type": "stream",
     "text": [
      " 0 loss: 0.75213411 acct: 0.880 accv: 0.875\n",
      " 1 loss: 0.37330848 acct: 0.960 accv: 0.900\n",
      " 2 loss: 0.30337257 acct: 0.860 accv: 0.915\n",
      " 3 loss: 0.26375390 acct: 0.960 accv: 0.922\n",
      " 4 loss: 0.23598204 acct: 0.960 accv: 0.930\n",
      " 5 loss: 0.21503733 acct: 0.960 accv: 0.933\n",
      " 6 loss: 0.19778006 acct: 0.880 accv: 0.935\n",
      " 7 loss: 0.18335625 acct: 0.960 accv: 0.941\n",
      " 8 loss: 0.17090644 acct: 0.900 accv: 0.944\n",
      " 9 loss: 0.15972942 acct: 0.940 accv: 0.943\n"
     ]
    }
   ],
   "source": [
    "model.fit(mnist.train, n_epochs = 10, \n",
    "          batch_size = 50, val_data = mnist.validation)"
   ]
  },
  {
   "cell_type": "code",
   "execution_count": 23,
   "metadata": {},
   "outputs": [
    {
     "name": "stdout",
     "output_type": "stream",
     "text": [
      "INFO:tensorflow:Restoring parameters from /tmp/model.ckpt\n"
     ]
    },
    {
     "data": {
      "text/plain": [
       "0.94139999"
      ]
     },
     "execution_count": 23,
     "metadata": {},
     "output_type": "execute_result"
    }
   ],
   "source": [
    "model.evaluate(mnist.test.images, mnist.test.labels)"
   ]
  },
  {
   "cell_type": "code",
   "execution_count": 28,
   "metadata": {
    "collapsed": true
   },
   "outputs": [],
   "source": [
    "tf.reset_default_graph()\n",
    "\n",
    "model = FeedforwardNeuralNet(28 * 28)\n",
    "\n",
    "model.add(units = 300, activation = Activation('sigmoid'), name = 'h1')\n",
    "model.add(units = 100, activation = Activation('sigmoid'), name = 'h2')\n",
    "model.add(units = 10, name = 'out')\n",
    "\n",
    "model.compile()"
   ]
  },
  {
   "cell_type": "code",
   "execution_count": 29,
   "metadata": {},
   "outputs": [
    {
     "name": "stdout",
     "output_type": "stream",
     "text": [
      " 0 loss: 0.62858660 acct: 0.920 accv: 0.909\n",
      " 1 loss: 0.32681460 acct: 0.940 accv: 0.919\n",
      " 2 loss: 0.29023756 acct: 0.960 accv: 0.927\n",
      " 3 loss: 0.26500587 acct: 0.880 accv: 0.929\n",
      " 4 loss: 0.24366607 acct: 0.960 accv: 0.936\n",
      " 5 loss: 0.22405101 acct: 0.980 accv: 0.942\n",
      " 6 loss: 0.20560956 acct: 1.000 accv: 0.947\n",
      " 7 loss: 0.18955311 acct: 0.980 accv: 0.952\n",
      " 8 loss: 0.17470819 acct: 0.980 accv: 0.955\n",
      " 9 loss: 0.16276454 acct: 0.980 accv: 0.958\n"
     ]
    }
   ],
   "source": [
    "model.fit(mnist.train, n_epochs = 10, \n",
    "          batch_size = 50, val_data = mnist.validation)"
   ]
  },
  {
   "cell_type": "code",
   "execution_count": 30,
   "metadata": {},
   "outputs": [
    {
     "name": "stdout",
     "output_type": "stream",
     "text": [
      "INFO:tensorflow:Restoring parameters from /tmp/model.ckpt\n"
     ]
    },
    {
     "data": {
      "text/plain": [
       "0.95249999"
      ]
     },
     "execution_count": 30,
     "metadata": {},
     "output_type": "execute_result"
    }
   ],
   "source": [
    "model.evaluate(mnist.test.images, mnist.test.labels)"
   ]
  },
  {
   "cell_type": "code",
   "execution_count": 31,
   "metadata": {
    "collapsed": true
   },
   "outputs": [],
   "source": [
    "tf.reset_default_graph()\n",
    "\n",
    "model = FeedforwardNeuralNet(28 * 28)\n",
    "\n",
    "model.add(units = 300, activation = Activation('relu'), name = 'h1')\n",
    "model.add(units = 100, activation = Activation('relu'), name = 'h2')\n",
    "model.add(units = 10, name = 'out')\n",
    "\n",
    "model.compile()"
   ]
  },
  {
   "cell_type": "code",
   "execution_count": 32,
   "metadata": {},
   "outputs": [
    {
     "name": "stdout",
     "output_type": "stream",
     "text": [
      " 0 loss: 0.25013319 acct: 1.000 accv: 0.961\n",
      " 1 loss: 0.09850866 acct: 1.000 accv: 0.971\n",
      " 2 loss: 0.06528015 acct: 1.000 accv: 0.973\n",
      " 3 loss: 0.04335726 acct: 1.000 accv: 0.976\n",
      " 4 loss: 0.03146065 acct: 1.000 accv: 0.980\n",
      " 5 loss: 0.02178990 acct: 1.000 accv: 0.978\n",
      " 6 loss: 0.01501614 acct: 1.000 accv: 0.981\n",
      " 7 loss: 0.01073761 acct: 1.000 accv: 0.979\n",
      " 8 loss: 0.00757865 acct: 1.000 accv: 0.982\n",
      " 9 loss: 0.00511285 acct: 1.000 accv: 0.981\n"
     ]
    }
   ],
   "source": [
    "model.fit(mnist.train, n_epochs = 10, \n",
    "          batch_size = 50, val_data = mnist.validation)"
   ]
  },
  {
   "cell_type": "code",
   "execution_count": 33,
   "metadata": {},
   "outputs": [
    {
     "name": "stdout",
     "output_type": "stream",
     "text": [
      "INFO:tensorflow:Restoring parameters from /tmp/model.ckpt\n"
     ]
    },
    {
     "data": {
      "text/plain": [
       "0.9788"
      ]
     },
     "execution_count": 33,
     "metadata": {},
     "output_type": "execute_result"
    }
   ],
   "source": [
    "model.evaluate(mnist.test.images, mnist.test.labels)"
   ]
  },
  {
   "cell_type": "markdown",
   "metadata": {},
   "source": [
    "## Nota de aula, 19 de setembro"
   ]
  },
  {
   "cell_type": "code",
   "execution_count": null,
   "metadata": {
    "collapsed": true
   },
   "outputs": [],
   "source": [
    "# valores de SELU para media 0, desvio 1\n",
    "# ver paper para detalhes\n",
    "def selu(z,\n",
    "         scale = 1.0507009873554804934193349852946,\n",
    "         alpha = 1.6732632423543772848170429916717):\n",
    "    return scale * elu(z, alpha)"
   ]
  },
  {
   "cell_type": "code",
   "execution_count": 8,
   "metadata": {
    "collapsed": true
   },
   "outputs": [],
   "source": [
    "class Activation(object):\n",
    "    \"\"\"Funcao de ativacao\"\"\"\n",
    "    def __init__(self, name):\n",
    "        self.name = name\n",
    "        \n",
    "    def init(self, n_inputs, n_outputs):\n",
    "        'Xavier'\n",
    "        if self.name == 'sigmoid':\n",
    "            s = np.sqrt(2. / (n_inputs + n_outputs))\n",
    "            return tf.truncated_normal((n_inputs, n_outputs), \n",
    "                                       stddev = s)\n",
    "        elif self.name == 'relu':\n",
    "            s = 2. / np.sqrt((n_inputs + n_outputs))\n",
    "            return tf.truncated_normal((n_inputs, n_outputs), \n",
    "                                       stddev = s)\n",
    "        elif self.name == 'selu': ##\n",
    "            s = np.sqrt(1. / n_inputs)\n",
    "            return tf.truncated_normal((n_inputs, n_outputs), \n",
    "                                       stddev = s)\n",
    "        else:\n",
    "            return tf.random_uniform([n_inputs, n_outputs], -1.0, 1.0)\n",
    "        \n",
    "    def fire(self, ypred):\n",
    "        def selu(z, ##\n",
    "                 scale = 1.0507009873554804934193349852946, \n",
    "                 alpha = 1.6732632423543772848170429916717):\n",
    "            return scale * tf.where(z >= 0.0, z, alpha * tf.nn.elu(z))\n",
    "        \n",
    "        if self.name == 'sigmoid':\n",
    "            return tf.nn.sigmoid(ypred) \n",
    "        elif self.name == 'relu':\n",
    "            return tf.nn.relu(ypred) \n",
    "        elif self.name == 'selu':\n",
    "            return selu(ypred) ## \n",
    "        else:\n",
    "            return ypred"
   ]
  },
  {
   "cell_type": "code",
   "execution_count": 9,
   "metadata": {
    "collapsed": true
   },
   "outputs": [],
   "source": [
    "class SNN(FeedforwardNeuralNet):\n",
    "    \"\"\"Rede neural sequencial\"\"\"\n",
    "    def __init__(self, input_dim, lrate = 0.1):\n",
    "        FeedforwardNeuralNet.__init__(self, input_dim, lrate)\n",
    "           \n",
    "    def fit(self, train_data, n_epochs, batch_size, val_data = None):\n",
    "        \"\"\"Executa treino da rede neural\"\"\"\n",
    "        # obtendo medias e desvios\n",
    "        self.means = train_data.images.mean(axis=0, keepdims=True)\n",
    "        self.stds = train_data.images.std(axis=0, keepdims=True) + 1e-10\n",
    "        \n",
    "        if val_data:\n",
    "            X_v_scaled = (val_data.images - self.means) / self.stds ##\n",
    "            \n",
    "        num_batches = train_data.num_examples // batch_size\n",
    "        with tf.Session() as s:\n",
    "            s.run(self.init_op)\n",
    "            for e in range(n_epochs):\n",
    "                tloss = 0.\n",
    "                for i in range(num_batches):\n",
    "                    X_b, y_b = train_data.next_batch(batch_size)\n",
    "                    # escalando dados\n",
    "                    X_b_scaled = (X_b - self.means) / self.stds ##\n",
    "                    _, loss_e = s.run([self.train_op, self.lossf], \n",
    "                                      feed_dict = {self.X: X_b_scaled, ##\n",
    "                                                   self.y: y_b})\n",
    "                    tloss += loss_e\n",
    "                acc_train = s.run(self.acc, \n",
    "                                  feed_dict = {self.X: X_b_scaled, ##\n",
    "                                               self.y: y_b})\n",
    "                if val_data:\n",
    "                    acc_val = s.run(self.acc, \n",
    "                                    feed_dict = {self.X: X_v_scaled, ##\n",
    "                                                 self.y: val_data.labels})\n",
    "                    print '%2d loss: %.8f acct: %.3f accv: %.3f' % (e, \n",
    "                                                                    tloss/num_batches, \n",
    "                                                                    acc_train, acc_val)\n",
    "                else:\n",
    "                    print '%2d loss: %.8f acc: %.3f' % (e, tloss/num_batches, acc_train)\n",
    "            self.saver.save(s, '/tmp/model.ckpt')\n",
    "    \n",
    "    def evaluate(self, X_test, y_test):\n",
    "        \"\"\"Avalia rede neural em colecao de teste\"\"\"\n",
    "        with tf.Session() as s:\n",
    "            self.saver.restore(s, '/tmp/model.ckpt')\n",
    "            X_test_s = (X_test - self.means) / self.stds ##\n",
    "            acc_test = s.run(self.acc, \n",
    "                             feed_dict = {self.X: X_test_s, \n",
    "                                          self.y: y_test})\n",
    "        return acc_test"
   ]
  },
  {
   "cell_type": "code",
   "execution_count": 10,
   "metadata": {
    "collapsed": true
   },
   "outputs": [],
   "source": [
    "tf.reset_default_graph()\n",
    "\n",
    "model = SNN(28 * 28)\n",
    "\n",
    "model.add(units = 300, activation = Activation('selu'), name = 'h1')\n",
    "model.add(units = 100, activation = Activation('selu'), name = 'h2')\n",
    "model.add(units = 10, name = 'out')\n",
    "\n",
    "model.compile()"
   ]
  },
  {
   "cell_type": "code",
   "execution_count": 11,
   "metadata": {},
   "outputs": [
    {
     "name": "stdout",
     "output_type": "stream",
     "text": [
      " 0 loss: 0.84737698 acct: 1.000 accv: 0.942\n",
      " 1 loss: 0.14276210 acct: 1.000 accv: 0.963\n",
      " 2 loss: 0.08204656 acct: 1.000 accv: 0.961\n",
      " 3 loss: 0.07152986 acct: 1.000 accv: 0.974\n",
      " 4 loss: 0.03958635 acct: 1.000 accv: 0.970\n",
      " 5 loss: 0.02553944 acct: 1.000 accv: 0.971\n",
      " 6 loss: 0.01620489 acct: 1.000 accv: 0.970\n",
      " 7 loss: 0.00816851 acct: 1.000 accv: 0.972\n",
      " 8 loss: 0.00552846 acct: 1.000 accv: 0.974\n",
      " 9 loss: 0.00384758 acct: 1.000 accv: 0.972\n"
     ]
    }
   ],
   "source": [
    "model.fit(mnist.train, n_epochs = 10, \n",
    "          batch_size = 50, val_data = mnist.validation)"
   ]
  },
  {
   "cell_type": "code",
   "execution_count": 12,
   "metadata": {},
   "outputs": [
    {
     "name": "stdout",
     "output_type": "stream",
     "text": [
      "INFO:tensorflow:Restoring parameters from /tmp/model.ckpt\n"
     ]
    },
    {
     "data": {
      "text/plain": [
       "0.97469997"
      ]
     },
     "execution_count": 12,
     "metadata": {},
     "output_type": "execute_result"
    }
   ],
   "source": [
    "model.evaluate(mnist.test.images, mnist.test.labels)"
   ]
  },
  {
   "cell_type": "code",
   "execution_count": 18,
   "metadata": {
    "collapsed": true
   },
   "outputs": [],
   "source": [
    "class Optimizer(object):\n",
    "    def __init__(self, name = 'sgd', lrate = 0.1):\n",
    "        self.name = name\n",
    "        self.lrate = lrate\n",
    "\n",
    "    def get(self, lossf):\n",
    "        if self.name == 'sgd':\n",
    "            opt = tf.train.GradientDescentOptimizer(learning_rate = self.lrate) \n",
    "        elif self.name == 'adam':\n",
    "            opt = tf.train.AdamOptimizer() \n",
    "        return opt.minimize(lossf)"
   ]
  },
  {
   "cell_type": "code",
   "execution_count": 19,
   "metadata": {
    "collapsed": true
   },
   "outputs": [],
   "source": [
    "tf.reset_default_graph()\n",
    "\n",
    "model = FeedforwardNeuralNet(28 * 28)\n",
    "\n",
    "model.add(units = 300, activation = Activation('relu'), name = 'h1')\n",
    "model.add(units = 100, activation = Activation('relu'), name = 'h2')\n",
    "model.add(units = 10, name = 'out')\n",
    "\n",
    "model.compile(optimizer = 'adam')"
   ]
  },
  {
   "cell_type": "code",
   "execution_count": 20,
   "metadata": {},
   "outputs": [
    {
     "name": "stdout",
     "output_type": "stream",
     "text": [
      " 0 loss: 0.22260752 acct: 0.980 accv: 0.961\n",
      " 1 loss: 0.09181031 acct: 0.980 accv: 0.974\n",
      " 2 loss: 0.06231435 acct: 0.960 accv: 0.975\n",
      " 3 loss: 0.04749824 acct: 0.980 accv: 0.979\n",
      " 4 loss: 0.03818032 acct: 1.000 accv: 0.978\n",
      " 5 loss: 0.03061841 acct: 0.980 accv: 0.981\n",
      " 6 loss: 0.02923365 acct: 1.000 accv: 0.974\n",
      " 7 loss: 0.02118843 acct: 1.000 accv: 0.978\n",
      " 8 loss: 0.02163228 acct: 1.000 accv: 0.979\n",
      " 9 loss: 0.01913158 acct: 1.000 accv: 0.978\n"
     ]
    }
   ],
   "source": [
    "model.fit(mnist.train, n_epochs = 10, \n",
    "          batch_size = 50, val_data = mnist.validation)"
   ]
  },
  {
   "cell_type": "code",
   "execution_count": 21,
   "metadata": {},
   "outputs": [
    {
     "name": "stdout",
     "output_type": "stream",
     "text": [
      "INFO:tensorflow:Restoring parameters from /tmp/model.ckpt\n"
     ]
    },
    {
     "data": {
      "text/plain": [
       "0.97689998"
      ]
     },
     "execution_count": 21,
     "metadata": {},
     "output_type": "execute_result"
    }
   ],
   "source": [
    "model.evaluate(mnist.test.images, mnist.test.labels)"
   ]
  },
  {
   "cell_type": "code",
   "execution_count": 25,
   "metadata": {
    "collapsed": true
   },
   "outputs": [],
   "source": [
    "def compile(self, loss = 'sigmoid', optimizer = 'sgd', \n",
    "            dropout_rate = 0.0):\n",
    "    \"\"\"Cria grafo da rede neural\"\"\"\n",
    "    self.X = tf.placeholder(tf.float32, \n",
    "                       shape = (None, self.input_dim), \n",
    "                       name = 'X')\n",
    "    self.y = tf.placeholder(tf.int64, shape = (None), name = 'y')\n",
    "    ## dropout\n",
    "    self.training = tf.placeholder_with_default(False, shape = (),\n",
    "                                                name = 'training')\n",
    "\n",
    "    # cria layers\n",
    "    with tf.name_scope('layers'):\n",
    "        if dropout_rate == 0.0:\n",
    "            layer_in = self.X\n",
    "        else:\n",
    "            layer_in = tf.layers.dropout(self.X, dropout_rate, \n",
    "                                         self.training)\n",
    "        for layer in self.layers:\n",
    "            if dropout_rate == 0.0:\n",
    "                layer_out = layer.output(layer_in)\n",
    "            else:\n",
    "                layer_out = tf.layers.dropout(layer.output(layer_in), \n",
    "                                              dropout_rate, self.training)\n",
    "            layer_in = layer_out\n",
    "\n",
    "    # loss function\n",
    "    with tf.name_scope('loss'):\n",
    "        self.lossf = LossFunction(loss).get(self.y, layer_out)\n",
    "\n",
    "    # optimizer\n",
    "    with tf.name_scope('train'):\n",
    "        self.train_op = Optimizer(optimizer, self.lrate).get(self.lossf)\n",
    "\n",
    "    # evalution metrics\n",
    "    with tf.name_scope('eval'):\n",
    "        correct = tf.nn.in_top_k(layer_out, self.y, 1)\n",
    "        self.acc = tf.reduce_mean(tf.cast(correct, tf.float32))\n",
    "\n",
    "    self.init_op = tf.global_variables_initializer()\n",
    "    self.saver = tf.train.Saver()\n",
    "\n",
    "def fit(self, train_data, n_epochs, batch_size, val_data = None):\n",
    "    \"\"\"Executa treino da rede neural\"\"\"\n",
    "    num_batches = train_data.num_examples // batch_size\n",
    "    with tf.Session() as s:\n",
    "        s.run(self.init_op)\n",
    "        for e in range(n_epochs):\n",
    "            tloss = 0.\n",
    "            for i in range(num_batches):\n",
    "                X_b, y_b = train_data.next_batch(batch_size)\n",
    "                _, loss_e = s.run([self.train_op, self.lossf], \n",
    "                                  feed_dict = {self.X: X_b, \n",
    "                                               self.y: y_b,\n",
    "                                               self.training: True})\n",
    "                tloss += loss_e\n",
    "            acc_train = s.run(self.acc, \n",
    "                              feed_dict = {self.X: X_b, self.y: y_b})\n",
    "            if val_data:\n",
    "                acc_val = s.run(self.acc, \n",
    "                                feed_dict = {self.X: val_data.images, \n",
    "                                             self.y: val_data.labels})\n",
    "                print '%2d loss: %.8f acct: %.3f accv: %.3f' % (e, \n",
    "                                                                tloss/num_batches, \n",
    "                                                                acc_train, acc_val)\n",
    "            else:\n",
    "                print '%2d loss: %.8f acc: %.3f' % (e, tloss/num_batches, acc_train)\n",
    "        self.saver.save(s, '/tmp/model.ckpt')\n",
    "    \n",
    "FeedforwardNeuralNet.fit = fit\n",
    "FeedforwardNeuralNet.compile = compile"
   ]
  },
  {
   "cell_type": "code",
   "execution_count": 30,
   "metadata": {
    "collapsed": true
   },
   "outputs": [],
   "source": [
    "tf.reset_default_graph()\n",
    "\n",
    "model = FeedforwardNeuralNet(28 * 28)\n",
    "\n",
    "model.add(units = 300, activation = Activation('relu'), name = 'h1')\n",
    "model.add(units = 100, activation = Activation('relu'), name = 'h2')\n",
    "model.add(units = 10, name = 'out')\n",
    "\n",
    "model.compile(optimizer = 'adam', dropout_rate = 0.5)"
   ]
  },
  {
   "cell_type": "code",
   "execution_count": 31,
   "metadata": {},
   "outputs": [
    {
     "name": "stdout",
     "output_type": "stream",
     "text": [
      " 0 loss: 0.21772785 acct: 0.960 accv: 0.970\n",
      " 1 loss: 0.09097756 acct: 1.000 accv: 0.975\n",
      " 2 loss: 0.06324646 acct: 0.980 accv: 0.977\n",
      " 3 loss: 0.05019373 acct: 1.000 accv: 0.979\n",
      " 4 loss: 0.03827936 acct: 1.000 accv: 0.978\n",
      " 5 loss: 0.03419658 acct: 1.000 accv: 0.976\n",
      " 6 loss: 0.02871753 acct: 1.000 accv: 0.976\n",
      " 7 loss: 0.02164480 acct: 1.000 accv: 0.977\n",
      " 8 loss: 0.02378546 acct: 1.000 accv: 0.980\n",
      " 9 loss: 0.01958281 acct: 1.000 accv: 0.982\n"
     ]
    }
   ],
   "source": [
    "model.fit(mnist.train, n_epochs = 10, \n",
    "          batch_size = 50, val_data = mnist.validation)"
   ]
  },
  {
   "cell_type": "code",
   "execution_count": 32,
   "metadata": {},
   "outputs": [
    {
     "name": "stdout",
     "output_type": "stream",
     "text": [
      "INFO:tensorflow:Restoring parameters from /tmp/model.ckpt\n"
     ]
    },
    {
     "data": {
      "text/plain": [
       "0.97820002"
      ]
     },
     "execution_count": 32,
     "metadata": {},
     "output_type": "execute_result"
    }
   ],
   "source": [
    "model.evaluate(mnist.test.images, mnist.test.labels)"
   ]
  },
  {
   "cell_type": "markdown",
   "metadata": {
    "collapsed": true
   },
   "source": [
    "## Notas de aula 21 de setembro"
   ]
  },
  {
   "cell_type": "markdown",
   "metadata": {},
   "source": [
    "### Keras"
   ]
  },
  {
   "cell_type": "code",
   "execution_count": 3,
   "metadata": {},
   "outputs": [
    {
     "name": "stderr",
     "output_type": "stream",
     "text": [
      "Using TensorFlow backend.\n"
     ]
    }
   ],
   "source": [
    "import keras"
   ]
  },
  {
   "cell_type": "code",
   "execution_count": 4,
   "metadata": {
    "collapsed": true
   },
   "outputs": [],
   "source": [
    "from keras.models import Sequential\n",
    "from keras.layers import Dense, Activation, Dropout, BatchNormalization"
   ]
  },
  {
   "cell_type": "code",
   "execution_count": 5,
   "metadata": {
    "collapsed": true
   },
   "outputs": [],
   "source": [
    "from tensorflow.examples.tutorials.mnist import input_data"
   ]
  },
  {
   "cell_type": "code",
   "execution_count": 6,
   "metadata": {},
   "outputs": [
    {
     "name": "stdout",
     "output_type": "stream",
     "text": [
      "Extracting data/MNIST_data/train-images-idx3-ubyte.gz\n",
      "Extracting data/MNIST_data/train-labels-idx1-ubyte.gz\n",
      "Extracting data/MNIST_data/t10k-images-idx3-ubyte.gz\n",
      "Extracting data/MNIST_data/t10k-labels-idx1-ubyte.gz\n"
     ]
    }
   ],
   "source": [
    "mnist = input_data.read_data_sets('data/MNIST_data', one_hot = True)"
   ]
  },
  {
   "cell_type": "code",
   "execution_count": 12,
   "metadata": {
    "collapsed": true
   },
   "outputs": [],
   "source": [
    "model = Sequential()\n",
    "\n",
    "model.add(Dense(units = 250, input_dim = 28*28, activation = 'relu'))\n",
    "model.add(Dense(units = 10, activation = 'softmax'))"
   ]
  },
  {
   "cell_type": "code",
   "execution_count": 13,
   "metadata": {
    "collapsed": true
   },
   "outputs": [],
   "source": [
    "model.compile(loss = 'categorical_crossentropy',\n",
    "             optimizer = 'adam',\n",
    "             metrics = ['accuracy'])"
   ]
  },
  {
   "cell_type": "code",
   "execution_count": 14,
   "metadata": {},
   "outputs": [
    {
     "name": "stdout",
     "output_type": "stream",
     "text": [
      "Train on 55000 samples, validate on 5000 samples\n",
      "Epoch 1/5\n",
      "55000/55000 [==============================] - 3s - loss: 0.3204 - acc: 0.9101 - val_loss: 0.1623 - val_acc: 0.9586\n",
      "Epoch 2/5\n",
      "55000/55000 [==============================] - 3s - loss: 0.1405 - acc: 0.9590 - val_loss: 0.1127 - val_acc: 0.9680\n",
      "Epoch 3/5\n",
      "55000/55000 [==============================] - 3s - loss: 0.0964 - acc: 0.9718 - val_loss: 0.1016 - val_acc: 0.9708\n",
      "Epoch 4/5\n",
      "55000/55000 [==============================] - 3s - loss: 0.0731 - acc: 0.9789 - val_loss: 0.0884 - val_acc: 0.9730\n",
      "Epoch 5/5\n",
      "55000/55000 [==============================] - 3s - loss: 0.0563 - acc: 0.9839 - val_loss: 0.0828 - val_acc: 0.9748\n"
     ]
    }
   ],
   "source": [
    "trmodel = model.fit(mnist.train.images,  # X_train\n",
    "                    mnist.train.labels,  # y_train\n",
    "                    epochs = 5,        \n",
    "                    batch_size = 128,\n",
    "                    validation_data = (mnist.validation.images, # X_val\n",
    "                                       mnist.validation.labels)  # y_val\n",
    "                   )"
   ]
  },
  {
   "cell_type": "markdown",
   "metadata": {},
   "source": [
    "# Redes de Convolução"
   ]
  },
  {
   "cell_type": "code",
   "execution_count": 16,
   "metadata": {
    "collapsed": true
   },
   "outputs": [],
   "source": [
    "from PIL import Image\n",
    "import skimage.measure "
   ]
  },
  {
   "cell_type": "code",
   "execution_count": 21,
   "metadata": {},
   "outputs": [],
   "source": [
    "import tensorflow as tf\n",
    "import numpy as np\n",
    "import matplotlib.pyplot as plt\n",
    "%matplotlib inline"
   ]
  },
  {
   "cell_type": "code",
   "execution_count": 23,
   "metadata": {
    "collapsed": true
   },
   "outputs": [],
   "source": [
    "def reset_graph(seed = 42):\n",
    "    tf.reset_default_graph()\n",
    "    tf.set_random_seed(seed)\n",
    "    np.random.seed(seed)\n",
    "    \n",
    "def plot_figs(lst):\n",
    "    if len(lst) == 1:\n",
    "        plt.matshow(lst[0], cmap = 'gray', interpolation = 'nearest')\n",
    "    else:\n",
    "        f, axes = plt.subplots(1, len(lst))\n",
    "        for i, a in enumerate(axes):\n",
    "            a.matshow(lst[i], cmap = 'gray', interpolation = 'nearest')\n",
    "            a.set(aspect = 'equal')"
   ]
  },
  {
   "cell_type": "markdown",
   "metadata": {},
   "source": [
    "### Convoluções"
   ]
  },
  {
   "cell_type": "code",
   "execution_count": 28,
   "metadata": {
    "collapsed": true
   },
   "outputs": [],
   "source": [
    "ex0 = np.array([[0,0,0,1,0,0,0,0],\n",
    "                [0,0,1,0,0,0,0,0],\n",
    "                [0,1,0,0,0,0,0,0],\n",
    "                [1,0,0,0,0,0,0,0],\n",
    "                [0,0,0,0,1,0,0,0],\n",
    "                [0,0,0,0,0,1,0,0],\n",
    "                [0,0,0,0,0,0,1,0],\n",
    "                [0,0,0,0,0,0,0,1]])\n",
    "ex1 = np.array([[0,0,0,0,0,0,0,1],\n",
    "                [0,0,0,0,0,0,0,1],\n",
    "                [0,0,0,0,0,0,1,0],\n",
    "                [0,0,0,0,0,0,1,0],\n",
    "                [0,0,0,0,0,1,0,0],\n",
    "                [0,0,0,0,0,1,0,0],\n",
    "                [0,0,0,0,1,0,0,0],\n",
    "                [0,0,0,0,1,0,0,0]])\n",
    "k0 = np.array([[0,0,0,1],\n",
    "               [0,0,1,0],\n",
    "               [0,1,0,0],\n",
    "               [1,0,0,0]])"
   ]
  },
  {
   "cell_type": "code",
   "execution_count": 29,
   "metadata": {},
   "outputs": [
    {
     "data": {
      "image/png": "[encoded data removed]",
      "text/plain": [
       "<matplotlib.figure.Figure at 0x116a59850>"
      ]
     },
     "metadata": {},
     "output_type": "display_data"
    }
   ],
   "source": [
    "plot_figs([ex0, ex1, k0])"
   ]
  },
  {
   "cell_type": "code",
   "execution_count": 30,
   "metadata": {
    "collapsed": true
   },
   "outputs": [],
   "source": [
    "def conv0(a1, a2):\n",
    "    sigmoid = lambda n: 1. / (1 + np.exp(-n))\n",
    "    a1r = a1.reshape((-1, 1))\n",
    "    a2r = a2.reshape((-1, 1))\n",
    "    return sigmoid(np.sum(np.multiply(a1r, a2r)))"
   ]
  },
  {
   "cell_type": "code",
   "execution_count": 32,
   "metadata": {},
   "outputs": [
    {
     "data": {
      "text/plain": [
       "0.98201379003790845"
      ]
     },
     "execution_count": 32,
     "metadata": {},
     "output_type": "execute_result"
    },
    {
     "data": {
      "image/png": "[encoded data removed]",
      "text/plain": [
       "<matplotlib.figure.Figure at 0x1190c61d0>"
      ]
     },
     "metadata": {},
     "output_type": "display_data"
    }
   ],
   "source": [
    "plot_figs([ex0[:4, :4], k0])\n",
    "conv0(ex0[:4,:4], k0)"
   ]
  },
  {
   "cell_type": "code",
   "execution_count": null,
   "metadata": {
    "collapsed": true
   },
   "outputs": [],
   "source": []
  }
 ],
 "metadata": {
  "kernelspec": {
   "display_name": "Python 2",
   "language": "python",
   "name": "python2"
  },
  "language_info": {
   "codemirror_mode": {
    "name": "ipython",
    "version": 2
   },
   "file_extension": ".py",
   "mimetype": "text/x-python",
   "name": "python",
   "nbconvert_exporter": "python",
   "pygments_lexer": "ipython2",
   "version": "2.7.10"
  }
 },
 "nbformat": 4,
 "nbformat_minor": 2
}
