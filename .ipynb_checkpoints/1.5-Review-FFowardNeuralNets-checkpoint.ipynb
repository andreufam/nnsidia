{
 "cells": [
  {
   "cell_type": "markdown",
   "metadata": {},
   "source": [
    "# REDES NEURAIS I"
   ]
  },
  {
   "cell_type": "markdown",
   "metadata": {},
   "source": [
    "## Introduction"
   ]
  },
  {
   "cell_type": "markdown",
   "metadata": {},
   "source": [
    "Nesta seção, vamos usar a famosa coleção [MNIST](http://yann.lecun.com/exdb/mnist/) para construir uma rede neural capaz de classificar digitos escritos à mão. Está é uma rede neural conhecida como Multi-layer Perceptron (MLP). Ou seja, dada uma entrada, o modelo deve dizer que dígito ela representa.\n",
    "\n",
    "Esta seção cobre o conceito de Deep Learning e a criação do modelo de classificação com TensorFlow."
   ]
  },
  {
   "cell_type": "markdown",
   "metadata": {},
   "source": [
    "<a id=\"ref1\"></a>\n",
    "# O que é Deep Learning?"
   ]
  },
  {
   "cell_type": "markdown",
   "metadata": {},
   "source": [
    "Deep learning (ou aprendizado estruturado profundo, ou aprendizado heirarquico ou aprendizagem de máquina profunda) é uma sub-área da aprendizagem de máquina baseado em algoritmos que tentam modelar abstrações de alto nível em dados usando múltiplas camadas de processamento, com estruturas complexas ou não, compostas por múltiplas transformações lineares."
   ]
  },
  {
   "cell_type": "markdown",
   "metadata": {
    "collapsed": true
   },
   "source": [
    "<img src=\"images/mod_ID_1_final.png\" alt=\"HTML5 Icon\" style=\"width:600px;height:450px;\">\n",
    "<div style=\"text-align:center\">Tempo de aprendizado profundo. Como no cérebro, modelos profundo se organizam em camadas. </div>"
   ]
  },
  {
   "cell_type": "markdown",
   "metadata": {},
   "source": [
    "**Rede neural \"profunda\":** redes neurais com mais de uma camada escondida, seja qual for o tipo da camada (convolutiva, pooling, normalização, totalmente conectada etc). Redes neurais profundas em geral conseguem melhores resultados que redes rasas com mesmo número de parâmetros. "
   ]
  },
  {
   "cell_type": "markdown",
   "metadata": {},
   "source": [
    "**\"Aprendizagem\":** no contexto desta aula, trata-se de aprendizagem supervisionada. Por exemplo, no caso de reconhecimento de dígitos, consiste na previsão do dígito correto apartir de padrões obtidos em um conjunto de observações de dígitos previamente conhecidos. Em nosso caso, o alvo da previsão é o dígito (0,1,2,3,4,5,6,7,8,9) e as observações são as matrizes de pixels das imagens dos dígitos. Após algum treino, espera-se que a rede aproxime a uma função que mapeie entradas (imagens dos dígitos) para as saídas (os dígitos). O processo de treino ocorre até que um certo de grau (desejado) de acuidade é atingido."
   ]
  },
  {
   "cell_type": "markdown",
   "metadata": {},
   "source": [
    "<a id=\"ref3\"></a>\n",
    "# Parte I: Classificando MNIST com um modelo simples"
   ]
  },
  {
   "cell_type": "markdown",
   "metadata": {},
   "source": [
    "Vamos classificar MNIST usando uma MLP. Para se familiarizar com MNIST, leia: <a href=\"http://yann.lecun.com/exdb/mnist/\">MNIST Descrição</a> "
   ]
  },
  {
   "cell_type": "markdown",
   "metadata": {},
   "source": [
    "### O que é MNIST?"
   ]
  },
  {
   "cell_type": "markdown",
   "metadata": {},
   "source": [
    "Database de digitos escritos a mão com 60000 exemplos de treino e 10000 para teste. É um sub-conjunto da coleção maior NIST. Os dígitos foram normalizados em tamanho e centralizados em uma imagem de tamanho fixo."
   ]
  },
  {
   "cell_type": "markdown",
   "metadata": {},
   "source": [
    "### Importando MNIST"
   ]
  },
  {
   "cell_type": "markdown",
   "metadata": {},
   "source": [
    "O TensorFlow tem sua própria cópia de MNIST. Assim, obtê-lo é trivial:"
   ]
  },
  {
   "cell_type": "code",
   "execution_count": 1,
   "metadata": {
    "collapsed": false,
    "scrolled": true
   },
   "outputs": [
    {
     "name": "stdout",
     "output_type": "stream",
     "text": [
      "Extracting MNIST_data/train-images-idx3-ubyte.gz\n",
      "Extracting MNIST_data/train-labels-idx1-ubyte.gz\n",
      "Extracting MNIST_data/t10k-images-idx3-ubyte.gz\n",
      "Extracting MNIST_data/t10k-labels-idx1-ubyte.gz\n"
     ]
    }
   ],
   "source": [
    "import tensorflow as tf\n",
    "from tensorflow.examples.tutorials.mnist import input_data\n",
    "mnist = input_data.read_data_sets('MNIST_data', one_hot=True)"
   ]
  },
  {
   "cell_type": "markdown",
   "metadata": {},
   "source": [
    "Note que usamos o argumtno <span style=\"background-color:#dcdcdc\n",
    "\"> One-hot = True</span>. Isso indica que as labels serão representadas como vetores one-hot. Assim, classes 0 e 5, numa taxonomia {0,1,2,3,4,5}, são representadas como:"
   ]
  },
  {
   "cell_type": "markdown",
   "metadata": {},
   "source": [
    "<pre>\n",
    "Dígito representado:     0\n",
    "                        [5]   [4]    [3]    [2]    [1]   [0]  \n",
    "One-hot vector:          0     0      0      0      0     1   \n",
    "\n",
    "Dígito representado:     5\n",
    "                        [5]   [4]    [3]    [2]    [1]   [0]  \n",
    "One-hot vector:          1     0      0      0      0     0   \n",
    "</pre>"
   ]
  },
  {
   "cell_type": "markdown",
   "metadata": {},
   "source": [
    "### Compreendendo os dados"
   ]
  },
  {
   "cell_type": "markdown",
   "metadata": {},
   "source": [
    "Os dados estão divididos assim:\n",
    "\n",
    "- Treino (mnist.train) >>  Dados que podem ser usados para treinar o modelo.  \n",
    "        - 55,000 instâncias\n",
    "        - mnist.train.images = entradas (pixels)\n",
    "        - mnist.train.labels = saídas (classes, rótulos, dígitos)\n",
    "  \n",
    "- Validação (mnist.validation) >> Dados que podem ser usados durante treino para testar o modelo, de forma a encontrar melhores hiper-parâmetros.  \n",
    "        - 5,000 instâncias\n",
    "        - mnist.validation.images = entradas\n",
    "        - mnist.validation.labels = saídas\n",
    "  \n",
    "- Teste (mnist.test) >> Dados usados para testar o modelo final. Representam os dados 'reais' ao qual o modelo seria usado se em uma aplicação real.  \n",
    "        - 10,000 instâncias\n",
    "        - mnist.test.images = entrads\n",
    "        - mnist.test.labels = saídas\n",
    "  "
   ]
  },
  {
   "cell_type": "markdown",
   "metadata": {},
   "source": [
    "Abaixo temos um exemplo de uma imagem de treino:   "
   ]
  },
  {
   "cell_type": "code",
   "execution_count": 29,
   "metadata": {
    "collapsed": false
   },
   "outputs": [
    {
     "data": {
      "text/plain": [
       "<matplotlib.image.AxesImage at 0x11c45e1d0>"
      ]
     },
     "execution_count": 29,
     "metadata": {},
     "output_type": "execute_result"
    },
    {
     "data": {
      "image/png": "[encoded data removed]",
      "text/plain": [
       "<matplotlib.figure.Figure at 0x11c286b50>"
      ]
     },
     "metadata": {},
     "output_type": "display_data"
    }
   ],
   "source": [
    "import matplotlib.pyplot as plt\n",
    "%matplotlib inline\n",
    "plt.matshow(mnist.train.images[0].reshape((28,28)), cmap = 'gray')"
   ]
  },
  {
   "cell_type": "markdown",
   "metadata": {},
   "source": [
    "### Criando uma sessão interativa"
   ]
  },
  {
   "cell_type": "code",
   "execution_count": 2,
   "metadata": {
    "collapsed": false
   },
   "outputs": [],
   "source": [
    "sess = tf.InteractiveSession()"
   ]
  },
  {
   "cell_type": "markdown",
   "metadata": {},
   "source": [
    "### Criando placeholders"
   ]
  },
  {
   "cell_type": "markdown",
   "metadata": {},
   "source": [
    "Uma prática comum é criar os placeholders antes das variáveis. Vamos usar os seguintes placeholders:   \n",
    "\n",
    "__Placeholder 'X':__ espaço para imagens de entrada. \n",
    "* Cada imagem tem 784 pixels em uma matriz 28 x 28   \n",
    "* Argumento 'shape' define tamanho do tensor.  \n",
    "* 1a dimensão = None. Indica que qualquer número pode ser usado (é o tamanho do batch).  \n",
    "* 2a dimensão = 784. Indica o número de pixels em uma imagem 2D linearizada.  \n",
    "      \n",
    "__Placeholder 'Y':__ saída ou labels.  \n",
    "* 10 classes (0,1,2,3,4,5,6,7,8,9)  \n",
    "* 'shape' é como antes, o tamanho do tensor  \n",
    "* 1a dimensão = None. Indica que qualquer número pode ser usado (é o tamanho do batch).  \n",
    "* 2a dimensão = 10. O número de classes.  \n",
    "\n",
    "__dtype__ o tipo dos tensores. Na dúvida, use tf.float32. A limitação é que a função softmax só aceita float32 ou float64. Para mais tipos, veja <a href=\"https://www.tensorflow.org/versions/r0.9/api_docs/python/framework.html#tensor-types\">Documentação do TensorFlow</a>\n"
   ]
  },
  {
   "cell_type": "code",
   "execution_count": 3,
   "metadata": {
    "collapsed": false
   },
   "outputs": [],
   "source": [
    "x  = tf.placeholder(tf.float32, shape=[None, 784])\n",
    "y_ = tf.placeholder(tf.float32, shape=[None, 10])"
   ]
  },
  {
   "cell_type": "markdown",
   "metadata": {},
   "source": [
    "### Assinalando valores nulos para bias e pesos"
   ]
  },
  {
   "cell_type": "markdown",
   "metadata": {},
   "source": [
    "Nós vamos iniciar bias e pesos com valores nulos. Como veremos mais tarde, a inicialização é uma decisão crítica. Mas, por enquanto, vamos usar uma estratégia ingênua."
   ]
  },
  {
   "cell_type": "code",
   "execution_count": 4,
   "metadata": {
    "collapsed": false
   },
   "outputs": [],
   "source": [
    "# Weight tensor\n",
    "W = tf.Variable(tf.zeros([784,10],tf.float32))\n",
    "# Bias tensor\n",
    "b = tf.Variable(tf.zeros([10],tf.float32))"
   ]
  },
  {
   "cell_type": "markdown",
   "metadata": {},
   "source": [
    "### Execute o assinalamento"
   ]
  },
  {
   "cell_type": "markdown",
   "metadata": {},
   "source": [
    "Como estamos usando uma sessão interativa, para iniciar as variáveis basta rodar run."
   ]
  },
  {
   "cell_type": "code",
   "execution_count": 5,
   "metadata": {
    "collapsed": true
   },
   "outputs": [],
   "source": [
    "# run the op initialize_all_variables using an interactive session\n",
    "sess.run(tf.initialize_all_variables())"
   ]
  },
  {
   "cell_type": "markdown",
   "metadata": {},
   "source": [
    "### Adicionando pesos e biases para a entrada"
   ]
  },
  {
   "cell_type": "markdown",
   "metadata": {},
   "source": [
    "The only difference from our next operation to the picture below is that we are using the mathematical convention for what is being executed in the illustration. The tf.matmul operation performs a matrix multiplication between x (inputs) and W (weights) and after the code add biases."
   ]
  },
  {
   "cell_type": "markdown",
   "metadata": {},
   "source": [
    "\n",
    "<img src=\"images/mod_ID_2_final.png\" alt=\"HTML5 Icon\" style=\"width:400px;height:350px;\"> \n",
    "<div style=\"text-align:center\">Pesos e biases dos neurônios. </div>\n"
   ]
  },
  {
   "cell_type": "code",
   "execution_count": 6,
   "metadata": {
    "collapsed": false
   },
   "outputs": [
    {
     "data": {
      "text/plain": [
       "<tf.Tensor 'add:0' shape=(?, 10) dtype=float32>"
      ]
     },
     "execution_count": 6,
     "metadata": {},
     "output_type": "execute_result"
    }
   ],
   "source": [
    "#mathematical operation to add weights and biases to the inputs\n",
    "tf.matmul(x,W) + b"
   ]
  },
  {
   "cell_type": "markdown",
   "metadata": {},
   "source": [
    "### Regressão Softmax"
   ]
  },
  {
   "cell_type": "markdown",
   "metadata": {},
   "source": [
    "Softmax é uma função de ativação normalmente usadas em problemas de classficação. Ela gera as probabilidades da saída. Por exemplo, o modelo não vai ter 100% de certeza sobre um dígito, digamos 9. De fato, ele vai retornar uma distribuição de probabilidade onde, se ele está certo, o 9 tem a maior probabilidade."
   ]
  },
  {
   "cell_type": "code",
   "execution_count": 7,
   "metadata": {
    "collapsed": false
   },
   "outputs": [],
   "source": [
    "y = tf.nn.softmax(tf.matmul(x,W) + b)"
   ]
  },
  {
   "cell_type": "markdown",
   "metadata": {},
   "source": [
    "### Função de perda (loss, cost)"
   ]
  },
  {
   "cell_type": "markdown",
   "metadata": {},
   "source": [
    "É a função usada para minimizar a diferença entre as respostas certas (labels) e o estimado pela rede. "
   ]
  },
  {
   "cell_type": "code",
   "execution_count": 8,
   "metadata": {
    "collapsed": false
   },
   "outputs": [],
   "source": [
    "cross_entropy = tf.reduce_mean(-tf.reduce_sum(y_ * tf.log(y), \n",
    "                                              reduction_indices=[1]))"
   ]
  },
  {
   "cell_type": "markdown",
   "metadata": {},
   "source": [
    "### Algoritmo de otimização: Gradiente Descendente"
   ]
  },
  {
   "cell_type": "markdown",
   "metadata": {},
   "source": [
    "O TensorFlow suporta muitos otimizadores. Mas vamos usar o mais tradicional de todos, o Gradiente Descendente:"
   ]
  },
  {
   "cell_type": "code",
   "execution_count": 9,
   "metadata": {
    "collapsed": false
   },
   "outputs": [],
   "source": [
    "train_step = tf.train.GradientDescentOptimizer(0.5).minimize(cross_entropy)"
   ]
  },
  {
   "cell_type": "markdown",
   "metadata": {},
   "source": [
    "### Batches de treino"
   ]
  },
  {
   "cell_type": "markdown",
   "metadata": {},
   "source": [
    "De fato, vamos usar o _minibatch Gradient Descent_.\n",
    "\n",
    "Na prática, o _Batch Gradient Descent_ não é muito usado porque é muito caro. Para obter o gradiente real, ele tem que processar todas as instâncias de treino. Uma alternativa é estimar apartir de amostras do treino com um tamanho bem menor que o treino todo. Essa amostra é o mini-batch."
   ]
  },
  {
   "cell_type": "code",
   "execution_count": 10,
   "metadata": {
    "collapsed": false
   },
   "outputs": [],
   "source": [
    "#Load 50 training examples for each training iteration   \n",
    "for i in range(1000):\n",
    "    batch = mnist.train.next_batch(50)\n",
    "    train_step.run(feed_dict={x: batch[0], y_: batch[1]})"
   ]
  },
  {
   "cell_type": "markdown",
   "metadata": {},
   "source": [
    "### Teste"
   ]
  },
  {
   "cell_type": "code",
   "execution_count": 11,
   "metadata": {
    "collapsed": false
   },
   "outputs": [
    {
     "name": "stdout",
     "output_type": "stream",
     "text": [
      "The final accuracy for the simple ANN model is: 90.9200012684 % \n"
     ]
    }
   ],
   "source": [
    "correct_prediction = tf.equal(tf.argmax(y,1), tf.argmax(y_,1))\n",
    "accuracy = tf.reduce_mean(tf.cast(correct_prediction, tf.float32))\n",
    "acc = accuracy.eval(feed_dict={x: mnist.test.images, \n",
    "                               y_: mnist.test.labels}) * 100\n",
    "print(\"The final accuracy for the simple ANN model is: {} % \".format(acc) )"
   ]
  },
  {
   "cell_type": "code",
   "execution_count": 12,
   "metadata": {
    "collapsed": true
   },
   "outputs": [],
   "source": [
    "sess.close() #finish the session"
   ]
  },
  {
   "cell_type": "markdown",
   "metadata": {},
   "source": [
    "<a id=\"ref4\"></a>\n",
    "# Quão bom foi o resultado final?"
   ]
  },
  {
   "cell_type": "markdown",
   "metadata": {},
   "source": [
    "Não grande coisa. Em junho de 2016, o melhor resultado para essa coleção era 0.21% de erro (99.79% accurácia) <a href=\"http://cs.nyu.edu/~wanli/dropc/\">veja aqui</a>"
   ]
  },
  {
   "cell_type": "markdown",
   "metadata": {},
   "source": [
    "<a id=\"ref4\"></a>\n",
    "# Monitorando informações de interesse para posterior análise"
   ]
  },
  {
   "cell_type": "markdown",
   "metadata": {},
   "source": [
    "Vamos agora analisar o desempenho do nosso programa usando o TensorBoard. Para isso, reorganizamos o código mudando os seguintes aspectos:\n",
    "* _log de informações_: vamos calcular e registrar as informações de custo e acurácia para posterior análise. O ciclo de vida de informação para log envolve:\n",
    "    - A criação de sumários, ou seja,as estatísticas que queremos registrar (várias funções tais como tf.scalar_summary);\n",
    "    - A combinação dos sumários em um única operação, para facilitar a sua execução (tf.merge_all_summaries);\n",
    "    - Escrita/registro físico do sumário (SummaryWriter e add_summary)\n",
    "* _Anotação de escopos e variáveis_: sem uma anotação, as informações fornecidas pelo tensorboard serão confusas. Assim e importante dar nomes para variáveis que nos interessam além de criar escopos. Estes também serão muito úteis em arquiteturas muito maiores para facilitar o compartilhamento de variáveis e aproveitamento de código. "
   ]
  },
  {
   "cell_type": "code",
   "execution_count": 31,
   "metadata": {
    "collapsed": false
   },
   "outputs": [
    {
     "name": "stdout",
     "output_type": "stream",
     "text": [
      "Epoch:  0\n",
      "Accuracy:  0.9213\n",
      "done\n"
     ]
    }
   ],
   "source": [
    "import tensorflow as tf\n",
    "\n",
    "# reset everything to rerun in jupyter\n",
    "tf.reset_default_graph()\n",
    "\n",
    "# config\n",
    "batch_size = 100\n",
    "learning_rate = 0.5\n",
    "training_epochs = 5\n",
    "logs_path = \"logs/mnist/2\"\n",
    "\n",
    "# input images\n",
    "with tf.name_scope('input'):\n",
    "    # None -> batch size can be any size, 784 -> flattened mnist image\n",
    "    x = tf.placeholder(tf.float32, shape=[None, 784], name=\"x-input\") \n",
    "    # target 10 output classes\n",
    "    y_ = tf.placeholder(tf.float32, shape=[None, 10], name=\"y-input\")\n",
    "\n",
    "# model parameters will change during training so we use tf.Variable\n",
    "with tf.name_scope(\"weights\"):\n",
    "    W = tf.Variable(tf.zeros([784, 10]))\n",
    "\n",
    "# bias\n",
    "with tf.name_scope(\"biases\"):\n",
    "    b = tf.Variable(tf.zeros([10]))\n",
    "    # create a summary for *all* biases in this layer\n",
    "    tf.histogram_summary('biases', b)\n",
    "\n",
    "# implement model\n",
    "with tf.name_scope(\"softmax\"):\n",
    "    # y is our prediction\n",
    "    y = tf.nn.softmax(tf.matmul(x,W) + b)\n",
    "\n",
    "# specify cost function\n",
    "with tf.name_scope('cross_entropy'):\n",
    "    # this is our cost\n",
    "    cross_entropy = tf.reduce_mean(-tf.reduce_sum(y_ * tf.log(y), \n",
    "                                                  reduction_indices=[1]))\n",
    "\n",
    "# specify optimizer\n",
    "with tf.name_scope('train'):\n",
    "    # optimizer is an \"operation\" which we can execute in a session\n",
    "    optimizer = tf.train.GradientDescentOptimizer(learning_rate)\n",
    "    train_op = optimizer.minimize(cross_entropy)\n",
    "\n",
    "with tf.name_scope('Accuracy'):\n",
    "    # Accuracy\n",
    "    correct_prediction = tf.equal(tf.argmax(y,1), tf.argmax(y_,1))\n",
    "    accuracy = tf.reduce_mean(tf.cast(correct_prediction, tf.float32))\n",
    "    \n",
    "# create a summary for our cost and accuracy\n",
    "# which can be observed in TensorBoard\n",
    "tf.scalar_summary(\"cost\", cross_entropy)\n",
    "tf.scalar_summary(\"accuracy\", accuracy)\n",
    "\n",
    "# merge all summaries into a single \"operation\" \n",
    "# which we can execute in a session \n",
    "summary_op = tf.merge_all_summaries()\n",
    "\n",
    "with tf.Session() as sess:\n",
    "    # variables need to be initialized before we can use them\n",
    "    sess.run(tf.initialize_all_variables())\n",
    "\n",
    "    # create log writer object\n",
    "    writer = tf.train.SummaryWriter(logs_path, \n",
    "                                    graph=tf.get_default_graph())\n",
    "        \n",
    "    # perform training cycles\n",
    "    for epoch in range(training_epochs):\n",
    "        \n",
    "        # number of batches in one epoch\n",
    "        batch_count = int(mnist.train.num_examples/batch_size)\n",
    "        \n",
    "        for i in range(batch_count):\n",
    "            batch_x, batch_y = mnist.train.next_batch(batch_size)\n",
    "            \n",
    "            # perform the operations we defined earlier on batch\n",
    "            _, summary = sess.run([train_op, summary_op], \n",
    "                                  feed_dict={x: batch_x, y_: batch_y})\n",
    "            \n",
    "            # write log\n",
    "            writer.add_summary(summary, epoch * batch_count + i)\n",
    "            \n",
    "        if epoch % 5 == 0: \n",
    "            print \"Epoch: \", epoch \n",
    "    print \"Accuracy: \", accuracy.eval(feed_dict={x: mnist.test.images, \n",
    "                                                 y_: mnist.test.labels})\n",
    "    print \"done\""
   ]
  },
  {
   "cell_type": "markdown",
   "metadata": {},
   "source": [
    "Concluída a execução, podemos agora acessar estatísticas sobre o modelo. Para isso, invocamos o tensorboard passando o log de dados:\n",
    "\n",
    "```\n",
    "> tensorboard --logdir=logs/mnist/2 --port=6006\n",
    "  Starting TensorBoard 29 on port 6006\n",
    "  (You can navigate to http://192.168.0.101:6006)\n",
    "```\n",
    "\n",
    "Ao navegar no endereço dado, você vai encontrar as estatísticas coletadas sobre custo e acurácia na aba Events. Na aba grafo, vc vai ver o Grafo de avaliação correspondente ao programa. Abaixo, podemos ver o grafo correspondente:\n",
    "\n",
    "<img src=\"images/tensorboard-example.png\"> "
   ]
  },
  {
   "cell_type": "markdown",
   "metadata": {},
   "source": [
    "Note que se vc quiser ver o efeito de diferentes tunings de parametros, vc vai ter que rodar seu modelo múltiplas vezes, cada vez usando um diretório diferente para armazenar o log. No fim, vc pode rodar o tensorboard para analisar todos os runs. Por exemplo:\n",
    "\n",
    "`tensorboard --logdir=run1:logs/mnist/1,run2:logs/mnist/2 --port=6006`\n",
    "\n",
    "<img src=\"images/tensorboard-example2.png\"> "
   ]
  },
  {
   "cell_type": "markdown",
   "metadata": {},
   "source": [
    "### References:\n",
    "\n",
    "https://en.wikipedia.org/wiki/Deep_learning    \n",
    "http://sebastianruder.com/optimizing-gradient-descent/index.html#batchgradientdescent  \n",
    "http://yann.lecun.com/exdb/mnist/  \n",
    "https://www.quora.com/Artificial-Neural-Networks-What-is-the-difference-between-activation-functions  \n",
    "https://www.tensorflow.org/versions/r0.9/tutorials/mnist/pros/index.html  "
   ]
  },
  {
   "cell_type": "markdown",
   "metadata": {},
   "source": [
    "Este curso é baseado em material da [Big Data University](https://bigdatauniversity.com/?utm_source=bducopyrightlink&utm_medium=dswb&utm_campaign=bdu). Assim, segue os termos da [licença do MIT](https://bigdatauniversity.com/mit-license/). Aula modificada por Marco Cristo apartir de versão de <a href = \"https://linkedin.com/in/luisotsm\">Luis Otavio Silveira Martins</a>, <a href = \"https://linkedin.com/in/erich-natsubori-sato\"> Erich Natsubori Sato </a></h4>. Material adicional de Imanol Schlag (https://ischlag.github.io/2016/06/04/how-to-use-tensorboard/) e Faizan Shaikh (https://www.analyticsvidhya.com/blog/2016/10/tutorial-optimizing-neural-networks-using-keras-with-image-recognition-case-study/)."
   ]
  }
 ],
 "metadata": {
  "anaconda-cloud": {},
  "kernelspec": {
   "display_name": "Python 2",
   "language": "python",
   "name": "python2"
  },
  "language_info": {
   "codemirror_mode": {
    "name": "ipython",
    "version": 2
   },
   "file_extension": ".py",
   "mimetype": "text/x-python",
   "name": "python",
   "nbconvert_exporter": "python",
   "pygments_lexer": "ipython2",
   "version": "2.7.10"
  },
  "widgets": {
   "state": {},
   "version": "1.1.2"
  }
 },
 "nbformat": 4,
 "nbformat_minor": 0
}
