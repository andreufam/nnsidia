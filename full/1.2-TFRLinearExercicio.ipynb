{
 "cells": [
  {
   "cell_type": "markdown",
   "metadata": {},
   "source": [
    "<h1 align=center> <font size = 5> Exercise II</font></h1>"
   ]
  },
  {
   "cell_type": "markdown",
   "metadata": {},
   "source": [
    "## Regresão linear "
   ]
  },
  {
   "cell_type": "markdown",
   "metadata": {},
   "source": [
    "Neste exercício, vamos modelar a relação linear entre o canto do grilo e a temperatura no solo. Para isso, serão usados os dados fornecidos por G. W. Pierce no livro \"Songs of Insects\" (1948). O objetivo é obter a função linear que melhor corresponda à tendência do número número de \"cri-cris\" que o grilo irá cantar a cada 15 segundos (Chirps) e a temperatura do solo (Temp), usando TensorFlow. "
   ]
  },
  {
   "cell_type": "code",
   "execution_count": null,
   "metadata": {
    "collapsed": true,
    "scrolled": false
   },
   "outputs": [],
   "source": [
    "import tensorflow as tf\n",
    "import numpy as np\n",
    "import pandas as pd\n",
    "import matplotlib.pyplot as plt\n",
    "%matplotlib inline"
   ]
  },
  {
   "cell_type": "markdown",
   "metadata": {},
   "source": [
    "### Obtendo os dados "
   ]
  },
  {
   "cell_type": "code",
   "execution_count": null,
   "metadata": {
    "collapsed": true
   },
   "outputs": [],
   "source": [
    "df = pd.read_csv(\"data/PierceCricketData.csv\")\n",
    "df.head()"
   ]
  },
  {
   "cell_type": "code",
   "execution_count": null,
   "metadata": {
    "collapsed": true
   },
   "outputs": [],
   "source": [
    "x_data, y_data = (df[\"Chirps\"].values, df[\"Temp\"].values)\n",
    "\n",
    "# grafico com os dados\n",
    "plt.plot(x_data, y_data, 'ro')\n",
    "plt.xlabel(\"# Chirear/15 seg\")\n",
    "plt.ylabel(\"Temp (F)\")"
   ]
  },
  {
   "cell_type": "markdown",
   "metadata": {},
   "source": [
    "Observamos uma clara a relação linear entre o canto e a temperatura. Uma função linear que descreva essa relação é definida como: \n",
    "\n",
    "$Y_{pred} = m X + c$ \n",
    "\n",
    "Dado que temos os valores de X (o canto observado), precisamos estimar _m_ e _c_ para determinar a temperatura $Y_{pred}$. "
   ]
  },
  {
   "cell_type": "markdown",
   "metadata": {},
   "source": [
    "### Modelagem em Tensorflow\n",
    "\n",
    "Vamos inicialmente observar algumas estimativas para valores arbitrários para _m_ e _c_, por exemplo, _m_ = 3 e _c_ = 2, usando Tensorflow. Para tanto, crie as constantes _m_ e _c_ e os _placeholders_ para a entrada _X_ (um vetor de dimensão x_data.size) e a temperatura _Y_ (um vetor de dimensão y_data.size). Finalmente, descreva a equação $Y_{pred}$:"
   ]
  },
  {
   "cell_type": "code",
   "execution_count": null,
   "metadata": {
    "collapsed": true
   },
   "outputs": [],
   "source": [
    "# seu código aqui"
   ]
  },
  {
   "cell_type": "markdown",
   "metadata": {},
   "source": [
    "<div align=\"right\">\n",
    "<a href=\"#createvar\" class=\"btn btn-default\" data-toggle=\"collapse\">Solução</a>\n",
    "</div>\n",
    "<div id=\"createvar\" class=\"collapse\">\n",
    "```\n",
    "\n",
    "X = tf.placeholder(tf.float32, shape=(x_data.size))\n",
    "Y = tf.placeholder(tf.float32, shape=(y_data.size))\n",
    "\n",
    "m = tf.Variable(3.0)\n",
    "c = tf.Variable(2.0)\n",
    "\n",
    "Ypred = X * m + c\n",
    "```\n",
    "</div>"
   ]
  },
  {
   "cell_type": "markdown",
   "metadata": {},
   "source": [
    "###  Agora crie uma sessão do TF para obter Ypred\n",
    "\n",
    "<h6>Obs:</h6> Fique à vontade para usar diferentes valores inicais para _m_ e _c_ e ver como eles mudam a estimativa.\n"
   ]
  },
  {
   "cell_type": "code",
   "execution_count": null,
   "metadata": {
    "collapsed": true
   },
   "outputs": [],
   "source": [
    "session = tf.Session()\n",
    "session.run(tf.global_variables_initializer())"
   ]
  },
  {
   "cell_type": "code",
   "execution_count": null,
   "metadata": {
    "collapsed": true
   },
   "outputs": [],
   "source": [
    "# seu código aqui"
   ]
  },
  {
   "cell_type": "markdown",
   "metadata": {},
   "source": [
    "<div align=\"right\">\n",
    "<a href=\"#matmul1\" class=\"btn btn-default\" data-toggle=\"collapse\">Solução</a>\n",
    "</div>\n",
    "<div id=\"matmul1\" class=\"collapse\">\n",
    "```\n",
    "\n",
    "pred = session.run(Ypred, feed_dict={X:x_data})\n",
    "\n",
    "#plot initial prediction against datapoints\n",
    "plt.plot(x_data, pred)\n",
    "plt.plot(x_data, y_data, 'ro')\n",
    "# label the axis\n",
    "plt.xlabel(\"# Cantos/15 seg\")\n",
    "plt.ylabel(\"Temp (F)\")\n",
    "\n",
    "\n",
    "```\n",
    "</div>"
   ]
  },
  {
   "cell_type": "markdown",
   "metadata": {},
   "source": [
    "### Estimando valores ótimos para _m_ e _c_\n",
    "\n",
    "Para estimar _m_ e _c_ temos que minimizar a diferença entre a temperatura prevista $Y_{pred}$ e a real $Y$. Esta diferença pode ser calculada através da média do quadrado do erro (disponibilizada no TF como __tf.squared_difference__). \n",
    "      \n",
    "$$ loss = \\frac{1}{n}\\sum_{i=1}^n{[\\eta Ypred_i - \\eta {Y}_i]^2} $$\n",
    "\n",
    "onde $\\eta = 0.1$ é um fator de normalização (usado neste caso porque os dados originalmente não foram normalizados)."
   ]
  },
  {
   "cell_type": "code",
   "execution_count": null,
   "metadata": {
    "collapsed": true
   },
   "outputs": [],
   "source": [
    "# seu código aqui"
   ]
  },
  {
   "cell_type": "markdown",
   "metadata": {},
   "source": [
    "<div align=\"right\">\n",
    "<a href=\"#matmul12\" class=\"btn btn-default\" data-toggle=\"collapse\">Solução</a>\n",
    "</div>\n",
    "<div id=\"matmul12\" class=\"collapse\">\n",
    "```\n",
    "# normalization factor\n",
    "nf = 1e-1\n",
    "# seting up the loss function\n",
    "loss = tf.reduce_mean(tf.squared_difference(Ypred*nf,Y*nf))\n",
    "```\n",
    "</div>"
   ]
  },
  {
   "cell_type": "markdown",
   "metadata": {},
   "source": [
    "### Use como algoritmo de otimização o gradiente descendente com taxa de aprendizado de 0.01 para minizar a sua função de perda"
   ]
  },
  {
   "cell_type": "code",
   "execution_count": null,
   "metadata": {
    "collapsed": true
   },
   "outputs": [],
   "source": [
    "# Your code goes here"
   ]
  },
  {
   "cell_type": "markdown",
   "metadata": {},
   "source": [
    "<div align=\"right\">\n",
    "<a href=\"#matmul13\" class=\"btn btn-default\" data-toggle=\"collapse\">Solução</a>\n",
    "</div>\n",
    "<div id=\"matmul13\" class=\"collapse\">\n",
    "```\n",
    "optimizer = tf.train.GradientDescentOptimizer(learning_rate=0.01)\n",
    "#optimizer = tf.train.AdagradOptimizer(0.01 )\n",
    "\n",
    "# pass the loss function that optimizer should optimize on.\n",
    "train = optimizer.minimize(loss)\n",
    "\n",
    "```\n",
    "</div>"
   ]
  },
  {
   "cell_type": "markdown",
   "metadata": {},
   "source": [
    "### Inicialize as variáveis novamente\n"
   ]
  },
  {
   "cell_type": "code",
   "execution_count": null,
   "metadata": {
    "collapsed": true
   },
   "outputs": [],
   "source": [
    "session.run(tf.global_variables_initializer())"
   ]
  },
  {
   "cell_type": "markdown",
   "metadata": {},
   "source": [
    "###  Rode a sessão para treinar e prever os valores de _m_ e _c_ para diferentes passos de treino ao mesmo tempo que armazenando as perdas observadas em cada passo"
   ]
  },
  {
   "cell_type": "markdown",
   "metadata": {},
   "source": [
    "Obtenha os valores previstos para _m_ e _c_ rodando a sessão para treinar o modelo linear. Também registre as perdas em diferentes passos para impressão e ploting.  "
   ]
  },
  {
   "cell_type": "code",
   "execution_count": null,
   "metadata": {
    "collapsed": true
   },
   "outputs": [],
   "source": [
    "convergenceTolerance = 0.0001\n",
    "previous_m = np.inf\n",
    "previous_c = np.inf\n",
    "losses = []\n",
    "\n",
    "for k in range(100000):\n",
    "    ########## Seu código aqui ###########\n",
    "    losses = losses + [_l]\n",
    "    \n",
    "    if (np.abs(previous_m - _m) or np.abs(previous_c - _c) ) <= convergenceTolerance:\n",
    "        print \"Terminado pelo critério de convergência: %d passos com perda %f\"%(k, _l)\n",
    "        break\n",
    "    previous_m = _m, \n",
    "    previous_c = _c, \n",
    "    \n",
    "session.close() "
   ]
  },
  {
   "cell_type": "markdown",
   "metadata": {},
   "source": [
    "<div align=\"right\">\n",
    "<a href=\"#matmul18\" class=\"btn btn-default\" data-toggle=\"collapse\">Solução</a>\n",
    "</div>\n",
    "<div id=\"matmul18\" class=\"collapse\">\n",
    "```\n",
    "# run a session to train , get m and c values with loss function \n",
    "_, _m , _c,_l = session.run([train, m, c,loss],feed_dict={X:x_data,Y:y_data}) \n",
    "\n",
    "```\n",
    "</div>"
   ]
  },
  {
   "cell_type": "markdown",
   "metadata": {},
   "source": [
    "### Exibindo função de perda"
   ]
  },
  {
   "cell_type": "code",
   "execution_count": null,
   "metadata": {
    "collapsed": true
   },
   "outputs": [],
   "source": [
    "plt.plot(losses)"
   ]
  },
  {
   "cell_type": "code",
   "execution_count": null,
   "metadata": {
    "collapsed": true
   },
   "outputs": [],
   "source": [
    "plt.plot(x_data, y_data, 'o')\n",
    "plt.plot(x_data, _m*x_data + _c)"
   ]
  },
  {
   "cell_type": "markdown",
   "metadata": {},
   "source": [
    "### Quais os valores de $m$ e $c$ encontrados?"
   ]
  },
  {
   "cell_type": "code",
   "execution_count": 1,
   "metadata": {
    "collapsed": true
   },
   "outputs": [],
   "source": [
    "# solucao aqui"
   ]
  },
  {
   "cell_type": "markdown",
   "metadata": {},
   "source": [
    "<div align=\"right\">\n",
    "<a href=\"#mc\" class=\"btn btn-default\" data-toggle=\"collapse\">Solução</a>\n",
    "</div>\n",
    "<div id=\"mc\" class=\"collapse\">\n",
    "```\n",
    "print previous_m, previous_c \n",
    "\n",
    "```\n",
    "</div>"
   ]
  },
  {
   "cell_type": "markdown",
   "metadata": {},
   "source": [
    "# Referência"
   ]
  },
  {
   "cell_type": "markdown",
   "metadata": {},
   "source": [
    "http://mathbits.com/MathBits/TISection/Statistics2/linearREAL.htm"
   ]
  },
  {
   "cell_type": "markdown",
   "metadata": {},
   "source": [
    "Primeira parte do exercício proposta por <a href = \"https://ca.linkedin.com/in/shashibushan-yenkanchi\"> Shashibushan Yenkanchi </a> </h4>\n"
   ]
  },
  {
   "cell_type": "code",
   "execution_count": null,
   "metadata": {
    "collapsed": true
   },
   "outputs": [],
   "source": []
  }
 ],
 "metadata": {
  "kernelspec": {
   "display_name": "Python 2",
   "language": "python",
   "name": "python2"
  },
  "language_info": {
   "codemirror_mode": {
    "name": "ipython",
    "version": 2
   },
   "file_extension": ".py",
   "mimetype": "text/x-python",
   "name": "python",
   "nbconvert_exporter": "python",
   "pygments_lexer": "ipython2",
   "version": "2.7.11"
  },
  "widgets": {
   "state": {},
   "version": "1.1.2"
  }
 },
 "nbformat": 4,
 "nbformat_minor": 1
}
