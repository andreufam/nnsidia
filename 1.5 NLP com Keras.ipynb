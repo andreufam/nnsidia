{
 "cells": [
  {
   "cell_type": "markdown",
   "metadata": {
    "colab_type": "text",
    "id": "XJoQfDH89FTd"
   },
   "source": [
    "Neste módulo, veremos algumas considerações sobre como aplicar os conceitos vistos até agora a aplicações de processamento de linguagem natural.\n",
    "\n",
    "Como nosso primeiro exemplo, veremos como fazer um modelo simples para aprender se uma critica de um filme é positiva ou negativa, usando uma coleção de referência do site IMDb.\n",
    "\n",
    "## Pré-processando os dados\n",
    "\n",
    "Até agora trabalhamos com imagens, que possuem várias vantagens: tamanho fixo, formato padronizado (3 cores), bases de dados relativamente livres de ruído.\n",
    "\n",
    "Não podemos assumir o mesmo de bases de texto. Documentos de texto possuem diversas particularidades, como um universo muito grande de palavras possíveis, documentos com tamanhos variáveis, lixo (como erros de digitação), etc.\n",
    "\n",
    "Por isto, antes de se trabalhar com texto, se deve fazer alguns passos para tornar o mesmo mais _limpo_.\n"
   ]
  },
  {
   "cell_type": "code",
   "execution_count": 1,
   "metadata": {
    "colab": {},
    "colab_type": "code",
    "id": "DHu_40N99FTf",
    "outputId": "92f240a0-9f4f-4523-bb93-e63b6e8287e2"
   },
   "outputs": [
    {
     "name": "stderr",
     "output_type": "stream",
     "text": [
      "E:\\Anaconda\\lib\\site-packages\\h5py\\__init__.py:34: FutureWarning: Conversion of the second argument of issubdtype from `float` to `np.floating` is deprecated. In future, it will be treated as `np.float64 == np.dtype(float).type`.\n",
      "  from ._conv import register_converters as _register_converters\n",
      "Using TensorFlow backend.\n"
     ]
    }
   ],
   "source": [
    "import keras\n",
    "from keras.datasets import imdb\n",
    "from keras.preprocessing.sequence import pad_sequences\n",
    "from keras.models import Sequential\n",
    "from keras.layers import Dense, Flatten, Dropout, Activation\n",
    "from keras.layers import Embedding\n",
    "from keras.callbacks import ModelCheckpoint\n",
    "import os\n",
    "import sklearn.metrics\n",
    "from sklearn.metrics import roc_auc_score\n",
    "import pandas as pd\n",
    "import matplotlib.pyplot as plt\n",
    "%matplotlib inline"
   ]
  },
  {
   "cell_type": "code",
   "execution_count": 2,
   "metadata": {
    "colab": {},
    "colab_type": "code",
    "id": "AY7U46Ix9FTm",
    "outputId": "86dd5b72-ff6e-4a4e-9eec-329e9519df9b"
   },
   "outputs": [],
   "source": [
    "output_dir = 'model_output/imdb_deep_net'\n",
    "epochs = 4\n",
    "batch_size = 128\n",
    "n_dim = 64\n",
    "n_unique_words = 5000\n",
    "n_words_to_skip = 50\n",
    "max_review_length = 100\n",
    "pad_type = trunc_type = 'pre' #Outra opcao eh post\n",
    "n_dense = 64\n",
    "dropout = 0.5\n",
    "\n",
    "(X_train, y_train), (X_valid, y_valid) = imdb.load_data(num_words=n_unique_words, skip_top=n_words_to_skip)"
   ]
  },
  {
   "cell_type": "markdown",
   "metadata": {
    "colab_type": "text",
    "id": "QzZUQ7TK9FTr"
   },
   "source": [
    "Para o nosso treinamento, iremos usar os hiperparâmetros acima. Alguns vocês já conhecem, mas temos alguns específicos de texto:\n",
    "\n",
    "- n_unique_words: o tamanho do vocabulário a ser considerado\n",
    "- n_words_to_skio: As n palavras mais frequentes serão ignoradas (stopwords)\n",
    "- max_review_length: Por enquanto, trabalharemos com documentos de tamanho fixo (100 palavras)\n",
    "\n",
    "\n",
    "Vamos dar uma olhada em como estão os documentos por enquanto:"
   ]
  },
  {
   "cell_type": "code",
   "execution_count": 3,
   "metadata": {
    "colab": {},
    "colab_type": "code",
    "id": "sql1pmIj9FTs",
    "outputId": "0e99e486-f969-4470-836b-474ea7ccd577"
   },
   "outputs": [
    {
     "name": "stdout",
     "output_type": "stream",
     "text": [
      "218\n",
      "189\n",
      "141\n",
      "550\n",
      "147\n",
      "43\n",
      "[2, 778, 128, 74, 2, 630, 163, 2, 2, 1766, 2, 1051, 2, 2, 85, 156, 2, 2, 148, 139, 121, 664, 665, 2, 2, 1361, 173, 2, 749, 2, 2, 3804, 2, 2, 226, 65, 2, 2, 127, 2, 2, 2, 2]\n",
      "1\n",
      "0\n",
      "0\n",
      "1\n",
      "0\n",
      "0\n"
     ]
    }
   ],
   "source": [
    "for x in X_train[0:6]:\n",
    "    print(len(x))    \n",
    "\n",
    "print(X_train[5])\n",
    "\n",
    "for y in y_train[0:6]:\n",
    "    print(y)"
   ]
  },
  {
   "cell_type": "markdown",
   "metadata": {
    "colab_type": "text",
    "id": "WkYArl0O9FTw"
   },
   "source": [
    "### Visualizando documentos ###\n",
    "\n",
    "Estranho né? Antes de tudo, seria bom descobrir que documento é esse, e transformar esses IDs em palavras:"
   ]
  },
  {
   "cell_type": "code",
   "execution_count": 4,
   "metadata": {
    "colab": {},
    "colab_type": "code",
    "id": "NEsIi4Xx9FTy",
    "outputId": "5b1dcf39-7bbb-439d-ef93-7043d2f53e5c"
   },
   "outputs": [],
   "source": [
    "word_index = keras.datasets.imdb.get_word_index()\n",
    "# Vamos empurrar esse dicionario 3 posicoes\n",
    "word_index = {k : (v+3) for k,v in word_index.items()}\n",
    "# Vamos adicionar essas tres entradas padrao nos indices corretos\n",
    "word_index['PAD'] = 0 #Padding para documentos com menos de 100 palavras\n",
    "word_index['START'] = 1 #Inicio do documento\n",
    "word_index['UNK'] = 2 #Termo \"desconhecido\"\n",
    "index_word = {v:k for k,v in word_index.items()}"
   ]
  },
  {
   "cell_type": "code",
   "execution_count": 5,
   "metadata": {
    "colab": {},
    "colab_type": "code",
    "id": "FqrdRHTj9FT2",
    "outputId": "88af82c0-840f-4618-e89f-0275550e10f6"
   },
   "outputs": [
    {
     "name": "stdout",
     "output_type": "stream",
     "text": [
      "UNK begins better than UNK ends funny UNK UNK russian UNK crew UNK UNK other actors UNK UNK those scenes where documentary shots UNK UNK spoiler part UNK message UNK UNK contrary UNK UNK whole story UNK UNK does UNK UNK UNK UNK\n"
     ]
    }
   ],
   "source": [
    "review = ' '.join(index_word[id] for id in X_train[5])\n",
    "print(review)"
   ]
  },
  {
   "cell_type": "markdown",
   "metadata": {
    "colab_type": "text",
    "id": "sG6V5nkg9FT6"
   },
   "source": [
    "Vamos comparar com o conteúdo original:"
   ]
  },
  {
   "cell_type": "code",
   "execution_count": 0,
   "metadata": {
    "colab": {},
    "colab_type": "code",
    "id": "hgwlYuRB9FT6",
    "outputId": "73dd77dc-dcf8-485a-bddb-8d47a8b1e39b"
   },
   "outputs": [
    {
     "name": "stdout",
     "output_type": "stream",
     "text": [
      "START begins better than it ends funny that the russian submarine crew outperforms all other actors it's like those scenes where documentary shots br br spoiler part the message dechifered was contrary to the whole story it just does not mesh br br\n"
     ]
    }
   ],
   "source": [
    "(all_X_train, _), (all_X_valid, _) = imdb.load_data()\n",
    "full_review = ' '.join(index_word[id] for id in all_X_train[5])\n",
    "print(full_review)"
   ]
  },
  {
   "cell_type": "markdown",
   "metadata": {
    "colab_type": "text",
    "id": "r_RlNm8q9FT_"
   },
   "source": [
    "Os documentos continuam com tamanhos variáveis. Vamos agora normalizá-los para um tamanho padrão, truncando ou fazendo padding conforme necessário:"
   ]
  },
  {
   "cell_type": "code",
   "execution_count": 0,
   "metadata": {
    "colab": {},
    "colab_type": "code",
    "collapsed": true,
    "id": "az-0k-io9FUB"
   },
   "outputs": [],
   "source": [
    "X_train = pad_sequences(X_train, maxlen=max_review_length, padding=pad_type, truncating=trunc_type, value=0)\n",
    "X_valid = pad_sequences(X_valid, maxlen=max_review_length, padding=pad_type, truncating=trunc_type, value=0)"
   ]
  },
  {
   "cell_type": "code",
   "execution_count": 0,
   "metadata": {
    "colab": {},
    "colab_type": "code",
    "id": "F78mG0eZ9FUE",
    "outputId": "54daf5db-dff2-4d8e-ae94-b6901c9156d7"
   },
   "outputs": [
    {
     "name": "stdout",
     "output_type": "stream",
     "text": [
      "100\n",
      "100\n",
      "100\n",
      "100\n",
      "100\n",
      "100\n"
     ]
    }
   ],
   "source": [
    "for x in X_train[0:6]:\n",
    "    print(len(x))"
   ]
  },
  {
   "cell_type": "code",
   "execution_count": 0,
   "metadata": {
    "colab": {},
    "colab_type": "code",
    "id": "Jxm4FlWn9FUH",
    "outputId": "d4aa0a11-8b41-451b-89f0-0100b06010a2"
   },
   "outputs": [
    {
     "name": "stdout",
     "output_type": "stream",
     "text": [
      "PAD PAD PAD PAD PAD PAD PAD PAD PAD PAD PAD PAD PAD PAD PAD PAD PAD PAD PAD PAD PAD PAD PAD PAD PAD PAD PAD PAD PAD PAD PAD PAD PAD PAD PAD PAD PAD PAD PAD PAD PAD PAD PAD PAD PAD PAD PAD PAD PAD PAD PAD PAD PAD PAD PAD PAD PAD UNK begins better than UNK ends funny UNK UNK russian UNK crew UNK UNK other actors UNK UNK those scenes where documentary shots UNK UNK spoiler part UNK message UNK UNK contrary UNK UNK whole story UNK UNK does UNK UNK UNK UNK\n"
     ]
    }
   ],
   "source": [
    "review = ' '.join(index_word[id] for id in X_train[5])\n",
    "print(review)"
   ]
  },
  {
   "cell_type": "markdown",
   "metadata": {
    "colab_type": "text",
    "id": "9KlDhpau9FUO"
   },
   "source": [
    "Como vocês podem ver, o padding (e a truncagem quando necessário) são feitos no início. Você pode alterar isto alterando os parâmetros `pad_type` e `trunc_type`."
   ]
  },
  {
   "cell_type": "markdown",
   "metadata": {
    "colab_type": "text",
    "id": "SAU1pS9j9FUP"
   },
   "source": [
    "## Treinando um classificador para análise de sentimentos ##\n",
    "\n",
    "Vamos agora fazer uma FNN simples para aprender a classificar as críticas como positivas ou negativas:"
   ]
  },
  {
   "cell_type": "code",
   "execution_count": 0,
   "metadata": {
    "colab": {},
    "colab_type": "code",
    "id": "46l5cC5D9FUQ",
    "outputId": "8a58b984-ba28-431f-c513-cc7755390feb"
   },
   "outputs": [
    {
     "name": "stdout",
     "output_type": "stream",
     "text": [
      "_________________________________________________________________\n",
      "Layer (type)                 Output Shape              Param #   \n",
      "=================================================================\n",
      "embedding_1 (Embedding)      (None, 100, 64)           320000    \n",
      "_________________________________________________________________\n",
      "flatten_1 (Flatten)          (None, 6400)              0         \n",
      "_________________________________________________________________\n",
      "dense_1 (Dense)              (None, 64)                409664    \n",
      "_________________________________________________________________\n",
      "dropout_1 (Dropout)          (None, 64)                0         \n",
      "_________________________________________________________________\n",
      "dense_2 (Dense)              (None, 1)                 65        \n",
      "=================================================================\n",
      "Total params: 729,729\n",
      "Trainable params: 729,729\n",
      "Non-trainable params: 0\n",
      "_________________________________________________________________\n"
     ]
    }
   ],
   "source": [
    "model = Sequential()\n",
    "model.add(Embedding(n_unique_words, n_dim, \n",
    "                    input_length=max_review_length))\n",
    "model.add(Flatten())\n",
    "model.add(Dense(n_dense, activation='relu'))\n",
    "model.add(Dropout(dropout))\n",
    "model.add(Dense(1, activation='sigmoid'))\n",
    "model.summary()"
   ]
  },
  {
   "cell_type": "markdown",
   "metadata": {
    "colab_type": "text",
    "id": "yYDnJev79FUV"
   },
   "source": [
    "Temos aqui um novo tipo de camada, a camada de embedding. Esta é uma camada que recebe como entrada um vetor de id de palavras com tamanho igual a `max_review_length` e contendo até no máximo `n_unique_words` ids diferentes, e transforma cada uma dessas palavras em um vetor com `n_dim` dimensões.\n",
    "\n",
    "Desta forma, esta camada está criando uma representação vetorial do que é uma palavra, e representa cada documento como cem vetores de palavras.\n",
    "\n",
    "Em uma aula futura, entenderemos melhor como são criados e como funcionam estes embeddings, mas por enquanto o importante é entender que eles são uma forma de representar palavras que faz mais sentido para as redes neurais."
   ]
  },
  {
   "cell_type": "code",
   "execution_count": 0,
   "metadata": {
    "colab": {},
    "colab_type": "code",
    "id": "ie-fcDrU9FUW",
    "outputId": "19ea97bf-c21a-4b6e-fcf5-2e7b5ddd39c3"
   },
   "outputs": [
    {
     "name": "stdout",
     "output_type": "stream",
     "text": [
      "Train on 20000 samples, validate on 5000 samples\n",
      "Epoch 1/4\n",
      "20000/20000 [==============================] - 1s 58us/step - loss: 5.9292e-05 - acc: 1.0000 - val_loss: 1.1960 - val_acc: 0.8362\n",
      "Epoch 2/4\n",
      "20000/20000 [==============================] - 1s 45us/step - loss: 1.6797e-04 - acc: 1.0000 - val_loss: 1.3495 - val_acc: 0.8230\n",
      "Epoch 3/4\n",
      "20000/20000 [==============================] - 1s 45us/step - loss: 7.9349e-04 - acc: 0.9997 - val_loss: 1.4477 - val_acc: 0.7998\n",
      "Epoch 4/4\n",
      "20000/20000 [==============================] - 1s 43us/step - loss: 7.0743e-04 - acc: 0.9999 - val_loss: 1.3108 - val_acc: 0.8234\n"
     ]
    },
    {
     "data": {
      "text/plain": [
       "<keras.callbacks.History at 0x1d4664a1ef0>"
      ]
     },
     "execution_count": 29,
     "metadata": {
      "tags": []
     },
     "output_type": "execute_result"
    }
   ],
   "source": [
    "tboard = keras.callbacks.TensorBoard(log_dir='./logs', histogram_freq=0, batch_size=batch_size, write_graph=True, write_grads=False, write_images=False, embeddings_freq=0, embeddings_layer_names='embedding_1', embeddings_metadata=None, embeddings_data=None)\n",
    "\n",
    "model.compile(loss='binary_crossentropy', optimizer='adam', metrics=['accuracy'])\n",
    "model.fit(X_train, y_train, batch_size=batch_size, epochs=epochs, verbose=1, validation_split=0.2, callbacks=[tboard])"
   ]
  },
  {
   "cell_type": "markdown",
   "metadata": {
    "colab_type": "text",
    "id": "dbyYzD2_9FUe"
   },
   "source": [
    "Por enquanto não usamos o conjunto de validação que veio com a base de dados, mas sim 20% do treino. Fizemos isto pois vamos utilizar o conjunto de validacao como teste:"
   ]
  },
  {
   "cell_type": "code",
   "execution_count": 0,
   "metadata": {
    "colab": {},
    "colab_type": "code",
    "id": "Ub8bC0d49FUe",
    "outputId": "9c865134-dc74-40ce-a51d-cecc61348a80"
   },
   "outputs": [
    {
     "name": "stdout",
     "output_type": "stream",
     "text": [
      "90.05\n"
     ]
    }
   ],
   "source": [
    "y_hat = model.predict_proba(X_valid)\n",
    "\n",
    "pct_auc = roc_auc_score(y_valid, y_hat) * 100\n",
    "print('{:0.2f}'.format(pct_auc))"
   ]
  },
  {
   "cell_type": "markdown",
   "metadata": {
    "colab_type": "text",
    "id": "NP5Kzkkn9FUi"
   },
   "source": [
    "Estou mostrando a curva ROC AUC (média sob o recebedor). Ela leva tanto em consideração a taxa verdadeiros positivos quanto a taxa de falso positivos:\n",
    "\n",
    "$$\n",
    "T_{V+} = \\frac{V_{+}}{ (V_{+} + F_{-})} \\\\\n",
    "T_{F+} = \\frac{F_{+}} {(F_{+} + V_{-})}\n",
    "$$"
   ]
  },
  {
   "cell_type": "code",
   "execution_count": 0,
   "metadata": {
    "colab": {},
    "colab_type": "code",
    "id": "16eVuKd49FUj",
    "outputId": "78f20f10-90f8-4d6c-c0a4-fafc7bf92b05"
   },
   "outputs": [
    {
     "data": {
      "image/png": "[encoded data removed]",
      "text/plain": [
       "<matplotlib.figure.Figure at 0x1d4721d59e8>"
      ]
     },
     "metadata": {
      "tags": []
     },
     "output_type": "display_data"
    }
   ],
   "source": [
    "fpr, tpr, _ = sklearn.metrics.roc_curve(y_valid, y_hat)\n",
    "roc_auc = sklearn.metrics.auc(fpr, tpr)\n",
    "plt.figure()\n",
    "lw = 2\n",
    "plt.plot(fpr, tpr, color='darkorange',\n",
    "         lw=lw, label='ROC curve (area = %0.2f)' % roc_auc)\n",
    "plt.plot([0, 1], [0, 1], color='navy', lw=lw, linestyle='--')\n",
    "plt.xlim([0.0, 1.0])\n",
    "plt.ylim([0.0, 1.05])\n",
    "plt.xlabel('Taxa de Falsos Positivos')\n",
    "plt.ylabel('Taxa de Verdadeiros Positivos')\n",
    "plt.title('Receiver Operating Characteristic (ROC)')\n",
    "plt.legend(loc=\"lower right\")\n",
    "plt.show()"
   ]
  },
  {
   "cell_type": "code",
   "execution_count": 0,
   "metadata": {
    "colab": {},
    "colab_type": "code",
    "id": "0gAS1H4v9FUm",
    "outputId": "9eb5a44c-646c-4c98-a953-9e512ca4c331"
   },
   "outputs": [
    {
     "name": "stdout",
     "output_type": "stream",
     "text": [
      "       previsto  real\n",
      "0  3.899870e-04     0\n",
      "1  1.000000e+00     1\n",
      "2  9.967153e-01     1\n",
      "3  7.531579e-01     0\n",
      "4  1.000000e+00     1\n",
      "5  9.707055e-01     1\n",
      "6  9.999772e-01     1\n",
      "7  1.673624e-08     0\n",
      "8  8.607315e-01     0\n",
      "9  9.999983e-01     1\n"
     ]
    }
   ],
   "source": [
    "# Create a Pandas DataFrame to hold y_hat and y values.\n",
    "ydf = pd.DataFrame(list(zip(y_hat[:,0], y_valid)),\n",
    "                   columns=['previsto', 'real'])\n",
    "# Print the first 10 rows.\n",
    "print(ydf.head(10))"
   ]
  },
  {
   "cell_type": "code",
   "execution_count": 0,
   "metadata": {
    "colab": {},
    "colab_type": "code",
    "id": "PEquyyeN9FUs",
    "outputId": "ae57777a-d70a-43cb-b736-c5144b7f3212"
   },
   "outputs": [
    {
     "name": "stdout",
     "output_type": "stream",
     "text": [
      "START please give this one a miss br br kristy swanson and the rest of the cast rendered terrible performances the show is flat flat flat br br i don't know how michael madison could have allowed this one on his plate he almost seemed to know this wasn't going to work out and his performance was quite lacklustre so all you madison fans give this a miss\n"
     ]
    }
   ],
   "source": [
    "# Read a full review. In that case, the 1st one.\n",
    "index = 0\n",
    "review = ' '.join(index_word[id] for id in all_X_valid[index])\n",
    "print(review)"
   ]
  },
  {
   "cell_type": "markdown",
   "metadata": {
    "colab_type": "text",
    "id": "YCVFwFqg9FUy"
   },
   "source": [
    "Esta é baseado no material de <a href=\"\" >Wilder Rodrigues"
   ]
  }
 ],
 "metadata": {
  "accelerator": "GPU",
  "colab": {
   "name": "1.5 NLP com Keras.ipynb",
   "provenance": [],
   "version": "0.3.2"
  },
  "kernelspec": {
   "display_name": "Python 3",
   "language": "python",
   "name": "python3"
  },
  "language_info": {
   "codemirror_mode": {
    "name": "ipython",
    "version": 3
   },
   "file_extension": ".py",
   "mimetype": "text/x-python",
   "name": "python",
   "nbconvert_exporter": "python",
   "pygments_lexer": "ipython3",
   "version": "3.6.3"
  }
 },
 "nbformat": 4,
 "nbformat_minor": 1
}
